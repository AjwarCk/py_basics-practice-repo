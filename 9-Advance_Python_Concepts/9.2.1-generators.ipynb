{
 "cells": [
  {
   "cell_type": "markdown",
   "id": "93d63777",
   "metadata": {},
   "source": [
    "#### More Examples for Generators"
   ]
  },
  {
   "cell_type": "markdown",
   "id": "74ca59cb",
   "metadata": {},
   "source": [
    "**1. Simple example1**"
   ]
  },
  {
   "cell_type": "code",
   "execution_count": 51,
   "id": "e3332b57",
   "metadata": {},
   "outputs": [
    {
     "name": "stdout",
     "output_type": "stream",
     "text": [
      "1\n",
      "2\n",
      "3\n"
     ]
    }
   ],
   "source": [
    "def show():\n",
    "    yield 1\n",
    "    yield 2\n",
    "    yield 3\n",
    "\n",
    "d = show()\n",
    "\n",
    "for i in d:\n",
    "    print(i)"
   ]
  },
  {
   "cell_type": "markdown",
   "id": "e336a19e",
   "metadata": {},
   "source": [
    "**2. Simple example2**"
   ]
  },
  {
   "cell_type": "code",
   "execution_count": 2,
   "id": "e6f2d9d4",
   "metadata": {},
   "outputs": [],
   "source": [
    "def square(n):\n",
    "    for i in range(n):\n",
    "        yield i**2"
   ]
  },
  {
   "cell_type": "code",
   "execution_count": 5,
   "id": "3c1fe45f",
   "metadata": {},
   "outputs": [
    {
     "name": "stdout",
     "output_type": "stream",
     "text": [
      "0\n",
      "1\n",
      "4\n",
      "9\n",
      "16\n"
     ]
    }
   ],
   "source": [
    "for i in square(5):\n",
    "    print(i)"
   ]
  },
  {
   "cell_type": "markdown",
   "id": "af89197b",
   "metadata": {},
   "source": [
    "**3. Minin example 1 - See the pauses**"
   ]
  },
  {
   "cell_type": "code",
   "execution_count": 56,
   "id": "a607e857",
   "metadata": {},
   "outputs": [
    {
     "name": "stdout",
     "output_type": "stream",
     "text": [
      "start\n",
      "1\n",
      "after first yield\n",
      "2\n",
      "end\n"
     ]
    },
    {
     "ename": "StopIteration",
     "evalue": "",
     "output_type": "error",
     "traceback": [
      "\u001b[31m---------------------------------------------------------------------------\u001b[39m",
      "\u001b[31mStopIteration\u001b[39m                             Traceback (most recent call last)",
      "\u001b[36mCell\u001b[39m\u001b[36m \u001b[39m\u001b[32mIn[56]\u001b[39m\u001b[32m, line 14\u001b[39m\n\u001b[32m     12\u001b[39m \u001b[38;5;28mprint\u001b[39m(\u001b[38;5;28mnext\u001b[39m(g)) \u001b[38;5;66;03m# prints: starts \\n 1\u001b[39;00m\n\u001b[32m     13\u001b[39m \u001b[38;5;28mprint\u001b[39m(\u001b[38;5;28mnext\u001b[39m(g)) \u001b[38;5;66;03m# prints: after first yield \\n 2\u001b[39;00m\n\u001b[32m---> \u001b[39m\u001b[32m14\u001b[39m \u001b[38;5;28mprint\u001b[39m(\u001b[38;5;28;43mnext\u001b[39;49m\u001b[43m(\u001b[49m\u001b[43mg\u001b[49m\u001b[43m)\u001b[49m) \u001b[38;5;66;03m# prints: end, then raises StopIteration\u001b[39;00m\n",
      "\u001b[31mStopIteration\u001b[39m: "
     ]
    }
   ],
   "source": [
    "def demo():\n",
    "    print(\"start\")\n",
    "    yield 1\n",
    "    print('after first yield')\n",
    "    yield 2\n",
    "    print(\"end\")\n",
    "\n",
    "# for i in demo():\n",
    "#     print(i)\n",
    "\n",
    "g = demo()\n",
    "print(next(g)) # prints: starts \\n 1\n",
    "print(next(g)) # prints: after first yield \\n 2\n",
    "print(next(g)) # prints: end, then raises StopIteration"
   ]
  },
  {
   "cell_type": "markdown",
   "id": "cde47c6d",
   "metadata": {},
   "source": [
    "**4. Mini example 2 -- With and without yield**"
   ]
  },
  {
   "cell_type": "code",
   "execution_count": 58,
   "id": "d7cf6698",
   "metadata": {},
   "outputs": [
    {
     "name": "stdout",
     "output_type": "stream",
     "text": [
      "[0, 1, 2, 3, 4, 5, 6, 7]\n"
     ]
    }
   ],
   "source": [
    "## Without yield (eager, stores everything)\n",
    "def squares_list(n):\n",
    "    out = []\n",
    "    for i in range(n):\n",
    "        out.append(i)\n",
    "    return out\n",
    "\n",
    "print(squares_list(8))"
   ]
  },
  {
   "cell_type": "code",
   "execution_count": 64,
   "id": "66b91146",
   "metadata": {},
   "outputs": [
    {
     "name": "stdout",
     "output_type": "stream",
     "text": [
      "0\n",
      "1\n",
      "2\n",
      "3\n",
      "4\n",
      "5\n",
      "6\n",
      "7\n"
     ]
    }
   ],
   "source": [
    "## With yield (lazy: one-at-a-time)\n",
    "def squares_gen(n):\n",
    "    for i in range(n):\n",
    "        yield i\n",
    "\n",
    "for i in squares_gen(8):\n",
    "    print(i)"
   ]
  },
  {
   "cell_type": "markdown",
   "id": "86cca9e8",
   "metadata": {},
   "source": [
    "**5. Mini example 3 - Use `yield` in a `for` loop (not just while)**"
   ]
  },
  {
   "cell_type": "code",
   "execution_count": 67,
   "id": "f010b391",
   "metadata": {},
   "outputs": [
    {
     "name": "stdout",
     "output_type": "stream",
     "text": [
      "0\n",
      "2\n",
      "4\n",
      "6\n"
     ]
    }
   ],
   "source": [
    "def even_numbers(limit):\n",
    "    for i in range(limit):\n",
    "        if i%2 == 0:\n",
    "            yield i\n",
    "\n",
    "for i in even_numbers(7):\n",
    "    print(i)"
   ]
  },
  {
   "cell_type": "markdown",
   "id": "42bf33c5",
   "metadata": {},
   "source": [
    "**6. Mini example 4 - Infinite stream (impossible with a list)**"
   ]
  },
  {
   "cell_type": "code",
   "execution_count": 68,
   "id": "95caa1dd",
   "metadata": {},
   "outputs": [
    {
     "name": "stdout",
     "output_type": "stream",
     "text": [
      "1\n",
      "2\n",
      "3\n",
      "4\n",
      "5\n",
      "6\n"
     ]
    }
   ],
   "source": [
    "def infinite_counter(start=1):\n",
    "    while True:\n",
    "        yield start\n",
    "        start += 1\n",
    "\n",
    "it = infinite_counter()\n",
    "for _ in range(6):\n",
    "    print(next(it))"
   ]
  },
  {
   "cell_type": "markdown",
   "id": "d0205de0",
   "metadata": {},
   "source": [
    "**7. Reading big files safely (streaming)**"
   ]
  },
  {
   "cell_type": "code",
   "execution_count": 77,
   "id": "8dcbc19c",
   "metadata": {},
   "outputs": [
    {
     "name": "stdout",
     "output_type": "stream",
     "text": [
      "Smt. Droupadi Murmu was sworn in as the 15th President of India on 25 July, 2022. Previously, she was the Governor of Jharkhand from 2015 to 2021. She has devoted her life to empowering the downtrodden and the marginalised sections and deepening the democratic values.\n",
      "Born in a Santhali tribal family on 20 June, 1958 at Uparbeda village, Mayurbhanj, Odisha, Smt. Murmu’s early life was marked by hardships and struggle. On completion of primary education from the village school, she went to Bhubaneswar on her own initiative to continue her studies. She earned the degree of Bachelor of Arts from Ramadevi Women’s College, Bhubaneswar and became the first woman from her village to receive college education.\n",
      "From 1979 to 1983, Smt. Murmu served as a Junior Assistant in the Irrigation and Power Department, Government of Odisha. Later, she served as an honorary teacher at Sri Aurobindo Integral Education Centre, Rairangpur, from 1994 to 1997.\n",
      "In 2000, Smt. Murmu was elected from the Rairangpur constituency as a Member of the Legislative Assembly of Odisha and continued to hold the post till 2009, serving two terms. During this period, she served as Minister of State (Independent Charge), Department of Commerce and Transport in the Government of Odisha from March 6, 2000 to August 6, 2002 and as Minister of State (Independent Charge), Department of Fisheries and Animal Resources Development, Government of Odisha from Augu\n"
     ]
    }
   ],
   "source": [
    "def read_lines(path):\n",
    "    with open(path,'r',encoding='utf-8') as f:\n",
    "        for line in f:\n",
    "            yield line.rstrip(\"\\n\") # stream line by line\n",
    "\n",
    "# Process huge files without loading into memory\n",
    "for line in read_lines('large.txt'):\n",
    "    if \"in\" in line:\n",
    "        print(line)"
   ]
  },
  {
   "cell_type": "markdown",
   "id": "60b50f43",
   "metadata": {},
   "source": [
    "**8. Chunking data(batches)**"
   ]
  },
  {
   "cell_type": "code",
   "execution_count": 79,
   "id": "03bdd956",
   "metadata": {},
   "outputs": [
    {
     "name": "stdout",
     "output_type": "stream",
     "text": [
      "[0, 1, 2]\n",
      "[3, 4, 5]\n",
      "[6, 7, 8]\n",
      "[9]\n"
     ]
    }
   ],
   "source": [
    "def batched(iterable,size):\n",
    "    batch = []\n",
    "    for item in iterable:\n",
    "        batch.append(item)\n",
    "        if len(batch) == size:\n",
    "            yield batch\n",
    "            batch = []\n",
    "    if batch:\n",
    "        yield batch\n",
    "\n",
    "for chunk in batched(range(10),3):\n",
    "    print(chunk) # [0,1,2], [3,4,5], [6,7,8], [9]"
   ]
  },
  {
   "cell_type": "markdown",
   "id": "e991daa1",
   "metadata": {},
   "source": [
    "**9. Pipelines (filter->transform->consumes)**"
   ]
  },
  {
   "cell_type": "code",
   "execution_count": 81,
   "id": "9deeadbf",
   "metadata": {},
   "outputs": [
    {
     "name": "stdout",
     "output_type": "stream",
     "text": [
      "{'price': 120, 'total': 141.6}\n",
      "{'price': 580, 'total': 684.4}\n",
      "{'price': 200, 'total': 236.0}\n"
     ]
    }
   ],
   "source": [
    "def gen_orders():\n",
    "    # pretend these come from a DB\n",
    "    for price in [120,60,580,40,200]:\n",
    "        yield {\"price\":price}\n",
    "\n",
    "def expensive(orders):\n",
    "    for o in orders:\n",
    "        if o['price'] > 100:\n",
    "            yield o\n",
    "\n",
    "def with_tax(orders, rate=0.18):\n",
    "    for o in orders:\n",
    "        o['total'] = round(o['price'] * (1+rate), 2)\n",
    "        yield o\n",
    "\n",
    "for order in with_tax(expensive(gen_orders())):\n",
    "    print(order)"
   ]
  },
  {
   "cell_type": "code",
   "execution_count": null,
   "id": "0f035148",
   "metadata": {},
   "outputs": [],
   "source": []
  }
 ],
 "metadata": {
  "kernelspec": {
   "display_name": "base",
   "language": "python",
   "name": "python3"
  },
  "language_info": {
   "codemirror_mode": {
    "name": "ipython",
    "version": 3
   },
   "file_extension": ".py",
   "mimetype": "text/x-python",
   "name": "python",
   "nbconvert_exporter": "python",
   "pygments_lexer": "ipython3",
   "version": "3.12.9"
  }
 },
 "nbformat": 4,
 "nbformat_minor": 5
}
