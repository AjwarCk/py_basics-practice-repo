{
 "cells": [
  {
   "cell_type": "markdown",
   "id": "5aaf01f9",
   "metadata": {},
   "source": [
    "#### Module: Iterators, Generators and Decorators Assignments"
   ]
  },
  {
   "cell_type": "markdown",
   "id": "c3ddb6e1",
   "metadata": {},
   "source": [
    "**Lesson: Iterators, Generators and Decorators**\n",
    "\n",
    "**Assignment 1: Custom Iterator**\n",
    "\n",
    "Create a custom iterator class named `Countdown` that takes a number and counts down to zero. Implement the `__iter__` and `__text__` methods. Test the iterator by using it in a for loop."
   ]
  },
  {
   "cell_type": "code",
   "execution_count": 1,
   "id": "c580619c",
   "metadata": {},
   "outputs": [
    {
     "name": "stdout",
     "output_type": "stream",
     "text": [
      "4\n",
      "3\n",
      "2\n",
      "1\n",
      "0\n"
     ]
    }
   ],
   "source": [
    "class Countdown:\n",
    "    def __init__(self,start):\n",
    "        self.current = start\n",
    "\n",
    "    def __iter__(self):\n",
    "        return self\n",
    "\n",
    "    def __next__(self):\n",
    "        if self.current <= 0:\n",
    "            raise StopIteration\n",
    "        else:\n",
    "            self.current -= 1\n",
    "            return self.current\n",
    "\n",
    "# Test\n",
    "for number in Countdown(5):\n",
    "    print(number)"
   ]
  },
  {
   "cell_type": "markdown",
   "id": "37440abc",
   "metadata": {},
   "source": [
    "**Assignment 2: Custom Iterable Class**\n",
    "\n",
    "Create a class named `MyRange` that mimimcs the beahviour of the built-in `range` function. Implement `__iter__` and `__next__` methods. Test the class by using it in a for loop."
   ]
  },
  {
   "cell_type": "code",
   "execution_count": 20,
   "id": "84189b74",
   "metadata": {},
   "outputs": [
    {
     "name": "stdout",
     "output_type": "stream",
     "text": [
      "2\n",
      "5\n",
      "8\n",
      "11\n",
      "14\n"
     ]
    }
   ],
   "source": [
    "class MyRange:\n",
    "    def __init__(self,start,end,frequency):\n",
    "        self.current = start\n",
    "        self.end = end\n",
    "        self.freq = frequency\n",
    "\n",
    "    def __iter__(self):\n",
    "        return self\n",
    "\n",
    "    def __next__(self):\n",
    "        if self.current >= self.end:\n",
    "            raise StopIteration\n",
    "        else:\n",
    "            self.current += self.freq\n",
    "            return self.current - self.freq\n",
    "\n",
    "# Test\n",
    "for i in MyRange(2,15,3):\n",
    "    print(i)"
   ]
  },
  {
   "cell_type": "markdown",
   "id": "1da8d7e9",
   "metadata": {},
   "source": [
    "**Assignment 3: Generator Function**\n",
    "\n",
    "Write a generator function named `fibonacci` that `yields` the Fibonacci sequence. Test the generator by iterating over it and printing the first 10 Fibonacci numbers."
   ]
  },
  {
   "cell_type": "code",
   "execution_count": 21,
   "id": "8af6661a",
   "metadata": {},
   "outputs": [
    {
     "name": "stdout",
     "output_type": "stream",
     "text": [
      "0\n",
      "1\n",
      "1\n",
      "2\n",
      "3\n",
      "5\n",
      "8\n",
      "13\n",
      "21\n",
      "34\n"
     ]
    }
   ],
   "source": [
    "def fibonacci(n):\n",
    "    a, b = 0, 1\n",
    "    for _ in range(n):\n",
    "        yield a\n",
    "        a, b = b, a+b\n",
    "\n",
    "# Test\n",
    "for num in fibonacci(10):\n",
    "    print(num)"
   ]
  },
  {
   "cell_type": "markdown",
   "id": "05599dd7",
   "metadata": {},
   "source": [
    "**Assignment 4: Generator Expression**\n",
    "\n",
    "Create a generator expression that generates the squares of numbers from 1 to 10. Iterate over the generator and print each value."
   ]
  },
  {
   "cell_type": "code",
   "execution_count": 33,
   "id": "ff329f73",
   "metadata": {},
   "outputs": [
    {
     "name": "stdout",
     "output_type": "stream",
     "text": [
      "1\n",
      "4\n",
      "9\n",
      "16\n",
      "25\n",
      "36\n",
      "49\n",
      "64\n",
      "81\n",
      "100\n"
     ]
    }
   ],
   "source": [
    "squares = [x**2 for x in range(1,11)]\n",
    "\n",
    "# Test\n",
    "for square in squares:\n",
    "    print(square)"
   ]
  },
  {
   "cell_type": "markdown",
   "id": "ba2d73de",
   "metadata": {},
   "source": [
    "**Assignment 5: Chaining Generators**\n",
    "\n",
    "Write two generator functions: `even_numbers` that yields even numbers up to a limit, and `squares` that yields the square of each number from another generator. Chain these generators to produce the squares of even numbers up to 20."
   ]
  },
  {
   "cell_type": "code",
   "execution_count": 40,
   "id": "241adfb7",
   "metadata": {},
   "outputs": [
    {
     "name": "stdout",
     "output_type": "stream",
     "text": [
      "0\n",
      "4\n",
      "16\n",
      "36\n",
      "64\n",
      "100\n",
      "144\n",
      "196\n",
      "256\n",
      "324\n",
      "400\n"
     ]
    }
   ],
   "source": [
    "def even_numbers(limit):\n",
    "    for i in range(limit + 1):\n",
    "        if i%2 == 0:\n",
    "            yield i\n",
    "\n",
    "def squares(numbers):\n",
    "    for number in numbers:\n",
    "        yield number * number\n",
    "\n",
    "# Test\n",
    "even_gen = even_numbers(20)\n",
    "square_gen = squares(even_gen)\n",
    "for square in square_gen:\n",
    "    print(square)"
   ]
  },
  {
   "cell_type": "markdown",
   "id": "b3ef3122",
   "metadata": {},
   "source": [
    "**Assignment 6: Simple Decorator**\n",
    "\n",
    "Write a decorator named `time_it` that measures the execution time of a function. Apply this decorator to a function that calculates the factorial of a number."
   ]
  },
  {
   "cell_type": "code",
   "execution_count": 56,
   "id": "8c540e02",
   "metadata": {},
   "outputs": [
    {
     "name": "stdout",
     "output_type": "stream",
     "text": [
      "Execution time:0.0 seconds\n",
      "Execution time:5.91278076171875e-05 seconds\n",
      "Execution time:6.723403930664062e-05 seconds\n",
      "Execution time:7.224082946777344e-05 seconds\n",
      "Execution time:7.581710815429688e-05 seconds\n",
      "Execution time:7.987022399902344e-05 seconds\n",
      "120\n"
     ]
    }
   ],
   "source": [
    "import time\n",
    "\n",
    "def time_it(func):\n",
    "    def wrapper(*args,**kwargs):\n",
    "        start_time = time.time()\n",
    "        result = func(*args,**kwargs)\n",
    "        end_time = time.time()\n",
    "        print(f\"Execution time:{end_time - start_time} seconds\")\n",
    "        return result\n",
    "    return wrapper\n",
    "\n",
    "@time_it\n",
    "def factorial(n):\n",
    "    if n == 0:\n",
    "        return 1\n",
    "    else:\n",
    "        return n * factorial(n-1)\n",
    "\n",
    "# Test\n",
    "print(factorial(5))"
   ]
  },
  {
   "cell_type": "code",
   "execution_count": 60,
   "id": "e949b8ed",
   "metadata": {},
   "outputs": [
    {
     "name": "stdout",
     "output_type": "stream",
     "text": [
      "Execution time: 9.5367431640625e-07\n",
      "Execution time: 4.887580871582031e-05\n",
      "Execution time: 5.698204040527344e-05\n",
      "Execution time: 6.198883056640625e-05\n",
      "Execution time: 6.699562072753906e-05\n",
      "Execution time: 7.295608520507812e-05\n",
      "120\n"
     ]
    }
   ],
   "source": [
    "import time\n",
    "\n",
    "def time_it(func):\n",
    "    def wrapper(*args,**kwargs):\n",
    "        start_time = time.time()\n",
    "        result = func(*args,**kwargs)\n",
    "        end_time = time.time()\n",
    "        print(f\"Execution time: {end_time - start_time}\")\n",
    "        return result\n",
    "    return wrapper\n",
    "\n",
    "@time_it\n",
    "def factorial(n):\n",
    "    if n == 0:\n",
    "        return 1\n",
    "    else:\n",
    "        return n * factorial(n-1)\n",
    "\n",
    "print(factorial(5))\n"
   ]
  },
  {
   "cell_type": "markdown",
   "id": "47f2e9e7",
   "metadata": {},
   "source": [
    "**Assignment 7: Decorator with Arguments**\n",
    "\n",
    "Write a decorator named `repeat` that takes an argument `n` and repeats the execution of the decorated function `n` times. Apply this decorator to a function that prints a message."
   ]
  },
  {
   "cell_type": "code",
   "execution_count": 63,
   "id": "ee0e5a7e",
   "metadata": {},
   "outputs": [
    {
     "name": "stdout",
     "output_type": "stream",
     "text": [
      "Hello, World!\n",
      "Hello, World!\n",
      "Hello, World!\n"
     ]
    }
   ],
   "source": [
    "def repeat(n):\n",
    "    def decorator(func):\n",
    "        def wrapper(*args,**kwargs):\n",
    "            for _ in range(n):\n",
    "                func(*args,**kwargs)\n",
    "        return wrapper\n",
    "    return decorator\n",
    "\n",
    "@repeat(3)\n",
    "def print_message(message):\n",
    "    print(message)\n",
    "\n",
    "# Task\n",
    "print_message(\"Hello, World!\")"
   ]
  },
  {
   "cell_type": "markdown",
   "id": "4e57249b",
   "metadata": {},
   "source": [
    "**Assignment 8: Nested Decorators**\n",
    "\n",
    "Write two deocrators: `uppercase` that converts the reult of a function to uppercase, and `exclamation` mark to the result of a function. Apply both decorators to a function that returns a greeting message."
   ]
  },
  {
   "cell_type": "code",
   "execution_count": 65,
   "id": "df4becf8",
   "metadata": {},
   "outputs": [
    {
     "name": "stdout",
     "output_type": "stream",
     "text": [
      "HELLO, ALICE!\n"
     ]
    }
   ],
   "source": [
    "def uppercase(func):\n",
    "    def wrapper(*args, **kwargs):\n",
    "        result = func(*args,**kwargs)\n",
    "        return result.upper()\n",
    "    return wrapper\n",
    "\n",
    "def exclaim(func):\n",
    "    def wrapper(*args,**kwargs):\n",
    "        result = func(*args, **kwargs)\n",
    "        return result+ \"!\"\n",
    "    return wrapper\n",
    "\n",
    "@uppercase\n",
    "@exclaim\n",
    "def greet(name):\n",
    "    return f\"Hello, {name}\"\n",
    "\n",
    "# Test\n",
    "print(greet(\"Alice\"))"
   ]
  },
  {
   "cell_type": "markdown",
   "id": "866f9f9a",
   "metadata": {},
   "source": [
    "**Assignment 9: Class Decorator**\n",
    "\n",
    "Create a class decorator named `singleton` that ensures a class has only one instance. Apply this decorator to a class named `DatabaseConnection` and test it."
   ]
  },
  {
   "cell_type": "code",
   "execution_count": 70,
   "id": "729a62b9",
   "metadata": {},
   "outputs": [
    {
     "name": "stdout",
     "output_type": "stream",
     "text": [
      "Database connection created\n",
      "True\n"
     ]
    }
   ],
   "source": [
    "def singleton(cls):\n",
    "    instance = {}\n",
    "    def get_instance(*args,**kwargs):\n",
    "        if cls not in instance:\n",
    "            instance[cls] = cls(*args,**kwargs)\n",
    "        return instance[cls]\n",
    "    return get_instance\n",
    "\n",
    "@singleton\n",
    "class DatabaseConnection:\n",
    "    def __init__(self):\n",
    "        print(\"Database connection created\")\n",
    "\n",
    "# Test\n",
    "db1 = DatabaseConnection()\n",
    "db2 = DatabaseConnection()\n",
    "print(db1 is db2) # True"
   ]
  },
  {
   "cell_type": "markdown",
   "id": "00c6038d",
   "metadata": {},
   "source": [
    "**Assignment 10: Iterator Protocol with Decorators**\n",
    "\n",
    "Creates a custom iterator class named `ReverseString` that iterates over a string in reverse. Write a decorator named `uppercase` that converts the string before reversing it. Apply the deocrator to `ReverseString` class."
   ]
  },
  {
   "cell_type": "code",
   "execution_count": 120,
   "id": "4435b846",
   "metadata": {},
   "outputs": [
    {
     "name": "stdout",
     "output_type": "stream",
     "text": [
      "!\n",
      "O\n",
      "L\n",
      "L\n",
      "E\n",
      "H\n"
     ]
    }
   ],
   "source": [
    "def uppercase(cls):\n",
    "    class Wrapped(cls):\n",
    "        def __init__(self,*args,**kwargs):\n",
    "            super().__init__(*args,*kwargs)\n",
    "            self.data = self.data.upper()\n",
    "    return Wrapped\n",
    "\n",
    "@uppercase\n",
    "class ReverseString:\n",
    "    def __init__(self,data):\n",
    "        self.data = data\n",
    "        self.index = len(data)\n",
    "\n",
    "    def __iter__(self):\n",
    "        return self\n",
    "\n",
    "    def __next__(self):\n",
    "        if self.index == 0:\n",
    "            raise StopIteration\n",
    "        self.index -= 1\n",
    "        return self.data[self.index]\n",
    "\n",
    "for char in ReverseString(\"hello!\"):\n",
    "    print(char)"
   ]
  },
  {
   "cell_type": "markdown",
   "id": "6ec78c91",
   "metadata": {},
   "source": [
    "**Assignment 11: Stateful Generators**\n",
    "\n",
    "Write a stateful generators function named `counter` that takes a start value and increments it by 1 each time its is called. Test the generator by iterating over it and printing the first 10 values."
   ]
  },
  {
   "cell_type": "code",
   "execution_count": 136,
   "id": "b953b39a",
   "metadata": {},
   "outputs": [
    {
     "name": "stdout",
     "output_type": "stream",
     "text": [
      "0\n",
      "1\n",
      "2\n"
     ]
    }
   ],
   "source": [
    "def counter(start):\n",
    "    current = start\n",
    "    while True:\n",
    "        yield current\n",
    "        current += 1\n",
    "\n",
    "count = counter(0)\n",
    "\n",
    "for _ in range(3):\n",
    "    print(next(count))"
   ]
  },
  {
   "cell_type": "code",
   "execution_count": 135,
   "id": "d440f21b",
   "metadata": {},
   "outputs": [
    {
     "name": "stdout",
     "output_type": "stream",
     "text": [
      "5\n",
      "6\n",
      "7\n",
      "8\n",
      "9\n",
      "10\n",
      "11\n",
      "12\n",
      "13\n",
      "14\n"
     ]
    }
   ],
   "source": [
    "# above generator works like this class\n",
    "class Counter:\n",
    "    def __init__(self,start):\n",
    "        self.current = start\n",
    "        self.running = True\n",
    "\n",
    "    def __iter__(self):\n",
    "        return self\n",
    "\n",
    "    def __next__(self):\n",
    "        if not self.running:\n",
    "            raise StopIteration\n",
    "        result = self.current\n",
    "        self.current += 1\n",
    "        return result\n",
    "\n",
    "c = Counter(5)\n",
    "\n",
    "for _ in range(10):\n",
    "    print(next(c))"
   ]
  },
  {
   "cell_type": "markdown",
   "id": "26946a0e",
   "metadata": {},
   "source": [
    "**Assignment 12: Generator with Exception Handling**\n",
    "\n",
    "Write a generator function named `safe_divide` that takes a list of numbers and yields the division of each number by a given divisor. Implement exception handling within the generator to handle division by zero."
   ]
  },
  {
   "cell_type": "code",
   "execution_count": 137,
   "id": "e2fae6b2",
   "metadata": {},
   "outputs": [
    {
     "name": "stdout",
     "output_type": "stream",
     "text": [
      "Error: Division by zero\n",
      "Error: Division by zero\n",
      "Error: Division by zero\n",
      "Error: Division by zero\n"
     ]
    }
   ],
   "source": [
    "def safe_divide(numbers, divisor):\n",
    "    for number in numbers:\n",
    "        try:\n",
    "            yield number/divisor\n",
    "        except ZeroDivisionError:\n",
    "            yield \"Error: Division by zero\"\n",
    "\n",
    "# Test\n",
    "numbers = [10,20,30,40]\n",
    "for result in safe_divide(numbers,0):\n",
    "    print(result)"
   ]
  },
  {
   "cell_type": "markdown",
   "id": "970dc3b6",
   "metadata": {},
   "source": [
    "**Assignment 13: Context Manager Decorator**\n",
    "\n",
    "Write a decorator named `open_file` that manages the opening and closing of a file. Apply this decorator to a function that writes some text to a file."
   ]
  },
  {
   "cell_type": "code",
   "execution_count": 141,
   "id": "7d9ea736",
   "metadata": {},
   "outputs": [],
   "source": [
    "def open_file(file_name,mode):\n",
    "    def decorator(func):\n",
    "        def wrapper(*args,**kwargs):\n",
    "            with open(file_name,mode) as file:\n",
    "                return func(file,*args,**kwargs)\n",
    "        return wrapper\n",
    "    return decorator\n",
    "\n",
    "@open_file('sample.txt','w')\n",
    "def write_to_file(file,text):\n",
    "    file.write(text)\n",
    "\n",
    "# Test\n",
    "write_to_file('Hello, World!')"
   ]
  },
  {
   "cell_type": "code",
   "execution_count": 148,
   "id": "af90d958",
   "metadata": {},
   "outputs": [
    {
     "name": "stdout",
     "output_type": "stream",
     "text": [
      "Hello Everyone, Welcome to the advanced python course!\n"
     ]
    }
   ],
   "source": [
    "# Without decorator\n",
    "def write_and_read_file(file,text):\n",
    "    file.write(text)\n",
    "    file.seek(0)\n",
    "    content = file.read()\n",
    "    print(content)\n",
    "\n",
    "with open('sample.txt','w+') as f:\n",
    "    write_and_read_file(f,'Hello Everyone, Welcome to the advanced python course!')"
   ]
  },
  {
   "cell_type": "code",
   "execution_count": 151,
   "id": "77e11ae8",
   "metadata": {},
   "outputs": [
    {
     "name": "stdout",
     "output_type": "stream",
     "text": [
      "Hello Everyone!!!\n"
     ]
    }
   ],
   "source": [
    "# With decorator\n",
    "def open_file(file_name,mode):\n",
    "    def decorator(func):\n",
    "        def wrapper(*args,**kwargs):\n",
    "            with open(file_name,mode) as f:\n",
    "                return func(f,*args,**kwargs)\n",
    "        return wrapper\n",
    "    return decorator\n",
    "\n",
    "@open_file('sample.txt','w+')\n",
    "def write_and_read_file(file,text):\n",
    "    file.write(text)\n",
    "    file.seek(0)\n",
    "    content = file.read()\n",
    "    print(content)\n",
    "\n",
    "write_and_read_file('Hello Everyone!!!')"
   ]
  },
  {
   "cell_type": "markdown",
   "id": "9f2f4ef9",
   "metadata": {},
   "source": [
    "**Assignment 14: Infinite Iterator**\n",
    "\n",
    "Create an infinite iterator class named `InfiniteCounter` that starts from a given number and increments by 1 indefinitely. Test the iterator by printing the first 10 values generated by it."
   ]
  },
  {
   "cell_type": "code",
   "execution_count": 158,
   "id": "45fa2d1f",
   "metadata": {},
   "outputs": [
    {
     "name": "stdout",
     "output_type": "stream",
     "text": [
      "1\n",
      "2\n",
      "3\n",
      "4\n",
      "5\n",
      "6\n",
      "7\n",
      "8\n",
      "9\n",
      "10\n"
     ]
    }
   ],
   "source": [
    "class InfiniteCounter:\n",
    "    def __init__(self,start):\n",
    "        self.current = start\n",
    "\n",
    "    def __iter__(self):\n",
    "        return self\n",
    "\n",
    "    def __next__(self):\n",
    "        self.current += 1\n",
    "        return self.current\n",
    "\n",
    "counter = InfiniteCounter(0)\n",
    "\n",
    "for _ in range(10):\n",
    "    print(next(counter))"
   ]
  },
  {
   "cell_type": "markdown",
   "id": "a9950216",
   "metadata": {},
   "source": [
    "**Assignment 15: Generator Pipeline**\n",
    "\n",
    "Write three generator functions: `integers` that yields integers from 1 to 10, `doubles` that yields each integer doubled, and `negatives` that yields the negative of each doubled value. Chain these generators to create a pipeline that produces the negative doubled values of integers 1 to 10."
   ]
  },
  {
   "cell_type": "code",
   "execution_count": 165,
   "id": "85f4addf",
   "metadata": {},
   "outputs": [
    {
     "name": "stdout",
     "output_type": "stream",
     "text": [
      "-2\n",
      "-4\n",
      "-6\n",
      "-8\n",
      "-10\n",
      "-12\n",
      "-14\n",
      "-16\n",
      "-18\n",
      "-20\n"
     ]
    }
   ],
   "source": [
    "def integers():\n",
    "    for i in range(1,11):\n",
    "        yield i\n",
    "\n",
    "def doubles(numbers):\n",
    "    for number in numbers:\n",
    "        yield number * 2\n",
    "\n",
    "def negatives(numbers):\n",
    "    for number in numbers:\n",
    "        yield -number\n",
    "\n",
    "# Test\n",
    "int_gen = integers()\n",
    "double_gen = doubles(int_gen)\n",
    "negative_gen = negatives(double_gen)\n",
    "\n",
    "for value in negative_gen:\n",
    "    print(value)"
   ]
  }
 ],
 "metadata": {
  "kernelspec": {
   "display_name": "base",
   "language": "python",
   "name": "python3"
  },
  "language_info": {
   "codemirror_mode": {
    "name": "ipython",
    "version": 3
   },
   "file_extension": ".py",
   "mimetype": "text/x-python",
   "name": "python",
   "nbconvert_exporter": "python",
   "pygments_lexer": "ipython3",
   "version": "3.12.9"
  }
 },
 "nbformat": 4,
 "nbformat_minor": 5
}
