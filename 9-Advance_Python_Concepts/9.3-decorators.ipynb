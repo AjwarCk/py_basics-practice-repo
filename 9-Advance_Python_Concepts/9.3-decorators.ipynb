{
 "cells": [
  {
   "cell_type": "markdown",
   "id": "91217b71",
   "metadata": {},
   "source": [
    "### Decorators\n",
    "\n",
    "Decorators area a powerful and flexible feature in Python that allows you to modify the behaviour of a function or class method. They are commonly used to add functionality to functions or methods without modifying their actual code. This lesson covers the basic of decorators, including how to create and use them."
   ]
  },
  {
   "cell_type": "code",
   "execution_count": 1,
   "id": "58a137ad",
   "metadata": {},
   "outputs": [],
   "source": [
    "### 1. function copy\n",
    "### 2. closures\n",
    "### 3. decorators"
   ]
  },
  {
   "cell_type": "code",
   "execution_count": 2,
   "id": "ea866ba3",
   "metadata": {},
   "outputs": [
    {
     "data": {
      "text/plain": [
       "'Welcome to the advanced python course'"
      ]
     },
     "execution_count": 2,
     "metadata": {},
     "output_type": "execute_result"
    }
   ],
   "source": [
    "## 1. function copy\n",
    "def welcome():\n",
    "    return \"Welcome to the advanced python course\"\n",
    "\n",
    "welcome()"
   ]
  },
  {
   "cell_type": "code",
   "execution_count": 5,
   "id": "5ebf14f2",
   "metadata": {},
   "outputs": [
    {
     "name": "stdout",
     "output_type": "stream",
     "text": [
      "<function welcome at 0x10babaac0>\n",
      "Welcome to the advanced python course\n",
      "Welcome to the advanced python course\n"
     ]
    }
   ],
   "source": [
    "wel = welcome\n",
    "print(wel)\n",
    "print(wel())\n",
    "del welcome\n",
    "print(wel())"
   ]
  },
  {
   "cell_type": "code",
   "execution_count": 8,
   "id": "23b0ab2f",
   "metadata": {},
   "outputs": [],
   "source": [
    "## closure functions\n",
    "\n",
    "def main_welcome(msg):\n",
    "\n",
    "    def sub_welcome_method():\n",
    "        print(\"Welcome to the advance python course\")\n",
    "        print(msg)\n",
    "        print(\"please lean these concepts properly\")\n",
    "    return sub_welcome_method()"
   ]
  },
  {
   "cell_type": "code",
   "execution_count": 9,
   "id": "8af47ada",
   "metadata": {},
   "outputs": [
    {
     "name": "stdout",
     "output_type": "stream",
     "text": [
      "Welcome to the advance python course\n",
      "Welcome Everyone\n",
      "please lean these concepts properly\n"
     ]
    }
   ],
   "source": [
    "main_welcome(\"Welcome Everyone\")"
   ]
  },
  {
   "cell_type": "code",
   "execution_count": 10,
   "id": "a20d5981",
   "metadata": {},
   "outputs": [
    {
     "name": "stdout",
     "output_type": "stream",
     "text": [
      "Welcome to the sub welcome method!\n",
      "Main welcome method!\n",
      "Sub welcome method ends here!\n"
     ]
    }
   ],
   "source": [
    "def main_welcome(msg):\n",
    "    def sub_welcome_method():\n",
    "        print(\"Welcome to the sub welcome method!\")\n",
    "        print(msg)\n",
    "        print(\"Sub welcome method ends here!\")\n",
    "    return sub_welcome_method()\n",
    "\n",
    "main_welcome(\"Main welcome method!\")"
   ]
  },
  {
   "cell_type": "code",
   "execution_count": 26,
   "id": "e2aca1f7",
   "metadata": {},
   "outputs": [
    {
     "name": "stdout",
     "output_type": "stream",
     "text": [
      "Welcome to the sub welcome method!\n",
      "welcome to main!\n",
      "Sub welcome method ends here!\n"
     ]
    }
   ],
   "source": [
    "def main_welcome(msg):\n",
    "    def sub_welcome_method():\n",
    "        print(\"Welcome to the sub welcome method!\")\n",
    "        print(msg)\n",
    "        print(\"Sub welcome method ends here!\")\n",
    "    return sub_welcome_method\n",
    "\n",
    "main_welcome(\"welcome to main!\")()"
   ]
  },
  {
   "cell_type": "code",
   "execution_count": 20,
   "id": "8995d835",
   "metadata": {},
   "outputs": [
    {
     "name": "stdout",
     "output_type": "stream",
     "text": [
      "Welcome to the advance python course!\n",
      "Welcome everyone to this tutorial\n",
      "Please learn these concepts properly\n"
     ]
    }
   ],
   "source": [
    "def main_welcome(func):\n",
    "    def sub_welcome_method():\n",
    "        print(\"Welcome to the advance python course!\")\n",
    "        func(\"Welcome everyone to this tutorial\")\n",
    "        print(\"Please learn these concepts properly\")\n",
    "    return sub_welcome_method()\n",
    "\n",
    "main_welcome(print)"
   ]
  },
  {
   "cell_type": "code",
   "execution_count": 23,
   "id": "9c75ad18",
   "metadata": {},
   "outputs": [
    {
     "name": "stdout",
     "output_type": "stream",
     "text": [
      "Welcome to the advance python course!\n"
     ]
    },
    {
     "data": {
      "text/plain": [
       "30"
      ]
     },
     "execution_count": 23,
     "metadata": {},
     "output_type": "execute_result"
    }
   ],
   "source": [
    "def main_func(func):\n",
    "    def sub_func():\n",
    "        print(\"Welcome to the advance python course!\")\n",
    "        return func(\"Welcome to the advance python!\")\n",
    "    return sub_func()\n",
    "\n",
    "main_func(len)"
   ]
  },
  {
   "cell_type": "code",
   "execution_count": 31,
   "id": "f13ea9aa",
   "metadata": {},
   "outputs": [
    {
     "name": "stdout",
     "output_type": "stream",
     "text": [
      "Welcome to the advance python!\n"
     ]
    },
    {
     "data": {
      "text/plain": [
       "30"
      ]
     },
     "execution_count": 31,
     "metadata": {},
     "output_type": "execute_result"
    }
   ],
   "source": [
    "def main_func(func):\n",
    "    def sub_fun(*args,**kwargs):\n",
    "        print(\"Welcome to the advance python!\")\n",
    "        return func(\"welcome to the advance python!\")\n",
    "    return sub_fun()\n",
    "main_func(len)"
   ]
  },
  {
   "cell_type": "code",
   "execution_count": 24,
   "id": "ec291434",
   "metadata": {},
   "outputs": [
    {
     "name": "stdout",
     "output_type": "stream",
     "text": [
      "Welcome to the advance python course\n",
      "5\n",
      "Please learn these concepts properly!\n"
     ]
    }
   ],
   "source": [
    "def main_welcome(func,lst):\n",
    "    def sub_welcome_method():\n",
    "        print(\"Welcome to the advance python course\")\n",
    "        print(func(lst))\n",
    "        print(\"Please learn these concepts properly!\")\n",
    "    return sub_welcome_method()\n",
    "\n",
    "main_welcome(len,[1,2,3,4,5])"
   ]
  },
  {
   "cell_type": "code",
   "execution_count": 28,
   "id": "cec56489",
   "metadata": {},
   "outputs": [],
   "source": [
    "### Decorator\n",
    "\n",
    "def main_welcome(func):\n",
    "    def sub_welcome_method():\n",
    "        print(\"Welcome to the advance python course!\")\n",
    "        func()\n",
    "        print(\"Please learn these concepts properly!\")\n",
    "    return sub_welcome_method()"
   ]
  },
  {
   "cell_type": "code",
   "execution_count": 29,
   "id": "ca159a14",
   "metadata": {},
   "outputs": [
    {
     "name": "stdout",
     "output_type": "stream",
     "text": [
      "This is an advanced python course!\n"
     ]
    }
   ],
   "source": [
    "def course_introduction():\n",
    "    print(\"This is an advanced python course!\")\n",
    "\n",
    "course_introduction()"
   ]
  },
  {
   "cell_type": "code",
   "execution_count": 30,
   "id": "b31c8cf6",
   "metadata": {},
   "outputs": [
    {
     "name": "stdout",
     "output_type": "stream",
     "text": [
      "Welcome to the advance python course!\n",
      "This is an advanced python course!\n",
      "Please learn these concepts properly!\n"
     ]
    }
   ],
   "source": [
    "main_welcome(course_introduction)"
   ]
  },
  {
   "cell_type": "code",
   "execution_count": 46,
   "id": "14fc8508",
   "metadata": {},
   "outputs": [
    {
     "name": "stdout",
     "output_type": "stream",
     "text": [
      "This is the advance python course!!!\n",
      "Welcome to the python course!\n",
      "This is the advance python course!!!\n"
     ]
    }
   ],
   "source": [
    "def decorator(func):\n",
    "    def wrapper(*args,**kwargs):\n",
    "        print(\"Welcome to the python course!\")\n",
    "        return func()\n",
    "    return wrapper()\n",
    "\n",
    "def course_introduction():\n",
    "    print(\"This is the advance python course!!!\")\n",
    "\n",
    "course_introduction()\n",
    "\n",
    "decorator(course_introduction)"
   ]
  },
  {
   "cell_type": "code",
   "execution_count": 49,
   "id": "d623b31e",
   "metadata": {},
   "outputs": [
    {
     "name": "stdout",
     "output_type": "stream",
     "text": [
      "This is the python course!\n",
      "This is the advance python course\n"
     ]
    }
   ],
   "source": [
    "def decorator(func):\n",
    "    def wrapper(*args,**kwargs):\n",
    "        print(\"This is the python course!\")\n",
    "        return func()\n",
    "    return wrapper\n",
    "\n",
    "@decorator\n",
    "def course_introduction():\n",
    "    print(\"This is the advance python course\")\n",
    "\n",
    "course_introduction()"
   ]
  },
  {
   "cell_type": "code",
   "execution_count": 41,
   "id": "5936c807",
   "metadata": {},
   "outputs": [
    {
     "name": "stdout",
     "output_type": "stream",
     "text": [
      "Welcome to the advance python course!\n",
      "this is advance python course!!!\n",
      "Please learn these concepts properly!\n"
     ]
    }
   ],
   "source": [
    "@main_welcome # decorator assigning like main_welcome(course_intro)\n",
    "def course_intro():\n",
    "    print(\"this is advance python course!!!\")"
   ]
  },
  {
   "cell_type": "code",
   "execution_count": 5,
   "id": "f7abf5ef",
   "metadata": {},
   "outputs": [
    {
     "name": "stdout",
     "output_type": "stream",
     "text": [
      "Welcome to the python course\n",
      "This is advanced python\n",
      "Please learn these concepts properly\n"
     ]
    }
   ],
   "source": [
    "def main_welcome(func):\n",
    "    def sub_welcome_method():\n",
    "        print(\"Welcome to the python course\")\n",
    "        func()\n",
    "        print(\"Please learn these concepts properly\")\n",
    "    return sub_welcome_method()\n",
    "\n",
    "def course_introduction():\n",
    "    print(\"This is advanced python\")\n",
    "\n",
    "main_welcome(course_introduction)"
   ]
  },
  {
   "cell_type": "code",
   "execution_count": 50,
   "id": "cc1e0b62",
   "metadata": {},
   "outputs": [
    {
     "name": "stdout",
     "output_type": "stream",
     "text": [
      "Say hello function now is:<function my_decorator.<locals>.wrapper at 0x106c1c720>\n",
      "Something is happening before the function is called.\n",
      "Hello\n",
      "Something is happening after the function is called\n"
     ]
    }
   ],
   "source": [
    "### My Decorator, wrapper return with parentheses ()\n",
    "\n",
    "def my_decorator(func):\n",
    "    def wrapper():\n",
    "        print(\"Something is happening before the function is called.\")\n",
    "        func()\n",
    "        print(\"Something is happening after the function is called\")\n",
    "    return wrapper\n",
    "\n",
    "@my_decorator\n",
    "def say_hello():\n",
    "    print(\"Hello\")\n",
    "\n",
    "print(f\"Say hello function now is:{say_hello}\")\n",
    "say_hello()"
   ]
  },
  {
   "cell_type": "code",
   "execution_count": 53,
   "id": "881cd7a7",
   "metadata": {},
   "outputs": [
    {
     "name": "stdout",
     "output_type": "stream",
     "text": [
      "Before\n",
      "Hello Everyone!\n",
      "After\n"
     ]
    }
   ],
   "source": [
    "### My decorator without parenthesis ()\n",
    "def my_decorator(func):\n",
    "    def wrapper():\n",
    "        print(\"Before\")\n",
    "        func()\n",
    "        print(\"After\")\n",
    "    return wrapper\n",
    "\n",
    "@my_decorator\n",
    "def say_hello():\n",
    "    print(\"Hello Everyone!\")\n",
    "\n",
    "#print(f\"Say hello functions is now:{say_hello}\")\n",
    "say_hello()"
   ]
  },
  {
   "cell_type": "code",
   "execution_count": 17,
   "id": "587a7258",
   "metadata": {},
   "outputs": [
    {
     "name": "stdout",
     "output_type": "stream",
     "text": [
      "Hello\n",
      "Hello\n",
      "Hello\n"
     ]
    }
   ],
   "source": [
    "## Decorator with arguments\n",
    "def repeat(n):\n",
    "    def decorator(func):\n",
    "        def wrapper(*args,**kwargs):\n",
    "            for _ in range(n):\n",
    "                func(*args,**kwargs)\n",
    "        return wrapper\n",
    "    return decorator\n",
    "\n",
    "@repeat(3)\n",
    "def say_hello():\n",
    "    print(\"Hello\")\n",
    "\n",
    "say_hello()"
   ]
  },
  {
   "cell_type": "code",
   "execution_count": 64,
   "id": "f4d04a8c",
   "metadata": {},
   "outputs": [
    {
     "name": "stdout",
     "output_type": "stream",
     "text": [
      "Hello Everyone!!!\n",
      "Hello Everyone!!!\n",
      "Hello Everyone!!!\n"
     ]
    }
   ],
   "source": [
    "def repeat(n):\n",
    "    def decorator(func):\n",
    "        def wrapper(*args,**kwargs):\n",
    "            for _ in range(n):\n",
    "                func()\n",
    "        return wrapper\n",
    "    return decorator\n",
    "\n",
    "def say_hello():\n",
    "    print(\"Hello everyone!!!\")\n",
    "        \n",
    "#print(repeat(3)(say_hello)())\n",
    "\n",
    "@repeat(3)\n",
    "def say_hello():\n",
    "    print(\"Hello Everyone!!!\")\n",
    "\n",
    "say_hello()"
   ]
  },
  {
   "cell_type": "code",
   "execution_count": 66,
   "id": "3b79df3b",
   "metadata": {},
   "outputs": [
    {
     "name": "stdout",
     "output_type": "stream",
     "text": [
      "Logging - before function\n",
      "Hello!\n",
      "Logging - after function\n"
     ]
    }
   ],
   "source": [
    "## 1. Decorator that accepts a custom message\n",
    "\n",
    "def custom_message(msg):\n",
    "    def decorator(func):\n",
    "        def wrapper(*args,**kwargs):\n",
    "            print(f\"{msg} - before function\")\n",
    "            func()\n",
    "            print(f\"{msg} - after function\")\n",
    "        return wrapper\n",
    "    return decorator\n",
    "\n",
    "@custom_message(\"Logging\")\n",
    "def greet():\n",
    "    print(\"Hello!\")\n",
    "\n",
    "greet()"
   ]
  },
  {
   "cell_type": "code",
   "execution_count": 72,
   "id": "ed9a3c36",
   "metadata": {},
   "outputs": [
    {
     "name": "stdout",
     "output_type": "stream",
     "text": [
      "Waiting for 3 seconds ....\n",
      "Morning everyone!\n"
     ]
    }
   ],
   "source": [
    "## 2. Decorator that adds a delay using `time.sleep()`\n",
    "# This is useful if you want to `simulate loading`, rate-limiting, or `wait between calls.`\n",
    "\n",
    "import time\n",
    "\n",
    "def delay(seconds):\n",
    "    def decorator(func):\n",
    "        def wrapper(*args,**kwargs):\n",
    "            print(f\"Waiting for {seconds} seconds ....\")\n",
    "            time.sleep(seconds)\n",
    "            func()\n",
    "        return wrapper\n",
    "    return decorator\n",
    "\n",
    "@delay(3)\n",
    "def greet():\n",
    "    print(\"Morning everyone!\")\n",
    "\n",
    "greet()"
   ]
  },
  {
   "cell_type": "code",
   "execution_count": 75,
   "id": "601c1ae8",
   "metadata": {},
   "outputs": [],
   "source": [
    "## 3. Decorator that checks login status (condition decorator)\n",
    "# This is `super useful` in real apps to check access before running sensitive functions."
   ]
  },
  {
   "cell_type": "code",
   "execution_count": 78,
   "id": "7d0e8a41",
   "metadata": {},
   "outputs": [
    {
     "name": "stdout",
     "output_type": "stream",
     "text": [
      "Access denied: User not logged in!\n"
     ]
    }
   ],
   "source": [
    "def require_login(user_logged_in):\n",
    "    def decorator(func):\n",
    "        def wrapper(*args,**kwargs):\n",
    "            if user_logged_in:\n",
    "                func()\n",
    "            else:\n",
    "                print(\"Access denied: User not logged in!\")\n",
    "        return wrapper\n",
    "    return decorator\n",
    "\n",
    "@require_login(user_logged_in=False)\n",
    "def view_dashboard():\n",
    "    print(\"Welcome to the dashboards!\")\n",
    "\n",
    "view_dashboard()"
   ]
  },
  {
   "cell_type": "code",
   "execution_count": 79,
   "id": "b430791d",
   "metadata": {},
   "outputs": [
    {
     "name": "stdout",
     "output_type": "stream",
     "text": [
      "Welcome to the statement list!\n"
     ]
    }
   ],
   "source": [
    "def user_logged(user_logged_or_not):\n",
    "    def decorator(func):\n",
    "        def wrapper(*args,**kwargs):\n",
    "            if user_logged_or_not:\n",
    "                func()\n",
    "            else:\n",
    "                print(\"Access Denied: User not logged in!\")\n",
    "        return wrapper\n",
    "    return decorator\n",
    "\n",
    "@user_logged(user_logged_or_not=True)\n",
    "def view_statement():\n",
    "    print(\"Welcome to the statement list!\")\n",
    "\n",
    "view_statement()"
   ]
  },
  {
   "cell_type": "code",
   "execution_count": 80,
   "id": "4c990c0f",
   "metadata": {},
   "outputs": [
    {
     "name": "stdout",
     "output_type": "stream",
     "text": [
      "Access Denied: User not logged in!\n"
     ]
    }
   ],
   "source": [
    "@user_logged(user_logged_or_not=False)\n",
    "def view_passbook():\n",
    "    print(\"Welcome to the passbook\")\n",
    "\n",
    "view_passbook()"
   ]
  },
  {
   "cell_type": "code",
   "execution_count": 82,
   "id": "8b924c24",
   "metadata": {},
   "outputs": [
    {
     "name": "stdout",
     "output_type": "stream",
     "text": [
      "Access Denied: User not logged in!\n"
     ]
    }
   ],
   "source": [
    "user_logged(user_logged_or_not=False)(view_dashboard)()"
   ]
  },
  {
   "cell_type": "code",
   "execution_count": 84,
   "id": "60ff1768",
   "metadata": {},
   "outputs": [
    {
     "name": "stdout",
     "output_type": "stream",
     "text": [
      "ping!\n",
      "ping!\n",
      "ping!\n"
     ]
    }
   ],
   "source": [
    "## 4. Decorator that repeats a function `n` times (your original one)\n",
    "def repeat(n):\n",
    "    def decorator(func):\n",
    "        def wrapper(*args,**kwargs):\n",
    "            for _ in range(n):\n",
    "                func()\n",
    "        return wrapper\n",
    "    return decorator\n",
    "\n",
    "@repeat(3)\n",
    "def greet():\n",
    "    print(\"ping!\")\n",
    "\n",
    "greet()"
   ]
  },
  {
   "cell_type": "code",
   "execution_count": 85,
   "id": "e7325e58",
   "metadata": {},
   "outputs": [],
   "source": [
    "## OOP example using all types of Python methods.\n",
    "# abstract, instance, property, class and static - and a custom decorator - explained simply and ready for practice."
   ]
  },
  {
   "cell_type": "code",
   "execution_count": 92,
   "id": "ef664ea8",
   "metadata": {},
   "outputs": [
    {
     "name": "stdout",
     "output_type": "stream",
     "text": [
      "Instance method called: start_engine\n",
      "Toyota Corolla engine started.\n",
      "Propery method called: description\n",
      "Class method called: get_wheels\n",
      "Static method called: general_info\n"
     ]
    },
    {
     "data": {
      "text/plain": [
       "('Toyota Corolla with 4 wheels.',\n",
       " 4,\n",
       " 'Cars usually have 4 wheels and are used for transport.')"
      ]
     },
     "execution_count": 92,
     "metadata": {},
     "output_type": "execute_result"
    }
   ],
   "source": [
    "from abc import ABC, abstractmethod\n",
    "\n",
    "# custom decorator to log method calls\n",
    "def log_call(message=\"Calling method\"):\n",
    "    def decorator(func):\n",
    "        def wrapper(*args,**kwargs):\n",
    "            print(f\"{message}: {func.__name__}\")\n",
    "            return func(*args,**kwargs)\n",
    "        return wrapper\n",
    "    return decorator\n",
    "\n",
    "# Abstract Base Class\n",
    "class Vehicle(ABC):\n",
    "    @abstractmethod\n",
    "    def start_engine(self):\n",
    "        pass\n",
    "\n",
    "# Concrete class with OOP features and decorators\n",
    "class Car(Vehicle):\n",
    "    wheels = 4 # class attribute\n",
    "\n",
    "    def __init__(self,brand,model):\n",
    "        self._brand = brand\n",
    "        self._model = model\n",
    "\n",
    "    # Instance method\n",
    "    @log_call(\"Instance method called\")\n",
    "    def start_engine(self):\n",
    "        print(f\"{self._brand} {self._model} engine started.\")\n",
    "\n",
    "    # Property method\n",
    "    @property\n",
    "    @log_call(\"Propery method called\")\n",
    "    def description(self):\n",
    "        return f\"{self._brand} {self._model} with {Car.wheels} wheels.\"\n",
    "    \n",
    "    # Class method\n",
    "    @classmethod\n",
    "    @log_call(\"Class method called\")\n",
    "    def get_wheels(cls):\n",
    "        return cls.wheels\n",
    "    \n",
    "    # Static method\n",
    "    @staticmethod\n",
    "    @log_call(\"Static method called\")\n",
    "    def general_info():\n",
    "        return \"Cars usually have 4 wheels and are used for transport.\"\n",
    "    \n",
    "# Instantiate the Car class\n",
    "my_car = Car(\"Toyota\",\"Corolla\")\n",
    "\n",
    "# Practice various method types\n",
    "my_car.start_engine()\n",
    "desc = my_car.description\n",
    "wheels = my_car.get_wheels()\n",
    "info = my_car.general_info()\n",
    "\n",
    "(desc, wheels, info)"
   ]
  },
  {
   "cell_type": "markdown",
   "id": "9ba76b99",
   "metadata": {},
   "source": [
    "**Conclusion**\n",
    "\n",
    "Decorators are a powerful tool in Python for extending and modifying the behaviour of functions and methods. They provide a clean and readable way to add functionality such as logging, timing, access control, and more without changing the original code. Understanding and using decorators effectively can significantly enhance your Python programming skills."
   ]
  }
 ],
 "metadata": {
  "kernelspec": {
   "display_name": "base",
   "language": "python",
   "name": "python3"
  },
  "language_info": {
   "codemirror_mode": {
    "name": "ipython",
    "version": 3
   },
   "file_extension": ".py",
   "mimetype": "text/x-python",
   "name": "python",
   "nbconvert_exporter": "python",
   "pygments_lexer": "ipython3",
   "version": "3.12.9"
  }
 },
 "nbformat": 4,
 "nbformat_minor": 5
}
