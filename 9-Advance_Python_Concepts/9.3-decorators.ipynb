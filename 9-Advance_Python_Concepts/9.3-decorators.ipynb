{
 "cells": [
  {
   "cell_type": "markdown",
   "id": "91217b71",
   "metadata": {},
   "source": [
    "### Decorators\n",
    "\n",
    "Decorators area a powerful and flexible feature in Python that allows you to modify the behaviour of a function or class method. They are commonly used to add functionality to functions or methods without modifying their actual code. This lesson covers the basic of decorators, including how to create and use them."
   ]
  },
  {
   "cell_type": "code",
   "execution_count": 1,
   "id": "58a137ad",
   "metadata": {},
   "outputs": [],
   "source": [
    "### 1. function copy\n",
    "### 2. closures\n",
    "### 3. decorators"
   ]
  },
  {
   "cell_type": "code",
   "execution_count": 2,
   "id": "ea866ba3",
   "metadata": {},
   "outputs": [
    {
     "data": {
      "text/plain": [
       "'Welcome to the advanced python course'"
      ]
     },
     "execution_count": 2,
     "metadata": {},
     "output_type": "execute_result"
    }
   ],
   "source": [
    "## 1. function copy\n",
    "def welcome():\n",
    "    return \"Welcome to the advanced python course\"\n",
    "\n",
    "welcome()"
   ]
  },
  {
   "cell_type": "code",
   "execution_count": 5,
   "id": "5ebf14f2",
   "metadata": {},
   "outputs": [
    {
     "name": "stdout",
     "output_type": "stream",
     "text": [
      "<function welcome at 0x10babaac0>\n",
      "Welcome to the advanced python course\n",
      "Welcome to the advanced python course\n"
     ]
    }
   ],
   "source": [
    "wel = welcome\n",
    "print(wel)\n",
    "print(wel())\n",
    "del welcome\n",
    "print(wel())"
   ]
  },
  {
   "cell_type": "code",
   "execution_count": 8,
   "id": "23b0ab2f",
   "metadata": {},
   "outputs": [],
   "source": [
    "## closure functions\n",
    "\n",
    "def main_welcome(msg):\n",
    "\n",
    "    def sub_welcome_method():\n",
    "        print(\"Welcome to the advance python course\")\n",
    "        print(msg)\n",
    "        print(\"please lean these concepts properly\")\n",
    "    return sub_welcome_method()"
   ]
  },
  {
   "cell_type": "code",
   "execution_count": 9,
   "id": "8af47ada",
   "metadata": {},
   "outputs": [
    {
     "name": "stdout",
     "output_type": "stream",
     "text": [
      "Welcome to the advance python course\n",
      "Welcome Everyone\n",
      "please lean these concepts properly\n"
     ]
    }
   ],
   "source": [
    "main_welcome(\"Welcome Everyone\")"
   ]
  },
  {
   "cell_type": "code",
   "execution_count": 10,
   "id": "a20d5981",
   "metadata": {},
   "outputs": [
    {
     "name": "stdout",
     "output_type": "stream",
     "text": [
      "Welcome to the sub welcome method!\n",
      "Main welcome method!\n",
      "Sub welcome method ends here!\n"
     ]
    }
   ],
   "source": [
    "def main_welcome(msg):\n",
    "    def sub_welcome_method():\n",
    "        print(\"Welcome to the sub welcome method!\")\n",
    "        print(msg)\n",
    "        print(\"Sub welcome method ends here!\")\n",
    "    return sub_welcome_method()\n",
    "\n",
    "main_welcome(\"Main welcome method!\")"
   ]
  },
  {
   "cell_type": "code",
   "execution_count": 20,
   "id": "8995d835",
   "metadata": {},
   "outputs": [
    {
     "name": "stdout",
     "output_type": "stream",
     "text": [
      "Welcome to the advance python course!\n",
      "Welcome everyone to this tutorial\n",
      "Please learn these concepts properly\n"
     ]
    }
   ],
   "source": [
    "def main_welcome(func):\n",
    "    def sub_welcome_method():\n",
    "        print(\"Welcome to the advance python course!\")\n",
    "        func(\"Welcome everyone to this tutorial\")\n",
    "        print(\"Please learn these concepts properly\")\n",
    "    return sub_welcome_method()\n",
    "\n",
    "main_welcome(print)"
   ]
  },
  {
   "cell_type": "code",
   "execution_count": 23,
   "id": "9c75ad18",
   "metadata": {},
   "outputs": [
    {
     "name": "stdout",
     "output_type": "stream",
     "text": [
      "Welcome to the advance python course!\n"
     ]
    },
    {
     "data": {
      "text/plain": [
       "30"
      ]
     },
     "execution_count": 23,
     "metadata": {},
     "output_type": "execute_result"
    }
   ],
   "source": [
    "def main_func(func):\n",
    "    def sub_func():\n",
    "        print(\"Welcome to the advance python course!\")\n",
    "        return func(\"Welcome to the advance python!\")\n",
    "    return sub_func()\n",
    "\n",
    "main_func(len)"
   ]
  },
  {
   "cell_type": "code",
   "execution_count": 24,
   "id": "ec291434",
   "metadata": {},
   "outputs": [
    {
     "name": "stdout",
     "output_type": "stream",
     "text": [
      "Welcome to the advance python course\n",
      "5\n",
      "Please learn these concepts properly!\n"
     ]
    }
   ],
   "source": [
    "def main_welcome(func,lst):\n",
    "    def sub_welcome_method():\n",
    "        print(\"Welcome to the advance python course\")\n",
    "        print(func(lst))\n",
    "        print(\"Please learn these concepts properly!\")\n",
    "    return sub_welcome_method()\n",
    "\n",
    "main_welcome(len,[1,2,3,4,5])"
   ]
  },
  {
   "cell_type": "code",
   "execution_count": 28,
   "id": "cec56489",
   "metadata": {},
   "outputs": [],
   "source": [
    "### Decorator\n",
    "\n",
    "def main_welcome(func):\n",
    "    def sub_welcome_method():\n",
    "        print(\"Welcome to the advance python course!\")\n",
    "        func()\n",
    "        print(\"Please learn these concepts properly!\")\n",
    "    return sub_welcome_method()"
   ]
  },
  {
   "cell_type": "code",
   "execution_count": 29,
   "id": "ca159a14",
   "metadata": {},
   "outputs": [
    {
     "name": "stdout",
     "output_type": "stream",
     "text": [
      "This is an advanced python course!\n"
     ]
    }
   ],
   "source": [
    "def course_introduction():\n",
    "    print(\"This is an advanced python course!\")\n",
    "\n",
    "course_introduction()"
   ]
  },
  {
   "cell_type": "code",
   "execution_count": 30,
   "id": "b31c8cf6",
   "metadata": {},
   "outputs": [
    {
     "name": "stdout",
     "output_type": "stream",
     "text": [
      "Welcome to the advance python course!\n",
      "This is an advanced python course!\n",
      "Please learn these concepts properly!\n"
     ]
    }
   ],
   "source": [
    "main_welcome(course_introduction)"
   ]
  },
  {
   "cell_type": "code",
   "execution_count": 41,
   "id": "5936c807",
   "metadata": {},
   "outputs": [
    {
     "name": "stdout",
     "output_type": "stream",
     "text": [
      "Welcome to the advance python course!\n",
      "this is advance python course!!!\n",
      "Please learn these concepts properly!\n"
     ]
    }
   ],
   "source": [
    "@main_welcome # decorator assigning like main_welcome(course_intro)\n",
    "def course_intro():\n",
    "    print(\"this is advance python course!!!\")"
   ]
  },
  {
   "cell_type": "code",
   "execution_count": 42,
   "id": "cc1e0b62",
   "metadata": {},
   "outputs": [],
   "source": [
    "### My Decorator\n"
   ]
  },
  {
   "cell_type": "code",
   "execution_count": null,
   "id": "c4b511a9",
   "metadata": {},
   "outputs": [],
   "source": []
  }
 ],
 "metadata": {
  "kernelspec": {
   "display_name": "base",
   "language": "python",
   "name": "python3"
  },
  "language_info": {
   "codemirror_mode": {
    "name": "ipython",
    "version": 3
   },
   "file_extension": ".py",
   "mimetype": "text/x-python",
   "name": "python",
   "nbconvert_exporter": "python",
   "pygments_lexer": "ipython3",
   "version": "3.12.9"
  }
 },
 "nbformat": 4,
 "nbformat_minor": 5
}
