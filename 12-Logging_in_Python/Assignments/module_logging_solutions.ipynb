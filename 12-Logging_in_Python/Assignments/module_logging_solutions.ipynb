{
 "cells": [
  {
   "cell_type": "markdown",
   "id": "f0d64a63",
   "metadata": {},
   "source": []
  }
 ],
 "metadata": {
  "kernelspec": {
   "display_name": "base",
   "language": "python",
   "name": "python3"
  },
  "language_info": {
   "name": "python",
   "version": "3.12.9"
  }
 },
 "nbformat": 4,
 "nbformat_minor": 5
}
