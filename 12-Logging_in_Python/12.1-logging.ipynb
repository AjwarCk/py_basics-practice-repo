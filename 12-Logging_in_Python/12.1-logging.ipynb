{
 "cells": [
  {
   "cell_type": "markdown",
   "id": "88a5a836",
   "metadata": {},
   "source": [
    "### Python Logging\n",
    "\n",
    "Logging is crucial aspect of any application, providing a way to track events, errors, and operational information. Python's built-in logging module offers a flexible framework for emitting log messages from Python programs. In this lesson, we will cover the basics of logging, including how to configure logging, log levels, and best practices for using logging in Python applications."
   ]
  },
  {
   "cell_type": "code",
   "execution_count": 10,
   "id": "d96e8fca",
   "metadata": {},
   "outputs": [],
   "source": [
    "import logging"
   ]
  },
  {
   "cell_type": "code",
   "execution_count": 13,
   "id": "926b8052",
   "metadata": {},
   "outputs": [],
   "source": [
    "## Configure the basic logging settings\n",
    "logging.basicConfig(level=logging.DEBUG)\n",
    "\n",
    "## Log messages with different severity levels\n",
    "logging.debug(\"This is a debug message\")\n",
    "logging.info(\"This is an info message\")\n",
    "logging.warning(\"This is warning message\")\n",
    "logging.error(\"This is an error message\")\n",
    "logging.error(\"This is an error message\")\n",
    "logging.critical(\"This is a critical message\")"
   ]
  },
  {
   "cell_type": "markdown",
   "id": "7d456d06",
   "metadata": {},
   "source": [
    "**Log Levels**\n",
    "\n",
    "Python's logging module has several log levels indicating the severity of events. The default levels are:\n",
    "\n",
    "- `DEBUG`: Detailed information, typically of interest only when diagnosing problems.\n",
    "- `INFO`: Confirmation that things are working as expected.\n",
    "- `WARNING`: An indication that something unexpected happened or indicative of some problem in the near future (eg: 'disk space low'). The software is still working as expected.\n",
    "- `ERROR`: Due to a more serious problem, the software has not been able to perform some function.\n",
    "- `CRITICAL`: A very serious error, indicating that the program itself may be unable to continue running."
   ]
  },
  {
   "cell_type": "code",
   "execution_count": 16,
   "id": "4d3e1b08",
   "metadata": {},
   "outputs": [],
   "source": [
    "## Configure logging\n",
    "import logging\n",
    "\n",
    "logging.basicConfig(\n",
    "    filename='app.log',\n",
    "    filemode='w',\n",
    "    level=logging.DEBUG,\n",
    "    format='%(asctime)s-%(name)s-%(levelname)s-%(message)s',\n",
    "    datefmt='%Y-%m-%d %H:%M:%S',\n",
    "    # force=True\n",
    "    )\n",
    "\n",
    "## log messages with different severity levels\n",
    "logging.debug(\"This is debug message\")\n",
    "logging.info(\"This is info message\")\n",
    "logging.warning(\"This is warning message\")\n",
    "logging.error(\"This is error message\")\n",
    "logging.critical(\"This is error message\")"
   ]
  }
 ],
 "metadata": {
  "kernelspec": {
   "display_name": "base",
   "language": "python",
   "name": "python3"
  },
  "language_info": {
   "codemirror_mode": {
    "name": "ipython",
    "version": 3
   },
   "file_extension": ".py",
   "mimetype": "text/x-python",
   "name": "python",
   "nbconvert_exporter": "python",
   "pygments_lexer": "ipython3",
   "version": "3.12.9"
  }
 },
 "nbformat": 4,
 "nbformat_minor": 5
}
