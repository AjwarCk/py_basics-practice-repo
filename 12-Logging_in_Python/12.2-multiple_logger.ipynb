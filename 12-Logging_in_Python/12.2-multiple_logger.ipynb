{
 "cells": [
  {
   "cell_type": "markdown",
   "id": "4cc96377",
   "metadata": {},
   "source": [
    "### Logging with Multiple Loggers\n",
    "\n",
    "You can create multiple loggers for different parts of your application."
   ]
  },
  {
   "cell_type": "code",
   "execution_count": 2,
   "id": "3cfbd803",
   "metadata": {},
   "outputs": [],
   "source": [
    "import logging"
   ]
  },
  {
   "cell_type": "code",
   "execution_count": 3,
   "id": "97c591f2",
   "metadata": {},
   "outputs": [],
   "source": [
    "## Create a logger for module\n",
    "logger1 = logging.getLogger(\"module1\")\n",
    "logger1.setLevel(logging.DEBUG)\n",
    "\n",
    "## Create a logger for module 2\n",
    "logger2 = logging.getLogger(\"module2\")\n",
    "logger2.setLevel(logging.WARNING)\n",
    "\n",
    "## Configure logging settings\n",
    "logging.basicConfig(level=logging.DEBUG,\n",
    "                    format='%(asctime)s:%(name)s:%(levelname)s:%(message)s',\n",
    "                    datefmt='%Y-%m-%d %H-%M-%S',\n",
    "                    force=True\n",
    "                    )"
   ]
  },
  {
   "cell_type": "code",
   "execution_count": 4,
   "id": "4bfd517f",
   "metadata": {},
   "outputs": [
    {
     "name": "stderr",
     "output_type": "stream",
     "text": [
      "2025-08-28 21-03-13:module1:DEBUG:This is debug message for module1\n",
      "2025-08-28 21-03-13:module2:WARNING:This is a warning mssage for module2\n",
      "2025-08-28 21-03-13:module2:ERROR:This is an error message\n"
     ]
    }
   ],
   "source": [
    "logger1.debug(\"This is debug message for module1\")\n",
    "logger2.warning(\"This is a warning mssage for module2\")\n",
    "logger2.error(\"This is an error message\")"
   ]
  },
  {
   "cell_type": "code",
   "execution_count": null,
   "id": "10d9e6e4",
   "metadata": {},
   "outputs": [
    {
     "name": "stderr",
     "output_type": "stream",
     "text": [
      "2025-08-28 21-03-18:root:DEBUG:Debug from root logger\n",
      "Debug from root logger\n",
      "2025-08-28 21-03-18:root:ERROR:Error from root logger\n",
      "Error from root logger\n"
     ]
    }
   ],
   "source": [
    "import logging\n",
    "\n",
    "for handler in logging.root.handler[:]:\n",
    "    logging.root.removeHandler(handler)\n",
    "\n",
    "# ----------------------------\n",
    "#  1) ROOT LOGGER (basicConfig)\n",
    "# -----------------------------\n",
    "logging.basicConfig(level=logging.DEBUG, # Root will capture DEBUG+\n",
    "                    format='%(asctime)s - %(name)s - %(levelname)s - %(message)s',\n",
    "                    datefmt='%Y-%m-%d %H:%M:%S',\n",
    "                    filename='root.log', # Root logs go into root.log\n",
    "                    filemode='w') # Overwrite each run (use 'a' to append)\n",
    "\n",
    "# -----------------------------------\n",
    "# 2) Custom logger 1 -> Module 1 logs\n",
    "# ------------------------------------\n",
    "logger1 = logging.getLogger('module1')\n",
    "logger1.setLevel(logging.DEBUG)\n",
    "logger1.propagate = False # stops duplications\n",
    "\n",
    "file_handler1 = logging.FileHandler(\"module1.log\",mode='w') # for append 'a'\n",
    "file_handler1.setLevel(logging.INFO)\n",
    "\n",
    "formatter1 = logging.Formatter('%(asctime)s | %(name)s | %(levelname)s | %(message)s',\n",
    "                               datefmt='%H:%M:%S')\n",
    "\n",
    "file_handler1.setFormatter(formatter1)\n",
    "\n",
    "if not logger1.handlers:\n",
    "    logger1.addHandler(file_handler1)\n",
    "\n",
    "# -----------------------------------\n",
    "# 3) Custom Logger 2 -> Module 2 logs\n",
    "# -----------------------------------\n",
    "logger2 = logging.getLogger('module2')\n",
    "logger2.setLevel(logging.DEBUG)\n",
    "logger2.propagate = False # stops duplication\n",
    "\n",
    "file_handler2 = logging.FileHandler('module2.log',mode='w') # for append 'a'\n",
    "file_handler2.setLevel(logging.WARNING)\n",
    "\n",
    "formatter2 = logging.Formatter('[%(levelname)s] %(message)s (%(asctime)s)',\n",
    "                               datefmt='%H:%M:%S')\n",
    "\n",
    "file_handler2.setFormatter(formatter2)\n",
    "\n",
    "if not logger2.handlers:\n",
    "    logger2.addHandler(file_handler2)\n",
    "\n",
    "# -----------------------------------\n",
    "# 4) Console Handler (shared)\n",
    "# -----------------------------------\n",
    "console_handler = logging.StreamHandler()\n",
    "console_handler.setLevel(logging.DEBUG) # Show everything on screen\n",
    "\n",
    "console_formatter = logging.Formatter('>>> %(name)s - %(levelname)s - %(message)s',\n",
    "                                      datefmt='%H:%M:%S'\n",
    "                                      )\n",
    "\n",
    "# Attach console to All (root, logger1, logger2)\n",
    "logging.getLogger().addHandler(console_handler) # root\n",
    "# logger1.addHandler(console_handler) # module1\n",
    "# logger2.addHandler(console_handler) # module2\n",
    "\n",
    "# -------------------------------------\n",
    "# USAGE\n",
    "# -------------------------------------\n",
    "# Root logger (no custom name)\n",
    "logging.debug(\"Debug from root logger\")\n",
    "logging.error(\"Error from root logger\")\n",
    "\n",
    "# Module loggers\n",
    "logger1.info(\"Info from module1\")\n",
    "logger1.error(\"Error from module1\")\n",
    "\n",
    "logger2.info(\"Info from module2 (won't go to file, below WARNING)\")\n",
    "logger2.warning(\"Warning from module2\")\n",
    "logger2.error(\"Error from module2\")"
   ]
  },
  {
   "cell_type": "code",
   "execution_count": 1,
   "id": "62581192",
   "metadata": {},
   "outputs": [
    {
     "name": "stderr",
     "output_type": "stream",
     "text": [
      ">>> root - DEBUG - Debug from root logger\n",
      ">>> root - ERROR - Error from root logger\n"
     ]
    }
   ],
   "source": [
    "import logging\n",
    "\n",
    "# -------------------------\n",
    "# CLEAN EXISTING HANDLERS\n",
    "# -------------------------\n",
    "# Sometimes Python reuses old loggers/handlers (esp. in notebooks or scripts run multiple times).\n",
    "# This loop clears all existing handlers from the ROOT logger to avoid duplication of logs.\n",
    "for handler in logging.root.handlers[:]:   # <- note typo fixed: logging.root.handlers, not handler\n",
    "    logging.root.removeHandler(handler)\n",
    "\n",
    "\n",
    "# ----------------------------\n",
    "#  1) ROOT LOGGER (basicConfig)\n",
    "# -----------------------------\n",
    "logging.basicConfig(\n",
    "    level=logging.DEBUG,   # Root logger threshold → captures DEBUG and above\n",
    "    format='%(asctime)s - %(name)s - %(levelname)s - %(message)s',\n",
    "    datefmt='%Y-%m-%d %H:%M:%S',\n",
    "    filename='root.log',   # Root logs will be written to this file\n",
    "    filemode='w'           # Overwrite file each run ('a' would append instead)\n",
    ")\n",
    "\n",
    "\n",
    "# -----------------------------------\n",
    "# 2) Custom logger 1 -> Module 1 logs\n",
    "# ------------------------------------\n",
    "logger1 = logging.getLogger('module1')    # Create custom logger named \"module1\"\n",
    "logger1.setLevel(logging.DEBUG)           # Logger threshold = DEBUG\n",
    "logger1.propagate = False                 # Prevent logs from bubbling up to root (avoids duplicates)\n",
    "\n",
    "# File handler for module1\n",
    "file_handler1 = logging.FileHandler(\"module1.log\", mode='w',encoding='utf-8')  # Log file only for module1\n",
    "file_handler1.setLevel(logging.INFO)       # File will only store INFO and above (ignore DEBUG)\n",
    "\n",
    "# Formatter for module1 logs\n",
    "formatter1 = logging.Formatter(\n",
    "    '%(asctime)s | %(name)s | %(levelname)s | %(message)s',\n",
    "    datefmt='%H:%M:%S'\n",
    ")\n",
    "file_handler1.setFormatter(formatter1)    # Attach formatter\n",
    "\n",
    "# Attach handler only once (avoid duplication)\n",
    "if not logger1.handlers:\n",
    "    logger1.addHandler(file_handler1)\n",
    "\n",
    "\n",
    "# -----------------------------------\n",
    "# 3) Custom Logger 2 -> Module 2 logs\n",
    "# -----------------------------------\n",
    "logger2 = logging.getLogger('module2')    # Custom logger \"module2\"\n",
    "logger2.setLevel(logging.DEBUG)           # Capture DEBUG and above\n",
    "logger2.propagate = False                 # Don’t bubble logs to root\n",
    "\n",
    "# File handler for module2\n",
    "file_handler2 = logging.FileHandler('module2.log', mode='w',encoding='utf-8')\n",
    "file_handler2.setLevel(logging.WARNING)   # Only WARNING and above written to this file\n",
    "\n",
    "# Formatter for module2 logs\n",
    "formatter2 = logging.Formatter(\n",
    "    '[%(levelname)s] %(message)s (%(asctime)s)',\n",
    "    datefmt='%H:%M:%S'\n",
    ")\n",
    "file_handler2.setFormatter(formatter2)\n",
    "\n",
    "# Attach handler only once\n",
    "if not logger2.handlers:\n",
    "    logger2.addHandler(file_handler2)\n",
    "\n",
    "\n",
    "# -----------------------------------\n",
    "# 4) Console Handler (shared output)\n",
    "# -----------------------------------\n",
    "console_handler = logging.StreamHandler()     # Logs shown on console\n",
    "console_handler.setLevel(logging.DEBUG)       # Show DEBUG and above on screen\n",
    "\n",
    "console_formatter = logging.Formatter(\n",
    "    '>>> %(name)s - %(levelname)s - %(message)s',\n",
    "    datefmt='%H:%M:%S'\n",
    ")\n",
    "console_handler.setFormatter(console_formatter)\n",
    "\n",
    "# Attach console handler to root (so ALL loggers’ messages show in console)\n",
    "logging.getLogger().addHandler(console_handler)\n",
    "\n",
    "# You could instead attach to only module1/module2 if you want separation:\n",
    "# logger1.addHandler(console_handler)\n",
    "# logger2.addHandler(console_handler)\n",
    "\n",
    "\n",
    "# -------------------------------------\n",
    "# USAGE (simulated logging in app)\n",
    "# -------------------------------------\n",
    "# Root logger (usually framework-level or uncategorized logs)\n",
    "logging.debug(\"Debug from root logger\")\n",
    "logging.error(\"Error from root logger\")\n",
    "\n",
    "# Module loggers (simulating logs inside different parts of an app)\n",
    "logger1.info(\"Info from module1\")   # goes to module1.log + console\n",
    "logger1.error(\"Error from module1\") # goes to module1.log + console\n",
    "\n",
    "logger2.info(\"Info from module2 (won't go to file, below WARNING)\") # only console, not file\n",
    "logger2.warning(\"Warning from module2\") # goes to module2.log + console\n",
    "logger2.error(\"Error from module2\")     # goes to module2.log + console"
   ]
  },
  {
   "cell_type": "code",
   "execution_count": 2,
   "id": "20ff74a9",
   "metadata": {},
   "outputs": [
    {
     "name": "stderr",
     "output_type": "stream",
     "text": [
      ">>> auth - INFO - User john_doe logged in\n",
      ">>> auth - INFO - User john_doe logged in\n",
      ">>> auth - INFO - User john_doe logged in\n",
      ">>> auth - WARNING - Suspicious login attempt from IP 192.168.1.50\n",
      ">>> auth - WARNING - Suspicious login attempt from IP 192.168.1.50\n",
      ">>> auth - WARNING - Suspicious login attempt from IP 192.168.1.50\n",
      ">>> orders - INFO - Order #1234 placed by john_doe\n",
      ">>> orders - INFO - Order #1234 placed by john_doe\n",
      ">>> orders - INFO - Order #1234 placed by john_doe\n",
      ">>> orders - ERROR - Payment failed for Order #1234: Card declined\n",
      ">>> orders - ERROR - Payment failed for Order #1234: Card declined\n",
      ">>> orders - ERROR - Payment failed for Order #1234: Card declined\n",
      ">>> inventory - DEBUG - Stock checked for Product #5678\n",
      ">>> inventory - DEBUG - Stock checked for Product #5678\n",
      ">>> inventory - DEBUG - Stock checked for Product #5678\n",
      ">>> inventory - WARNING - Low stock alert for Product #5678: only 2 left\n",
      ">>> inventory - WARNING - Low stock alert for Product #5678: only 2 left\n",
      ">>> inventory - WARNING - Low stock alert for Product #5678: only 2 left\n",
      ">>> root - ERROR - Unexpected exception: Database connection lost\n",
      ">>> root - ERROR - Unexpected exception: Database connection lost\n"
     ]
    }
   ],
   "source": [
    "import logging\n",
    "\n",
    "# ---------------------------\n",
    "# Root logger (global)\n",
    "# ---------------------------\n",
    "logging.basicConfig(filename='log/ecom1/app_root.log',\n",
    "                    level=logging.DEBUG,\n",
    "                    format='%(asctime)s | %(name)s | %(levelname)s | %(message)s'\n",
    "                    )\n",
    "\n",
    "# Custom loggers for each module\n",
    "auth_logger = logging.getLogger(\"auth\")\n",
    "orders_logger = logging.getLogger(\"orders\")\n",
    "inventory_logger = logging.getLogger(\"inventory\")\n",
    "\n",
    "# Auth logger -> write to auth.log\n",
    "auth_handler = logging.FileHandler(\"log/ecom1/auth.log\")\n",
    "auth_handler.setLevel(logging.INFO)\n",
    "auth_handler.setFormatter(logging.Formatter('%(asctime)s - AUTH - %(levelname)s - %(message)s'))\n",
    "auth_logger.addHandler(auth_handler)\n",
    "\n",
    "# Orders logger -> write to orders.log\n",
    "orders_handler = logging.FileHandler('log/ecom1/orders.log')\n",
    "orders_handler.setLevel(logging.WARNING)\n",
    "orders_handler.setFormatter(logging.Formatter('%(asctime)s - ORDERS - %(levelname)s - %(message)s'))\n",
    "orders_logger.addHandler(orders_handler)\n",
    "\n",
    "# Inventory logger -> write to inventory.log\n",
    "inventory_handler = logging.FileHandler('log/ecom1/inventory.log')\n",
    "inventory_handler.setLevel(logging.DEBUG)\n",
    "inventory_handler.setFormatter(logging.Formatter('%(asctime)s - INVENTORY - %(levelname)s - %(message)s'))\n",
    "inventory_logger.addHandler(inventory_handler)\n",
    "\n",
    "# Console handler (shared accross all)\n",
    "console_handler = logging.StreamHandler()\n",
    "console_handler.setLevel(logging.DEBUG)\n",
    "console_handler.setFormatter(logging.Formatter('>>> %(name)s - %(levelname)s - %(message)s'))\n",
    "\n",
    "for lg in [logging.getLogger(), auth_logger, orders_logger, inventory_logger]:\n",
    "    lg.addHandler(console_handler)\n",
    "\n",
    "# ------------------------------------------\n",
    "# Example Workflow\n",
    "# ------------------------------------------\n",
    "# User logs in\n",
    "auth_logger.info(\"User john_doe logged in\")\n",
    "auth_logger.warning(\"Suspicious login attempt from IP 192.168.1.50\")\n",
    "\n",
    "# User places order\n",
    "orders_logger.info(\"Order #1234 placed by john_doe\") # (won't go to orders.log, below WARNING)\n",
    "orders_logger.error(\"Payment failed for Order #1234: Card declined\")\n",
    "\n",
    "# Inventory check\n",
    "inventory_logger.debug(\"Stock checked for Product #5678\")\n",
    "inventory_logger.warning(\"Low stock alert for Product #5678: only 2 left\")\n",
    "\n",
    "# Root catches everything\n",
    "logging.error(\"Unexpected exception: Database connection lost\")"
   ]
  },
  {
   "cell_type": "code",
   "execution_count": 1,
   "id": "a66055a5",
   "metadata": {},
   "outputs": [
    {
     "name": "stderr",
     "output_type": "stream",
     "text": [
      ">>> auth - INFO - User john_doe logged in\n",
      ">>> auth - WARNING - Suspicious login attempt from IP 192.168.1.50\n",
      ">>> order - ERROR - Payment failed for order #1234: Card declined\n",
      ">>> inventory - DEBUG - Stock checked for Product #5678\n",
      ">>> inventory - WARNING - Low stock alert fro Product #5678: only 2 left\n"
     ]
    }
   ],
   "source": [
    "import logging \n",
    "import os\n",
    "\n",
    "def setup_logger(name, logfile, level, fmt):\n",
    "    \"\"\"\n",
    "    Creates  and configures a logger with a FileHandler + shared ConsoleHandler.\n",
    "    Args:\n",
    "        name(str) : Logger name,\n",
    "        logfile(str) : File to write logs,\n",
    "        level(int) : Minimum logging level eg: DEBUG,INFO,WARNING,ERROR,CRITICAL,\n",
    "        fmt(str) : Log format string\n",
    "    \"\"\"\n",
    "    logger = logging.getLogger(name)\n",
    "    logger.setLevel(level)\n",
    "\n",
    "    # Prevent duplicate handlers if function runs multiple times (Jupyter safe)\n",
    "    if not logger.handlers:\n",
    "        \n",
    "        # File Handler\n",
    "        fh = logging.FileHandler(logfile)\n",
    "        fh.setLevel(level)\n",
    "        fh.setFormatter(logging.Formatter(fmt))\n",
    "        logger.addHandler(fh)\n",
    "\n",
    "        # Console Handler (shared)\n",
    "        ch = logging.StreamHandler()\n",
    "        ch.setLevel(logging.DEBUG)\n",
    "        ch.setFormatter(logging.Formatter(\">>> %(name)s - %(levelname)s - %(message)s\"))\n",
    "        logger.addHandler(ch)\n",
    "\n",
    "    return logger\n",
    "\n",
    "## Root logger\n",
    "logging.basicConfig(filename='logs/ecom2/app_root.log',\n",
    "                    level=logging.DEBUG,\n",
    "                    format='%(asctime)s | %(name)s | %(levelname)s | %(message)s'\n",
    "                    )\n",
    "\n",
    "## Custom loggers\n",
    "auth_logger = setup_logger('auth','logs/ecom2/auth.log',logging.INFO,'%(asctime)s - AUTH - %(levelname)s - %(message)s')\n",
    "\n",
    "orders_logger = setup_logger('order','logs/ecom2/orders.log',logging.WARNING,'%(asctime)s - ORDERS - %(levelname)s - %(message)s')\n",
    "\n",
    "inventory_logger = setup_logger('inventory','logs/ecom2/inventory.log',logging.DEBUG,'%(asctime)s - INVENTORY - %(levelname)s - %(message)s')\n",
    "\n",
    "\n",
    "### Example Workflow\n",
    "\n",
    "## User log in\n",
    "auth_logger.info(\"User john_doe logged in\")\n",
    "auth_logger.warning(\"Suspicious login attempt from IP 192.168.1.50\")\n",
    "\n",
    "## User places order\n",
    "orders_logger.info(\"Order #1234 placed by john_doe\") # won't go to orders log (below WARNING)\n",
    "orders_logger.error(\"Payment failed for order #1234: Card declined\")\n",
    "\n",
    "## Inventory check\n",
    "inventory_logger.debug(\"Stock checked for Product #5678\")\n",
    "inventory_logger.warning(\"Low stock alert fro Product #5678: only 2 left\")\n",
    "\n",
    "## Root catches everything\n",
    "logging.error(\"Unexpected exception: Database connection lost\")"
   ]
  },
  {
   "cell_type": "code",
   "execution_count": 3,
   "id": "d7f6e238",
   "metadata": {},
   "outputs": [
    {
     "ename": "ImportError",
     "evalue": "cannot import name 'auth_logger' from 'custom_log' (/Users/ajwarck/Desktop/vs_code/py_pr/12-Logging_in_Python/custom_log.py)",
     "output_type": "error",
     "traceback": [
      "\u001b[31m---------------------------------------------------------------------------\u001b[39m",
      "\u001b[31mImportError\u001b[39m                               Traceback (most recent call last)",
      "\u001b[36mCell\u001b[39m\u001b[36m \u001b[39m\u001b[32mIn[3]\u001b[39m\u001b[32m, line 1\u001b[39m\n\u001b[32m----> \u001b[39m\u001b[32m1\u001b[39m \u001b[38;5;28;01mfrom\u001b[39;00m \u001b[34;01mcustom_log\u001b[39;00m \u001b[38;5;28;01mimport\u001b[39;00m auth_logger, orders_logger, inventory_logger\n",
      "\u001b[31mImportError\u001b[39m: cannot import name 'auth_logger' from 'custom_log' (/Users/ajwarck/Desktop/vs_code/py_pr/12-Logging_in_Python/custom_log.py)"
     ]
    }
   ],
   "source": [
    "from custom_log import auth_logger, orders_logger, inventory_logger"
   ]
  },
  {
   "cell_type": "code",
   "execution_count": 4,
   "id": "4bac1716",
   "metadata": {},
   "outputs": [
    {
     "ename": "ImportError",
     "evalue": "cannot import name 'auth_logger' from 'custom_log' (/Users/ajwarck/Desktop/vs_code/py_pr/12-Logging_in_Python/custom_log.py)",
     "output_type": "error",
     "traceback": [
      "\u001b[31m---------------------------------------------------------------------------\u001b[39m",
      "\u001b[31mImportError\u001b[39m                               Traceback (most recent call last)",
      "\u001b[36mCell\u001b[39m\u001b[36m \u001b[39m\u001b[32mIn[4]\u001b[39m\u001b[32m, line 1\u001b[39m\n\u001b[32m----> \u001b[39m\u001b[32m1\u001b[39m \u001b[38;5;28;01mfrom\u001b[39;00m \u001b[34;01mcustom_log\u001b[39;00m \u001b[38;5;28;01mimport\u001b[39;00m auth_logger, orders_logger, inventory_logger\n",
      "\u001b[31mImportError\u001b[39m: cannot import name 'auth_logger' from 'custom_log' (/Users/ajwarck/Desktop/vs_code/py_pr/12-Logging_in_Python/custom_log.py)"
     ]
    }
   ],
   "source": [
    "from custom_log import auth_logger, orders_logger, inventory_logger"
   ]
  },
  {
   "cell_type": "code",
   "execution_count": 5,
   "id": "4c44db5d",
   "metadata": {},
   "outputs": [],
   "source": [
    "import custom_log"
   ]
  },
  {
   "cell_type": "code",
   "execution_count": 6,
   "id": "b79c13d2",
   "metadata": {},
   "outputs": [
    {
     "data": {
      "text/plain": [
       "['__builtins__',\n",
       " '__cached__',\n",
       " '__doc__',\n",
       " '__file__',\n",
       " '__loader__',\n",
       " '__name__',\n",
       " '__package__',\n",
       " '__spec__',\n",
       " 'logging',\n",
       " 'os',\n",
       " 'setup_logger']"
      ]
     },
     "execution_count": 6,
     "metadata": {},
     "output_type": "execute_result"
    }
   ],
   "source": [
    "dir(custom_log)"
   ]
  },
  {
   "cell_type": "code",
   "execution_count": 3,
   "id": "a84a7425",
   "metadata": {},
   "outputs": [],
   "source": [
    "from custom_log import auth_logger"
   ]
  },
  {
   "cell_type": "code",
   "execution_count": 4,
   "id": "cbaa7bbc",
   "metadata": {},
   "outputs": [
    {
     "name": "stderr",
     "output_type": "stream",
     "text": [
      ">>> auth - INFO - The user 'Amy' has logged out\n"
     ]
    }
   ],
   "source": [
    "auth_logger.info(\"The user 'Amy' has logged out\")"
   ]
  }
 ],
 "metadata": {
  "kernelspec": {
   "display_name": "base",
   "language": "python",
   "name": "python3"
  },
  "language_info": {
   "codemirror_mode": {
    "name": "ipython",
    "version": 3
   },
   "file_extension": ".py",
   "mimetype": "text/x-python",
   "name": "python",
   "nbconvert_exporter": "python",
   "pygments_lexer": "ipython3",
   "version": "3.12.9"
  }
 },
 "nbformat": 4,
 "nbformat_minor": 5
}
