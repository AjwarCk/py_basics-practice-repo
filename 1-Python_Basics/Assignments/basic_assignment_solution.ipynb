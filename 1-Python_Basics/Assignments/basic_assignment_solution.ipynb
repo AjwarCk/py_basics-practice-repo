{
 "cells": [
  {
   "cell_type": "markdown",
   "metadata": {},
   "source": [
    "### Lesson 1.2: Python Basics\n",
    "\n",
    "##### Topics Covered:\n",
    "- Syntax and Semantics\n",
    "- Variables and Data Types\n",
    "- Basic Operators (Arithmetic, Comparison, Logical)"
   ]
  },
  {
   "cell_type": "markdown",
   "metadata": {},
   "source": [
    "#### 1. Syntax and Semantics"
   ]
  },
  {
   "cell_type": "markdown",
   "metadata": {},
   "source": [
    "**Question 1:** Write a Python program to print \"Hello, World!\"."
   ]
  },
  {
   "cell_type": "code",
   "execution_count": 1,
   "metadata": {},
   "outputs": [
    {
     "name": "stdout",
     "output_type": "stream",
     "text": [
      "Hello, World!\n"
     ]
    }
   ],
   "source": [
    "# Solution\n",
    "print(\"Hello, World!\")"
   ]
  },
  {
   "cell_type": "markdown",
   "metadata": {},
   "source": [
    "**Question 2: Write a Python program that takes a user input and prints it.**"
   ]
  },
  {
   "cell_type": "code",
   "execution_count": 1,
   "metadata": {},
   "outputs": [
    {
     "name": "stdout",
     "output_type": "stream",
     "text": [
      "hellow world\n"
     ]
    }
   ],
   "source": [
    "# Solution\n",
    "print(input('Enter anything to print it'))"
   ]
  },
  {
   "cell_type": "markdown",
   "metadata": {},
   "source": [
    "**Question 3: Write a python program to check if a number is positive, negative or zero.**"
   ]
  },
  {
   "cell_type": "code",
   "execution_count": 4,
   "metadata": {},
   "outputs": [
    {
     "name": "stdout",
     "output_type": "stream",
     "text": [
      "entered number is negative: -110.0\n"
     ]
    }
   ],
   "source": [
    "# Solution\n",
    "number = float(input('Enter a number'))\n",
    "if number>0:\n",
    "    print(f'the entered number is positive: {number}')\n",
    "elif number==0:\n",
    "    print(f'the entered number is zero: {number}')\n",
    "else:\n",
    "    print(f'entered number is negative: {number}')"
   ]
  },
  {
   "cell_type": "markdown",
   "metadata": {},
   "source": [
    "**Question 4: Write a Python program to find the largest of three numbers**"
   ]
  },
  {
   "cell_type": "code",
   "execution_count": 5,
   "metadata": {},
   "outputs": [
    {
     "name": "stdout",
     "output_type": "stream",
     "text": [
      "The largest number is 11.0\n"
     ]
    }
   ],
   "source": [
    "# Solution\n",
    "num1 = float(input(\"Enter first number: \"))\n",
    "num2 = float(input(\"Enter second number: \"))\n",
    "num3 = float(input(\"Enter third number: \"))\n",
    "\n",
    "if (num1>num2) and (num1>num3):\n",
    "    largest=num1\n",
    "elif (num2>num1) and (num2>num3):\n",
    "    largest=num2\n",
    "else:\n",
    "    largest=num3\n",
    "\n",
    "print(f'The largest number is {largest}')"
   ]
  },
  {
   "cell_type": "markdown",
   "metadata": {},
   "source": [
    "**Question 5: Write a Python program to calculate the factorial of a number.**"
   ]
  },
  {
   "cell_type": "code",
   "execution_count": 8,
   "metadata": {},
   "outputs": [
    {
     "name": "stdout",
     "output_type": "stream",
     "text": [
      "The factorial of 4 is 24\n"
     ]
    }
   ],
   "source": [
    "# Solution\n",
    "def factorial(n):\n",
    "    if n==0:\n",
    "        return 1\n",
    "    else:\n",
    "        return n * factorial(n-1)\n",
    "    \n",
    "num = int(input(\"Enter a number: \"))\n",
    "print(f\"The factorial of {num} is {factorial(num)}\")"
   ]
  },
  {
   "cell_type": "markdown",
   "metadata": {},
   "source": [
    "#### 2. Variables and Data Types"
   ]
  },
  {
   "cell_type": "markdown",
   "metadata": {},
   "source": [
    "**Question 6: Create variables of different data types: integer, float, string and boolean. Print values and types**"
   ]
  },
  {
   "cell_type": "code",
   "execution_count": 9,
   "metadata": {},
   "outputs": [
    {
     "name": "stdout",
     "output_type": "stream",
     "text": [
      "Integer value: 10, type: <class 'int'>\n",
      "float value: 10.5, type: <class 'float'>\n",
      "String value: Hello, type: <class 'str'>\n",
      "Boolean value: True, type: <class 'bool'>\n"
     ]
    }
   ],
   "source": [
    "# Solution\n",
    "integer_var = 10\n",
    "float_var = 10.5\n",
    "string_var = 'Hello'\n",
    "boolean_var = True\n",
    "\n",
    "print(f'Integer value: {integer_var}, type: {type(integer_var)}')\n",
    "print(f'float value: {float_var}, type: {type(float_var)}')\n",
    "print(f'String value: {string_var}, type: {type(string_var)}')\n",
    "print(f'Boolean value: {boolean_var}, type: {type(boolean_var)}')"
   ]
  },
  {
   "cell_type": "markdown",
   "metadata": {},
   "source": [
    "**Question 7: Write a python program to swap the values of two variables**"
   ]
  },
  {
   "cell_type": "code",
   "execution_count": 12,
   "metadata": {},
   "outputs": [
    {
     "name": "stdout",
     "output_type": "stream",
     "text": [
      "Before swap: a=5, b=10\n",
      "After swap: a=10, b=5\n"
     ]
    }
   ],
   "source": [
    "# Solution\n",
    "a=5\n",
    "b=10\n",
    "print(f\"Before swap: a={a}, b={b}\")\n",
    "\n",
    "# Swapping\n",
    "a, b = b, a\n",
    "print(f\"After swap: a={a}, b={b}\")"
   ]
  },
  {
   "cell_type": "markdown",
   "metadata": {},
   "source": [
    "**Question 8: Write a python program to swap the values of two variables.**"
   ]
  },
  {
   "cell_type": "code",
   "execution_count": 11,
   "metadata": {},
   "outputs": [
    {
     "name": "stdout",
     "output_type": "stream",
     "text": [
      "89.0*C is equal to 192.2*F\n"
     ]
    }
   ],
   "source": [
    "# Solution\n",
    "celsius = float(input('Enter temperature in Celsius: '))\n",
    "fahrenheit = (celsius*9/5)+32\n",
    "print(f\"{celsius}*C is equal to {fahrenheit}*F\")"
   ]
  },
  {
   "cell_type": "markdown",
   "metadata": {},
   "source": [
    "**Question 9: Write a python program to concatenate two strings**"
   ]
  },
  {
   "cell_type": "code",
   "execution_count": 19,
   "metadata": {},
   "outputs": [
    {
     "name": "stdout",
     "output_type": "stream",
     "text": [
      "Ajwar_CK\n"
     ]
    }
   ],
   "source": [
    "str1 = input(\"Enter first string: \")\n",
    "str2 = input(\"Enter second string: \")\n",
    "\n",
    "print(str1+'_'+str2)"
   ]
  },
  {
   "cell_type": "markdown",
   "metadata": {},
   "source": [
    "**Question 10: Write a python program to check if a variable is of a specific data type.**"
   ]
  },
  {
   "cell_type": "code",
   "execution_count": 21,
   "metadata": {},
   "outputs": [
    {
     "data": {
      "text/plain": [
       "True"
      ]
     },
     "execution_count": 21,
     "metadata": {},
     "output_type": "execute_result"
    }
   ],
   "source": [
    "isinstance(5.5, float)"
   ]
  },
  {
   "cell_type": "code",
   "execution_count": 22,
   "metadata": {},
   "outputs": [
    {
     "name": "stdout",
     "output_type": "stream",
     "text": [
      "10.5 is a float\n"
     ]
    }
   ],
   "source": [
    "# Solution\n",
    "var = 10.5\n",
    "\n",
    "if isinstance(var, float):\n",
    "    print(f\"{var} is a float\")\n",
    "else:\n",
    "    print(f\"{var} is not a float\")"
   ]
  },
  {
   "cell_type": "markdown",
   "metadata": {},
   "source": [
    "#### 3. Basic Operators (Arithmetic, Comparison, Logical)"
   ]
  },
  {
   "cell_type": "markdown",
   "metadata": {},
   "source": [
    "**Question 11: Write a Python program to perform arithmetic operations: addition, subtraction, multiplication and division**"
   ]
  },
  {
   "cell_type": "code",
   "execution_count": 25,
   "metadata": {},
   "outputs": [
    {
     "name": "stdout",
     "output_type": "stream",
     "text": [
      "Addition: 5+3 = 8\n",
      "Subtraction: 5-3 = 2\n",
      "Multiplication: 5*3 = 15\n",
      "Division: 5/3 =1.6666666666666667\n"
     ]
    }
   ],
   "source": [
    "# Solution\n",
    "\n",
    "a = 5\n",
    "b = 3\n",
    "\n",
    "print(f\"Addition: {a}+{b} = {a+b}\")\n",
    "print(f'Subtraction: {a}-{b} = {a-b}')\n",
    "print(f'Multiplication: {a}*{b} = {a*b}')\n",
    "print(f'Division: {a}/{b} ={ a/b}')"
   ]
  },
  {
   "cell_type": "markdown",
   "metadata": {},
   "source": [
    "**Question 12: Write a python program to demonstrate comparison, eqal to, not equal to, greater than, less than**"
   ]
  },
  {
   "cell_type": "code",
   "execution_count": 26,
   "metadata": {},
   "outputs": [
    {
     "name": "stdout",
     "output_type": "stream",
     "text": [
      "5 == 3: False\n",
      "5 != 3: True\n",
      "5 > 3: True\n",
      "5 < 3: False\n"
     ]
    }
   ],
   "source": [
    "# Solution\n",
    "a=5\n",
    "b=3\n",
    "\n",
    "print(f\"{a} == {b}: {a == b}\")\n",
    "print(f\"{a} != {b}: {a != b}\")\n",
    "print(f\"{a} > {b}: {a > b}\")\n",
    "print(f\"{a} < {b}: {a < b}\")"
   ]
  },
  {
   "cell_type": "markdown",
   "metadata": {},
   "source": [
    "**Question 13: Write a Python program to demonstrate logical operators: and, or, not.**"
   ]
  },
  {
   "cell_type": "code",
   "execution_count": 28,
   "metadata": {},
   "outputs": [
    {
     "name": "stdout",
     "output_type": "stream",
     "text": [
      "True and False: False\n",
      "True or False: True\n",
      "not Ture: False\n"
     ]
    }
   ],
   "source": [
    "# Solution\n",
    "a = True\n",
    "b = False\n",
    "\n",
    "print(f\"True and False: {a and b}\")\n",
    "print(f\"True or False: {a or b}\")\n",
    "print(f\"not Ture: {not a}\")"
   ]
  },
  {
   "cell_type": "markdown",
   "metadata": {},
   "source": [
    "**Question 14: Write a Python program to calculate the square of a number**"
   ]
  },
  {
   "cell_type": "code",
   "execution_count": 27,
   "metadata": {},
   "outputs": [
    {
     "name": "stdout",
     "output_type": "stream",
     "text": [
      "The square of 7.0 is 49.0\n"
     ]
    }
   ],
   "source": [
    "# Solution\n",
    "num = float(input(\"Enter a number: \"))\n",
    "square = num ** 2\n",
    "print(f\"The square of {num} is {square}\")"
   ]
  },
  {
   "cell_type": "markdown",
   "metadata": {},
   "source": [
    "**Question 15: Write a python program to check if a number is even or odd.**   "
   ]
  },
  {
   "cell_type": "code",
   "execution_count": 29,
   "metadata": {},
   "outputs": [
    {
     "name": "stdout",
     "output_type": "stream",
     "text": [
      "7 is odd.\n"
     ]
    }
   ],
   "source": [
    "# Solution\n",
    "num = int(input(\"Enter a number: \"))\n",
    "if num % 2 == 0:\n",
    "    print(f\"{num} is even.\")\n",
    "else:\n",
    "    print(f\"{num} is odd.\")"
   ]
  },
  {
   "cell_type": "markdown",
   "metadata": {},
   "source": [
    "**Question 16: Write a python program to  find the sum of the first n natural numbers.**"
   ]
  },
  {
   "cell_type": "code",
   "execution_count": 33,
   "metadata": {},
   "outputs": [
    {
     "name": "stdout",
     "output_type": "stream",
     "text": [
      "The sum of the first 5 natural number is 15\n"
     ]
    }
   ],
   "source": [
    "# Solution\n",
    "n = int(input(\"Enter a number: \"))\n",
    "sum_n = (n * (n+1))//2\n",
    "print(f\"The sum of the first {n} natural number is {sum_n}\")"
   ]
  },
  {
   "cell_type": "markdown",
   "metadata": {},
   "source": [
    "**Question 17: Write a python program to check if a year is a leap year.**"
   ]
  },
  {
   "cell_type": "code",
   "execution_count": 49,
   "metadata": {},
   "outputs": [
    {
     "name": "stdout",
     "output_type": "stream",
     "text": [
      "2025 is not leap year.\n"
     ]
    }
   ],
   "source": [
    "# Solution\n",
    "year = int(input(\"Enter a year: \"))\n",
    "if (year%4==0 and year%100!=0) or (year%400==0):\n",
    "    print(f\"{year} is a leap year.\")\n",
    "else:\n",
    "    print(f\"{year} is not leap year.\")"
   ]
  },
  {
   "cell_type": "markdown",
   "metadata": {},
   "source": [
    "**Question 18: Write a python program to reverse a string**"
   ]
  },
  {
   "cell_type": "code",
   "execution_count": 51,
   "metadata": {},
   "outputs": [
    {
     "name": "stdout",
     "output_type": "stream",
     "text": [
      "The reversed string is: KC rawjA\n"
     ]
    }
   ],
   "source": [
    "# Solution\n",
    "string = input(\"Enter a string: \")\n",
    "reversed_string = string[::-1]\n",
    "print(f\"The reversed string is: {reversed_string}\")"
   ]
  },
  {
   "cell_type": "markdown",
   "metadata": {},
   "source": [
    "**Question 19: Write a python program to check if a string is a palindrome.**"
   ]
  },
  {
   "cell_type": "code",
   "execution_count": 53,
   "metadata": {},
   "outputs": [
    {
     "name": "stdout",
     "output_type": "stream",
     "text": [
      "AJA is palindrome, here is reversed AJA\n"
     ]
    }
   ],
   "source": [
    "# Solution\n",
    "string = input(\"Enter a string: \")\n",
    "if string == string[::-1]:\n",
    "    print(f\"{string} is palindrome, here is reversed {string[::-1]}\")\n",
    "else:\n",
    "    print(f\"{string} isn't a palindrome and the reversed string is {string[::-1]}\")"
   ]
  },
  {
   "cell_type": "markdown",
   "metadata": {},
   "source": [
    "**Question 20: Write a python program to sort a list of numbers in ascending order.**"
   ]
  },
  {
   "cell_type": "code",
   "execution_count": 55,
   "metadata": {},
   "outputs": [
    {
     "name": "stdout",
     "output_type": "stream",
     "text": [
      "Sorted list: [0, 2, 10, 11, 25, 35]\n"
     ]
    }
   ],
   "source": [
    "# Solution\n",
    "numbers = [int(x) for x in input('Enter numbers seperated by space: ').split()]\n",
    "numbers.sort()\n",
    "print(f\"Sorted list: {numbers}\")"
   ]
  }
 ],
 "metadata": {
  "kernelspec": {
   "display_name": "base",
   "language": "python",
   "name": "python3"
  },
  "language_info": {
   "codemirror_mode": {
    "name": "ipython",
    "version": 3
   },
   "file_extension": ".py",
   "mimetype": "text/x-python",
   "name": "python",
   "nbconvert_exporter": "python",
   "pygments_lexer": "ipython3",
   "version": "3.12.9"
  }
 },
 "nbformat": 4,
 "nbformat_minor": 2
}
