{
 "cells": [
  {
   "cell_type": "markdown",
   "id": "a1d08f51",
   "metadata": {},
   "source": [
    "#### Module: Exception Handling Assignments\n",
    "\n",
    "**Lesson: Exception Handling with try, except and finally**"
   ]
  },
  {
   "cell_type": "markdown",
   "id": "05208a8f",
   "metadata": {},
   "source": [
    "**Assignment 1: Handling Division by Zero**\n",
    "\n",
    "Write a function that takes two integers as input and returns their division. Use try, except, and finally blocks to handle division by zero and print an appropriate message."
   ]
  },
  {
   "cell_type": "code",
   "execution_count": 39,
   "id": "13cde9dc",
   "metadata": {},
   "outputs": [
    {
     "name": "stdout",
     "output_type": "stream",
     "text": [
      "Execution completed!\n",
      "Result=2.5\n",
      "Error: division by zero\n",
      "Execution completed!\n",
      "Result=None\n"
     ]
    }
   ],
   "source": [
    "def divide(a, b):\n",
    "    result = None\n",
    "    try:\n",
    "        result = a / b\n",
    "    except ZeroDivisionError as ex1:\n",
    "        print(f\"Error: {ex1}\")\n",
    "    except Exception as ex2:\n",
    "        print(f\"Error: {ex2}\")\n",
    "    finally:\n",
    "        print(\"Execution completed!\")\n",
    "    return f\"Result={result}\"\n",
    "\n",
    "# Test\n",
    "print(divide(5,2))\n",
    "print(divide(3,0))"
   ]
  },
  {
   "cell_type": "markdown",
   "id": "d7af017d",
   "metadata": {},
   "source": [
    "**Assignment2: File Reading with Exception Handling**\n",
    "\n",
    "Write a function that reads the contents of a file named `data.txt`. Use try, except and finally blocks to handle file not found and ensure the file is properly closed."
   ]
  },
  {
   "cell_type": "code",
   "execution_count": 46,
   "id": "7e7dfb0e",
   "metadata": {},
   "outputs": [
    {
     "name": "stdout",
     "output_type": "stream",
     "text": [
      "Hello World! \n",
      "\n",
      "Error: [Errno 2] No such file or directory: 'example.txt'\n",
      "None\n"
     ]
    }
   ],
   "source": [
    "def read_file(filename):\n",
    "    try:\n",
    "        file = open(filename, 'r')\n",
    "        content = file.read()\n",
    "        return content\n",
    "    except FileNotFoundError as e:\n",
    "        print(f\"Error: {e}\")\n",
    "    finally:\n",
    "        try:\n",
    "            file.close()\n",
    "        except NameError:\n",
    "            pass\n",
    "\n",
    "# Test\n",
    "print(read_file('data.txt'),\"\\n\")\n",
    "print(f\"{read_file('example.txt')}\")"
   ]
  },
  {
   "cell_type": "markdown",
   "id": "5589c747",
   "metadata": {},
   "source": [
    "**Assignment 3: Handling Multiple Exceptions**\n",
    "\n",
    "Write a function that takes a list of integers and returns their sum. Use try, except, and finally blocks to handle TypeError if a non-integer value is encountered and print an appropriate message."
   ]
  },
  {
   "cell_type": "code",
   "execution_count": 52,
   "id": "6a82f3cb",
   "metadata": {},
   "outputs": [
    {
     "name": "stdout",
     "output_type": "stream",
     "text": [
      "Error: unsupported operand type(s) for +=: 'int' and 'str'\n",
      "Excecution complete.\n",
      "None\n",
      "Excecution complete.\n",
      "10\n"
     ]
    }
   ],
   "source": [
    "def sum_list(lst):\n",
    "    total = 0\n",
    "    try:\n",
    "        for item in lst:\n",
    "            total += item\n",
    "    except TypeError as e:\n",
    "        print(f\"Error: {e}\")\n",
    "        total = None\n",
    "    finally:\n",
    "        print(\"Excecution complete.\")\n",
    "    return total\n",
    "\n",
    "# Test\n",
    "print(sum_list([1,2,3,'a'])) # None\n",
    "print(sum_list([1,2,3,4])) # 10"
   ]
  },
  {
   "cell_type": "code",
   "execution_count": 61,
   "id": "fc06ed0c",
   "metadata": {},
   "outputs": [
    {
     "name": "stdout",
     "output_type": "stream",
     "text": [
      "Value error occured, Error={ex2}\n",
      "Entered list is : a,b,1,2\n",
      "Sum of list process has been completed!\n"
     ]
    }
   ],
   "source": [
    "def list_sum():\n",
    "    try:\n",
    "        raw_input = input('Enter a list of integer value separated by commas: ')\n",
    "        x = list(map(int,raw_input.split(',')))\n",
    "        #x = list(map(int, input('Enter a list of integer values separated by commas: ').split(',')))\n",
    "        result = sum(x)\n",
    "    except TypeError as ex1:\n",
    "        print('Type error occured, Error={ex1}')\n",
    "    except ValueError as ex2:\n",
    "        print('Value error occured, Error={ex2}')\n",
    "    except Exception as ex3:\n",
    "        print(ex3)\n",
    "    else:\n",
    "        print(f'Sum of list is: {result}')\n",
    "    finally:\n",
    "        print(f'Entered list is : {raw_input}')\n",
    "        print('Sum of list process has been completed!')\n",
    "\n",
    "# Test\n",
    "list_sum()"
   ]
  },
  {
   "cell_type": "markdown",
   "id": "6a06c7a3",
   "metadata": {},
   "source": [
    "**Assignment 4: Exception Handling in User Input**\n",
    "\n",
    "Write a function that prompts the user to enter an integer. Use try,except and finally blocks to handle ValueError if the user enters a non-integer value and print an appropriate message."
   ]
  },
  {
   "cell_type": "code",
   "execution_count": 65,
   "id": "8743f018",
   "metadata": {},
   "outputs": [
    {
     "name": "stdout",
     "output_type": "stream",
     "text": [
      "Execution complete.\n",
      "10\n",
      "Error: invalid literal for int() with base 10: 'bb'\n",
      "Execution complete.\n",
      "None\n"
     ]
    }
   ],
   "source": [
    "def get_integer():\n",
    "    try:\n",
    "        value = int(input('Enter an integer: '))\n",
    "    except ValueError as e:\n",
    "        print(f\"Error: {e}\")\n",
    "        value = None\n",
    "    finally:\n",
    "        print(\"Execution complete.\")\n",
    "    return value\n",
    "\n",
    "# Test\n",
    "print(get_integer())\n",
    "print(get_integer())"
   ]
  },
  {
   "cell_type": "markdown",
   "id": "b0b550e3",
   "metadata": {},
   "source": [
    "**Assignment 5: Exception Handling in Dictionary Access**\n",
    "\n",
    "Write a function that takes a dictionary and a key as input and returns the value associated with the key. Use try,except and finally blocks to handle KeyError if the key is not found in the dictionary and print and appropriate message."
   ]
  },
  {
   "cell_type": "code",
   "execution_count": 76,
   "id": "d91d806b",
   "metadata": {},
   "outputs": [
    {
     "name": "stdout",
     "output_type": "stream",
     "text": [
      "Exception completed.\n",
      "2\n",
      "\n",
      "Error: 'x'\n",
      "Exception completed.\n",
      "None\n",
      "\n",
      "Error: 'm'\n",
      "Exception completed.\n",
      "None\n",
      "\n",
      "Exception completed.\n",
      "28\n",
      "\n"
     ]
    }
   ],
   "source": [
    "def get_dict_value(d, key):\n",
    "    try:\n",
    "        value = d[key]\n",
    "    except KeyError as e:\n",
    "        print(f\"Error: {e}\")\n",
    "        value = None\n",
    "    finally:\n",
    "        print('Exception completed.')\n",
    "    return f\"{value}\\n\"\n",
    "\n",
    "# Test\n",
    "d = {'a':1, 'b':2, 'c':3}\n",
    "print(get_dict_value(d,'b')) # 2\n",
    "print(get_dict_value(d,'x')) # None\n",
    "print(get_dict_value({'x':0, 'y':1, 'z':2},'m')) # None\n",
    "print(get_dict_value({'aj':28, 'af':30, 'ak':33}, 'aj')) # 28"
   ]
  },
  {
   "cell_type": "markdown",
   "id": "11b98174",
   "metadata": {},
   "source": [
    "**Assignement 6: Nested Exception Handling**\n",
    "\n",
    "Write a function that performs nested exception handling. It should first attempt to convert a string to an integer, and then attempt to divide by that integer. Use nested try, except, and finally blocks to handle ValueError and ZeroDivisionError and print approriate messages."
   ]
  },
  {
   "cell_type": "code",
   "execution_count": 79,
   "id": "1e08cf86",
   "metadata": {},
   "outputs": [
    {
     "name": "stdout",
     "output_type": "stream",
     "text": [
      "Conversion attempt completed.\n",
      "Division error: division by zero\n",
      "Division attempt complete.\n",
      "Overall execution complete\n",
      "None\n",
      "\n",
      "Conversion error: invalid literal for int() with base 10: 'a'\n",
      "Conversion attempt completed.\n",
      "Overall execution complete\n",
      "None\n",
      "Conversion attempt completed.\n",
      "Division attempt complete.\n",
      "Overall execution complete\n",
      "5.0\n",
      "\n"
     ]
    }
   ],
   "source": [
    "def nested_exception_handling(s):\n",
    "    try:\n",
    "        try:\n",
    "            num = int(s)\n",
    "        except ValueError as e:\n",
    "            print(f\"Conversion error: {e}\")\n",
    "            num = None\n",
    "        finally:\n",
    "            print(\"Conversion attempt completed.\")\n",
    "        if num is not None:\n",
    "            try:\n",
    "                result = 10/num\n",
    "            except ZeroDivisionError as e:\n",
    "                print(f\"Division error: {e}\")\n",
    "                result = None\n",
    "            finally:\n",
    "                print(\"Division attempt complete.\")\n",
    "            return f\"{result}\\n\"\n",
    "    finally:\n",
    "        print(\"Overall execution complete\")\n",
    "\n",
    "# Test\n",
    "print(nested_exception_handling('0')) # None\n",
    "print(nested_exception_handling('a')) # None\n",
    "print(nested_exception_handling('2')) # 5.0\n"
   ]
  },
  {
   "cell_type": "markdown",
   "id": "2fff8530",
   "metadata": {},
   "source": [
    "**Assignment 7: Exception Handling in List Operations**\n",
    "\n",
    "Write a function that takes a list and an index as input and returns the element at the given index. Use try, except and finally blocks to handle index is out of range and print an appropriate message."
   ]
  },
  {
   "cell_type": "code",
   "execution_count": 86,
   "id": "8d4bafeb",
   "metadata": {},
   "outputs": [
    {
     "name": "stdout",
     "output_type": "stream",
     "text": [
      "Execution completed.\n",
      "3\n",
      "Error: list index out of range\n",
      "Execution completed.\n",
      "None\n",
      "Error: list indices must be integers or slices, not str\n",
      "Execution completed.\n",
      "None\n"
     ]
    }
   ],
   "source": [
    "def get_list_element(lst, index):\n",
    "    try:\n",
    "        element = lst[index]\n",
    "    except IndexError as e:\n",
    "        print(f\"Error: {e}\")\n",
    "        element = None\n",
    "    except Exception as e1:\n",
    "        print(f\"Error: {e1}\")\n",
    "        element = None\n",
    "    finally:\n",
    "        print(\"Execution completed.\")\n",
    "    return element\n",
    "\n",
    "# Test\n",
    "lst = [1,2,3,4,5]\n",
    "print(get_list_element(lst, 2)) # 3\n",
    "print(get_list_element(lst, 10)) # None\n",
    "print(get_list_element(lst, 'a'))"
   ]
  },
  {
   "cell_type": "markdown",
   "id": "011fa6a9",
   "metadata": {},
   "source": [
    "**Assignment 8: Exception Handling in Network Operations**\n",
    "\n",
    "Write a function that attempts to open a URL and read its contents. Use try, except and finally blocks to handle network-related errors and print an approriate message."
   ]
  },
  {
   "cell_type": "code",
   "execution_count": 94,
   "id": "f49ee623",
   "metadata": {},
   "outputs": [
    {
     "name": "stdout",
     "output_type": "stream",
     "text": [
      "Execution complete.\n",
      "{\n",
      "  \"userId\": 1,\n",
      "  \"id\": 1,\n",
      "  \"title\": \"sunt aut facere repellat provident occaecati excepturi optio reprehenderit\",\n",
      "  \"body\": \"quia et suscipit\\nsuscipit recusandae consequuntur expedita et cum\\nreprehenderit molestiae ut ut quas totam\\nnostrum rerum est autem sunt rem eveniet architecto\"\n",
      "}\n",
      "Network error: HTTPSConnectionPool(host='nonexistent.url', port=443): Max retries exceeded with url: / (Caused by NameResolutionError(\"<urllib3.connection.HTTPSConnection object at 0x10c8687a0>: Failed to resolve 'nonexistent.url' ([Errno 8] nodename nor servname provided, or not known)\"))\n",
      "Execution complete.\n",
      "None\n"
     ]
    }
   ],
   "source": [
    "import requests\n",
    "\n",
    "def read_url(url):\n",
    "    try:\n",
    "        response = requests.get(url)\n",
    "        response.raise_for_status()\n",
    "        return response.text\n",
    "    except requests.RequestException as e:\n",
    "        print(f\"Network error: {e}\")\n",
    "        return None\n",
    "    finally:\n",
    "        print(\"Execution complete.\")\n",
    "\n",
    "# Test\n",
    "print(read_url('https://jsonplaceholder.typicode.com/posts/1'))\n",
    "print(read_url('https://nonexistent.url'))"
   ]
  },
  {
   "cell_type": "markdown",
   "id": "0f0c3395",
   "metadata": {},
   "source": [
    "**Assignment 9: Exception Handling in JSON Parsing**\n",
    "\n",
    "Write a function that attempts to parse a JSON string. Use try,except, and finally blocks to handle JSONDecodeError if the string is not a valid JSON and print an appropriate message."
   ]
  },
  {
   "cell_type": "code",
   "execution_count": 105,
   "id": "0033c44c",
   "metadata": {},
   "outputs": [
    {
     "name": "stdout",
     "output_type": "stream",
     "text": [
      "Execution complete.\n",
      "{'name': 'John', 'age': 30}\n",
      "JSON error: Expecting value: line 1 column 1 (char 0)\n",
      "Execution complete.\n",
      "None\n"
     ]
    }
   ],
   "source": [
    "import json\n",
    "\n",
    "def parse_json(json_string):\n",
    "    try:\n",
    "        data = json.loads(json_string)\n",
    "        return data\n",
    "    except json.JSONDecodeError as e:\n",
    "        print(f\"JSON error: {e}\")\n",
    "    finally:\n",
    "        print(\"Execution complete.\")\n",
    "\n",
    "# Test\n",
    "print(parse_json('{\"name\":\"John\", \"age\":30}')) # {'name':'John', 'age':30}\n",
    "print(parse_json('Invalid JSON')) # None"
   ]
  },
  {
   "cell_type": "markdown",
   "id": "63c145ff",
   "metadata": {},
   "source": [
    "**Assignment 10: Custom Exception Handling**\n",
    "\n",
    "Define a custom exception named `NegativeNumberError`. Write a function that raises this exception if a negative number is encountered in a list. Use try, except and finally blocks to handle the custom excetption and print an appropriate message."
   ]
  },
  {
   "cell_type": "code",
   "execution_count": 112,
   "id": "80a858e7",
   "metadata": {},
   "outputs": [
    {
     "name": "stdout",
     "output_type": "stream",
     "text": [
      "Error: Neggative number found: -2\n",
      "Esecution complete.\n",
      "Esecution complete.\n"
     ]
    }
   ],
   "source": [
    "class NegativeNumberError(Exception):\n",
    "    pass\n",
    "\n",
    "def check_for_negatives(lst):\n",
    "    try:\n",
    "        for num in lst:\n",
    "            if num < 0:\n",
    "                raise NegativeNumberError(f\"Neggative number found: {num}\")\n",
    "    except NegativeNumberError as e:\n",
    "        print(f\"Error: {e}\")\n",
    "    finally:\n",
    "        print(\"Esecution complete.\")\n",
    "\n",
    "# Test \n",
    "check_for_negatives([1,-2,3,4]) # Error: Negative number found: -2\n",
    "check_for_negatives([1,2,3,4]) # Execution complete."
   ]
  },
  {
   "cell_type": "markdown",
   "id": "c641061b",
   "metadata": {},
   "source": [
    "**Assignment 11: Exception Handling in Function Calls**\n",
    "\n",
    "Write a function that calls another function which may raise an exception. Use try, except and finally blocks to handle the exception and print an appropriate message."
   ]
  },
  {
   "cell_type": "code",
   "execution_count": 135,
   "id": "967b2d7f",
   "metadata": {},
   "outputs": [
    {
     "name": "stdout",
     "output_type": "stream",
     "text": [
      "Error: An error occurred in risky_function.\n",
      "Execution complete.\n"
     ]
    }
   ],
   "source": [
    "def risky_function():\n",
    "    raise ValueError(\"An error occurred in risky_function.\")\n",
    "\n",
    "def safe_function():\n",
    "    try:\n",
    "        risky_function()\n",
    "    except ValueError as e:\n",
    "        print(f\"Error: {e}\")\n",
    "    finally:\n",
    "        print(\"Execution complete.\")\n",
    "\n",
    "# Test\n",
    "safe_function() # Error: An error occured in risky_function"
   ]
  },
  {
   "cell_type": "markdown",
   "id": "37b87057",
   "metadata": {},
   "source": [
    "**Assignment 12: Exception Handling in Class Methods**\n",
    "\n",
    "Define a class with a method that performs a division operation. Use try,except and finally blocks within the method to handle division by zero and print an appropriate message."
   ]
  },
  {
   "cell_type": "code",
   "execution_count": 148,
   "id": "4dda47e3",
   "metadata": {},
   "outputs": [
    {
     "name": "stdout",
     "output_type": "stream",
     "text": [
      "Execution complete.\n",
      "5.0\n",
      "Error: division by zero\n",
      "Execution complete.\n",
      "None\n"
     ]
    }
   ],
   "source": [
    "class Calculator:\n",
    "    def divide(self,a,b):\n",
    "        try:\n",
    "            result = a/b\n",
    "        except ZeroDivisionError as e:\n",
    "            print(f\"Error: {e}\")\n",
    "            result = None\n",
    "        finally:\n",
    "            print(\"Execution complete.\")\n",
    "        return result\n",
    "\n",
    "# Test\n",
    "calc = Calculator()\n",
    "print(calc.divide(10,2)) # 5.0\n",
    "print(calc.divide(10,0)) # None"
   ]
  },
  {
   "cell_type": "code",
   "execution_count": null,
   "id": "f405680f",
   "metadata": {},
   "outputs": [],
   "source": []
  }
 ],
 "metadata": {
  "kernelspec": {
   "display_name": "base",
   "language": "python",
   "name": "python3"
  },
  "language_info": {
   "codemirror_mode": {
    "name": "ipython",
    "version": 3
   },
   "file_extension": ".py",
   "mimetype": "text/x-python",
   "name": "python",
   "nbconvert_exporter": "python",
   "pygments_lexer": "ipython3",
   "version": "3.12.9"
  }
 },
 "nbformat": 4,
 "nbformat_minor": 5
}
