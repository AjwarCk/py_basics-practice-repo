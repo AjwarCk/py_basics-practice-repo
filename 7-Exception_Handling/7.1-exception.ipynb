{
 "cells": [
  {
   "cell_type": "markdown",
   "id": "2c5f9a2d",
   "metadata": {},
   "source": [
    "#### Understanding Exceptions"
   ]
  },
  {
   "cell_type": "markdown",
   "id": "399dbc9c",
   "metadata": {},
   "source": [
    "Exception handling in Python allows you to handle errors gracefully and take corrective actions without stopping the execution of the program. This lesson will cover the basic of exceptions, including how to use try, except, else and finally blocks."
   ]
  },
  {
   "cell_type": "markdown",
   "id": "3afe5b07",
   "metadata": {},
   "source": [
    "**What Are Exceptions?**\n",
    "\n",
    "Exceptions are events that disrupt the normal flow of a program. They occur when an error is encountered during program execution. Common exceptions include:\n",
    "\n",
    "- ZeroDivisionError: Dividing by zero.\n",
    "- FileNotFoundError: File not found.\n",
    "- ValueError: Invalid value.\n",
    "- TypeError: Invalid type."
   ]
  },
  {
   "cell_type": "code",
   "execution_count": 1,
   "id": "45d76ab9",
   "metadata": {},
   "outputs": [
    {
     "name": "stdout",
     "output_type": "stream",
     "text": [
      "The variable has not been assigned\n"
     ]
    }
   ],
   "source": [
    "## Execution try, except block\n",
    "\n",
    "try:\n",
    "    a=b\n",
    "except:\n",
    "    print('The variable has not been assigned')"
   ]
  },
  {
   "cell_type": "code",
   "execution_count": 3,
   "id": "5e1dfca8",
   "metadata": {},
   "outputs": [
    {
     "ename": "NameError",
     "evalue": "name 'b' is not defined",
     "output_type": "error",
     "traceback": [
      "\u001b[31m---------------------------------------------------------------------------\u001b[39m",
      "\u001b[31mNameError\u001b[39m                                 Traceback (most recent call last)",
      "\u001b[36mCell\u001b[39m\u001b[36m \u001b[39m\u001b[32mIn[3]\u001b[39m\u001b[32m, line 1\u001b[39m\n\u001b[32m----> \u001b[39m\u001b[32m1\u001b[39m a=\u001b[43mb\u001b[49m\n",
      "\u001b[31mNameError\u001b[39m: name 'b' is not defined"
     ]
    }
   ],
   "source": [
    "a=b"
   ]
  },
  {
   "cell_type": "code",
   "execution_count": 4,
   "id": "57ed8e89",
   "metadata": {},
   "outputs": [
    {
     "name": "stdout",
     "output_type": "stream",
     "text": [
      "division by zero\n",
      "Please enter the denominator greater than 0\n"
     ]
    }
   ],
   "source": [
    "try:\n",
    "    result=1/0\n",
    "except ZeroDivisionError as ex:\n",
    "    print(ex)\n",
    "    print('Please enter the denominator greater than 0')"
   ]
  },
  {
   "cell_type": "code",
   "execution_count": 5,
   "id": "aa760a70",
   "metadata": {},
   "outputs": [
    {
     "name": "stdout",
     "output_type": "stream",
     "text": [
      "name 'b' is not defined\n",
      "Main exception got caught here\n"
     ]
    }
   ],
   "source": [
    "try:\n",
    "    result = 1/2\n",
    "    a=b\n",
    "except ZeroDivisionError as ex:\n",
    "    print(ex)\n",
    "    print('Please enter the denominator greater than 0')\n",
    "except Exception as ex1:\n",
    "    print(ex1)\n",
    "    print('Main exception got caught here')"
   ]
  },
  {
   "cell_type": "code",
   "execution_count": 9,
   "id": "1e55f85d",
   "metadata": {},
   "outputs": [
    {
     "name": "stdout",
     "output_type": "stream",
     "text": [
      "division by zero: Enter denominator greater than 0\n"
     ]
    }
   ],
   "source": [
    "try:\n",
    "    num = int(input('Enter a number'))\n",
    "    result = 10/num\n",
    "except ValueError:\n",
    "    print('This is not a valid number')\n",
    "except ZeroDivisionError as ex0:\n",
    "    print(f'{ex0}: Enter denominator greater than 0')\n",
    "except Exception as ex1:\n",
    "    print(ex1)"
   ]
  },
  {
   "cell_type": "code",
   "execution_count": 15,
   "id": "14069427",
   "metadata": {},
   "outputs": [
    {
     "name": "stdout",
     "output_type": "stream",
     "text": [
      "The result is 1.1111111111111112\n"
     ]
    }
   ],
   "source": [
    "## try, except, else block\n",
    "try:\n",
    "    num = int(input('Enter a number: '))\n",
    "    result = 10/num\n",
    "except ValueError as v:\n",
    "    print('This is not a valid number!')\n",
    "except ZeroDivisionError as z:\n",
    "    print('You can not divide by zero!')\n",
    "except Exception as e:\n",
    "    print(e)\n",
    "else:\n",
    "    print(f'The result is {result}')"
   ]
  },
  {
   "cell_type": "code",
   "execution_count": 17,
   "id": "b95346e4",
   "metadata": {},
   "outputs": [
    {
     "name": "stdout",
     "output_type": "stream",
     "text": [
      "You can not divide by zero!\n",
      "Execution complete.\n"
     ]
    }
   ],
   "source": [
    "## try, except, else and finally\n",
    "try:\n",
    "    num = int(input('Enter a number: '))\n",
    "    result = 10/num\n",
    "except ValueError as v:\n",
    "    print('That is not a valid number!')\n",
    "except ZeroDivisionError as z:\n",
    "    print('You can not divide by zero!')\n",
    "except Exception as e:\n",
    "    print(e)\n",
    "else:\n",
    "    print(f'The result is {result}')\n",
    "finally:\n",
    "    print('Execution complete.')"
   ]
  },
  {
   "cell_type": "code",
   "execution_count": 31,
   "id": "b9ae3340",
   "metadata": {},
   "outputs": [
    {
     "name": "stdout",
     "output_type": "stream",
     "text": [
      "Hello World!\n"
     ]
    }
   ],
   "source": [
    "## Creaiting & reading a file `example1.txt`\n",
    "with open('example1.txt','w+') as file:\n",
    "    file.write('Hello World!')\n",
    "    file.seek(0)\n",
    "    print(file.read())"
   ]
  },
  {
   "cell_type": "code",
   "execution_count": 33,
   "id": "12d46e27",
   "metadata": {},
   "outputs": [
    {
     "name": "stdout",
     "output_type": "stream",
     "text": [
      "name 'b' is not defined\n",
      "file closed!\n"
     ]
    }
   ],
   "source": [
    "## File handling and Exception handling\n",
    "try:\n",
    "    file = open('example1.txt','r')\n",
    "    content = file.read()\n",
    "    a = b\n",
    "    print(content)\n",
    "except FileNotFoundError as ex1:\n",
    "    print(f\"File dosen't exist, Error={ex1}\")\n",
    "except Exception as ex2:\n",
    "    print(ex2)\n",
    "finally:\n",
    "    if 'file' in locals() and not file.closed:\n",
    "        file.close()\n",
    "        print('file closed!')"
   ]
  },
  {
   "cell_type": "code",
   "execution_count": 34,
   "id": "5793f2b1",
   "metadata": {},
   "outputs": [
    {
     "name": "stdout",
     "output_type": "stream",
     "text": [
      "True\n"
     ]
    }
   ],
   "source": [
    "if 'file' in locals():\n",
    "    print(True)"
   ]
  },
  {
   "cell_type": "code",
   "execution_count": 39,
   "id": "f1598e04",
   "metadata": {},
   "outputs": [
    {
     "data": {
      "text/plain": [
       "False"
      ]
     },
     "execution_count": 39,
     "metadata": {},
     "output_type": "execute_result"
    }
   ],
   "source": [
    "not file.closed"
   ]
  }
 ],
 "metadata": {
  "kernelspec": {
   "display_name": "base",
   "language": "python",
   "name": "python3"
  },
  "language_info": {
   "codemirror_mode": {
    "name": "ipython",
    "version": 3
   },
   "file_extension": ".py",
   "mimetype": "text/x-python",
   "name": "python",
   "nbconvert_exporter": "python",
   "pygments_lexer": "ipython3",
   "version": "3.12.9"
  }
 },
 "nbformat": 4,
 "nbformat_minor": 5
}
