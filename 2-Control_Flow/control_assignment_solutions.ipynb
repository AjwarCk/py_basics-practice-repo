{
 "cells": [
  {
   "cell_type": "markdown",
   "id": "467dfa13",
   "metadata": {},
   "source": [
    "#### Module 2: Control Flow Assignments\n",
    "\n",
    "##### Lesson 2.1: Conditional Statements"
   ]
  },
  {
   "cell_type": "markdown",
   "id": "7161885e",
   "metadata": {},
   "source": [
    "**Assignment 1: Simple if statement**\n",
    "\n",
    "**Write a program that asks the user to input a number and prints whether the number is positive.**"
   ]
  },
  {
   "cell_type": "code",
   "execution_count": 6,
   "id": "2b1c8b43",
   "metadata": {},
   "outputs": [
    {
     "name": "stdout",
     "output_type": "stream",
     "text": [
      "the number is positive\n"
     ]
    }
   ],
   "source": [
    "# Solutions\n",
    "\n",
    "n = int(input(\"enter a number: \"))\n",
    "\n",
    "if n>0:\n",
    "    print('the number is positive')"
   ]
  },
  {
   "cell_type": "markdown",
   "id": "f0db7396",
   "metadata": {},
   "source": [
    "**Assignment 2: if-else statement**\n",
    "\n",
    "**Write a program that asks the user to input a number and prints whether the number is positive or negative**"
   ]
  },
  {
   "cell_type": "code",
   "execution_count": 12,
   "id": "7bf6928a",
   "metadata": {},
   "outputs": [
    {
     "name": "stdout",
     "output_type": "stream",
     "text": [
      "entered number -6 is negative\n"
     ]
    }
   ],
   "source": [
    "n = int(input(\"enter a number: \"))\n",
    "\n",
    "if n>0:\n",
    "    print(f\"entered number {n} is positive\")\n",
    "else:\n",
    "    print(f\"entered number {n} is negative\")"
   ]
  },
  {
   "cell_type": "markdown",
   "id": "a833b29b",
   "metadata": {},
   "source": [
    "**Assignment 3: if-elif-else statement**\n",
    "\n",
    "**Write a program that asks the user to input a number and prints whether the numer is positive, negative or zero**"
   ]
  },
  {
   "cell_type": "code",
   "execution_count": 15,
   "id": "933d45dc",
   "metadata": {},
   "outputs": [
    {
     "name": "stdout",
     "output_type": "stream",
     "text": [
      "entered number -100 is negative\n"
     ]
    }
   ],
   "source": [
    "# Solution\n",
    "\n",
    "n = int(input(\"enter a number: \"))\n",
    "\n",
    "if n>0:\n",
    "    print(f\"entered number {n} is positive\")\n",
    "elif n<0:\n",
    "    print(f\"entered number {n} is negative\")\n",
    "else:\n",
    "    print(f\"entered number {n} is zero\")"
   ]
  },
  {
   "cell_type": "markdown",
   "id": "86fe4af2",
   "metadata": {},
   "source": [
    "**Assignment 4: Nested if statement**\n",
    "\n",
    "**Write a program that asks the user to input a number and prints wheather the number is positive and even, positive and odd or negative**"
   ]
  },
  {
   "cell_type": "code",
   "execution_count": 18,
   "id": "7e040af4",
   "metadata": {},
   "outputs": [
    {
     "name": "stdout",
     "output_type": "stream",
     "text": [
      "Entered number is zero\n"
     ]
    }
   ],
   "source": [
    "# Solution\n",
    "\n",
    "n = int(input(\"Enter a number\"))\n",
    "\n",
    "if n>0:\n",
    "    if n%2==0:\n",
    "        print(f\"Entered number {n} is postive and even\")\n",
    "    else:\n",
    "        print(f\"Entered number {n} is positive and odd\")\n",
    "elif n<0:\n",
    "    if n%2==0:\n",
    "        print(f\"Entered number {n} is negative and even\")\n",
    "    else:\n",
    "        print(f\"Entered number {n} is negative and odd\")\n",
    "else:\n",
    "    print(f\"Entered number is zero\")"
   ]
  },
  {
   "cell_type": "markdown",
   "id": "70e5d877",
   "metadata": {},
   "source": [
    "#### Lesson 2.2: Loops"
   ]
  },
  {
   "cell_type": "markdown",
   "id": "d5689134",
   "metadata": {},
   "source": [
    "**Assignment 5: for Loop**\n",
    "\n",
    "**Write a program that prints all the numbers from 1 to 10 using for loop.**"
   ]
  },
  {
   "cell_type": "code",
   "execution_count": 19,
   "id": "0247bb5b",
   "metadata": {},
   "outputs": [
    {
     "name": "stdout",
     "output_type": "stream",
     "text": [
      "1\n",
      "2\n",
      "3\n",
      "4\n",
      "5\n",
      "6\n",
      "7\n",
      "8\n",
      "9\n",
      "10\n"
     ]
    }
   ],
   "source": [
    "for i in range(1,11):\n",
    "    print(i)"
   ]
  },
  {
   "cell_type": "markdown",
   "id": "b86a4886",
   "metadata": {},
   "source": [
    "**Assignment 6: while Loop**\n",
    "\n",
    "**Write a program that prints all the numbers from 1 to 10 using while loop.**"
   ]
  },
  {
   "cell_type": "code",
   "execution_count": 20,
   "id": "edd72a27",
   "metadata": {},
   "outputs": [
    {
     "name": "stdout",
     "output_type": "stream",
     "text": [
      "1\n",
      "2\n",
      "3\n",
      "4\n",
      "5\n",
      "6\n",
      "7\n",
      "8\n",
      "9\n",
      "10\n"
     ]
    }
   ],
   "source": [
    "n=1\n",
    "\n",
    "while n<11:\n",
    "    print(n)\n",
    "    n=n+1"
   ]
  },
  {
   "cell_type": "markdown",
   "id": "943ef71f",
   "metadata": {},
   "source": [
    "**Assignment 7: Nested Loops**\n",
    "\n",
    "**Write a program that prints a 5x5 grid of asterisk(*) using nested loops**"
   ]
  },
  {
   "cell_type": "code",
   "execution_count": 26,
   "id": "f27a6c8f",
   "metadata": {},
   "outputs": [
    {
     "name": "stdout",
     "output_type": "stream",
     "text": [
      "* * * * * \n",
      "* * * * * \n",
      "* * * * * \n",
      "* * * * * \n",
      "* * * * * \n"
     ]
    }
   ],
   "source": [
    "for i in range(5):\n",
    "    for j in range(5):\n",
    "        print(\"*\", end=\" \")\n",
    "    print()"
   ]
  },
  {
   "cell_type": "code",
   "execution_count": 44,
   "id": "1c03f4b5",
   "metadata": {},
   "outputs": [
    {
     "name": "stdout",
     "output_type": "stream",
     "text": [
      "* \n",
      "* * \n",
      "* * * \n",
      "* * * * \n",
      "* * * * * \n"
     ]
    }
   ],
   "source": [
    "for i in range(5):\n",
    "    for j in range(i+1):\n",
    "        print(\"*\",end=\" \")\n",
    "    print()"
   ]
  },
  {
   "cell_type": "code",
   "execution_count": 48,
   "id": "cc1c4b88",
   "metadata": {},
   "outputs": [
    {
     "name": "stdout",
     "output_type": "stream",
     "text": [
      "1 \n",
      "1 2 \n",
      "1 2 3 \n",
      "1 2 3 4 \n",
      "1 2 3 4 5 \n"
     ]
    }
   ],
   "source": [
    "for i in range(1,6,1):\n",
    "    for j in range(1,i+1,1):\n",
    "        print(j, end=\" \")\n",
    "    print()"
   ]
  },
  {
   "cell_type": "markdown",
   "id": "a684a86a",
   "metadata": {},
   "source": [
    "**Assignment 8: break statement**\n",
    "\n",
    "**Write a program that asks the user to input numbers until they input 0. The program should print the sum of all the input numbers.**"
   ]
  },
  {
   "cell_type": "code",
   "execution_count": 51,
   "id": "caa15df5",
   "metadata": {},
   "outputs": [
    {
     "name": "stdout",
     "output_type": "stream",
     "text": [
      "The sum of all the numbers is 15.0.\n"
     ]
    }
   ],
   "source": [
    "# Solution\n",
    "\n",
    "total=0\n",
    "while True:\n",
    "    number=float(input(\"Enter a number (0 to stop): \"))\n",
    "    if number==0:\n",
    "        break\n",
    "    total+=number\n",
    "print(f\"The sum of all the numbers is {total}.\")\n"
   ]
  },
  {
   "cell_type": "markdown",
   "id": "e482dfb0",
   "metadata": {},
   "source": [
    "**Assignment 9: continue statement**\n",
    "\n",
    "**Write a program that prints all the numbers from 1 to 10 except 5 using a for loop and continue statement**"
   ]
  },
  {
   "cell_type": "code",
   "execution_count": 61,
   "id": "afbe5c8a",
   "metadata": {},
   "outputs": [
    {
     "name": "stdout",
     "output_type": "stream",
     "text": [
      "1\n",
      "2\n",
      "3\n",
      "4\n",
      "6\n",
      "7\n",
      "8\n",
      "9\n",
      "10\n"
     ]
    }
   ],
   "source": [
    "for x in range(1,11,1):\n",
    "    if x==5:\n",
    "        continue\n",
    "    print(x)"
   ]
  },
  {
   "cell_type": "markdown",
   "id": "c13f61be",
   "metadata": {},
   "source": [
    "**Assignment 10: pass statement**\n",
    "\n",
    "**Write a program that defines an empty function using the pass statement**"
   ]
  },
  {
   "cell_type": "code",
   "execution_count": 64,
   "id": "3023f5a9",
   "metadata": {},
   "outputs": [],
   "source": [
    "# solution\n",
    "\n",
    "def empty_function():\n",
    "    pass\n",
    "\n",
    "# Calling the empty function"
   ]
  },
  {
   "cell_type": "markdown",
   "id": "f2d2a5b7",
   "metadata": {},
   "source": [
    "**Assignment 11: Combining Loops and Conditionals**\n",
    "\n",
    "**Write a program the user to input a number and prints all the even numbers from 1 to that number using for loop.**"
   ]
  },
  {
   "cell_type": "code",
   "execution_count": 77,
   "id": "f10721ec",
   "metadata": {},
   "outputs": [
    {
     "name": "stdout",
     "output_type": "stream",
     "text": [
      "2\n",
      "4\n",
      "6\n",
      "8\n"
     ]
    }
   ],
   "source": [
    "n = int(input(\"enter a number: \"))\n",
    "\n",
    "for i in range(1,n+1,1):\n",
    "    if i%2!=0:\n",
    "        continue\n",
    "    print(i)"
   ]
  },
  {
   "cell_type": "markdown",
   "id": "55fb1373",
   "metadata": {},
   "source": [
    "**Assignment 12: Factorial Calculation**\n",
    "\n",
    "**Write a program that calculates the factorial of a number input by the user using a while loop.**"
   ]
  },
  {
   "cell_type": "code",
   "execution_count": 73,
   "id": "46f94fc6",
   "metadata": {},
   "outputs": [
    {
     "name": "stdout",
     "output_type": "stream",
     "text": [
      "final factorial value: 120\n"
     ]
    }
   ],
   "source": [
    "# Solution\n",
    "n = int(input(\"enter a number: \"))\n",
    "\n",
    "i=1\n",
    "f=1\n",
    "\n",
    "while i<=n:\n",
    "    f*=i\n",
    "    # print(f\"factorial loop of {i}: {f}\")\n",
    "    i=i+1\n",
    "print(f\"final factorial value: {f}\")"
   ]
  },
  {
   "cell_type": "code",
   "execution_count": 74,
   "id": "14010344",
   "metadata": {},
   "outputs": [
    {
     "name": "stdout",
     "output_type": "stream",
     "text": [
      "the factorial of a number: 120\n"
     ]
    }
   ],
   "source": [
    "# Using for loop to find factorial:\n",
    "\n",
    "n = int(input(\"Enter a number: \"))\n",
    "\n",
    "f=1\n",
    "\n",
    "for i in range(1,n+1,1):\n",
    "    f*=i\n",
    "print(f\"the factorial of a number: {f}\")"
   ]
  },
  {
   "cell_type": "markdown",
   "id": "98573c28",
   "metadata": {},
   "source": [
    "**Assignment 13: sum of digits**\n",
    "\n",
    "**Write a program that calculates the sum of the digints a number input by the user using a while loop.**"
   ]
  },
  {
   "cell_type": "code",
   "execution_count": 79,
   "id": "9ec29e73",
   "metadata": {},
   "outputs": [
    {
     "name": "stdout",
     "output_type": "stream",
     "text": [
      "the sum of the digits is 15.\n"
     ]
    }
   ],
   "source": [
    "number = int(input(\"Enter a number: \"))\n",
    "sum_of_digits = 0\n",
    "while number>0:\n",
    "    digit = number%10\n",
    "    sum_of_digits += digit\n",
    "    number = number//10\n",
    "print(f\"the sum of the digits is {sum_of_digits}.\")"
   ]
  },
  {
   "cell_type": "markdown",
   "id": "ce7d4879",
   "metadata": {},
   "source": [
    "**Assignment 14: prime number check**\n",
    "\n",
    "**Write a program that checks if a number input by the user is a prime number using a for loop.**"
   ]
  },
  {
   "cell_type": "code",
   "execution_count": 83,
   "id": "81b65686",
   "metadata": {},
   "outputs": [
    {
     "name": "stdout",
     "output_type": "stream",
     "text": [
      "5 is a prime number.\n"
     ]
    }
   ],
   "source": [
    "number = int(input(\"Enter a number: \"))\n",
    "is_prime = True\n",
    "if number <=1:\n",
    "    is_prime = False\n",
    "else:\n",
    "    for i in range(2, int(number**0.5)+1):\n",
    "        if number%i ==0:\n",
    "            is_prime=False\n",
    "            break\n",
    "if is_prime:\n",
    "    print(f\"{number} is a prime number.\")\n",
    "else:\n",
    "    print(f\"{number} is not prime number.\")"
   ]
  },
  {
   "cell_type": "markdown",
   "id": "dbb1f03b",
   "metadata": {},
   "source": [
    "**Assignment 15: Fibnnacci Sequence**\n",
    "\n",
    "**Write a program that prints the first n Fibonacci numbers, where n is input by the user.**"
   ]
  },
  {
   "cell_type": "code",
   "execution_count": 88,
   "id": "ce35dd24",
   "metadata": {},
   "outputs": [
    {
     "name": "stdout",
     "output_type": "stream",
     "text": [
      "0\n",
      "1\n",
      "1\n",
      "2\n"
     ]
    }
   ],
   "source": [
    "n = int(input(\"enter the number of Fibonacci numbers to print: \"))\n",
    "a, b = 0, 1\n",
    "count = 0\n",
    "while count < n:\n",
    "    print(a)\n",
    "    a, b = b, a+b\n",
    "    count += 1"
   ]
  }
 ],
 "metadata": {
  "kernelspec": {
   "display_name": "base",
   "language": "python",
   "name": "python3"
  },
  "language_info": {
   "codemirror_mode": {
    "name": "ipython",
    "version": 3
   },
   "file_extension": ".py",
   "mimetype": "text/x-python",
   "name": "python",
   "nbconvert_exporter": "python",
   "pygments_lexer": "ipython3",
   "version": "3.12.9"
  }
 },
 "nbformat": 4,
 "nbformat_minor": 5
}
