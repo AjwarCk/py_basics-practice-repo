{
 "cells": [
  {
   "cell_type": "markdown",
   "id": "7b68e70b",
   "metadata": {},
   "source": [
    "#### Functions Examples"
   ]
  },
  {
   "cell_type": "markdown",
   "id": "a4b9ac03",
   "metadata": {},
   "source": [
    "**Example 1: Temperature Conversion**"
   ]
  },
  {
   "cell_type": "code",
   "execution_count": 1,
   "id": "8ca076c9",
   "metadata": {},
   "outputs": [
    {
     "name": "stdout",
     "output_type": "stream",
     "text": [
      "77.0\n",
      "25.0\n"
     ]
    }
   ],
   "source": [
    "def convert_temperature(temp,unit):\n",
    "    \"\"\"This function converts temperture between Celcius and Fahrenheit\"\"\"\n",
    "    if unit==\"C\":\n",
    "        return temp * 9/5 +32 ## Celcius to Fahrenheit\n",
    "    elif unit==\"F\":\n",
    "        return (temp-32) * 5/9 ## Fahrenheit to celsius\n",
    "    else:\n",
    "        return None\n",
    "\n",
    "print(convert_temperature(25,'C'))\n",
    "print(convert_temperature(77,'F'))"
   ]
  },
  {
   "cell_type": "code",
   "execution_count": 21,
   "id": "a5cd1117",
   "metadata": {},
   "outputs": [
    {
     "data": {
      "text/plain": [
       "15"
      ]
     },
     "execution_count": 21,
     "metadata": {},
     "output_type": "execute_result"
    }
   ],
   "source": [
    "def temp_calc(*args):\n",
    "    s=0\n",
    "    for i in args:\n",
    "        s+=i\n",
    "    return s\n",
    "\n",
    "temp_calc(1,2,3,4,5)"
   ]
  },
  {
   "cell_type": "markdown",
   "id": "33fdf985",
   "metadata": {},
   "source": [
    "**Example 2: Password Strength Checker**"
   ]
  },
  {
   "cell_type": "code",
   "execution_count": 35,
   "id": "6cd6d03b",
   "metadata": {},
   "outputs": [
    {
     "name": "stdout",
     "output_type": "stream",
     "text": [
      "False\n",
      "True\n"
     ]
    }
   ],
   "source": [
    "def is_strong_password(password):\n",
    "    if len(password)<8:\n",
    "        return False\n",
    "    if not any(char.isdigit() for char in password):\n",
    "        return False\n",
    "    if not any(char.islower() for char in password):\n",
    "        return False\n",
    "    if not any(char.isupper() for char in password):\n",
    "        return False\n",
    "    if not any(char in '!@#$%^&*()_-=+' for char in password):\n",
    "        return False\n",
    "    else:\n",
    "        return True\n",
    "    \n",
    "print(is_strong_password(\"abcd@123\"))\n",
    "print(is_strong_password(\"Abcd@123##\"))"
   ]
  },
  {
   "cell_type": "markdown",
   "id": "67ee27a5",
   "metadata": {},
   "source": [
    "**Example 3: Calculate the Total cost of items in shopping cart**"
   ]
  },
  {
   "cell_type": "code",
   "execution_count": 7,
   "id": "2f1a74df",
   "metadata": {},
   "outputs": [
    {
     "name": "stdout",
     "output_type": "stream",
     "text": [
      "5.8999999999999995\n"
     ]
    }
   ],
   "source": [
    "def calculate_total_cost(cart):\n",
    "    total_cost=0\n",
    "    for item in cart:\n",
    "        total_cost+=item['price']* item['quantity']\n",
    "    return total_cost\n",
    "\n",
    "\n",
    "## Example cart data\n",
    "\n",
    "cart = [\n",
    "    {'name':'Apple', 'price':0.5, 'quantity':4},\n",
    "    {'name':'Banana', 'price':0.3, 'quantity':6},\n",
    "    {'name':'orange', 'price':0.7, 'quantity':3}\n",
    "]\n",
    "\n",
    "## Calling the function\n",
    "total_cost = calculate_total_cost(cart)\n",
    "print(total_cost)"
   ]
  },
  {
   "cell_type": "markdown",
   "id": "3e8e0c45",
   "metadata": {},
   "source": [
    "**Example 4: Check IF a string is palindrome**"
   ]
  },
  {
   "cell_type": "code",
   "execution_count": 9,
   "id": "a509ddb3",
   "metadata": {},
   "outputs": [
    {
     "name": "stdout",
     "output_type": "stream",
     "text": [
      "True\n",
      "False\n"
     ]
    }
   ],
   "source": [
    "def is_palindrome(s):\n",
    "    s = s.lower().replace(\" \", \"\")\n",
    "    return s==s[::-1]\n",
    "\n",
    "print(is_palindrome(\"A man a plan a canal Panama\"))\n",
    "print(is_palindrome(\"Hello\"))"
   ]
  },
  {
   "cell_type": "markdown",
   "id": "fd3c4117",
   "metadata": {},
   "source": [
    "**Example 5: Calculate the factorials of a number using recursion**"
   ]
  },
  {
   "cell_type": "code",
   "execution_count": 90,
   "id": "6b74a282",
   "metadata": {},
   "outputs": [
    {
     "name": "stdout",
     "output_type": "stream",
     "text": [
      "Calling factorial(6)\n",
      "Calling factorial(5)\n",
      "Calling factorial(4)\n",
      "Calling factorial(3)\n",
      "Calling factorial(2)\n",
      "Calling factorial(1)\n",
      "Calling factorial(0)\n",
      "Reached base case: factorial(0) = 1\n",
      "Returning: factorial(1) = 1 * factorial(0) = 1\n",
      "Returning: factorial(2) = 2 * factorial(1) = 2\n",
      "Returning: factorial(3) = 3 * factorial(2) = 6\n",
      "Returning: factorial(4) = 4 * factorial(3) = 24\n",
      "Returning: factorial(5) = 5 * factorial(4) = 120\n",
      "Returning: factorial(6) = 6 * factorial(5) = 720\n",
      "Final Result: 720\n"
     ]
    }
   ],
   "source": [
    "def factorial(n):\n",
    "    print(f\"Calling factorial({n})\")\n",
    "    if n == 0:\n",
    "        print(f\"Reached base case: factorial(0) = 1\")\n",
    "        return 1\n",
    "    else:\n",
    "        result = n * factorial(n - 1)\n",
    "        print(f\"Returning: factorial({n}) = {n} * factorial({n-1}) = {result}\")\n",
    "        return result\n",
    "\n",
    "print(\"Final Result:\", factorial(6))\n"
   ]
  },
  {
   "cell_type": "code",
   "execution_count": 111,
   "id": "2621f95e",
   "metadata": {},
   "outputs": [
    {
     "data": {
      "text/plain": [
       "6"
      ]
     },
     "execution_count": 111,
     "metadata": {},
     "output_type": "execute_result"
    }
   ],
   "source": [
    "# Example for recursion \n",
    "def lst_sum_recursion(lst):\n",
    "    # 1. Base Case (end condition)\n",
    "    if len(lst) == 0:\n",
    "        return 0\n",
    "    # 2. Recursion Case (loop condition)\n",
    "    else:\n",
    "        return lst[0]+lst_sum_recursion(lst[1:])\n",
    "lst_sum_recursion([1,2,3])"
   ]
  },
  {
   "cell_type": "code",
   "execution_count": 110,
   "id": "6e5cf754",
   "metadata": {},
   "outputs": [
    {
     "name": "stdout",
     "output_type": "stream",
     "text": [
      "entered list values sum: 6\n"
     ]
    }
   ],
   "source": [
    "# Example for recursion through user input values: list value summation\n",
    "\n",
    "def list_sum_rec(l1=list(input(\"enter list of value, keep a space b/w numbers: \").split())):\n",
    "    l1 = [int(i) for i in l1]\n",
    "    if len(l1) == 0:\n",
    "        return 0\n",
    "    else:\n",
    "        return l1[0]+list_sum_rec(l1[1:])\n",
    "    \n",
    "print(f'entered list values sum: {list_sum_rec()}')"
   ]
  },
  {
   "cell_type": "markdown",
   "id": "1ce7b585",
   "metadata": {},
   "source": [
    "**Example 6: A Function to Read a file and count the frequency of each word**"
   ]
  },
  {
   "cell_type": "code",
   "execution_count": 116,
   "id": "2d4d2e05",
   "metadata": {},
   "outputs": [
    {
     "name": "stdout",
     "output_type": "stream",
     "text": [
      "{'hello': 3, 'world': 1, 'welcome': 2, 'to': 2, 'the': 2, 'paradise': 2, 'wold': 1}\n"
     ]
    }
   ],
   "source": [
    "def count_word_frequency(file_path):\n",
    "    word_count = {}\n",
    "    with open(file_path,'r') as file:\n",
    "        for line in file:\n",
    "            words = line.split()\n",
    "            for word in words:\n",
    "                word = word.lower().strip('.,!?;:\"\\'')\n",
    "                word_count[word] = word_count.get(word,0)+1\n",
    "    \n",
    "    return word_count\n",
    "\n",
    "filepath = 'sample.txt'\n",
    "word_frequency = count_word_frequency(filepath)\n",
    "print(word_frequency)"
   ]
  },
  {
   "cell_type": "markdown",
   "id": "ba4cb6c6",
   "metadata": {},
   "source": [
    "**Example 7: Validate Email Address**"
   ]
  },
  {
   "cell_type": "code",
   "execution_count": 14,
   "id": "c9ae705a",
   "metadata": {},
   "outputs": [
    {
     "name": "stdout",
     "output_type": "stream",
     "text": [
      "True\n",
      "False\n"
     ]
    }
   ],
   "source": [
    "import re\n",
    "\n",
    "# Email validation function\n",
    "def is_valid_email(email):\n",
    "    \"\"\"This function checks if the email is valid\"\"\"\n",
    "    pattern = r'^[a-zA-Z0-9_.+-]+@[a-zA-Z0-9-]+\\.[a-zA-Z0-9-.]+$'\n",
    "    return re.match(pattern, email) is not None\n",
    "\n",
    "# Calling the function\n",
    "print(is_valid_email(\"test@example.com\")) # Output: True\n",
    "print(is_valid_email(\"invalid-email\")) # Output: False"
   ]
  }
 ],
 "metadata": {
  "kernelspec": {
   "display_name": "base",
   "language": "python",
   "name": "python3"
  },
  "language_info": {
   "codemirror_mode": {
    "name": "ipython",
    "version": 3
   },
   "file_extension": ".py",
   "mimetype": "text/x-python",
   "name": "python",
   "nbconvert_exporter": "python",
   "pygments_lexer": "ipython3",
   "version": "3.12.9"
  }
 },
 "nbformat": 4,
 "nbformat_minor": 5
}
