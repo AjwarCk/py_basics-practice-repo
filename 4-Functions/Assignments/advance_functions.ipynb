{
 "cells": [
  {
   "cell_type": "markdown",
   "id": "0589052f",
   "metadata": {},
   "source": [
    "#### Module 4: Advanced Functions Assignments"
   ]
  },
  {
   "cell_type": "markdown",
   "id": "1ca23eca",
   "metadata": {},
   "source": [
    "**Lesson 4.1: Defining Functions**"
   ]
  },
  {
   "cell_type": "markdown",
   "id": "4153cff9",
   "metadata": {},
   "source": [
    "**Assignment 1: Fibnnacci Sequence with Memorization**\n",
    "\n",
    "Define a recursive function to calculate the nth Fibonacci number using memorization. Test the function with different inputs."
   ]
  },
  {
   "cell_type": "code",
   "execution_count": 14,
   "id": "b64d0172",
   "metadata": {},
   "outputs": [
    {
     "name": "stdout",
     "output_type": "stream",
     "text": [
      "5\n",
      "610\n"
     ]
    }
   ],
   "source": [
    "def fibonacci(n, memo={}):\n",
    "    if n in memo:\n",
    "        return memo[n]\n",
    "    if n <= 1:\n",
    "        return n\n",
    "    memo[n] = fibonacci(n-1, memo) + fibonacci(n-2, memo)\n",
    "    return memo[n]\n",
    "\n",
    "# Test\n",
    "print(fibonacci(5))\n",
    "print(fibonacci(15))"
   ]
  },
  {
   "cell_type": "markdown",
   "id": "3886c297",
   "metadata": {},
   "source": [
    "**Assignment 2: Function with Nested Default Arguments**\n",
    "\n",
    "Define a function that takes arguments, a and b, where b is a dictionary with a default value of an empty dictionary. The function should add a new key-value pair to the dictionary and return it. Test the function with different inputs."
   ]
  },
  {
   "cell_type": "code",
   "execution_count": 21,
   "id": "d46d7fad",
   "metadata": {},
   "outputs": [
    {
     "name": "stdout",
     "output_type": "stream",
     "text": [
      "{2: 4}\n",
      "{1: 1, 3: 9}\n"
     ]
    }
   ],
   "source": [
    "def add_to_dict(a, b=None):\n",
    "    if b is None:\n",
    "        b={}\n",
    "    b[a] = a**2\n",
    "    return b\n",
    "\n",
    "# Test\n",
    "print(add_to_dict(2)) # {2:4}\n",
    "print(add_to_dict(3, {1: 1})) # {1: 1, 3: 9}"
   ]
  },
  {
   "cell_type": "markdown",
   "id": "57109d8a",
   "metadata": {},
   "source": [
    "**Assignment 3: Function with Variable Keyword Arguments**\n",
    "\n",
    "Define a function that takes a variable number of keyword arguments and returns a dictionary containing only those key-value pairs where the value is an integer. Test the function with different inputs."
   ]
  },
  {
   "cell_type": "code",
   "execution_count": 25,
   "id": "3df0c768",
   "metadata": {},
   "outputs": [
    {
     "name": "stdout",
     "output_type": "stream",
     "text": [
      "{'a': 1, 'c': 3}\n",
      "{'x': 10, 'z': 20}\n"
     ]
    }
   ],
   "source": [
    "def filter_integers(**kwargs):\n",
    "    return {k:v for k,v in kwargs.items() if isinstance(v, int)}\n",
    "\n",
    "# Test\n",
    "print(filter_integers(a=1, b='two', c=3, d=4.5)) # {'a':1, 'c':3}\n",
    "print(filter_integers(x=10, y='yes', z=20)) # {'x':10, 'z':20}"
   ]
  },
  {
   "cell_type": "code",
   "execution_count": null,
   "id": "9324c3f9",
   "metadata": {},
   "outputs": [],
   "source": []
  }
 ],
 "metadata": {
  "kernelspec": {
   "display_name": "base",
   "language": "python",
   "name": "python3"
  },
  "language_info": {
   "codemirror_mode": {
    "name": "ipython",
    "version": 3
   },
   "file_extension": ".py",
   "mimetype": "text/x-python",
   "name": "python",
   "nbconvert_exporter": "python",
   "pygments_lexer": "ipython3",
   "version": "3.12.9"
  }
 },
 "nbformat": 4,
 "nbformat_minor": 5
}
