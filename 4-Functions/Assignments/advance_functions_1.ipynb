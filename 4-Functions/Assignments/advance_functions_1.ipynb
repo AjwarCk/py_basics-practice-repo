{
 "cells": [
  {
   "cell_type": "markdown",
   "id": "0589052f",
   "metadata": {},
   "source": [
    "#### Module 4: Advanced Functions Assignments"
   ]
  },
  {
   "cell_type": "markdown",
   "id": "1ca23eca",
   "metadata": {},
   "source": [
    "**Lesson 4.1: Defining Functions**"
   ]
  },
  {
   "cell_type": "markdown",
   "id": "4153cff9",
   "metadata": {},
   "source": [
    "**Assignment 1: Fibnnacci Sequence with Memorization**\n",
    "\n",
    "Define a recursive function to calculate the nth Fibonacci number using memorization. Test the function with different inputs."
   ]
  },
  {
   "cell_type": "code",
   "execution_count": 14,
   "id": "b64d0172",
   "metadata": {},
   "outputs": [
    {
     "name": "stdout",
     "output_type": "stream",
     "text": [
      "5\n",
      "610\n"
     ]
    }
   ],
   "source": [
    "def fibonacci(n, memo={}):\n",
    "    if n in memo:\n",
    "        return memo[n]\n",
    "    if n <= 1:\n",
    "        return n\n",
    "    memo[n] = fibonacci(n-1, memo) + fibonacci(n-2, memo)\n",
    "    return memo[n]\n",
    "\n",
    "# Test\n",
    "print(fibonacci(5))\n",
    "print(fibonacci(15))"
   ]
  },
  {
   "cell_type": "markdown",
   "id": "3886c297",
   "metadata": {},
   "source": [
    "**Assignment 2: Function with Nested Default Arguments**\n",
    "\n",
    "Define a function that takes arguments, a and b, where b is a dictionary with a default value of an empty dictionary. The function should add a new key-value pair to the dictionary and return it. Test the function with different inputs."
   ]
  },
  {
   "cell_type": "code",
   "execution_count": 21,
   "id": "d46d7fad",
   "metadata": {},
   "outputs": [
    {
     "name": "stdout",
     "output_type": "stream",
     "text": [
      "{2: 4}\n",
      "{1: 1, 3: 9}\n"
     ]
    }
   ],
   "source": [
    "def add_to_dict(a, b=None):\n",
    "    if b is None:\n",
    "        b={}\n",
    "    b[a] = a**2\n",
    "    return b\n",
    "\n",
    "# Test\n",
    "print(add_to_dict(2)) # {2:4}\n",
    "print(add_to_dict(3, {1: 1})) # {1: 1, 3: 9}"
   ]
  },
  {
   "cell_type": "markdown",
   "id": "57109d8a",
   "metadata": {},
   "source": [
    "**Assignment 3: Function with Variable Keyword Arguments**\n",
    "\n",
    "Define a function that takes a variable number of keyword arguments and returns a dictionary containing only those key-value pairs where the value is an integer. Test the function with different inputs."
   ]
  },
  {
   "cell_type": "code",
   "execution_count": 25,
   "id": "3df0c768",
   "metadata": {},
   "outputs": [
    {
     "name": "stdout",
     "output_type": "stream",
     "text": [
      "{'a': 1, 'c': 3}\n",
      "{'x': 10, 'z': 20}\n"
     ]
    }
   ],
   "source": [
    "def filter_integers(**kwargs):\n",
    "    return {k:v for k,v in kwargs.items() if isinstance(v, int)}\n",
    "\n",
    "# Test\n",
    "print(filter_integers(a=1, b='two', c=3, d=4.5)) # {'a':1, 'c':3}\n",
    "print(filter_integers(x=10, y='yes', z=20)) # {'x':10, 'z':20}"
   ]
  },
  {
   "cell_type": "markdown",
   "id": "14e463e5",
   "metadata": {},
   "source": [
    "**Assignment 4: Function with Callback**\n",
    "\n",
    "Define a function that takes another function as a callback and a list of integers. The function should apply the callback to each integer in the list and return a new list with the results. Test with different callback functions."
   ]
  },
  {
   "cell_type": "code",
   "execution_count": 29,
   "id": "c5be352b",
   "metadata": {},
   "outputs": [
    {
     "name": "stdout",
     "output_type": "stream",
     "text": [
      "[1, 4, 9, 16]\n",
      "[2, 3, 4, 5]\n"
     ]
    }
   ],
   "source": [
    "def apply_callback(callback, lst):\n",
    "    return [callback(x) for x in lst]\n",
    "\n",
    "# Test\n",
    "print(apply_callback(lambda x: x**2, [1,2,3,4]))\n",
    "print(apply_callback(lambda x: x+1, [1,2,3,4]))"
   ]
  },
  {
   "cell_type": "markdown",
   "id": "4fcbf1fc",
   "metadata": {},
   "source": [
    "**Assignment 5: Function that Return a Function**\n",
    "\n",
    "Define a function that return another function. The returned function should be take an integer and return its square. Test the returned function with different inputs."
   ]
  },
  {
   "cell_type": "code",
   "execution_count": 33,
   "id": "b4da0b4a",
   "metadata": {},
   "outputs": [
    {
     "name": "stdout",
     "output_type": "stream",
     "text": [
      "4\n",
      "25\n"
     ]
    }
   ],
   "source": [
    "def outer_function():\n",
    "    def inner_function(x):\n",
    "        return x ** 2\n",
    "    return inner_function\n",
    "\n",
    "# Test\n",
    "square = outer_function()\n",
    "print(square(2)) # 4\n",
    "print(square(5)) # 5"
   ]
  },
  {
   "cell_type": "markdown",
   "id": "7dff86ba",
   "metadata": {},
   "source": [
    "**Assignment 6: Function with Decorators**\n",
    "\n",
    "Defines a function that calculates the time taken to execute another function. Apply this decorator to a function that peforms a complex calculation. Test the decorated function with different inputs."
   ]
  },
  {
   "cell_type": "code",
   "execution_count": 42,
   "id": "7899507b",
   "metadata": {},
   "outputs": [
    {
     "name": "stdout",
     "output_type": "stream",
     "text": [
      "Function complex_calculation took 0.0006668567657470703 seconds to execute.\n",
      "333283335000\n"
     ]
    }
   ],
   "source": [
    "import time\n",
    "\n",
    "def timer_decorator(func):\n",
    "    def wrapper(*args, **kwargs):\n",
    "        start_time = time.time()\n",
    "        result = func(*args, **kwargs)\n",
    "        end_time = time.time()\n",
    "        print(f\"Function {func.__name__} took {end_time - start_time} seconds to execute.\")\n",
    "        return result\n",
    "    return wrapper\n",
    "\n",
    "@timer_decorator\n",
    "def complex_calculation(n):\n",
    "    return sum(x**2 for x in range(n))\n",
    "\n",
    "# Test\n",
    "print(complex_calculation(10000))"
   ]
  },
  {
   "cell_type": "markdown",
   "id": "e38be77e",
   "metadata": {},
   "source": [
    "**Logging Decorator**"
   ]
  },
  {
   "cell_type": "code",
   "execution_count": 43,
   "id": "3a006454",
   "metadata": {},
   "outputs": [
    {
     "name": "stdout",
     "output_type": "stream",
     "text": [
      "[LOG] Calling function 'greet' with args=('Alice',) kwargs={}\n",
      "Hello, Alice!\n"
     ]
    }
   ],
   "source": [
    "def log_decorator(func):\n",
    "    def wrapper(*args,**kwargs):\n",
    "        print(f\"[LOG] Calling function '{func.__name__}' with args={args} kwargs={kwargs}\")\n",
    "        return func(*args, **kwargs)\n",
    "    return wrapper\n",
    "\n",
    "@log_decorator\n",
    "def greet(name):\n",
    "    return f\"Hello, {name}!\"\n",
    "\n",
    "# Test\n",
    "print(greet(\"Alice\"))"
   ]
  },
  {
   "cell_type": "markdown",
   "id": "8b61603c",
   "metadata": {},
   "source": [
    "**Authentication Decorator**"
   ]
  },
  {
   "cell_type": "code",
   "execution_count": 10,
   "id": "226e3bca",
   "metadata": {},
   "outputs": [
    {
     "name": "stdout",
     "output_type": "stream",
     "text": [
      "Welcome Alice! Here is your account info.\n",
      "Access denied. User not authenticated.\n",
      "None\n"
     ]
    }
   ],
   "source": [
    "def auth_decorator(func):\n",
    "    def wrapper(user, *args, **kwargs):\n",
    "        if not user.get(\"is_authenticated\"):\n",
    "            print(\"Access denied. User not authenticated.\")\n",
    "            return None\n",
    "        return func(user, *args, **kwargs)\n",
    "    return wrapper\n",
    "        \n",
    "@auth_decorator\n",
    "def view_account(user):\n",
    "    return f\"Welcome {user['name']}! Here is your account info.\"\n",
    "\n",
    "# Test\n",
    "user1 = {\"name\":\"Alice\", \"is_authenticated\":True}\n",
    "user2 = {\"name\":\"John\", \"is_authenticated\":False}\n",
    "\n",
    "print(view_account(user1)) # Allowed\n",
    "print(view_account(user2)) # Blocked"
   ]
  },
  {
   "cell_type": "markdown",
   "id": "8f8e3988",
   "metadata": {},
   "source": [
    "**Assignment 7: Higher-Order Function for Filtering and Mapping**"
   ]
  },
  {
   "cell_type": "markdown",
   "id": "5a5a8ec0",
   "metadata": {},
   "source": [
    "Define a higher-order function that takes two functions, a filter function and a map function, along with a list of integer. The higher-order function should first filter the integers using the filter function and then apply the map function to the filtered integers. Test with different filter and map function."
   ]
  },
  {
   "cell_type": "code",
   "execution_count": 59,
   "id": "233299a2",
   "metadata": {},
   "outputs": [
    {
     "name": "stdout",
     "output_type": "stream",
     "text": [
      "[4, 16]\n",
      "[4, 5, 6]\n"
     ]
    }
   ],
   "source": [
    "def filter_and_map(filter_func, map_func, lst):\n",
    "    return [map_func(x) for x in lst if filter_func(x)]\n",
    "\n",
    "# Test\n",
    "print(filter_and_map(lambda x:x%2==0, lambda x:x**2, [1,2,3,4,5]))\n",
    "print(filter_and_map(lambda x:x>2, lambda x:x+1, [1,2,3,4,5]))"
   ]
  },
  {
   "cell_type": "markdown",
   "id": "e04f5d8b",
   "metadata": {},
   "source": [
    "**Assignment 8: Function Composition**"
   ]
  },
  {
   "cell_type": "markdown",
   "id": "889382d4",
   "metadata": {},
   "source": [
    "Defie a function that composes two functions, f and g, such that the result is f(g(x)). Test with different function f and g."
   ]
  },
  {
   "cell_type": "code",
   "execution_count": 151,
   "id": "08e84723",
   "metadata": {},
   "outputs": [
    {
     "name": "stdout",
     "output_type": "stream",
     "text": [
      "7\n",
      "11\n"
     ]
    }
   ],
   "source": [
    "def compose(f, g):\n",
    "    return lambda x: f(g(x))\n",
    "\n",
    "# Test\n",
    "f = lambda x: x+1\n",
    "g = lambda x: x*2\n",
    "h = compose(f,g)\n",
    "print(h(3)) # 7\n",
    "print(h(5)) # 11"
   ]
  },
  {
   "cell_type": "markdown",
   "id": "312b9fd3",
   "metadata": {},
   "source": [
    "**Assignement 9: Partial Function Application**"
   ]
  },
  {
   "cell_type": "markdown",
   "id": "f5a2b1ef",
   "metadata": {},
   "source": [
    "Use the functools.partial function to create a new function that multiplies its input by 2. Test the new function with different inputs."
   ]
  },
  {
   "cell_type": "code",
   "execution_count": 6,
   "id": "f9b89876",
   "metadata": {},
   "outputs": [
    {
     "name": "stdout",
     "output_type": "stream",
     "text": [
      "6\n",
      "10\n"
     ]
    }
   ],
   "source": [
    "from functools import partial\n",
    "\n",
    "multiply_by_2 = partial(lambda x,y: x*y, 2)\n",
    "\n",
    "# Test\n",
    "print(multiply_by_2(3)) #6\n",
    "print(multiply_by_2(5)) #10"
   ]
  },
  {
   "cell_type": "markdown",
   "id": "7a0ff38f",
   "metadata": {},
   "source": [
    "**Assignment 10: Function with Error Handling**"
   ]
  },
  {
   "cell_type": "markdown",
   "id": "57bc7e4b",
   "metadata": {},
   "source": [
    "Define a function that takes a list of integers and returns their average. The function should handle any errors that occur (e.g. empty list) and return None in such cases. Test with different inputs."
   ]
  },
  {
   "cell_type": "code",
   "execution_count": 9,
   "id": "ecfc776a",
   "metadata": {},
   "outputs": [
    {
     "name": "stdout",
     "output_type": "stream",
     "text": [
      "3.0\n",
      "\n",
      "\n",
      "Type error occured, enter numbers only\n",
      "None\n",
      "\n",
      "\n",
      "Zero division error occured, enter numbers only\n",
      "None\n"
     ]
    }
   ],
   "source": [
    "def error_list(x):\n",
    "    try:\n",
    "        return sum(x)/len(x)\n",
    "    except ValueError:\n",
    "        print('enter only numbers in the list')\n",
    "        return None\n",
    "    except NameError:\n",
    "        print('Name error occured, enter numbers only')\n",
    "        return None\n",
    "    except TypeError:\n",
    "        print(\"Type error occured, enter numbers only\")\n",
    "    except ZeroDivisionError:\n",
    "        print(\"Zero division error occured, enter numbers only\")\n",
    "        return None\n",
    "\n",
    "print(error_list([1,2,3,4,5]))\n",
    "print(\"\\n\")\n",
    "print(error_list(['aj',1,3,5]))\n",
    "print(\"\\n\")\n",
    "print(error_list([]))"
   ]
  },
  {
   "cell_type": "markdown",
   "id": "abb7c67a",
   "metadata": {},
   "source": [
    "**Assignment 11: Function with Generators**"
   ]
  },
  {
   "cell_type": "markdown",
   "id": "cc4580b7",
   "metadata": {},
   "source": [
    "Define a function that generates an infinite sequence of Fibonacci numbers. Test by printing the first 10 numbers in the sequence."
   ]
  },
  {
   "cell_type": "code",
   "execution_count": 20,
   "id": "3beb85da",
   "metadata": {},
   "outputs": [
    {
     "name": "stdout",
     "output_type": "stream",
     "text": [
      "0\n",
      "1\n",
      "1\n",
      "2\n",
      "3\n",
      "5\n",
      "8\n",
      "13\n",
      "21\n",
      "34\n"
     ]
    }
   ],
   "source": [
    "def fibonacci_generator():\n",
    "    a, b = 0, 1\n",
    "    while True:\n",
    "        yield a\n",
    "        a, b = b, a+b\n",
    "\n",
    "# Test\n",
    "fib_gen = fibonacci_generator()\n",
    "for i in range(10):\n",
    "    print(next(fib_gen))"
   ]
  },
  {
   "cell_type": "code",
   "execution_count": null,
   "id": "ab6c84bb",
   "metadata": {},
   "outputs": [],
   "source": []
  }
 ],
 "metadata": {
  "kernelspec": {
   "display_name": "base",
   "language": "python",
   "name": "python3"
  },
  "language_info": {
   "codemirror_mode": {
    "name": "ipython",
    "version": 3
   },
   "file_extension": ".py",
   "mimetype": "text/x-python",
   "name": "python",
   "nbconvert_exporter": "python",
   "pygments_lexer": "ipython3",
   "version": "3.12.9"
  }
 },
 "nbformat": 4,
 "nbformat_minor": 5
}
