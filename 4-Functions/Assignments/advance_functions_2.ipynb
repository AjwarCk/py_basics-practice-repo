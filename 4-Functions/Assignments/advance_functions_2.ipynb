{
 "cells": [
  {
   "cell_type": "markdown",
   "id": "6238a8d6",
   "metadata": {},
   "source": [
    "#### try / except / else / finally Examples"
   ]
  },
  {
   "cell_type": "markdown",
   "id": "c71e6b81",
   "metadata": {},
   "source": [
    "**1. File Reading**"
   ]
  },
  {
   "cell_type": "markdown",
   "id": "2b61d621",
   "metadata": {},
   "source": [
    "A file might not exist -- instead of crashing, let's handle that."
   ]
  },
  {
   "cell_type": "code",
   "execution_count": 1,
   "id": "c0be105a",
   "metadata": {},
   "outputs": [
    {
     "name": "stdout",
     "output_type": "stream",
     "text": [
      "File not found!\n",
      "File handling finished.\n"
     ]
    }
   ],
   "source": [
    "try:\n",
    "    with open('data.txt','r') as f:\n",
    "        content = f.read()\n",
    "except FileNotFoundError:\n",
    "    print(\"File not found!\")\n",
    "else:\n",
    "    print(\"File read successfully:\\n\", content)\n",
    "finally:\n",
    "    print(\"File handling finished.\")"
   ]
  },
  {
   "cell_type": "markdown",
   "id": "3ced6cd2",
   "metadata": {},
   "source": [
    "**2. Network Request (e.g., API call)**"
   ]
  },
  {
   "cell_type": "markdown",
   "id": "a27b25da",
   "metadata": {},
   "source": [
    "Can fail due to no internet or timeout."
   ]
  },
  {
   "cell_type": "code",
   "execution_count": 11,
   "id": "4d379ce2",
   "metadata": {},
   "outputs": [
    {
     "name": "stdout",
     "output_type": "stream",
     "text": [
      "No internet connection!\n",
      "API request completed.\n"
     ]
    }
   ],
   "source": [
    "import requests\n",
    "\n",
    "try:\n",
    "    response = requests.get('https://jsonplaceholder.typicode.com/posts/1',timeout=2)\n",
    "    data = response.json()\n",
    "except requests.exceptions.Timeout:\n",
    "    print(\"Request timed out!\")\n",
    "except requests.exceptions.ConnectionError:\n",
    "    print(\"No internet connection!\")\n",
    "else:\n",
    "    print(\"API call succeeded! Title:\", data['title'])\n",
    "finally:\n",
    "    print(\"API request completed.\")"
   ]
  },
  {
   "cell_type": "markdown",
   "id": "6f593534",
   "metadata": {},
   "source": [
    "**3. User Input (Number Conversion)**"
   ]
  },
  {
   "cell_type": "markdown",
   "id": "f4f21860",
   "metadata": {},
   "source": [
    "User might enter text instead of a number."
   ]
  },
  {
   "cell_type": "code",
   "execution_count": 23,
   "id": "02afffc8",
   "metadata": {},
   "outputs": [
    {
     "name": "stdout",
     "output_type": "stream",
     "text": [
      "Please enter a valid number\n",
      "Input handling done.\n"
     ]
    }
   ],
   "source": [
    "try:\n",
    "    age = int(input(\"Enter your age: \"))\n",
    "except ValueError:\n",
    "    print(\"Please enter a valid number\")\n",
    "else:\n",
    "    print(f\"Your age is {age}\")\n",
    "finally:\n",
    "    print(\"Input handling done.\")"
   ]
  },
  {
   "cell_type": "markdown",
   "id": "78eede73",
   "metadata": {},
   "source": [
    "**4. Dividing Numbers**"
   ]
  },
  {
   "cell_type": "markdown",
   "id": "d1d0d467",
   "metadata": {},
   "source": [
    "You might accidently divide by zero."
   ]
  },
  {
   "cell_type": "code",
   "execution_count": 27,
   "id": "09fc020e",
   "metadata": {},
   "outputs": [
    {
     "name": "stdout",
     "output_type": "stream",
     "text": [
      "enter a valid denominator:\n",
      "Division process has been completed.\n"
     ]
    }
   ],
   "source": [
    "try:\n",
    "    x = int(input('enter a number for numerator: '))\n",
    "    y = int(input('enter a number for denominator: '))\n",
    "    z = x/y\n",
    "except ZeroDivisionError:\n",
    "    print(f'enter a valid denominator:')\n",
    "else:\n",
    "    print(f'entered valuds are: x={x} & y={y}')\n",
    "    print(f'result: {z}')\n",
    "finally:\n",
    "    print('Division process has been completed.')"
   ]
  },
  {
   "cell_type": "markdown",
   "id": "3a50d9b8",
   "metadata": {},
   "source": [
    "**try/except/else/finally with decorator function**"
   ]
  },
  {
   "cell_type": "code",
   "execution_count": 55,
   "id": "909436ce",
   "metadata": {},
   "outputs": [
    {
     "name": "stdout",
     "output_type": "stream",
     "text": [
      "Input values are: x=6 & y=2\n",
      "result is: 3\n",
      "function process has been completed\n",
      "This function took 6.222724914550781e-05 seconds to complete the process\n",
      "None\n",
      "\n",
      "\n",
      "\n",
      "Input values are: x=3 & y=2\n",
      "result is: 1\n",
      "function process has been completed\n",
      "This function took 1.2874603271484375e-05 seconds to complete the process\n",
      "None\n",
      "\n",
      "\n",
      "\n",
      "Enter valid number for denominator\n",
      "function process has been completed\n",
      "This function took 8.821487426757812e-06 seconds to complete the process\n",
      "None\n",
      "\n",
      "\n",
      "\n",
      "Enter valid numbers\n",
      "function process has been completed\n",
      "This function took 1.0013580322265625e-05 seconds to complete the process\n",
      "None\n",
      "\n",
      "\n",
      "\n",
      "Input values are: x=0 & y=10\n",
      "result is: 0\n",
      "function process has been completed\n",
      "This function took 1.0967254638671875e-05 seconds to complete the process\n",
      "None\n"
     ]
    }
   ],
   "source": [
    "import time\n",
    "\n",
    "def log_decorator(func):\n",
    "    def wrapper(*args, **kwargs):\n",
    "        start_time = time.time()\n",
    "        result = func(*args, **kwargs)\n",
    "        end_time = time.time()\n",
    "        print(f\"This function took {end_time-start_time} seconds to complete the process\")\n",
    "        return result\n",
    "    return wrapper\n",
    "\n",
    "@log_decorator\n",
    "def div_process1(x,y):\n",
    "    try:\n",
    "        z = x//y\n",
    "    except TypeError:\n",
    "        print('Enter valid numbers')\n",
    "    except ZeroDivisionError:\n",
    "        print('Enter valid number for denominator')\n",
    "    except ValueError:\n",
    "        print('Both values should be either integer or float')\n",
    "    else:\n",
    "        print(f'Input values are: x={x} & y={y}')\n",
    "        print(f\"result is: {z}\")\n",
    "    finally:\n",
    "        print('function process has been completed')\n",
    "\n",
    "# test \n",
    "print(div_process1(6,2))\n",
    "print(\"\\n\\n\")\n",
    "print(div_process1(3,2))\n",
    "print(\"\\n\\n\")\n",
    "print(div_process1(6,0))\n",
    "print(\"\\n\\n\")\n",
    "print(div_process1(9,'aj'))\n",
    "print(\"\\n\\n\")\n",
    "print(div_process1(0,10)) "
   ]
  },
  {
   "cell_type": "markdown",
   "id": "c2a6ad92",
   "metadata": {},
   "source": [
    "**5. Accessing dictionary key safely**"
   ]
  },
  {
   "cell_type": "code",
   "execution_count": 56,
   "id": "63bcdaa7",
   "metadata": {},
   "outputs": [
    {
     "name": "stdout",
     "output_type": "stream",
     "text": [
      "'role' key is missing\n",
      "Role: Not assigned\n"
     ]
    }
   ],
   "source": [
    "user = {'name':'Nick'}\n",
    "\n",
    "try:\n",
    "    print('Role:', user['role'])\n",
    "except KeyError:\n",
    "    print(\"'role' key is missing\")\n",
    "\n",
    "# Better way (no need for try/except here):\n",
    "print(\"Role:\",user.get(\"role\",\"Not assigned\"))"
   ]
  },
  {
   "cell_type": "markdown",
   "id": "b0f65225",
   "metadata": {},
   "source": [
    "**with time decorator**"
   ]
  },
  {
   "cell_type": "code",
   "execution_count": 61,
   "id": "de539684",
   "metadata": {},
   "outputs": [
    {
     "name": "stdout",
     "output_type": "stream",
     "text": [
      "role is: scientist\n",
      "role provided user name is: aj\n",
      "dictionary key checking has been completed\n",
      "this function took almost 3.981590270996094e-05 seconds to complete the process.\n",
      "None\n",
      "\n",
      "\n",
      "role is not provided yet\n",
      "dictionary key checking has been completed\n",
      "this function took almost 7.867813110351562e-06 seconds to complete the process.\n",
      "None\n"
     ]
    }
   ],
   "source": [
    "import time\n",
    "\n",
    "def time_decorator(func):\n",
    "    def wrapper(*args, **kwargs):\n",
    "        start_time = time.time()\n",
    "        result = func(*args, **kwargs)\n",
    "        end_time = time.time()\n",
    "        print(f\"this function took almost {end_time-start_time} seconds to complete the process.\")\n",
    "        return result\n",
    "    return wrapper\n",
    "\n",
    "user1 = {'name':'aj', 'role':'scientist'}\n",
    "user2 = {'name':'xx'}\n",
    "\n",
    "@time_decorator\n",
    "def key_checker(x):\n",
    "    try:\n",
    "        print(f\"role is: {x['role']}\")\n",
    "    except KeyError:\n",
    "        print('role is not provided yet')\n",
    "    else:\n",
    "        print(f\"role provided user name is: {x['name']}\")\n",
    "    finally:\n",
    "        print(f\"dictionary key checking has been completed\")\n",
    "\n",
    "print(key_checker(user1))\n",
    "print(\"\\n\")\n",
    "print(key_checker(user2))"
   ]
  },
  {
   "cell_type": "markdown",
   "id": "d1b2107d",
   "metadata": {},
   "source": [
    "**The best way to complete the process**"
   ]
  },
  {
   "cell_type": "code",
   "execution_count": 65,
   "id": "60971d29",
   "metadata": {},
   "outputs": [
    {
     "data": {
      "text/plain": [
       "'Analytics Manager'"
      ]
     },
     "execution_count": 65,
     "metadata": {},
     "output_type": "execute_result"
    }
   ],
   "source": [
    "user3 = {'name':'Chris'}\n",
    "user4 = {'name':'Adarsh', 'role':'Analytics Manager'}\n",
    "\n",
    "user3.get('role','not assigned')\n",
    "user4.get('role','not assigned')"
   ]
  },
  {
   "cell_type": "markdown",
   "id": "bcd31b25",
   "metadata": {},
   "source": [
    "**6. Sending an Email (Simulated)**"
   ]
  },
  {
   "cell_type": "markdown",
   "id": "be0e7197",
   "metadata": {},
   "source": [
    "This is a simplified version. In real apps, use smtplib."
   ]
  },
  {
   "cell_type": "code",
   "execution_count": 69,
   "id": "67ebcb4a",
   "metadata": {},
   "outputs": [
    {
     "name": "stdout",
     "output_type": "stream",
     "text": [
      "Email failed: Emmail server not reachable\n",
      "Email attempt completed.\n"
     ]
    }
   ],
   "source": [
    "def send_email():\n",
    "    try:\n",
    "        raise ConnectionError('Emmail server not reachable')\n",
    "    except ConnectionError as e:\n",
    "        print(f\"Email failed: {e}\")\n",
    "    else:\n",
    "        print(\"Email sent successfully!\")\n",
    "    finally:\n",
    "        print(\"Email attempt completed.\")\n",
    "\n",
    "send_email()"
   ]
  },
  {
   "cell_type": "markdown",
   "id": "e3607e03",
   "metadata": {},
   "source": [
    "**Bonus: raise for Manual Errors**"
   ]
  },
  {
   "cell_type": "markdown",
   "id": "6e7fefd2",
   "metadata": {},
   "source": [
    "You can force an error if something doesn't meet your criteria."
   ]
  },
  {
   "cell_type": "code",
   "execution_count": 95,
   "id": "d63989fa",
   "metadata": {},
   "outputs": [
    {
     "name": "stdout",
     "output_type": "stream",
     "text": [
      "Error: Age Cannot be negative\n"
     ]
    }
   ],
   "source": [
    "def process_age(age):\n",
    "    if age < 0:\n",
    "        raise ValueError(\"Age Cannot be negative\")\n",
    "    return f\"Your age is {age}\"\n",
    "\n",
    "try:\n",
    "    print(process_age(-5))\n",
    "except ValueError as e:\n",
    "    print(\"Error:\",e)"
   ]
  },
  {
   "cell_type": "code",
   "execution_count": 97,
   "id": "d572afbf",
   "metadata": {},
   "outputs": [
    {
     "name": "stdout",
     "output_type": "stream",
     "text": [
      "Error: Age can't be negative\n"
     ]
    }
   ],
   "source": [
    "def error_age(age):\n",
    "    if age < 0:\n",
    "        raise ValueError(\"Age can't be negative\")\n",
    "    elif age >150:\n",
    "        raise ValueError(\"Age seems unrealistic\")\n",
    "    return f\"Your age is {age}\"\n",
    "    \n",
    "try:\n",
    "    print(error_age(-1))\n",
    "except ValueError as e:\n",
    "    print(f\"Error: {e}\")"
   ]
  },
  {
   "cell_type": "code",
   "execution_count": 99,
   "id": "a9b91b7b",
   "metadata": {},
   "outputs": [
    {
     "name": "stdout",
     "output_type": "stream",
     "text": [
      "Error: Age seems unrealistic\n"
     ]
    }
   ],
   "source": [
    "try:\n",
    "    print(error_age(182))\n",
    "except ValueError as e:\n",
    "    print(f\"Error: {e}\")"
   ]
  },
  {
   "cell_type": "markdown",
   "id": "d085ae21",
   "metadata": {},
   "source": [
    "**Excercise 1: Handle Missing File**"
   ]
  },
  {
   "cell_type": "markdown",
   "id": "3f2c9986",
   "metadata": {},
   "source": [
    "Goal: Prevent the program from crashing if the file is missing."
   ]
  },
  {
   "cell_type": "code",
   "execution_count": 100,
   "id": "7d9cb8a5",
   "metadata": {},
   "outputs": [
    {
     "name": "stdout",
     "output_type": "stream",
     "text": [
      "File not found!\n"
     ]
    }
   ],
   "source": [
    "# Fix this code to avoid crashing if the file doesn't exist\n",
    "\n",
    "# Your Code Here\n",
    "\n",
    "try:\n",
    "    with open('missing_file.txt','r') as f:\n",
    "        print(f.read())\n",
    "except FileNotFoundError:\n",
    "    print('File not found!')"
   ]
  },
  {
   "cell_type": "markdown",
   "id": "e3783139",
   "metadata": {},
   "source": [
    "**Excercise 2: Safe Division**"
   ]
  },
  {
   "cell_type": "markdown",
   "id": "07ccb252",
   "metadata": {},
   "source": [
    "Goal: Add error handling to prevent divison by zero."
   ]
  },
  {
   "cell_type": "code",
   "execution_count": 114,
   "id": "b79038d6",
   "metadata": {},
   "outputs": [
    {
     "name": "stdout",
     "output_type": "stream",
     "text": [
      "Error: denominator can't be zero\n"
     ]
    }
   ],
   "source": [
    "def div(x,y):\n",
    "    try:\n",
    "        if y==0:\n",
    "            raise ValueError(\"denominator can't be zero\")\n",
    "        return x/y\n",
    "    except ValueError as e:\n",
    "        print(f\"Error: {e}\")\n",
    "\n",
    "div(3,0)"
   ]
  },
  {
   "cell_type": "code",
   "execution_count": 115,
   "id": "0486f9f5",
   "metadata": {},
   "outputs": [
    {
     "name": "stdout",
     "output_type": "stream",
     "text": [
      "5.0\n",
      "Cannot be divide by zero\n"
     ]
    }
   ],
   "source": [
    "def safe_division(a,b):\n",
    "    try:\n",
    "        return a/b\n",
    "    except ZeroDivisionError:\n",
    "        return \"Cannot be divide by zero\"\n",
    "    \n",
    "print(safe_division(10,2))\n",
    "print(safe_division(5,0))"
   ]
  },
  {
   "cell_type": "markdown",
   "id": "dc5cc377",
   "metadata": {},
   "source": [
    "**Excercise 3: Validate User Input**"
   ]
  },
  {
   "cell_type": "markdown",
   "id": "5b507984",
   "metadata": {},
   "source": [
    "Goal: Make sure only numbers are accepted."
   ]
  },
  {
   "cell_type": "code",
   "execution_count": 118,
   "id": "b726af8f",
   "metadata": {},
   "outputs": [
    {
     "name": "stdout",
     "output_type": "stream",
     "text": [
      "You entered: 5\n"
     ]
    }
   ],
   "source": [
    "# Ask the user for a number and handle if they type text\n",
    "try:\n",
    "    number = int(input('Enter a number: '))\n",
    "    print(f\"You entered: {number}\")\n",
    "except ValueError:\n",
    "    print('Not a valid number')"
   ]
  },
  {
   "cell_type": "markdown",
   "id": "c3f04995",
   "metadata": {},
   "source": [
    "**Exercise 4: API Call Simulation**"
   ]
  },
  {
   "cell_type": "markdown",
   "id": "ac7eff93",
   "metadata": {},
   "source": [
    "Goal: Simulate a failed API call using raise and handle it."
   ]
  },
  {
   "cell_type": "code",
   "execution_count": 119,
   "id": "39b40279",
   "metadata": {},
   "outputs": [
    {
     "name": "stdout",
     "output_type": "stream",
     "text": [
      "Error: Server is down\n"
     ]
    }
   ],
   "source": [
    "def fetch_data():\n",
    "    raise ConnectionError(\"Server is down\")\n",
    "\n",
    "# Handle the raised error\n",
    "try:\n",
    "    print(fetch_data())\n",
    "except ConnectionError as a:\n",
    "    print(f\"Error: {a}\")"
   ]
  },
  {
   "cell_type": "markdown",
   "id": "8aca9391",
   "metadata": {},
   "source": [
    "**Basic Example: Yielding Numbers One-by-One**"
   ]
  },
  {
   "cell_type": "code",
   "execution_count": 128,
   "id": "899e4c70",
   "metadata": {},
   "outputs": [
    {
     "name": "stdout",
     "output_type": "stream",
     "text": [
      "1\n",
      "2\n",
      "3\n",
      "4\n",
      "5\n"
     ]
    }
   ],
   "source": [
    "def count_up_to(n):\n",
    "    i = 1\n",
    "    while i <= n:\n",
    "        yield i\n",
    "        i += 1\n",
    "\n",
    "# Test\n",
    "for number in count_up_to(5):\n",
    "    print(number)"
   ]
  },
  {
   "cell_type": "code",
   "execution_count": 12,
   "id": "57bf5aaa",
   "metadata": {},
   "outputs": [
    {
     "name": "stdout",
     "output_type": "stream",
     "text": [
      "Countdown: 5\n",
      "Countdown: 4\n",
      "Countdown: 3\n",
      "Countdown: 2\n",
      "Countdown: 1\n"
     ]
    }
   ],
   "source": [
    "import time\n",
    "\n",
    "def countdown_timer(n):\n",
    "    while n > 0:\n",
    "        yield n\n",
    "        time.sleep(1) # wait 1 second\n",
    "        n -= 1\n",
    "\n",
    "# Test\n",
    "for second in countdown_timer(5):\n",
    "    print(f'Countdown: {second}')"
   ]
  },
  {
   "cell_type": "code",
   "execution_count": 22,
   "id": "5fda41b9",
   "metadata": {},
   "outputs": [
    {
     "name": "stdout",
     "output_type": "stream",
     "text": [
      "2\n",
      "4\n",
      "6\n",
      "8\n",
      "10\n"
     ]
    }
   ],
   "source": [
    "def even_number(n):\n",
    "    i = 1\n",
    "    while i <= n:\n",
    "        if i%2==0:\n",
    "            yield i\n",
    "        i += 1\n",
    "\n",
    "\n",
    "for i in even_number(10):\n",
    "    print(i)\n"
   ]
  },
  {
   "cell_type": "code",
   "execution_count": 25,
   "id": "3b345e06",
   "metadata": {},
   "outputs": [
    {
     "name": "stdout",
     "output_type": "stream",
     "text": [
      "2\n",
      "4\n",
      "6\n",
      "8\n"
     ]
    }
   ],
   "source": [
    "import time\n",
    "\n",
    "def even_timer(n):\n",
    "    i = 1\n",
    "    while i < n:\n",
    "        if i%2==0:\n",
    "            yield i\n",
    "        i+=1\n",
    "\n",
    "for x in even_timer(10):\n",
    "    print(x)"
   ]
  },
  {
   "cell_type": "code",
   "execution_count": null,
   "id": "8411c578",
   "metadata": {},
   "outputs": [],
   "source": []
  }
 ],
 "metadata": {
  "kernelspec": {
   "display_name": "base",
   "language": "python",
   "name": "python3"
  },
  "language_info": {
   "codemirror_mode": {
    "name": "ipython",
    "version": 3
   },
   "file_extension": ".py",
   "mimetype": "text/x-python",
   "name": "python",
   "nbconvert_exporter": "python",
   "pygments_lexer": "ipython3",
   "version": "3.12.9"
  }
 },
 "nbformat": 4,
 "nbformat_minor": 5
}
