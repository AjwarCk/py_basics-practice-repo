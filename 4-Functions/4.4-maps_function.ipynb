{
 "cells": [
  {
   "cell_type": "markdown",
   "id": "90b3a8ee",
   "metadata": {},
   "source": [
    "**The map() function in Python**\n",
    "\n",
    "The map() function applies a given function to all items in an input list (or any other iterable) and returns a map object (an iterator). This particularly useful for transforming data in a list comprehensively. "
   ]
  },
  {
   "cell_type": "code",
   "execution_count": 1,
   "id": "2cdab998",
   "metadata": {},
   "outputs": [
    {
     "data": {
      "text/plain": [
       "16"
      ]
     },
     "execution_count": 1,
     "metadata": {},
     "output_type": "execute_result"
    }
   ],
   "source": [
    "def square(x):\n",
    "    return x**2\n",
    "square(4)"
   ]
  },
  {
   "cell_type": "code",
   "execution_count": 2,
   "id": "d12145eb",
   "metadata": {},
   "outputs": [
    {
     "data": {
      "text/plain": [
       "[1, 4, 16, 16, 9, 25, 36, 49, 64, 81, 0, 1]"
      ]
     },
     "execution_count": 2,
     "metadata": {},
     "output_type": "execute_result"
    }
   ],
   "source": [
    "# lambda with map\n",
    "l3 = [1,2,4,4,3,5,6,7,8,9,0,1]\n",
    "list(map(lambda x:x**2,l3))"
   ]
  },
  {
   "cell_type": "code",
   "execution_count": 4,
   "id": "558120e3",
   "metadata": {},
   "outputs": [
    {
     "data": {
      "text/plain": [
       "[1, 4, 16, 16, 9, 25, 36, 49, 64, 81, 0, 1]"
      ]
     },
     "execution_count": 4,
     "metadata": {},
     "output_type": "execute_result"
    }
   ],
   "source": [
    "list(map(lambda x:x**2,l3))"
   ]
  },
  {
   "cell_type": "code",
   "execution_count": 6,
   "id": "e929eed7",
   "metadata": {},
   "outputs": [
    {
     "data": {
      "text/plain": [
       "[1, 8, 27, 64, 125, 216, 343, 512]"
      ]
     },
     "execution_count": 6,
     "metadata": {},
     "output_type": "execute_result"
    }
   ],
   "source": [
    "## lambda function with map\n",
    "numbers = [1,2,3,4,5,6,7,8]\n",
    "list(map(lambda x:x**3,numbers))"
   ]
  },
  {
   "cell_type": "code",
   "execution_count": 8,
   "id": "b345799c",
   "metadata": {},
   "outputs": [
    {
     "name": "stdout",
     "output_type": "stream",
     "text": [
      "[5, 7, 9]\n"
     ]
    }
   ],
   "source": [
    "## map multiple iterable\n",
    "\n",
    "numbers1 = [1,2,3]\n",
    "numbers2 = [4,5,6]\n",
    "\n",
    "added_numbers = list(map(lambda x,y:x+y,numbers1,numbers2))\n",
    "print(added_numbers)"
   ]
  },
  {
   "cell_type": "code",
   "execution_count": 9,
   "id": "57d38440",
   "metadata": {},
   "outputs": [
    {
     "data": {
      "text/plain": [
       "[44, 60, 78, 98, 120, 144]"
      ]
     },
     "execution_count": 9,
     "metadata": {},
     "output_type": "execute_result"
    }
   ],
   "source": [
    "n1 = [4,5,6,7,8,9]\n",
    "n2 = [11,12,13,14,15,16]\n",
    "\n",
    "list(map(lambda x,y:x*y,n1,n2))"
   ]
  },
  {
   "cell_type": "code",
   "execution_count": 10,
   "id": "d2c3ca6a",
   "metadata": {},
   "outputs": [
    {
     "name": "stdout",
     "output_type": "stream",
     "text": [
      "[1, 2, 3, 4, 5]\n"
     ]
    }
   ],
   "source": [
    "## map() to convert a list of strings to integers\n",
    "# use map to convert strings to integers\n",
    "str_numbers = ['1','2','3','4','5']\n",
    "int_numbers = list(map(int, str_numbers))\n",
    "\n",
    "print(int_numbers)"
   ]
  },
  {
   "cell_type": "code",
   "execution_count": 12,
   "id": "1a29b378",
   "metadata": {},
   "outputs": [
    {
     "name": "stdout",
     "output_type": "stream",
     "text": [
      "[0.0, 1.0, 2.0, 3.0, 4.0, 5.0]\n"
     ]
    }
   ],
   "source": [
    "a = ['0','1','2','3','4','5']\n",
    "i = list(map(float,a))\n",
    "\n",
    "print(i)"
   ]
  },
  {
   "cell_type": "code",
   "execution_count": 14,
   "id": "d1a267a2",
   "metadata": {},
   "outputs": [
    {
     "name": "stdout",
     "output_type": "stream",
     "text": [
      "['APPLE', 'BANANNA', 'CHERRY']\n"
     ]
    }
   ],
   "source": [
    "words = ['apple','bananna','cherry']\n",
    "\n",
    "upper_words = list(map(str.upper,words))\n",
    "\n",
    "print(upper_words)"
   ]
  },
  {
   "cell_type": "code",
   "execution_count": 15,
   "id": "1106bbc1",
   "metadata": {},
   "outputs": [
    {
     "data": {
      "text/plain": [
       "['Ajwar', 'John']"
      ]
     },
     "execution_count": 15,
     "metadata": {},
     "output_type": "execute_result"
    }
   ],
   "source": [
    "def get_name(person):\n",
    "    return person['name']\n",
    "\n",
    "people = [\n",
    "    {'name':'Ajwar','age':29},\n",
    "    {'name':'John','age':33}\n",
    "]\n",
    "\n",
    "list(map(get_name,people))"
   ]
  },
  {
   "cell_type": "markdown",
   "id": "9fc86c54",
   "metadata": {},
   "source": [
    "**Conclusion**\n",
    "\n",
    "The map() function is a powerful tool for applying transformation to iterable structures. It can be used with regular fnctions, lambda functions, and even multiple iterables, providing a versatile approach to data processing in Python. by understanding and utilizing map(), you can write more efficient and readable code."
   ]
  }
 ],
 "metadata": {
  "kernelspec": {
   "display_name": "base",
   "language": "python",
   "name": "python3"
  },
  "language_info": {
   "codemirror_mode": {
    "name": "ipython",
    "version": 3
   },
   "file_extension": ".py",
   "mimetype": "text/x-python",
   "name": "python",
   "nbconvert_exporter": "python",
   "pygments_lexer": "ipython3",
   "version": "3.12.9"
  }
 },
 "nbformat": 4,
 "nbformat_minor": 5
}
