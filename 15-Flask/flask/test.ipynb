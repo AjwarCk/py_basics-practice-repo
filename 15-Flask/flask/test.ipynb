{
 "cells": [
  {
   "cell_type": "code",
   "execution_count": 5,
   "id": "2a732144",
   "metadata": {},
   "outputs": [],
   "source": [
    "items = [\n",
    "    {'id':1, 'name':'Apple'},\n",
    "    {'id':2, 'name':'Banana'},\n",
    "    {'id':3, 'name':'Orange'},\n",
    "    {'id':3, 'name':'Graphs'}\n",
    "]\n",
    "\n",
    "search_id = 3"
   ]
  },
  {
   "cell_type": "code",
   "execution_count": 14,
   "id": "186c50b5",
   "metadata": {},
   "outputs": [],
   "source": [
    "import pandas as pd\n",
    "import numpy as np"
   ]
  },
  {
   "cell_type": "code",
   "execution_count": 20,
   "id": "2a7f69a7",
   "metadata": {},
   "outputs": [
    {
     "data": {
      "text/plain": [
       "[{'id': 3, 'name': 'Orange'}, {'id': 3, 'name': 'Graphs'}]"
      ]
     },
     "execution_count": 20,
     "metadata": {},
     "output_type": "execute_result"
    }
   ],
   "source": [
    "[item for item in items if item['id']==3]"
   ]
  },
  {
   "cell_type": "code",
   "execution_count": null,
   "id": "edd1c29b",
   "metadata": {},
   "outputs": [
    {
     "name": "stdout",
     "output_type": "stream",
     "text": [
      "Found using next(): {'id': 3, 'name': 'Orange'}\n"
     ]
    }
   ],
   "source": [
    "## 1. Using `next()` (efficient)\n",
    "## Using next() with generator expression\n",
    "found_item = next((item for item in items if item['id']==search_id), None)\n",
    "print(\"Found using next():\",found_item)"
   ]
  },
  {
   "cell_type": "code",
   "execution_count": 24,
   "id": "9b241762",
   "metadata": {},
   "outputs": [
    {
     "name": "stdout",
     "output_type": "stream",
     "text": [
      "Found using list comprehension: {'id': 3, 'name': 'Orange'}\n"
     ]
    }
   ],
   "source": [
    "## 2. Using 'List comprehension' (less efficient)\n",
    "## Using list comprehension (creates full list of matches)\n",
    "matches = [item for item in items if item['id']==search_id]\n",
    "found_item_lc = matches[0] if matches else None\n",
    "print(\"Found using list comprehension:\", found_item_lc)"
   ]
  },
  {
   "cell_type": "code",
   "execution_count": 25,
   "id": "31b0168e",
   "metadata": {},
   "outputs": [
    {
     "data": {
      "text/plain": [
       "{'id': 3, 'name': 'Orange'}"
      ]
     },
     "execution_count": 25,
     "metadata": {},
     "output_type": "execute_result"
    }
   ],
   "source": [
    "next((item for item in items if item['id']==3),None)"
   ]
  },
  {
   "cell_type": "code",
   "execution_count": 26,
   "id": "8d55728c",
   "metadata": {},
   "outputs": [
    {
     "name": "stdout",
     "output_type": "stream",
     "text": [
      "Found using manual for-loop: {'id': 3, 'name': 'Orange'}\n"
     ]
    }
   ],
   "source": [
    "# 3. Using a manual for loop\n",
    "found_item_loop = None\n",
    "for item in items:\n",
    "    if item['id'] == search_id:\n",
    "        found_item_loop = item\n",
    "        break\n",
    "\n",
    "print(\"Found using manual for-loop:\", found_item_loop)\n"
   ]
  },
  {
   "cell_type": "code",
   "execution_count": 27,
   "id": "5bfb4c1a",
   "metadata": {},
   "outputs": [
    {
     "name": "stdout",
     "output_type": "stream",
     "text": [
      "Time using next(): 0.026719 seconds\n",
      "Time using list comprehension: 0.022165 seconds\n",
      "Time using manual for-loop: 0.031301 seconds\n"
     ]
    }
   ],
   "source": [
    "import time\n",
    "\n",
    "# Large list for timing test\n",
    "large_items = [{'id': i, 'name': f'Item{i}'} for i in range(1, 1000000)]\n",
    "\n",
    "search_id = 999999\n",
    "\n",
    "# Time next()\n",
    "start = time.time()\n",
    "result_next = next((item for item in large_items if item['id'] == search_id), None)\n",
    "end = time.time()\n",
    "print(f\"Time using next(): {end - start:.6f} seconds\")\n",
    "\n",
    "# Time list comprehension\n",
    "start = time.time()\n",
    "result_lc = [item for item in large_items if item['id'] == search_id]\n",
    "end = time.time()\n",
    "print(f\"Time using list comprehension: {end - start:.6f} seconds\")\n",
    "\n",
    "# Time manual for-loop\n",
    "start = time.time()\n",
    "result_loop = None\n",
    "for item in large_items:\n",
    "    if item['id'] == search_id:\n",
    "        result_loop = item\n",
    "        break\n",
    "end = time.time()\n",
    "print(f\"Time using manual for-loop: {end - start:.6f} seconds\")\n"
   ]
  }
 ],
 "metadata": {
  "kernelspec": {
   "display_name": "base",
   "language": "python",
   "name": "python3"
  },
  "language_info": {
   "codemirror_mode": {
    "name": "ipython",
    "version": 3
   },
   "file_extension": ".py",
   "mimetype": "text/x-python",
   "name": "python",
   "nbconvert_exporter": "python",
   "pygments_lexer": "ipython3",
   "version": "3.12.9"
  }
 },
 "nbformat": 4,
 "nbformat_minor": 5
}
