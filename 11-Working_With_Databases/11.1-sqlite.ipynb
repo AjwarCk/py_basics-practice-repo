{
 "cells": [
  {
   "cell_type": "markdown",
   "id": "b0b01aac",
   "metadata": {},
   "source": [
    "#### SQL And SQLite"
   ]
  },
  {
   "cell_type": "markdown",
   "id": "36a860cb",
   "metadata": {},
   "source": [
    "SQL (Structured Query Language) is a standard language for managing and manipulating relational databases. SQLite is self-contained, serverless and zero-configuration database engine that is widely used for embeded database systems. In this lesson, we will cover the basics of SQL and SQLite, including creating databases, tables, and performing various SQL operations."
   ]
  },
  {
   "cell_type": "code",
   "execution_count": 57,
   "id": "9bcff62b",
   "metadata": {},
   "outputs": [],
   "source": [
    "import sqlite3"
   ]
  },
  {
   "cell_type": "code",
   "execution_count": 58,
   "id": "abf8ac7b",
   "metadata": {},
   "outputs": [
    {
     "data": {
      "text/plain": [
       "<sqlite3.Connection at 0x11b34c040>"
      ]
     },
     "execution_count": 58,
     "metadata": {},
     "output_type": "execute_result"
    }
   ],
   "source": [
    "## Conenct to an SQLite database\n",
    "connection = sqlite3.connect('example.db')\n",
    "connection"
   ]
  },
  {
   "cell_type": "code",
   "execution_count": 59,
   "id": "948cfe68",
   "metadata": {},
   "outputs": [],
   "source": [
    "cursor = connection.cursor()"
   ]
  },
  {
   "cell_type": "code",
   "execution_count": 60,
   "id": "da2e3a2d",
   "metadata": {},
   "outputs": [],
   "source": [
    "## Create a Table\n",
    "cursor.execute('''\n",
    "create table if not exists employees(\n",
    "               id integer primary key,\n",
    "               name text not null,\n",
    "               age integer,\n",
    "               department text\n",
    "               )               \n",
    "''')\n",
    "\n",
    "## Commit the changes\n",
    "connection.commit()"
   ]
  },
  {
   "cell_type": "code",
   "execution_count": 61,
   "id": "af9673de",
   "metadata": {},
   "outputs": [
    {
     "data": {
      "text/plain": [
       "<sqlite3.Cursor at 0x11b2e13c0>"
      ]
     },
     "execution_count": 61,
     "metadata": {},
     "output_type": "execute_result"
    }
   ],
   "source": [
    "cursor.execute('''\n",
    "select * from employees\n",
    "               ''')"
   ]
  },
  {
   "cell_type": "code",
   "execution_count": 77,
   "id": "25b10055",
   "metadata": {},
   "outputs": [],
   "source": [
    "## Insert the data in sqlite table\n",
    "try:\n",
    "    cursor.execute(\"insert into employees(name,age,department) values('Ajwar',27,'ML Eng')\")\n",
    "    cursor.execute(\"insert into employees(name,age,department) values('Adarsh',35,'Manager')\")\n",
    "    cursor.execute(\"insert into employees(name,age,department) values('Sreekanth',32,'Senior Dev')\")\n",
    "    cursor.execute(\"insert into employees(name,age,department) values('Shashank',26,'Analyst')\")\n",
    "except Exception as e: # save only if all success\n",
    "    connection.rollback() # undo partial inserts\n",
    "    print(\"Error occured:\",e)\n",
    "\n",
    "## Commit the chages (save)\n",
    "connection.commit()"
   ]
  },
  {
   "cell_type": "code",
   "execution_count": 82,
   "id": "150f6133",
   "metadata": {},
   "outputs": [
    {
     "name": "stdout",
     "output_type": "stream",
     "text": [
      "(1, 'Ajwar', 27, 'ML Eng')\n",
      "(2, 'Adarsh', 30, 'Manager')\n",
      "(3, 'Sreekanth', 32, 'Senior Dev')\n",
      "(4, 'Shashank', 26, 'Analyst')\n"
     ]
    }
   ],
   "source": [
    "## Query the data from the table\n",
    "cursor.execute(\"select * from employees\")\n",
    "rows = cursor.fetchall()\n",
    "for row in rows:\n",
    "    print(row)"
   ]
  },
  {
   "cell_type": "code",
   "execution_count": 83,
   "id": "aa32cd8d",
   "metadata": {},
   "outputs": [
    {
     "data": {
      "text/plain": [
       "<sqlite3.Cursor at 0x11b2e13c0>"
      ]
     },
     "execution_count": 83,
     "metadata": {},
     "output_type": "execute_result"
    }
   ],
   "source": [
    "## Update the data in the table\n",
    "cursor.execute(\"update employees set age=30 where name='Adarsh'\")"
   ]
  },
  {
   "cell_type": "code",
   "execution_count": 85,
   "id": "9f09c4e8",
   "metadata": {},
   "outputs": [
    {
     "name": "stdout",
     "output_type": "stream",
     "text": [
      "(1, 'Ajwar', 27, 'ML Eng')\n",
      "(2, 'Adarsh', 30, 'Manager')\n",
      "(3, 'Sreekanth', 32, 'Senior Dev')\n",
      "(4, 'Shashank', 26, 'Analyst')\n"
     ]
    }
   ],
   "source": [
    "## Query the data from the table\n",
    "cursor.execute(\"select * from employees\")\n",
    "rows = cursor.fetchall()\n",
    "\n",
    "## Print the queried data\n",
    "for row in rows:\n",
    "    print(row)"
   ]
  },
  {
   "cell_type": "code",
   "execution_count": 86,
   "id": "4758f820",
   "metadata": {},
   "outputs": [],
   "source": [
    "## Delete the data from the table\n",
    "cursor.execute(\"delete from employees where name='Shashank'\")\n",
    "\n",
    "## Save changes\n",
    "connection.commit()"
   ]
  },
  {
   "cell_type": "code",
   "execution_count": 88,
   "id": "1a172abb",
   "metadata": {},
   "outputs": [
    {
     "name": "stdout",
     "output_type": "stream",
     "text": [
      "(1, 'Ajwar', 27, 'ML Eng')\n",
      "(2, 'Adarsh', 30, 'Manager')\n",
      "(3, 'Sreekanth', 32, 'Senior Dev')\n"
     ]
    }
   ],
   "source": [
    "## Querying the data\n",
    "cursor.execute(\"select * from employees\")\n",
    "rows = cursor.fetchall()\n",
    "for row in rows:\n",
    "    print(row)"
   ]
  },
  {
   "cell_type": "code",
   "execution_count": 89,
   "id": "7f271d2f",
   "metadata": {},
   "outputs": [],
   "source": [
    "## Working with Sales Data\n",
    "## Connect to SQLite database\n",
    "connection = sqlite3.connect('sales_data.db')\n",
    "cursor = connection.cursor()\n",
    "\n",
    "## create a table for sales data\n",
    "cursor.execute('''\n",
    "create table if not exists sales(\n",
    "               id integer primary key,\n",
    "               date text not null,\n",
    "               product text not null,\n",
    "               sales integer,\n",
    "               region text\n",
    "               )               \n",
    "''')\n",
    "\n",
    "## Insert data into sales table\n",
    "sales_data = [\n",
    "    ('2023-01-01','Product1',100,'North'),\n",
    "    ('2023-01-02','Product2',200,'South'),\n",
    "    ('2023-01-03','Product3',300,'East'),\n",
    "    ('2023-01-04','Product4',400,'West'),\n",
    "    ('2023-01-05','Product5',500,'North')\n",
    "]\n",
    "\n",
    "cursor.executemany('''\n",
    "insert into sales(date,product,sales,region) values(?,?,?,?)\n",
    "                   ''',sales_data)\n",
    "\n",
    "connection.commit()"
   ]
  },
  {
   "cell_type": "code",
   "execution_count": 91,
   "id": "ead2cd31",
   "metadata": {},
   "outputs": [
    {
     "name": "stdout",
     "output_type": "stream",
     "text": [
      "(1, '2023-01-01', 'Product1', 100, 'North')\n",
      "(2, '2023-01-02', 'Product2', 200, 'South')\n",
      "(3, '2023-01-03', 'Product3', 300, 'East')\n",
      "(4, '2023-01-04', 'Product4', 400, 'West')\n",
      "(5, '2023-01-05', 'Product5', 500, 'North')\n"
     ]
    }
   ],
   "source": [
    "## Query the data form table\n",
    "cursor.execute(\"select * from sales\")\n",
    "rows = cursor.fetchall()\n",
    "for row in rows:\n",
    "    print(row)"
   ]
  },
  {
   "cell_type": "code",
   "execution_count": 92,
   "id": "4682f113",
   "metadata": {},
   "outputs": [],
   "source": [
    "## Close the connection\n",
    "connection.close()"
   ]
  },
  {
   "cell_type": "code",
   "execution_count": 93,
   "id": "2d5c3a2b",
   "metadata": {},
   "outputs": [
    {
     "ename": "ProgrammingError",
     "evalue": "Cannot operate on a closed database.",
     "output_type": "error",
     "traceback": [
      "\u001b[31m---------------------------------------------------------------------------\u001b[39m",
      "\u001b[31mProgrammingError\u001b[39m                          Traceback (most recent call last)",
      "\u001b[36mCell\u001b[39m\u001b[36m \u001b[39m\u001b[32mIn[93]\u001b[39m\u001b[32m, line 2\u001b[39m\n\u001b[32m      1\u001b[39m \u001b[38;5;66;03m## Query the data from table\u001b[39;00m\n\u001b[32m----> \u001b[39m\u001b[32m2\u001b[39m \u001b[43mcursor\u001b[49m\u001b[43m.\u001b[49m\u001b[43mexecute\u001b[49m\u001b[43m(\u001b[49m\u001b[33;43m\"\u001b[39;49m\u001b[33;43mselect * from sales\u001b[39;49m\u001b[33;43m\"\u001b[39;49m\u001b[43m)\u001b[49m\n\u001b[32m      3\u001b[39m rows = cursor.fetchall()\n\u001b[32m      4\u001b[39m \u001b[38;5;28;01mfor\u001b[39;00m row \u001b[38;5;129;01min\u001b[39;00m rows:\n",
      "\u001b[31mProgrammingError\u001b[39m: Cannot operate on a closed database."
     ]
    }
   ],
   "source": [
    "## Query the data from table\n",
    "cursor.execute(\"select * from sales\")\n",
    "rows = cursor.fetchall()\n",
    "for row in rows:\n",
    "    print(row)"
   ]
  },
  {
   "cell_type": "markdown",
   "id": "77e066ac",
   "metadata": {},
   "source": [
    "Here we have already close the connection, thats why its thowing the erro."
   ]
  }
 ],
 "metadata": {
  "kernelspec": {
   "display_name": "base",
   "language": "python",
   "name": "python3"
  },
  "language_info": {
   "codemirror_mode": {
    "name": "ipython",
    "version": 3
   },
   "file_extension": ".py",
   "mimetype": "text/x-python",
   "name": "python",
   "nbconvert_exporter": "python",
   "pygments_lexer": "ipython3",
   "version": "3.12.9"
  }
 },
 "nbformat": 4,
 "nbformat_minor": 5
}
