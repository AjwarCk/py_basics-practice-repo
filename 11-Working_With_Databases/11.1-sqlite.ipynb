{
 "cells": [
  {
   "cell_type": "markdown",
   "id": "b0b01aac",
   "metadata": {},
   "source": [
    "#### SQL And SQLite"
   ]
  },
  {
   "cell_type": "markdown",
   "id": "36a860cb",
   "metadata": {},
   "source": []
  }
 ],
 "metadata": {
  "kernelspec": {
   "display_name": "base",
   "language": "python",
   "name": "python3"
  },
  "language_info": {
   "name": "python",
   "version": "3.12.9"
  }
 },
 "nbformat": 4,
 "nbformat_minor": 5
}
