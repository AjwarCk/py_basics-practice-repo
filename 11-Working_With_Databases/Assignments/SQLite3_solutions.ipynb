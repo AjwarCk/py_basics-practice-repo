{
 "cells": [
  {
   "cell_type": "markdown",
   "id": "698716e1",
   "metadata": {},
   "source": [
    "### Module: SQLite3 Assignments"
   ]
  },
  {
   "cell_type": "markdown",
   "id": "de4012d6",
   "metadata": {},
   "source": [
    "#### Lesson: SQLite3"
   ]
  },
  {
   "cell_type": "code",
   "execution_count": 1,
   "id": "3ece2005",
   "metadata": {},
   "outputs": [],
   "source": [
    "import sqlite3"
   ]
  },
  {
   "cell_type": "markdown",
   "id": "18108d25",
   "metadata": {},
   "source": [
    "**Assignment 1: Creating and Connecting to a Database**\n",
    "\n",
    "1. Write a Python function to create a new SQLite3 database named `test.db`"
   ]
  },
  {
   "cell_type": "code",
   "execution_count": 13,
   "id": "fe35e099",
   "metadata": {},
   "outputs": [
    {
     "name": "stdout",
     "output_type": "stream",
     "text": [
      "the test.db has been created!\n"
     ]
    }
   ],
   "source": [
    "def create_database(database_name):\n",
    "    conn = sqlite3.connect(database_name)\n",
    "    conn.close()\n",
    "    print(f\"the {database_name} has been created!\")\n",
    "\n",
    "## Test the function\n",
    "create_database('test.db')"
   ]
  },
  {
   "cell_type": "code",
   "execution_count": 14,
   "id": "e19e024c",
   "metadata": {},
   "outputs": [],
   "source": [
    "# def create_database():\n",
    "#     conn = sqlite3.connect('test.db')\n",
    "#     conn.close()\n",
    "#     print(\"Database created and successfully connected.\")\n",
    "\n",
    "# ## Test the function\n",
    "# create_database()"
   ]
  },
  {
   "cell_type": "markdown",
   "id": "becab1d3",
   "metadata": {},
   "source": [
    "2. Write a Python function to create a table named `employees` with columns `id` (integer) `name` (text), `age` (integer), and `department` (text) in the `test.db` database."
   ]
  },
  {
   "cell_type": "code",
   "execution_count": 15,
   "id": "e2cb384d",
   "metadata": {},
   "outputs": [
    {
     "name": "stdout",
     "output_type": "stream",
     "text": [
      "The 'employees' table has been created inside test.db database\n"
     ]
    }
   ],
   "source": [
    "def create_table(database_name):\n",
    "    conn = sqlite3.connect(database_name)\n",
    "    cursor = conn.cursor()\n",
    "    cursor.execute('''\n",
    "            create table if not exists employees(\n",
    "                   id integer primary key,\n",
    "                   name text not null,\n",
    "                   age integer,\n",
    "                   department text\n",
    "                   )\n",
    "                   ''')\n",
    "    conn.commit()\n",
    "    conn.close()\n",
    "    print(f\"The 'employees' table has been created inside {database_name} database\")\n",
    "\n",
    "## Test the function\n",
    "create_table('test.db')\n"
   ]
  },
  {
   "cell_type": "markdown",
   "id": "9f5d40ed",
   "metadata": {},
   "source": [
    "**Assignment 2: Inserting Data**\n",
    "\n",
    "1. Write a Python function to insert a new employee into the `employees` table."
   ]
  },
  {
   "cell_type": "code",
   "execution_count": 16,
   "id": "47db0b97",
   "metadata": {},
   "outputs": [
    {
     "name": "stdout",
     "output_type": "stream",
     "text": [
      "Employee inserted successfully.\n"
     ]
    }
   ],
   "source": [
    "def insert_employee(database_name,id,name,age,department):\n",
    "    conn = sqlite3.connect(database_name)\n",
    "    cursor = conn.cursor()\n",
    "    cursor.execute(\"insert into employees(id,name,age,department) values(?,?,?,?)\",\n",
    "                   (id,name,age,department))\n",
    "    conn.commit()\n",
    "    conn.close()\n",
    "    print(\"Employee inserted successfully.\")\n",
    "\n",
    "## Test the function\n",
    "insert_employee('test.db',1,'Alice',30,'HR')"
   ]
  },
  {
   "cell_type": "markdown",
   "id": "36b0d3da",
   "metadata": {},
   "source": [
    "2. Insert at-least 5 different employees into the `employees` table."
   ]
  },
  {
   "cell_type": "code",
   "execution_count": 17,
   "id": "c5561675",
   "metadata": {},
   "outputs": [
    {
     "name": "stdout",
     "output_type": "stream",
     "text": [
      "Employee inserted successfully.\n",
      "Employee inserted successfully.\n",
      "Employee inserted successfully.\n",
      "Employee inserted successfully.\n"
     ]
    }
   ],
   "source": [
    "insert_employee('test.db',2,'Bob',25,'Engineering')\n",
    "insert_employee('test.db',3,'Charlie',28,'Sales')\n",
    "insert_employee('test.db',4,'David',35,'Marketing')\n",
    "insert_employee('test.db',5,'Eve',22,'HR')"
   ]
  },
  {
   "cell_type": "code",
   "execution_count": 19,
   "id": "605d78c7",
   "metadata": {},
   "outputs": [
    {
     "name": "stdout",
     "output_type": "stream",
     "text": [
      "(1, 'Alice', 30, 'HR')\n",
      "(2, 'Bob', 25, 'Engineering')\n",
      "(3, 'Charlie', 28, 'Sales')\n",
      "(4, 'David', 35, 'Marketing')\n",
      "(5, 'Eve', 22, 'HR')\n"
     ]
    }
   ],
   "source": [
    "conn = sqlite3.connect('test.db')\n",
    "cursor = conn.cursor()\n",
    "cursor.execute(\"select * from employees\")\n",
    "rows = cursor.fetchall()\n",
    "conn.close()\n",
    "for row in rows:\n",
    "    print(row)"
   ]
  },
  {
   "cell_type": "markdown",
   "id": "c78803be",
   "metadata": {},
   "source": [
    "**Assignment 3: Querying Data**\n",
    "\n",
    "1. Write a Python function to fetch and display all records from the `employees` table."
   ]
  },
  {
   "cell_type": "code",
   "execution_count": 22,
   "id": "5de55944",
   "metadata": {},
   "outputs": [
    {
     "name": "stdout",
     "output_type": "stream",
     "text": [
      "(1, 'Alice', 30, 'HR')\n",
      "(2, 'Bob', 25, 'Engineering')\n",
      "(3, 'Charlie', 28, 'Sales')\n",
      "(4, 'David', 35, 'Marketing')\n",
      "(5, 'Eve', 22, 'HR')\n",
      "\n",
      "Fetching has been completed!\n"
     ]
    }
   ],
   "source": [
    "def fetch_all_employees(database_name):\n",
    "    conn = sqlite3.connect(database_name)\n",
    "    cursor = conn.cursor()\n",
    "    cursor.execute(\"select * from employees\")\n",
    "    rows = cursor.fetchall()\n",
    "    conn.commit()\n",
    "    conn.close()\n",
    "    for row in rows:\n",
    "        print(row)\n",
    "    print(\"\\nFetching has been completed!\")\n",
    "\n",
    "# Test the function\n",
    "fetch_all_employees('test.db')"
   ]
  },
  {
   "cell_type": "markdown",
   "id": "c0db4ed9",
   "metadata": {},
   "source": [
    "2. Write a Python function to fetch and display all employees from a specific department."
   ]
  },
  {
   "cell_type": "code",
   "execution_count": 29,
   "id": "1d1c0165",
   "metadata": {},
   "outputs": [
    {
     "name": "stdout",
     "output_type": "stream",
     "text": [
      "(1, 'Alice', 30, 'HR')\n",
      "(5, 'Eve', 22, 'HR')\n"
     ]
    }
   ],
   "source": [
    "def fetch_employees_by_department(database,department):\n",
    "    with sqlite3.connect(database) as conn:\n",
    "        cursor = conn.cursor()\n",
    "        cursor.execute(\"select * from employees where department=?\",(department,))\n",
    "        records = cursor.fetchall()\n",
    "    for record in records:\n",
    "        print(record)\n",
    "\n",
    "## Testing Function\n",
    "fetch_employees_by_department('test.db','HR')"
   ]
  },
  {
   "cell_type": "markdown",
   "id": "03e5f1aa",
   "metadata": {},
   "source": [
    "**Assignmment 4: Updating Data**\n",
    "\n",
    "1. Write a Python function to update the department of an employee based on their `id`."
   ]
  },
  {
   "cell_type": "code",
   "execution_count": 32,
   "id": "41004596",
   "metadata": {},
   "outputs": [
    {
     "name": "stdout",
     "output_type": "stream",
     "text": [
      "\n",
      "Updation has been completed!\n",
      "(1, 'Alice', 30, 'DA')\n",
      "(2, 'Bob', 25, 'Engineering')\n",
      "(3, 'Charlie', 28, 'Sales')\n",
      "(4, 'David', 35, 'Marketing')\n",
      "(5, 'Eve', 22, 'HR')\n",
      "\n",
      "Fetching completed!\n"
     ]
    }
   ],
   "source": [
    "def update_employee_department(database,emp_id,new_department):\n",
    "    with sqlite3.connect(database) as conn:\n",
    "        cursor = conn.cursor()\n",
    "        cursor.execute(\"update employees set department=? where id=?\",(new_department,emp_id))\n",
    "        cursor.execute(\"select * from employees\")\n",
    "        records = cursor.fetchall()\n",
    "        print(\"\\nUpdation has been completed!\")\n",
    "    for record in records:\n",
    "        print(record)\n",
    "    print(\"\\nFetching completed!\")\n",
    "\n",
    "## Testing fucntion\n",
    "update_employee_department('test.db',1,'DA')"
   ]
  },
  {
   "cell_type": "markdown",
   "id": "a27733b2",
   "metadata": {},
   "source": [
    "2. Update the department of at least 2 employees and display the updated records."
   ]
  },
  {
   "cell_type": "code",
   "execution_count": 34,
   "id": "44de7b46",
   "metadata": {},
   "outputs": [
    {
     "name": "stdout",
     "output_type": "stream",
     "text": [
      "\n",
      "Updation has been completed!\n",
      "(1, 'Alice', 30, 'Research')\n",
      "(2, 'Bob', 25, 'Customer Support')\n",
      "(3, 'Charlie', 28, 'Sales')\n",
      "(4, 'David', 35, 'Marketing')\n",
      "(5, 'Eve', 22, 'HR')\n",
      "\n",
      "Fetching completed!\n",
      "\n",
      "Updation has been completed!\n",
      "(1, 'Alice', 30, 'Research')\n",
      "(2, 'Bob', 25, 'Customer Support')\n",
      "(3, 'Charlie', 28, 'Sales')\n",
      "(4, 'David', 35, 'Marketing')\n",
      "(5, 'Eve', 22, 'HR')\n",
      "\n",
      "Fetching completed!\n",
      "(1, 'Alice', 30, 'Research')\n",
      "(2, 'Bob', 25, 'Customer Support')\n",
      "(3, 'Charlie', 28, 'Sales')\n",
      "(4, 'David', 35, 'Marketing')\n",
      "(5, 'Eve', 22, 'HR')\n",
      "\n",
      "Fetching has been completed!\n"
     ]
    }
   ],
   "source": [
    "## Update the department of 2 employees\n",
    "update_employee_department('test.db',1,'Research')\n",
    "update_employee_department('test.db',2,'Customer Support')\n",
    "\n",
    "## Fetch and display all records\n",
    "fetch_all_employees('test.db')"
   ]
  },
  {
   "cell_type": "markdown",
   "id": "300b7aff",
   "metadata": {},
   "source": [
    "**Assignment 5: Deleting Data**\n",
    "\n",
    "1. Write a Python function to delete an employee from the `employees` table based on their `id`"
   ]
  },
  {
   "cell_type": "code",
   "execution_count": 36,
   "id": "c233f7a9",
   "metadata": {},
   "outputs": [
    {
     "name": "stdout",
     "output_type": "stream",
     "text": [
      "(1, 'Alice', 30, 'Research')\n",
      "(3, 'Charlie', 28, 'Sales')\n",
      "(4, 'David', 35, 'Marketing')\n",
      "(5, 'Eve', 22, 'HR')\n",
      "\n",
      "Employee deleted successfully!\n"
     ]
    }
   ],
   "source": [
    "def delete_employee(database,employee_id):\n",
    "    with sqlite3.connect(database) as conn:\n",
    "        cursor = conn.cursor()\n",
    "        cursor.execute(\"delete from employees where id=?\",(employee_id,))\n",
    "        cursor.execute(\"select * from employees\")\n",
    "        records = cursor.fetchall()\n",
    "    for record in records:\n",
    "        print(record)\n",
    "    print(\"\\nEmployee deleted successfully!\")\n",
    "\n",
    "## Testing function\n",
    "delete_employee('test.db',2)"
   ]
  },
  {
   "cell_type": "markdown",
   "id": "dfdee7ac",
   "metadata": {},
   "source": [
    "2. Delete at least 1 employee and display the remaining records."
   ]
  },
  {
   "cell_type": "code",
   "execution_count": 38,
   "id": "52560da7",
   "metadata": {},
   "outputs": [
    {
     "name": "stdout",
     "output_type": "stream",
     "text": [
      "(1, 'Alice', 30, 'Research')\n",
      "(3, 'Charlie', 28, 'Sales')\n",
      "(5, 'Eve', 22, 'HR')\n",
      "\n",
      "Employee deleted successfully!\n",
      "(1, 'Alice', 30, 'Research')\n",
      "(3, 'Charlie', 28, 'Sales')\n",
      "(5, 'Eve', 22, 'HR')\n",
      "\n",
      "Fetching has been completed!\n"
     ]
    }
   ],
   "source": [
    "## Delete an employee\n",
    "delete_employee('test.db',4)\n",
    "\n",
    "## Fetch and display all records\n",
    "fetch_all_employees('test.db')"
   ]
  },
  {
   "cell_type": "markdown",
   "id": "96d455b7",
   "metadata": {},
   "source": [
    "**Assignment 6: Advanced Queries**\n",
    "\n",
    "1. Write a Python function to fetch and display employees older than a certain age."
   ]
  },
  {
   "cell_type": "code",
   "execution_count": 43,
   "id": "cd7bb093",
   "metadata": {},
   "outputs": [
    {
     "name": "stdout",
     "output_type": "stream",
     "text": [
      "(1, 'Alice', 30, 'Research')\n",
      "(3, 'Charlie', 28, 'Sales')\n",
      "\n",
      "Fetched employees older than 25 age!\n"
     ]
    }
   ],
   "source": [
    "def fetch_employees_older_than(database,age):\n",
    "    with sqlite3.connect(database) as conn:\n",
    "        cursor = conn.cursor()\n",
    "        cursor.execute(\"select * from employees where age>?\",(age,))\n",
    "        records = cursor.fetchall()\n",
    "    for record in records:\n",
    "        print(record)\n",
    "    print(\"\\nFetched employees older than 25 age!\")\n",
    "\n",
    "## Testing function\n",
    "fetch_employees_older_than('test.db',25)"
   ]
  },
  {
   "cell_type": "markdown",
   "id": "1d0ddf59",
   "metadata": {},
   "source": [
    "2. Write Python function to fetch and display employees whose names start with a specific letter."
   ]
  },
  {
   "cell_type": "code",
   "execution_count": 44,
   "id": "d08a229a",
   "metadata": {},
   "outputs": [
    {
     "name": "stdout",
     "output_type": "stream",
     "text": [
      "(1, 'Alice', 30, 'Research')\n",
      "\n",
      "Fetched records starts with 'a'!\n"
     ]
    }
   ],
   "source": [
    "def fetch_employees_name_starts_with(database,letter):\n",
    "    with sqlite3.connect(database) as conn:\n",
    "        cursor = conn.cursor()\n",
    "        cursor.execute(\"select * from employees where name like ?\",(letter+'%',))\n",
    "        records = cursor.fetchall()\n",
    "    for record in records:\n",
    "        print(record)\n",
    "    print(f\"\\nFetched records starts with '{letter}'!\")\n",
    "\n",
    "## Testing function\n",
    "fetch_employees_name_starts_with('test.db','a')"
   ]
  },
  {
   "cell_type": "markdown",
   "id": "4429c9e3",
   "metadata": {},
   "source": [
    "**Assignment 7: Handling Transactions**\n",
    "\n",
    "1. Write a Python function to insert multiple employees into `employees` table in a single transaction. Ensure that if any insertion fails, none of the insertion are committed."
   ]
  },
  {
   "cell_type": "code",
   "execution_count": 49,
   "id": "af75c6ea",
   "metadata": {},
   "outputs": [
    {
     "name": "stdout",
     "output_type": "stream",
     "text": [
      "Error occured, transaction rolled back.\n",
      "UNIQUE constraint failed: employees.id\n"
     ]
    }
   ],
   "source": [
    "def insert_multiple_employees(database,employees):\n",
    "    with sqlite3.connect(database) as conn:\n",
    "        cursor = conn.cursor()\n",
    "        try:\n",
    "            cursor.executemany('''\n",
    "                    insert into employees(id,name,age,department) values(?,?,?,?)\n",
    "                               ''',employees)\n",
    "            conn.commit()\n",
    "            print(\"All employees inserted successfully.\")\n",
    "        except Exception as e:\n",
    "            conn.rollback()\n",
    "            print(\"Error occured, transaction rolled back.\")\n",
    "            print(e)\n",
    "        finally:\n",
    "            conn.close\n",
    "\n",
    "## Test the function with valid and invalid data\n",
    "employees = [\n",
    "    (6,'Frank',40,'Finance'),\n",
    "    (7,'Grace',29,'Engineering'),\n",
    "    (8,'Hannah',35,'Marketing'),\n",
    "    (9,'Ivan',38,'Sales'),\n",
    "    (6,'Jack',45,'HR') # Duplicate ID to cause an error\n",
    "]\n",
    "\n",
    "insert_multiple_employees('test.db',employees)"
   ]
  },
  {
   "cell_type": "markdown",
   "id": "a13de9fd",
   "metadata": {},
   "source": [
    "2. Write a Python function to update the age of multiple employees in a single transaction. Ensure that if any update fails, none of the updates are committed."
   ]
  },
  {
   "cell_type": "code",
   "execution_count": 55,
   "id": "170d1c32",
   "metadata": {},
   "outputs": [
    {
     "name": "stdout",
     "output_type": "stream",
     "text": [
      "All employees age upated successfully\n",
      "\n",
      "All process completed\n"
     ]
    }
   ],
   "source": [
    "def update_multiple_employees_age(database,updates):\n",
    "    with sqlite3.connect(database) as conn:\n",
    "        cursor = conn.cursor()\n",
    "        try:\n",
    "            cursor.executemany(\"update employees set age=? where id=?\",updates)\n",
    "            conn.commit()\n",
    "            print(\"All employees age upated successfully\")\n",
    "        except Exception as e:\n",
    "            conn.rollback()\n",
    "            print(\"Error occured, transaction rolled back\")\n",
    "        finally:\n",
    "            print(\"\\nAll process completed\")\n",
    "\n",
    "## Test the function with valid and invalid data\n",
    "updates = [\n",
    "    (32,1),\n",
    "    (26,2),\n",
    "    (33,3),\n",
    "    (41,4),\n",
    "    (23,5)\n",
    "]\n",
    "\n",
    "update_multiple_employees_age('test.db',updates)"
   ]
  },
  {
   "cell_type": "code",
   "execution_count": 56,
   "id": "c3410c36",
   "metadata": {},
   "outputs": [
    {
     "name": "stdout",
     "output_type": "stream",
     "text": [
      "(1, 'Alice', 32, 'Research')\n",
      "(3, 'Charlie', 33, 'Sales')\n",
      "(5, 'Eve', 23, 'HR')\n",
      "\n",
      "Fetching has been completed!\n"
     ]
    }
   ],
   "source": [
    "fetch_all_employees('test.db')"
   ]
  },
  {
   "cell_type": "markdown",
   "id": "e3b8f4c9",
   "metadata": {},
   "source": [
    "**Assignment 8: Creating Relationship**\n",
    "\n",
    "1. Create a new table named `departments` with columns `id` (integer) and name (text)."
   ]
  },
  {
   "cell_type": "code",
   "execution_count": 57,
   "id": "b403ec7f",
   "metadata": {},
   "outputs": [
    {
     "name": "stdout",
     "output_type": "stream",
     "text": [
      "Table 'departments' created successfully.\n"
     ]
    }
   ],
   "source": [
    "def create_departments_table(database):\n",
    "    conn = sqlite3.connect(database)\n",
    "    cursor = conn.cursor()\n",
    "    cursor.execute('''\n",
    "                   create table if not exists departments(\n",
    "                            id integer primary key,\n",
    "                            name text not null\n",
    "                   )\n",
    "                   ''')\n",
    "    conn.commit()\n",
    "    conn.close()\n",
    "    print(\"Table 'departments' created successfully.\")\n",
    "\n",
    "## Test the function\n",
    "create_departments_table('test.db')"
   ]
  },
  {
   "cell_type": "markdown",
   "id": "7736be4b",
   "metadata": {},
   "source": [
    "2. Modify the `employees` table to include a foreign key referencing the `id` column in the `departments` table."
   ]
  },
  {
   "cell_type": "code",
   "execution_count": 58,
   "id": "2a8dd3e5",
   "metadata": {},
   "outputs": [
    {
     "name": "stdout",
     "output_type": "stream",
     "text": [
      "Table 'employees' modified successfully.\n"
     ]
    }
   ],
   "source": [
    "def add_department_foreign_key(database):\n",
    "    conn = sqlite3.connect(database)\n",
    "    cursor = conn.cursor()\n",
    "    cursor.execute\n",
    "    ('''\n",
    "        pragma foreign_keys=off;\n",
    "        begin transaction;\n",
    "        alter table employees rename to old_employees;\n",
    "        create table employees\n",
    "        (\n",
    "                   id integer primary key,\n",
    "                   name text not null,\n",
    "                   age integer,\n",
    "                   department text,\n",
    "                   department_id integer,\n",
    "                   foreign key(department_id) references departments(id)\n",
    "        );\n",
    "        insert into employees(id,name,age,department)\n",
    "        select id,name,age,department from old_employees\n",
    "        drop table old_employees;\n",
    "        commit;\n",
    "        pragma foreign_keys=on;\n",
    "    ''')\n",
    "    conn.commit()\n",
    "    conn.close()\n",
    "    print(\"Table 'employees' modified successfully.\")\n",
    "\n",
    "## Test the function\n",
    "add_department_foreign_key('test.db')"
   ]
  },
  {
   "cell_type": "code",
   "execution_count": 59,
   "id": "d292c4fc",
   "metadata": {},
   "outputs": [
    {
     "name": "stdout",
     "output_type": "stream",
     "text": [
      "(1, 'Alice', 32, 'Research')\n",
      "(3, 'Charlie', 33, 'Sales')\n",
      "(5, 'Eve', 23, 'HR')\n",
      "\n",
      "Fetching has been completed!\n"
     ]
    }
   ],
   "source": [
    "fetch_all_employees('test.db')"
   ]
  },
  {
   "cell_type": "markdown",
   "id": "8f350a13",
   "metadata": {},
   "source": [
    "3. Write a Python function to insert data into both the `departments` and `employees` tables, ensuring referencing integrity."
   ]
  },
  {
   "cell_type": "code",
   "execution_count": 61,
   "id": "d4844c65",
   "metadata": {},
   "outputs": [
    {
     "name": "stdout",
     "output_type": "stream",
     "text": [
      "Department and employees inserted successfully.\n"
     ]
    }
   ],
   "source": [
    "def insert_department_and_employees(database,department_id,department_name,employee_id,name,age,department):\n",
    "    conn = sqlite3.connect(database)\n",
    "    cursor = conn.cursor()\n",
    "    try:\n",
    "        cursor.execute\n",
    "        ('''\n",
    "        insert into departments(id,name) values(?,?) \n",
    "        ''',(department_id,department_name))\n",
    "        cursor.execute\n",
    "        ('''\n",
    "        insert into employees(id,name,age,department,department_id)\n",
    "        values(?,?,?,?,?)\n",
    "        ''',(employee_id,name,age,department,department_id))\n",
    "        conn.commit()\n",
    "        print(\"Department and employees inserted successfully.\")\n",
    "    except Exception as e:\n",
    "        conn.rollback()\n",
    "        print(\"Error occured, transaction rolled back.\")\n",
    "        print(e)\n",
    "    finally:\n",
    "        conn.close()\n",
    "\n",
    "## Test the function\n",
    "insert_department_and_employees('test.db',1,'Finance',10,'Zara',28,'Finance')"
   ]
  },
  {
   "cell_type": "markdown",
   "id": "79844f98",
   "metadata": {},
   "source": [
    "**Assignment 9: Indexing and Optimization**\n",
    "\n",
    "1. Create an index on the `name` column of the `employees` table."
   ]
  },
  {
   "cell_type": "code",
   "execution_count": 62,
   "id": "3dd1c249",
   "metadata": {},
   "outputs": [
    {
     "name": "stdout",
     "output_type": "stream",
     "text": [
      "Index on 'name' column created successfully.\n"
     ]
    }
   ],
   "source": [
    "def create_index_on_name(database):\n",
    "    conn = sqlite3.connect(database)\n",
    "    cursor = conn.cursor()\n",
    "    cursor.execute(\"create index idx_name on employees(name)\")\n",
    "    conn.commit()\n",
    "    conn.close()\n",
    "    print(\"Index on 'name' column created successfully.\")\n",
    "\n",
    "## Test the function\n",
    "create_index_on_name('test.db')"
   ]
  },
  {
   "cell_type": "markdown",
   "id": "bd5aa503",
   "metadata": {},
   "source": [
    "2. Write a Python function and display all employees whose names start with a specific letter. Compare the performance with and without index."
   ]
  },
  {
   "cell_type": "code",
   "execution_count": 65,
   "id": "e3a88d1f",
   "metadata": {},
   "outputs": [
    {
     "name": "stdout",
     "output_type": "stream",
     "text": [
      "Time taken:0.0003178119659423828 seconds\n",
      "(1, 'Alice', 32, 'Research')\n"
     ]
    }
   ],
   "source": [
    "import time\n",
    "\n",
    "def fetch_employees_name_starts_with_performance(database,letter):\n",
    "    conn = sqlite3.connect(database)\n",
    "    cursor = conn.cursor()\n",
    "    start_time = time.time()\n",
    "    cursor.execute(\"select * from employees where name like ?\",(letter+'%',))\n",
    "    records = cursor.fetchall()\n",
    "    end_time = time.time()\n",
    "    conn.close()\n",
    "    print(f\"Time taken:{end_time-start_time} seconds\")\n",
    "    for record in records:\n",
    "        print(record)\n",
    "\n",
    "## Test the function with the index\n",
    "fetch_employees_name_starts_with_performance('test.db','A')"
   ]
  },
  {
   "cell_type": "markdown",
   "id": "77aef991",
   "metadata": {},
   "source": [
    "**Assignment 10: Backing Up and Restoring Data**\n",
    "\n",
    "1. Write a Python function to back up the `test.db` database to a file named `backup.db`."
   ]
  },
  {
   "cell_type": "code",
   "execution_count": 67,
   "id": "3bfd40f4",
   "metadata": {},
   "outputs": [
    {
     "name": "stdout",
     "output_type": "stream",
     "text": [
      "Database backed up successfully.\n"
     ]
    }
   ],
   "source": [
    "import shutil\n",
    "\n",
    "def backup_database(database):\n",
    "    shutil.copy(database,'backup.db')\n",
    "    print(\"Database backed up successfully.\")\n",
    "\n",
    "## Test the function\n",
    "backup_database('test.db')"
   ]
  },
  {
   "cell_type": "markdown",
   "id": "1c8d4260",
   "metadata": {},
   "source": [
    "2. Write a Python function to restore the `test.db` database from the `backup.db` file."
   ]
  },
  {
   "cell_type": "code",
   "execution_count": 68,
   "id": "a50d2a8f",
   "metadata": {},
   "outputs": [
    {
     "name": "stdout",
     "output_type": "stream",
     "text": [
      "Database restored successfully!\n"
     ]
    }
   ],
   "source": [
    "def restore_database(database):\n",
    "    shutil.copy('backup.db',database)\n",
    "    print(\"Database restored successfully!\")\n",
    "\n",
    "## Test the function\n",
    "restore_database('test.db')"
   ]
  }
 ],
 "metadata": {
  "kernelspec": {
   "display_name": "base",
   "language": "python",
   "name": "python3"
  },
  "language_info": {
   "codemirror_mode": {
    "name": "ipython",
    "version": 3
   },
   "file_extension": ".py",
   "mimetype": "text/x-python",
   "name": "python",
   "nbconvert_exporter": "python",
   "pygments_lexer": "ipython3",
   "version": "3.12.9"
  }
 },
 "nbformat": 4,
 "nbformat_minor": 5
}
