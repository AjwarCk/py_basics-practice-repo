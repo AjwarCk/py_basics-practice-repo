{
 "cells": [
  {
   "cell_type": "markdown",
   "id": "698716e1",
   "metadata": {},
   "source": [
    "### Module: SQLite3 Assignments"
   ]
  },
  {
   "cell_type": "markdown",
   "id": "de4012d6",
   "metadata": {},
   "source": []
  }
 ],
 "metadata": {
  "kernelspec": {
   "display_name": "base",
   "language": "python",
   "name": "python3"
  },
  "language_info": {
   "name": "python",
   "version": "3.12.9"
  }
 },
 "nbformat": 4,
 "nbformat_minor": 5
}
