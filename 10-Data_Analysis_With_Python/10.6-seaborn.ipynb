{
 "cells": [
  {
   "cell_type": "markdown",
   "id": "9fc1c20c",
   "metadata": {},
   "source": [
    "### Data Visualizaion With Seaborn"
   ]
  },
  {
   "cell_type": "markdown",
   "id": "a9662e69",
   "metadata": {},
   "source": []
  }
 ],
 "metadata": {
  "kernelspec": {
   "display_name": "base",
   "language": "python",
   "name": "python3"
  },
  "language_info": {
   "name": "python",
   "version": "3.12.9"
  }
 },
 "nbformat": 4,
 "nbformat_minor": 5
}
