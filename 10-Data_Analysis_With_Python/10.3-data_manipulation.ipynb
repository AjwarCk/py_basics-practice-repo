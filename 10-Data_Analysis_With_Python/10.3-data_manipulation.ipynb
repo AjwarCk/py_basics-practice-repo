{
 "cells": [
  {
   "cell_type": "markdown",
   "id": "4061bb3e",
   "metadata": {},
   "source": [
    "### Data Manipulation and Analysis with Pandas"
   ]
  },
  {
   "cell_type": "markdown",
   "id": "9c86458d",
   "metadata": {},
   "source": [
    "Data manipulation and analysis are key tasks in any data science or data analysis project. Pandas provides a wide range of functions for data manipulation and analysis, making it easier to clean, transform and extract insights from data. In this lesson, we will cover various data manipulation and analysis techniques using pandas."
   ]
  },
  {
   "cell_type": "markdown",
   "id": "8371d904",
   "metadata": {},
   "source": [
    "impor"
   ]
  }
 ],
 "metadata": {
  "kernelspec": {
   "display_name": "base",
   "language": "python",
   "name": "python3"
  },
  "language_info": {
   "name": "python",
   "version": "3.12.9"
  }
 },
 "nbformat": 4,
 "nbformat_minor": 5
}
