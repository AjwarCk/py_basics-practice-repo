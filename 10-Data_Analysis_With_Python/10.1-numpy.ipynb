{
 "cells": [
  {
   "cell_type": "markdown",
   "id": "2ee01216",
   "metadata": {},
   "source": [
    "#### Numpy"
   ]
  },
  {
   "cell_type": "markdown",
   "id": "0685ff7b",
   "metadata": {},
   "source": [
    "Numpy is a fundamental library for scientific computing in Python. It provides support for arrays and matrices, along with a collection of mathematical functions to operate on these data structures. In this lesson, we will cover the basic of Numpy, focusing on arrays and vectorized operations."
   ]
  },
  {
   "cell_type": "code",
   "execution_count": 4,
   "id": "27a76d01",
   "metadata": {},
   "outputs": [
    {
     "name": "stdout",
     "output_type": "stream",
     "text": [
      "Requirement already satisfied: numpy in /opt/homebrew/Caskroom/miniconda/base/lib/python3.12/site-packages (2.2.4)\n"
     ]
    }
   ],
   "source": [
    "!pip install numpy"
   ]
  },
  {
   "cell_type": "code",
   "execution_count": 5,
   "id": "1dcb1ce5",
   "metadata": {},
   "outputs": [
    {
     "name": "stdout",
     "output_type": "stream",
     "text": [
      "[1 2 3 4 5]\n",
      "<class 'numpy.ndarray'>\n",
      "(5,)\n"
     ]
    }
   ],
   "source": [
    "import numpy as np\n",
    "\n",
    "## Create array using numpy\n",
    "## Create a ID array\n",
    "arr1 = np.array([1,2,3,4,5])\n",
    "print(arr1)\n",
    "print(type(arr1))\n",
    "print(arr1.shape)"
   ]
  },
  {
   "cell_type": "code",
   "execution_count": 7,
   "id": "df35bb58",
   "metadata": {},
   "outputs": [
    {
     "data": {
      "text/plain": [
       "array([[1, 2, 3, 4, 5]])"
      ]
     },
     "execution_count": 7,
     "metadata": {},
     "output_type": "execute_result"
    }
   ],
   "source": [
    "## 1 d array\n",
    "arr2 = np.array([1,2,3,4,5])\n",
    "## Reshape to 2 d array\n",
    "arr2.reshape(1,5) ## 1 row and 5 columns"
   ]
  },
  {
   "cell_type": "code",
   "execution_count": 8,
   "id": "ce57d3e0",
   "metadata": {},
   "outputs": [
    {
     "name": "stdout",
     "output_type": "stream",
     "text": [
      "Original (1D):\n",
      "array: [1 2 3 4 5]\n",
      "shape: (5,) ndim: 1\n",
      "\n",
      "Reshaped (1,5):\n",
      "array:\n",
      " [[1 2 3 4 5]]\n",
      "shape: (1, 5)  ndim: 2\n",
      "\n",
      "Reshaped (5,1):\n",
      "array:\n",
      " [[1]\n",
      " [2]\n",
      " [3]\n",
      " [4]\n",
      " [5]]\n",
      "shape: (5, 1) ndim: 2\n"
     ]
    }
   ],
   "source": [
    "arr2 = np.array([1,2,3,4,5])\n",
    "\n",
    "print(\"Original (1D):\")\n",
    "print(\"array:\", arr2)\n",
    "print(\"shape:\", arr2.shape, \"ndim:\", arr2.ndim)\n",
    "\n",
    "print(\"\\nReshaped (1,5):\")\n",
    "print(\"array:\\n\", arr2.reshape(1,5))\n",
    "print(\"shape:\", arr2.reshape(1,5).shape, \" ndim:\", arr2.reshape(1,5).ndim)\n",
    "\n",
    "print(\"\\nReshaped (5,1):\")\n",
    "print(\"array:\\n\", arr2.reshape(5,1))\n",
    "print(\"shape:\", arr2.reshape(5,1).shape, \"ndim:\", arr2.reshape(5,1).ndim)"
   ]
  },
  {
   "cell_type": "code",
   "execution_count": null,
   "id": "2b1a81c9",
   "metadata": {},
   "outputs": [
    {
     "name": "stdout",
     "output_type": "stream",
     "text": [
      "arr2 shape: (1, 5)\n",
      "arr2 dimension: 2\n"
     ]
    }
   ],
   "source": [
    "## 2D array\n",
    "arr2 = np.array([[1,2,3,4,5]])\n",
    "print(f\"arr2 shape: {arr2.shape}\")\n",
    "print(f\"arr2 dimension: {arr2.ndim}\")"
   ]
  },
  {
   "cell_type": "code",
   "execution_count": 11,
   "id": "60f87440",
   "metadata": {},
   "outputs": [
    {
     "name": "stdout",
     "output_type": "stream",
     "text": [
      "[[1 2 3 4 5]\n",
      " [2 3 4 5 6]]\n",
      "arr2 shape: (2, 5)\n",
      "arr2 dimensions: 2\n"
     ]
    }
   ],
   "source": [
    "## 2D array - more examples\n",
    "arr2 = np.array([[1,2,3,4,5],[2,3,4,5,6]])\n",
    "print(arr2)\n",
    "print(f\"arr2 shape: {arr2.shape}\")\n",
    "print(f\"arr2 dimensions: {arr2.ndim}\")"
   ]
  },
  {
   "cell_type": "code",
   "execution_count": 16,
   "id": "9d00a7b6",
   "metadata": {},
   "outputs": [
    {
     "data": {
      "text/plain": [
       "array([0, 2, 4, 6, 8])"
      ]
     },
     "execution_count": 16,
     "metadata": {},
     "output_type": "execute_result"
    }
   ],
   "source": [
    "np.arange(0,10,2)"
   ]
  },
  {
   "cell_type": "code",
   "execution_count": 29,
   "id": "aeec7374",
   "metadata": {},
   "outputs": [
    {
     "name": "stdout",
     "output_type": "stream",
     "text": [
      "[0 2 4 6 8]\n",
      "shape: (5,)\n",
      "dimension: 1\n",
      "\n",
      "Reshaping to Column Vector (5,1)\n",
      "[[0]\n",
      " [2]\n",
      " [4]\n",
      " [6]\n",
      " [8]]\n",
      "shape: (5, 1)\n",
      "dimension: 2\n",
      "\n",
      "Reshaping to Row Vector (1,5)\n",
      "[[0 2 4 6 8]]\n",
      "shape: (1, 5)\n",
      "dimension: 2\n"
     ]
    }
   ],
   "source": [
    "print(np.arange(0,10,2))\n",
    "print(f\"shape: {np.arange(0,10,2).shape}\")\n",
    "print(f\"dimension: {np.arange(0,10,2).ndim}\")\n",
    "print(\"\\nReshaping to Column Vector (5,1)\")\n",
    "print(np.arange(0,10,2).reshape(5,1))\n",
    "print(f\"shape: {np.arange(0,10,2).reshape(5,1).shape}\")\n",
    "print(f\"dimension: {np.arange(0,10,2).reshape(5,1).ndim}\")\n",
    "print(\"\\nReshaping to Row Vector (1,5)\")\n",
    "print(np.arange(0,10,2).reshape(1,5))\n",
    "print(f\"shape: {np.arange(0,10,2).reshape(1,5).shape}\")\n",
    "print(f\"dimension: {np.arange(0,10,2).reshape(1,5).ndim}\")"
   ]
  },
  {
   "cell_type": "code",
   "execution_count": 31,
   "id": "6c4b313a",
   "metadata": {},
   "outputs": [
    {
     "data": {
      "text/plain": [
       "array([], shape=(0, 3), dtype=float64)"
      ]
     },
     "execution_count": 31,
     "metadata": {},
     "output_type": "execute_result"
    }
   ],
   "source": [
    "np.ones((0,3))"
   ]
  },
  {
   "cell_type": "code",
   "execution_count": 32,
   "id": "90c4b148",
   "metadata": {},
   "outputs": [
    {
     "data": {
      "text/plain": [
       "array([[1., 1., 1., 1.],\n",
       "       [1., 1., 1., 1.],\n",
       "       [1., 1., 1., 1.]])"
      ]
     },
     "execution_count": 32,
     "metadata": {},
     "output_type": "execute_result"
    }
   ],
   "source": [
    "np.ones((3,4))"
   ]
  },
  {
   "cell_type": "code",
   "execution_count": 33,
   "id": "734c9774",
   "metadata": {},
   "outputs": [
    {
     "data": {
      "text/plain": [
       "array([[1., 1., 1.]])"
      ]
     },
     "execution_count": 33,
     "metadata": {},
     "output_type": "execute_result"
    }
   ],
   "source": [
    "np.ones((1,3))"
   ]
  },
  {
   "cell_type": "code",
   "execution_count": 34,
   "id": "5d401884",
   "metadata": {},
   "outputs": [
    {
     "data": {
      "text/plain": [
       "array([[1., 0., 0.],\n",
       "       [0., 1., 0.],\n",
       "       [0., 0., 1.]])"
      ]
     },
     "execution_count": 34,
     "metadata": {},
     "output_type": "execute_result"
    }
   ],
   "source": [
    "## Identity matrix\n",
    "np.eye(3)"
   ]
  },
  {
   "cell_type": "code",
   "execution_count": 35,
   "id": "5daeb3d0",
   "metadata": {},
   "outputs": [
    {
     "name": "stdout",
     "output_type": "stream",
     "text": [
      "Arr:\n",
      " [[1 2 3]\n",
      " [4 5 6]]\n",
      "Shape: (2, 3)\n",
      "Number of dimensions:  2\n",
      "Size (number of elements):  6\n",
      "Data type: int64\n",
      "Item size (in bytes): 8\n"
     ]
    }
   ],
   "source": [
    "## Atrributes of Numpy Array\n",
    "\n",
    "arr = np.array([[1,2,3],[4,5,6]])\n",
    "\n",
    "print(\"Arr:\\n\", arr)\n",
    "print(\"Shape:\", arr.shape) # Output: (2,3)\n",
    "print(\"Number of dimensions: \", arr.ndim) # output: 2\n",
    "print(\"Size (number of elements): \", arr.size) # output: 6\n",
    "print(\"Data type:\", arr.dtype) # Ouput: int32 (may vary based on platform)\n",
    "print(\"Item size (in bytes):\", arr.itemsize) # Output: 8 (may vary based on platform)"
   ]
  },
  {
   "cell_type": "code",
   "execution_count": 43,
   "id": "36ccbca0",
   "metadata": {},
   "outputs": [
    {
     "name": "stdout",
     "output_type": "stream",
     "text": [
      "Addition:  [11 22 33 44 55]\n",
      "Substraction:  [ -9 -18 -27 -36 -45]\n",
      "Multiplication:  [ 10  40  90 160 250]\n",
      "Division:  [0.1 0.1 0.1 0.1 0.1]\n"
     ]
    }
   ],
   "source": [
    "### Numpy Vectorized Operations\n",
    "arr1 = np.array([1,2,3,4,5])\n",
    "arr2 = np.array([10,20,30,40,50])\n",
    "\n",
    "### Element wise addition\n",
    "print(\"Addition: \", arr1+arr2)\n",
    "\n",
    "### Element wise substraction\n",
    "print(\"Substraction: \", arr1-arr2)\n",
    "\n",
    "### Element wise multiplication\n",
    "print(\"Multiplication: \", arr1 * arr2)\n",
    "\n",
    "### Element wise division\n",
    "print(\"Division: \", arr1/arr2)"
   ]
  },
  {
   "cell_type": "code",
   "execution_count": 46,
   "id": "15d38052",
   "metadata": {},
   "outputs": [
    {
     "name": "stdout",
     "output_type": "stream",
     "text": [
      "[1.41421356 1.73205081 2.         2.23606798 2.44948974]\n",
      "[  7.3890561   20.08553692  54.59815003 148.4131591  403.42879349]\n",
      "[ 0.90929743  0.14112001 -0.7568025  -0.95892427 -0.2794155 ]\n",
      "[0.69314718 1.09861229 1.38629436 1.60943791 1.79175947]\n"
     ]
    }
   ],
   "source": [
    "## Universal Function\n",
    "\n",
    "arr = np.array([2,3,4,5,6])\n",
    "\n",
    "### Square root\n",
    "print(np.sqrt(arr))\n",
    "\n",
    "## Exponential\n",
    "print(np.exp(arr))\n",
    "\n",
    "## Sine\n",
    "print(np.sin(arr))\n",
    "\n",
    "## Natural log\n",
    "print(np.log(arr))"
   ]
  },
  {
   "cell_type": "code",
   "execution_count": 49,
   "id": "3f55f91d",
   "metadata": {},
   "outputs": [
    {
     "name": "stdout",
     "output_type": "stream",
     "text": [
      "Array: \n",
      " [[ 1  2  3  4]\n",
      " [ 5  6  7  8]\n",
      " [ 9 10 11 12]]\n"
     ]
    }
   ],
   "source": [
    "## array slicing and indexing\n",
    "\n",
    "arr = np.array([[1,2,3,4],[5,6,7,8],[9,10,11,12]])\n",
    "print(\"Array: \\n\",arr)"
   ]
  },
  {
   "cell_type": "code",
   "execution_count": 50,
   "id": "bfb9452e",
   "metadata": {},
   "outputs": [
    {
     "name": "stdout",
     "output_type": "stream",
     "text": [
      "[[ 5  6  7  8]\n",
      " [ 9 10 11 12]]\n"
     ]
    }
   ],
   "source": [
    "print (arr[1:3])"
   ]
  },
  {
   "cell_type": "code",
   "execution_count": 52,
   "id": "47dc8812",
   "metadata": {},
   "outputs": [
    {
     "data": {
      "text/plain": [
       "array([[1, 2, 3, 4],\n",
       "       [5, 6, 7, 8]])"
      ]
     },
     "execution_count": 52,
     "metadata": {},
     "output_type": "execute_result"
    }
   ],
   "source": [
    "arr[0:2]"
   ]
  },
  {
   "cell_type": "code",
   "execution_count": 56,
   "id": "4565f4ea",
   "metadata": {},
   "outputs": [
    {
     "data": {
      "text/plain": [
       "array([[5, 6, 7, 8]])"
      ]
     },
     "execution_count": 56,
     "metadata": {},
     "output_type": "execute_result"
    }
   ],
   "source": [
    "arr[1:3][:1]"
   ]
  },
  {
   "cell_type": "code",
   "execution_count": 57,
   "id": "0150709e",
   "metadata": {},
   "outputs": [
    {
     "data": {
      "text/plain": [
       "array([[1, 2, 3],\n",
       "       [5, 6, 7]])"
      ]
     },
     "execution_count": 57,
     "metadata": {},
     "output_type": "execute_result"
    }
   ],
   "source": [
    "arr[0:2,0:3]"
   ]
  },
  {
   "cell_type": "code",
   "execution_count": 58,
   "id": "24ef7a89",
   "metadata": {},
   "outputs": [
    {
     "data": {
      "text/plain": [
       "array([[ 1,  2,  3,  4],\n",
       "       [ 5,  6,  7,  8],\n",
       "       [ 9, 10, 11, 12]])"
      ]
     },
     "execution_count": 58,
     "metadata": {},
     "output_type": "execute_result"
    }
   ],
   "source": [
    "arr"
   ]
  },
  {
   "cell_type": "code",
   "execution_count": 60,
   "id": "e8d5cbc3",
   "metadata": {},
   "outputs": [
    {
     "name": "stdout",
     "output_type": "stream",
     "text": [
      "[[ 6  7]\n",
      " [10 11]]\n"
     ]
    }
   ],
   "source": [
    "print(arr[1:,1:3])"
   ]
  },
  {
   "cell_type": "code",
   "execution_count": 64,
   "id": "e9d54e16",
   "metadata": {},
   "outputs": [
    {
     "name": "stdout",
     "output_type": "stream",
     "text": [
      "1\n",
      "1\n",
      "[1 2 3 4]\n",
      "[1]\n"
     ]
    }
   ],
   "source": [
    "print(arr[0][0])\n",
    "print(arr[0,0])\n",
    "print(arr[0:1][0])\n",
    "print(arr[0:1,0])"
   ]
  },
  {
   "cell_type": "code",
   "execution_count": 65,
   "id": "b4ca7cf2",
   "metadata": {},
   "outputs": [
    {
     "name": "stdout",
     "output_type": "stream",
     "text": [
      "[[ 0  1  2  3]\n",
      " [ 4  5  6  7]\n",
      " [ 8  9 10 11]]\n"
     ]
    }
   ],
   "source": [
    "arr = np.arange(12).reshape(3,4)\n",
    "print(arr)"
   ]
  },
  {
   "cell_type": "code",
   "execution_count": 67,
   "id": "f3e5e09c",
   "metadata": {},
   "outputs": [
    {
     "name": "stdout",
     "output_type": "stream",
     "text": [
      "arr[0][0]: 0\n",
      "arr[0,0]: 0\n",
      "arr[0:1][0]: [0 1 2 3]\n",
      "arr[0:1,0]: [0]\n"
     ]
    }
   ],
   "source": [
    "## arr[0][0]\n",
    "print(\"arr[0][0]:\", arr[0][0])\n",
    "\n",
    "## arr[0,0]\n",
    "print(\"arr[0,0]:\", arr[0,0])\n",
    "\n",
    "## arr[0:1][0]\n",
    "print(\"arr[0:1][0]:\", arr[0:1][0])\n",
    "\n",
    "## arr[0:1, 0]\n",
    "print(\"arr[0:1,0]:\", arr[0:1,0])\n"
   ]
  },
  {
   "cell_type": "code",
   "execution_count": 78,
   "id": "2776674b",
   "metadata": {},
   "outputs": [
    {
     "data": {
      "text/plain": [
       "array([0])"
      ]
     },
     "execution_count": 78,
     "metadata": {},
     "output_type": "execute_result"
    }
   ],
   "source": [
    "arr[0:1,0]"
   ]
  },
  {
   "cell_type": "code",
   "execution_count": 88,
   "id": "3d3ec40a",
   "metadata": {},
   "outputs": [
    {
     "name": "stdout",
     "output_type": "stream",
     "text": [
      "Array:\n",
      " [[[ 1  2]\n",
      "  [ 3  4]]\n",
      "\n",
      " [[ 5  6]\n",
      "  [ 7  8]]\n",
      "\n",
      " [[ 9 10]\n",
      "  [11 12]]]\n",
      "Shape:  (3, 2, 2)\n",
      "Dimensions:  3\n",
      "Size:  12\n",
      "Items:  8\n",
      "Data type:  int64\n"
     ]
    }
   ],
   "source": [
    "### 3D - Array (3D Tensor)\n",
    "arr = np.array([\n",
    "                [[1, 2], [3, 4]],    # First matrix\n",
    "                [[5, 6], [7, 8]],    # Second matrix\n",
    "                [[9,10], [11,12]]    # Third matrix\n",
    "                ])\n",
    "\n",
    "print(\"Array:\\n\",arr)\n",
    "print(\"Shape: \",arr.shape)\n",
    "print(\"Dimensions: \",arr.ndim)\n",
    "print(\"Size: \",arr.size)\n",
    "print(\"Items: \",arr.itemsize)\n",
    "print(\"Data type: \",arr.dtype)"
   ]
  },
  {
   "cell_type": "code",
   "execution_count": 96,
   "id": "eb9b65a9",
   "metadata": {},
   "outputs": [
    {
     "name": "stdout",
     "output_type": "stream",
     "text": [
      "[[ 0  1  2  3]\n",
      " [ 4  5  6  7]\n",
      " [ 8  9 10 11]]\n"
     ]
    }
   ],
   "source": [
    "arr = np.arange(12).reshape(3,4)\n",
    "print(arr)"
   ]
  },
  {
   "cell_type": "code",
   "execution_count": 97,
   "id": "2a1ea350",
   "metadata": {},
   "outputs": [
    {
     "name": "stdout",
     "output_type": "stream",
     "text": [
      "[[100   1   2   3]\n",
      " [  4   5   6   7]\n",
      " [  8   9  10  11]]\n"
     ]
    }
   ],
   "source": [
    "## Modify array elements\n",
    "arr[0,0]=100\n",
    "print(arr)"
   ]
  },
  {
   "cell_type": "code",
   "execution_count": 99,
   "id": "21d47c3b",
   "metadata": {},
   "outputs": [
    {
     "name": "stdout",
     "output_type": "stream",
     "text": [
      "[[100   1   2   3]\n",
      " [100 100 100 100]\n",
      " [100 100 100 100]]\n"
     ]
    }
   ],
   "source": [
    "arr[1:] = 100\n",
    "print(arr)"
   ]
  },
  {
   "cell_type": "code",
   "execution_count": 104,
   "id": "79dc7892",
   "metadata": {},
   "outputs": [
    {
     "name": "stdout",
     "output_type": "stream",
     "text": [
      "Normalized data:  [-1.41421356 -0.70710678  0.          0.70710678  1.41421356]\n"
     ]
    }
   ],
   "source": [
    "### Statistial Concepts - Normalization\n",
    "### To have a mean(avg) of 0 and standard deviation of 1\n",
    "\n",
    "data = np.array([1,2,3,4,5])\n",
    "\n",
    "## Calculate the mean and standard deviation\n",
    "mean = np.mean(data)\n",
    "std_dev = np.std(data)\n",
    "\n",
    "## Normalize the data\n",
    "normalized_data = (data-mean) / std_dev\n",
    "print(\"Normalized data: \", normalized_data)"
   ]
  },
  {
   "cell_type": "code",
   "execution_count": 106,
   "id": "869ade91",
   "metadata": {},
   "outputs": [
    {
     "name": "stdout",
     "output_type": "stream",
     "text": [
      "Mean of normalized data:  0.0\n",
      "Std of normalized data:  0.9999999999999999\n"
     ]
    }
   ],
   "source": [
    "print(\"Mean of normalized data: \", np.mean(normalized_data))\n",
    "print(\"Std of normalized data: \", np.std(normalized_data))"
   ]
  },
  {
   "cell_type": "code",
   "execution_count": 107,
   "id": "7ea231a3",
   "metadata": {},
   "outputs": [
    {
     "name": "stdout",
     "output_type": "stream",
     "text": [
      "Mean:  5.5\n",
      "Median:  5.5\n",
      "Standard Deviation:  2.8722813232690143\n",
      "Variance:  8.25\n"
     ]
    }
   ],
   "source": [
    "data = np.array([1,2,3,4,5,6,7,8,9,10])\n",
    "\n",
    "# Mean\n",
    "mean = np.mean(data)\n",
    "print(\"Mean: \", mean)\n",
    "\n",
    "# Median\n",
    "median = np.median(data)\n",
    "print(\"Median: \", median)\n",
    "\n",
    "# Standard Deviation\n",
    "std_dev = np.std(data)\n",
    "print(\"Standard Deviation: \", std_dev)\n",
    "\n",
    "# Variance\n",
    "variance = np.var(data)\n",
    "print(\"Variance: \", variance)"
   ]
  },
  {
   "cell_type": "code",
   "execution_count": 116,
   "id": "bfba3e85",
   "metadata": {},
   "outputs": [
    {
     "data": {
      "text/plain": [
       "array([5, 6, 7, 8])"
      ]
     },
     "execution_count": 116,
     "metadata": {},
     "output_type": "execute_result"
    }
   ],
   "source": [
    "### Logical Operation\n",
    "data = np.arange(1,11,1)\n",
    "\n",
    "data[(data>=5) & (data<=8)]"
   ]
  }
 ],
 "metadata": {
  "kernelspec": {
   "display_name": "base",
   "language": "python",
   "name": "python3"
  },
  "language_info": {
   "codemirror_mode": {
    "name": "ipython",
    "version": 3
   },
   "file_extension": ".py",
   "mimetype": "text/x-python",
   "name": "python",
   "nbconvert_exporter": "python",
   "pygments_lexer": "ipython3",
   "version": "3.12.9"
  }
 },
 "nbformat": 4,
 "nbformat_minor": 5
}
