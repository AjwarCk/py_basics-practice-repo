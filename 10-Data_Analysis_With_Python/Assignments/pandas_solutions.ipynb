{
 "cells": [
  {
   "cell_type": "markdown",
   "id": "93f049dd",
   "metadata": {},
   "source": [
    "### Module: Pandas Assignment\n",
    "\n",
    "#### Lesson: Pandas"
   ]
  },
  {
   "cell_type": "code",
   "execution_count": 2,
   "id": "18deaaab",
   "metadata": {},
   "outputs": [],
   "source": [
    "import numpy as np\n",
    "import pandas as pd"
   ]
  },
  {
   "cell_type": "markdown",
   "id": "dece7708",
   "metadata": {},
   "source": [
    "**Assignment 1: DataFrame Creation and Indexing**\n",
    "\n",
    "1. Create a Pandas DataFrame with 4 columns and 6 rows filled with random integrs. Set the index to be the first column."
   ]
  },
  {
   "cell_type": "code",
   "execution_count": 12,
   "id": "b44e8b51",
   "metadata": {},
   "outputs": [
    {
     "name": "stdout",
     "output_type": "stream",
     "text": [
      "Original DataFrame:\n",
      "    A   B   C   D\n",
      "0  64  78  27  83\n",
      "1  12  83  58  13\n",
      "2  67  84   7  82\n",
      "3  81  18  34  26\n",
      "4  75  93  99  49\n",
      "5   7  73  78  87\n",
      "\n",
      "DataFrame with new Index:\n",
      "     B   C   D\n",
      "A             \n",
      "64  78  27  83\n",
      "12  83  58  13\n",
      "67  84   7  82\n",
      "81  18  34  26\n",
      "75  93  99  49\n",
      "7   73  78  87\n"
     ]
    }
   ],
   "source": [
    "## Create a Pandas DataFrame with 4 columns and 6 rows filled with random integers\n",
    "df = pd.DataFrame(np.random.randint(1,100,size=(6,4)), columns=['A','B','C','D'])\n",
    "print(\"Original DataFrame:\")\n",
    "print(df)\n",
    "\n",
    "## Set the indext to be the first column\n",
    "df.set_index('A',inplace=True)\n",
    "print(\"\\nDataFrame with new Index:\")\n",
    "print(df)"
   ]
  },
  {
   "cell_type": "markdown",
   "id": "761fa8a3",
   "metadata": {},
   "source": [
    "2. Create a Pandas DataFrame with column 'A','B','C' and index 'X','Y','Z'. Fill the DataFrame with random integers and access the element at row 'Y' and column 'B'."
   ]
  },
  {
   "cell_type": "code",
   "execution_count": 5,
   "id": "299b021f",
   "metadata": {},
   "outputs": [
    {
     "name": "stdout",
     "output_type": "stream",
     "text": [
      "Original DataFrame:\n",
      "    A   B   C\n",
      "X  22  82  45\n",
      "Y  17  39  71\n",
      "Z  36  63  37\n",
      "Element at row 'Y' and column 'B': 39\n"
     ]
    }
   ],
   "source": [
    "## Create a Pandas DataFrame with specified columns adn index\n",
    "df = pd.DataFrame(np.random.randint(1,100,size=(3,3)),columns=['A','B','C'],index=['X','Y','Z'])\n",
    "print(\"Original DataFrame:\")\n",
    "print(df)\n",
    "\n",
    "## Access the elements at row 'Y' and column 'B'\n",
    "element = df.at['Y','B']\n",
    "#element = df['B']['Y']\n",
    "print(\"Element at row 'Y' and column 'B':\", element)"
   ]
  },
  {
   "cell_type": "markdown",
   "id": "46a12f9c",
   "metadata": {},
   "source": [
    "**Assignment 2: DataFrame Operations**\n",
    "\n",
    "1. Create a Pandas DataFrame with 3 columns and 5 rows filled with random integers. Add a new column that is the product of the first two columns."
   ]
  },
  {
   "cell_type": "code",
   "execution_count": 10,
   "id": "dde77cde",
   "metadata": {},
   "outputs": [
    {
     "name": "stdout",
     "output_type": "stream",
     "text": [
      "Original DF:\n",
      "    A   B   C\n",
      "0  72  14  60\n",
      "1  70  33  63\n",
      "2  42  79  94\n",
      "3  86   2  39\n",
      "4   2  18  65\n",
      "\n",
      "DataFrame with new coluns:\n",
      "    A   B   C     D\n",
      "0  72  14  60  1008\n",
      "1  70  33  63  2310\n",
      "2  42  79  94  3318\n",
      "3  86   2  39   172\n",
      "4   2  18  65    36\n"
     ]
    }
   ],
   "source": [
    "## Create a Pandas DataFrame with 3 columns and 5 rows filled with random integers\n",
    "df = pd.DataFrame(np.random.randint(1,100,size=(5,3)),columns=['A','B','C'])\n",
    "print(\"Original DF:\")\n",
    "print(df)\n",
    "\n",
    "## Add a new column that is the product of the first two columns\n",
    "df['D'] = df['A'] * df['B']\n",
    "print(\"\\nDataFrame with new coluns:\")\n",
    "print(df)"
   ]
  },
  {
   "cell_type": "markdown",
   "id": "1c677acc",
   "metadata": {},
   "source": [
    "2. Create Pandas DataFrame with 3 columns and 4 rows filled with random integers. Compute the row-wise and column-wise sum."
   ]
  },
  {
   "cell_type": "code",
   "execution_count": 16,
   "id": "cb073901",
   "metadata": {},
   "outputs": [
    {
     "name": "stdout",
     "output_type": "stream",
     "text": [
      "Original DF:\n",
      "    A   B   C\n",
      "0  90  68  89\n",
      "1  22  53  76\n",
      "2  40  33  15\n",
      "3  65  12  54\n",
      "\n",
      "Row-wise sum:\n",
      "0    247\n",
      "1    151\n",
      "2     88\n",
      "3    131\n",
      "dtype: int64\n",
      "\n",
      "Column-wise sum:\n",
      "A    217\n",
      "B    166\n",
      "C    234\n",
      "dtype: int64\n"
     ]
    }
   ],
   "source": [
    "## Create a Pandas DataFrame with 3 columns and 4 rows filled with random integers\n",
    "df = pd.DataFrame(np.random.randint(1,100,size=(4,3)),columns=['A','B','C'])\n",
    "print(\"Original DF:\")\n",
    "print(df)\n",
    "\n",
    "## Compute the row-wise and column-wise sum\n",
    "row_sum = df.sum(axis=1)\n",
    "col_sum = df.sum(axis=0)\n",
    "\n",
    "print(\"\\nRow-wise sum:\")\n",
    "print(row_sum)\n",
    "print(\"\\nColumn-wise sum:\")\n",
    "print(col_sum)"
   ]
  },
  {
   "cell_type": "markdown",
   "id": "145e025b",
   "metadata": {},
   "source": [
    "**Assignment 3: Data Cleaning**\n",
    "\n",
    "1. Cleaning a Pandas DataFrame with 3 columns and 5 rows filled with random integers. Introduce some NaN values. Fill the NaN values with the mean of the respective columns."
   ]
  },
  {
   "cell_type": "code",
   "execution_count": 34,
   "id": "1ebbfa40",
   "metadata": {},
   "outputs": [
    {
     "name": "stdout",
     "output_type": "stream",
     "text": [
      "Original DF:\n",
      "    A  B  C\n",
      "0   9  9  4\n",
      "1   6  1  8\n",
      "2   2  3  2\n",
      "3  10  9  5\n",
      "4  10  5  1\n",
      "DataFrame with NaN:\n",
      "      A    B    C\n",
      "0   9.0  NaN  4.0\n",
      "1   6.0  1.0  8.0\n",
      "2   2.0  3.0  2.0\n",
      "3  10.0  9.0  NaN\n",
      "4   NaN  5.0  1.0\n",
      "\n",
      "DataFrame has been filled:\n",
      "       A    B     C\n",
      "0   9.00  4.5  4.00\n",
      "1   6.00  1.0  8.00\n",
      "2   2.00  3.0  2.00\n",
      "3  10.00  9.0  3.75\n",
      "4   6.75  5.0  1.00\n"
     ]
    }
   ],
   "source": [
    "## Create a pandas DataFrame with 3 columns and 5 rows filled with random integers\n",
    "df = pd.DataFrame(np.random.randint(1,11,size=(5,3)),columns=['A','B','C'])\n",
    "print(\"Original DF:\")\n",
    "print(df)\n",
    "\n",
    "## Introduce some NaN values\n",
    "df.iloc[0,1] = np.nan\n",
    "df.iloc[4,0] = np.nan\n",
    "df.iloc[3,2] = np.nan\n",
    "print(\"DataFrame with NaN:\")\n",
    "print(df)\n",
    "\n",
    "## Fill the NaN values with the mean of the respective columns\n",
    "df.fillna(df.mean(),inplace=True)\n",
    "print(\"\\nDataFrame has been filled:\")\n",
    "print(df)"
   ]
  },
  {
   "cell_type": "markdown",
   "id": "77626446",
   "metadata": {},
   "source": [
    "2. Create a Pandas DataFrame with 4 columns and 6 rows filled with random integers. Introduce some NaN values. Drop the rows with any NaN values."
   ]
  },
  {
   "cell_type": "code",
   "execution_count": 47,
   "id": "216ba84e",
   "metadata": {},
   "outputs": [
    {
     "name": "stdout",
     "output_type": "stream",
     "text": [
      "Original DF:\n",
      "    A   B   C   D\n",
      "0  96  68  98  46\n",
      "1   3  49  94  77\n",
      "2  39  42  89  20\n",
      "3  19   2  16  69\n",
      "4  27   5  13  84\n",
      "5  84  69  86  11\n",
      "\n",
      "DataFrame with NaN values:\n",
      "      A     B   C   D\n",
      "0  96.0   NaN  98  46\n",
      "1   3.0  49.0  94  77\n",
      "2  39.0  42.0  89  20\n",
      "3   NaN   2.0  16  69\n",
      "4  27.0   5.0  13  84\n",
      "5  84.0   NaN  86  11\n",
      "\n",
      "DataFrame without NaN values dropped:\n",
      "      A     B   C   D\n",
      "1   3.0  49.0  94  77\n",
      "2  39.0  42.0  89  20\n",
      "4  27.0   5.0  13  84\n"
     ]
    }
   ],
   "source": [
    "## Create a Pandas DataFrame with 4 columns and 6 rows filled with random integers.\n",
    "df = pd.DataFrame(np.random.randint(1,100,size=(6,4)),columns=['A','B','C','D'])\n",
    "print(\"Original DF:\")\n",
    "print(df)\n",
    "\n",
    "## Introduce some NaN values in DF\n",
    "df.iloc[0,1] = np.nan\n",
    "df.iloc[3,0] = np.nan\n",
    "df.iloc[5,1] = np.nan\n",
    "print(\"\\nDataFrame with NaN values:\")\n",
    "print(df)\n",
    "\n",
    "## Drop the rows with any NaN values\n",
    "df.dropna(inplace=True)\n",
    "print(\"\\nDataFrame without NaN values dropped:\")\n",
    "print(df)"
   ]
  },
  {
   "cell_type": "markdown",
   "id": "f03b28ed",
   "metadata": {},
   "source": [
    "**Assignment 4: Data Aggregation**\n",
    "\n",
    "1. Create a Pandas DataFrame with 2 columns: 'Category' and 'Value'. Fill the 'Category' column with random categories ('A','B','C') and the 'Values' column with random integrs. Group the DataFrame by 'Category' and compute the sum and mean of 'Value' for each category."
   ]
  },
  {
   "cell_type": "code",
   "execution_count": 62,
   "id": "c76ed48e",
   "metadata": {},
   "outputs": [
    {
     "name": "stdout",
     "output_type": "stream",
     "text": [
      "Original DF:\n",
      "  Category  Value\n",
      "0        b     26\n",
      "1        c      9\n",
      "2        c     68\n",
      "3        a     80\n",
      "4        c     44\n",
      "5        b      6\n",
      "6        c     86\n",
      "7        a     90\n",
      "8        b     69\n",
      "9        c     73\n",
      "\n",
      "Grouped DF:\n",
      "  Category  sum       mean\n",
      "0        a  170  85.000000\n",
      "1        b  101  33.666667\n",
      "2        c  280  56.000000\n"
     ]
    }
   ],
   "source": [
    "## Create a Pandas DataFrame with 2 columns: 'Category' and 'Value'\n",
    "df = pd.DataFrame({'Category':np.random.choice(['a','b','c'],size=10), 'Value':np.random.randint(1,100,size=10)})\n",
    "print(\"Original DF:\")\n",
    "print(df)\n",
    "\n",
    "## Group the DataFrame by 'Category' and compute sum and mean\n",
    "grp_df = df.groupby('Category')['Value'].agg(['sum','mean']).reset_index()\n",
    "print(\"\\nGrouped DF:\")\n",
    "print(grp_df)"
   ]
  },
  {
   "cell_type": "markdown",
   "id": "025acb98",
   "metadata": {},
   "source": [
    "2. Create a Pandas DataFrame with 3 columns: 'Product', 'Category' and 'Sales'. Fill the DataFrame with random data. Group the DataFrame by 'Category' and compute the total sales for each category."
   ]
  },
  {
   "cell_type": "code",
   "execution_count": 70,
   "id": "e55b95c7",
   "metadata": {},
   "outputs": [
    {
     "name": "stdout",
     "output_type": "stream",
     "text": [
      "Original DF:\n",
      "  Product Category  Sales\n",
      "0   Prod3        C     54\n",
      "1   Prod1        A     24\n",
      "2   Prod3        C     20\n",
      "3   Prod2        C     90\n",
      "4   Prod2        C     43\n",
      "5   Prod3        A     75\n",
      "6   Prod3        B     71\n",
      "7   Prod2        C     41\n",
      "8   Prod3        A     79\n",
      "9   Prod2        A     83\n",
      "\n",
      "Grouped DataFrame:\n",
      "Category\n",
      "A    261\n",
      "B     71\n",
      "C    248\n",
      "Name: Sales, dtype: int64\n"
     ]
    }
   ],
   "source": [
    "## Create a Pandas DataFRame with 3 columns: 'Product' 'Category', and 'Sales'\n",
    "df = pd.DataFrame({'Product':np.random.choice(['Prod1','Prod2','Prod3'],size=10),\n",
    "                   'Category':np.random.choice(['A','B','C'],size=10),\n",
    "                   'Sales':np.random.randint(1,100,size=10)})\n",
    "print(\"Original DF:\")\n",
    "print(df)\n",
    "\n",
    "## Group the DataFrame by 'Category' and compute the total sales for each category\n",
    "grouped = df.groupby('Category')['Sales'].sum()\n",
    "print(\"\\nGrouped DataFrame:\")\n",
    "print(grouped)"
   ]
  },
  {
   "cell_type": "markdown",
   "id": "55bd99e8",
   "metadata": {},
   "source": [
    "**Assignment 5: Merging DataFrames**\n",
    "\n",
    "1. Create two Pandas DataFrame with common values. Merge the DataFrame using the comon column."
   ]
  },
  {
   "cell_type": "code",
   "execution_count": 78,
   "id": "714afca3",
   "metadata": {},
   "outputs": [
    {
     "name": "stdout",
     "output_type": "stream",
     "text": [
      "DataFrame 1:\n",
      "  Key  Value1\n",
      "0   A      44\n",
      "1   B      47\n",
      "2   C      33\n",
      "3   D      66\n",
      "\n",
      "DataFrame 2:\n",
      "  Key  Value2\n",
      "0   A      76\n",
      "1   B      52\n",
      "2   C      94\n",
      "3   E      85\n",
      "\n",
      "Merged DataFrame:\n",
      "  Key  Value1  Value2\n",
      "0   A      44      76\n",
      "1   B      47      52\n",
      "2   C      33      94\n"
     ]
    }
   ],
   "source": [
    "## Create two Pandas DataFrame with a common column\n",
    "df1 = pd.DataFrame({'Key':['A','B','C','D'],\n",
    "                    'Value1':np.random.randint(1,100,size=4)})\n",
    "df2 = pd.DataFrame({'Key':['A','B','C','E'],\n",
    "                    'Value2':np.random.randint(1,100,size=4)})\n",
    "print(\"DataFrame 1:\")\n",
    "print(df1)\n",
    "print(\"\\nDataFrame 2:\")\n",
    "print(df2)\n",
    "\n",
    "## Merge the DataFrames using the common column\n",
    "merged = pd.merge(df1,df2,on='Key')\n",
    "print(\"\\nMerged DataFrame:\")\n",
    "print(merged)"
   ]
  },
  {
   "cell_type": "markdown",
   "id": "2d97e2a0",
   "metadata": {},
   "source": [
    "2. Create tow Pandas DataFrame with different columns. Concatenate the DataFrames along the rows and along the columns."
   ]
  },
  {
   "cell_type": "code",
   "execution_count": 84,
   "id": "ab5a8733",
   "metadata": {},
   "outputs": [
    {
     "name": "stdout",
     "output_type": "stream",
     "text": [
      "DataFrame 1:\n",
      "    A   B\n",
      "0  27  89\n",
      "1  26  98\n",
      "2  15  23\n",
      "\n",
      "DataFrame 2:\n",
      "    C   D\n",
      "0   3  21\n",
      "1  44  98\n",
      "2  73  50\n",
      "\n",
      "Concatenated DataFrame {rows}:\n",
      "      A     B     C     D\n",
      "0  27.0  89.0   NaN   NaN\n",
      "1  26.0  98.0   NaN   NaN\n",
      "2  15.0  23.0   NaN   NaN\n",
      "0   NaN   NaN   3.0  21.0\n",
      "1   NaN   NaN  44.0  98.0\n",
      "2   NaN   NaN  73.0  50.0\n",
      "\n",
      "Concatenated DataFrame {columns}:\n",
      "    A   B   C   D\n",
      "0  27  89   3  21\n",
      "1  26  98  44  98\n",
      "2  15  23  73  50\n",
      "\n",
      "Merged DataFrame {index}:\n",
      "   key_0   A   B   C   D\n",
      "0      0  27  89   3  21\n",
      "1      1  26  98  44  98\n",
      "2      2  15  23  73  50\n"
     ]
    }
   ],
   "source": [
    "## Create two Pandas DataFrames with different columns\n",
    "from operator import index\n",
    "\n",
    "\n",
    "df1 = pd.DataFrame({'A':np.random.randint(1,100,size=3),\n",
    "                    'B':np.random.randint(1,100,size=3)})\n",
    "df2 = pd.DataFrame({'C':np.random.randint(1,100,size=3),\n",
    "                    'D':np.random.randint(1,100,size=3)})\n",
    "print(\"DataFrame 1:\")\n",
    "print(df1)\n",
    "print(\"\\nDataFrame 2:\")\n",
    "print(df2)\n",
    "\n",
    "## Concatenate the DataFrames along the rows\n",
    "concat_rows = pd.concat([df1,df2],axis=0)\n",
    "print(\"\\nConcatenated DataFrame {rows}:\")\n",
    "print(concat_rows)\n",
    "\n",
    "## Concatenate the DataFrames along the columns\n",
    "concat_columns = pd.concat([df1,df2],axis=1)\n",
    "print(\"\\nConcatenated DataFrame {columns}:\")\n",
    "print(concat_columns)\n",
    "\n",
    "## Merge based on index\n",
    "concat_index = pd.merge(df1,df2,left_on=df1.index,right_on=df2.index)\n",
    "print(\"\\nMerged DataFrame {index}:\")\n",
    "print(concat_index)"
   ]
  },
  {
   "cell_type": "markdown",
   "id": "b5fa4467",
   "metadata": {},
   "source": [
    "**Assignment 6: Time Series Analysis**\n",
    "\n",
    "1. Create a Pandas DataFrame with a datetime index and one column filled with random integers. Resample the DataFrame to compute the monthly mean of the values."
   ]
  },
  {
   "cell_type": "code",
   "execution_count": 89,
   "id": "4427db5b",
   "metadata": {},
   "outputs": [
    {
     "name": "stdout",
     "output_type": "stream",
     "text": [
      "Original DataFrame:\n",
      "            data\n",
      "date            \n",
      "2024-01-01    61\n",
      "2024-01-02    46\n",
      "2024-01-03    41\n",
      "2024-01-04    44\n",
      "2024-01-05    26\n",
      "...          ...\n",
      "2024-12-27    32\n",
      "2024-12-28    90\n",
      "2024-12-29    75\n",
      "2024-12-30    35\n",
      "2024-12-31    65\n",
      "\n",
      "[366 rows x 1 columns]\n",
      "\n",
      "Monthly mean DataFrame:\n",
      "                 data\n",
      "date                 \n",
      "2024-01-31  51.645161\n",
      "2024-02-29  39.965517\n",
      "2024-03-31  47.677419\n",
      "2024-04-30  39.766667\n",
      "2024-05-31  46.709677\n",
      "2024-06-30  44.500000\n",
      "2024-07-31  53.580645\n",
      "2024-08-31  41.741935\n",
      "2024-09-30  50.800000\n",
      "2024-10-31  51.290323\n",
      "2024-11-30  52.633333\n",
      "2024-12-31  52.677419\n"
     ]
    },
    {
     "name": "stderr",
     "output_type": "stream",
     "text": [
      "/var/folders/nf/63c0ktdx1pd9b7kwmm8cw4ww0000gn/T/ipykernel_10024/324708669.py:10: FutureWarning: 'M' is deprecated and will be removed in a future version, please use 'ME' instead.\n",
      "  monthly_mean = df.resample('M').mean()\n"
     ]
    }
   ],
   "source": [
    "## Create a Pandas DataFrame with a datetime index and one column filled with random integers\n",
    "date_rng = pd.date_range(start='2024-01-01',end='2024-12-31',freq='D')\n",
    "df = pd.DataFrame(date_rng,columns=['date'])\n",
    "df['data'] = np.random.randint(0,100,size=len(date_rng))\n",
    "df.set_index('date',inplace=True)\n",
    "print(\"Original DataFrame:\")\n",
    "print(df)\n",
    "\n",
    "## Resample the DataFrame to compute the monthly mean of the vaues\n",
    "monthly_mean = df.resample('M').mean()\n",
    "print(\"\\nMonthly mean DataFrame:\")\n",
    "print(monthly_mean)"
   ]
  },
  {
   "cell_type": "markdown",
   "id": "f4ac0b23",
   "metadata": {},
   "source": [
    "2. Create a Pandas DataFrame with a datetime index ranging from '2021-01-01' to '2021-12-31' and one column filled with random integers. Compute the rolling mean with a window of 7 days."
   ]
  },
  {
   "cell_type": "code",
   "execution_count": 110,
   "id": "1cb7ad2c",
   "metadata": {},
   "outputs": [
    {
     "name": "stdout",
     "output_type": "stream",
     "text": [
      "Original DF:\n",
      "            data\n",
      "date            \n",
      "2021-01-01    96\n",
      "2021-01-02    26\n",
      "2021-01-03    71\n",
      "2021-01-04    50\n",
      "2021-01-05    24\n",
      "...          ...\n",
      "2021-12-27    97\n",
      "2021-12-28    70\n",
      "2021-12-29    58\n",
      "2021-12-30    89\n",
      "2021-12-31    23\n",
      "\n",
      "[365 rows x 1 columns]\n",
      "\n",
      "Rolling mean DataFrame:\n",
      "                 data\n",
      "date                 \n",
      "2021-01-01        NaN\n",
      "2021-01-02        NaN\n",
      "2021-01-03        NaN\n",
      "2021-01-04        NaN\n",
      "2021-01-05        NaN\n",
      "...               ...\n",
      "2021-12-27  53.428571\n",
      "2021-12-28  58.000000\n",
      "2021-12-29  60.571429\n",
      "2021-12-30  66.571429\n",
      "2021-12-31  62.857143\n",
      "\n",
      "[365 rows x 1 columns]\n"
     ]
    }
   ],
   "source": [
    "## Create a Pandas DataFrame with datetime index ranging from '2021-01-01' to '2021-12-31'\n",
    "date_rng = pd.date_range(start='2021-01-01',end='2021-12-31',freq='D')\n",
    "df = pd.DataFrame(date_rng, columns=['date'])\n",
    "df['data'] = np.random.randint(1,100,size=(len(date_rng)))\n",
    "df.set_index('date',inplace=True)\n",
    "print(\"Original DF:\")\n",
    "print(df)\n",
    "\n",
    "## Compute the rolling mean with a window of 7 days\n",
    "rolling_mean = df.rolling(window=7).mean()\n",
    "print(\"\\nRolling mean DataFrame:\")\n",
    "print(rolling_mean)"
   ]
  },
  {
   "cell_type": "markdown",
   "id": "45a5d1c9",
   "metadata": {},
   "source": [
    "**Assignment 7: MultiIndex DataFrame**\n",
    "\n",
    "1. Create a Pandas DataFrame with a MultiIndex (hirerachical Index). Perform some basic indexing and slicing operations on the MultiIndex DataFrame."
   ]
  },
  {
   "cell_type": "code",
   "execution_count": 116,
   "id": "df3eb222",
   "metadata": {},
   "outputs": [
    {
     "name": "stdout",
     "output_type": "stream",
     "text": [
      "MultiIndex DataFarme:\n",
      "                      Value1  Value2  Value3\n",
      "Category SubCategory                        \n",
      "A        one              84      25       1\n",
      "         two              88       5      16\n",
      "B        one              73      82      27\n",
      "         two              84      88       3\n",
      "\n",
      "Indexing at Category 'A':\n",
      "             Value1  Value2  Value3\n",
      "SubCategory                        \n",
      "one              84      25       1\n",
      "two              88       5      16\n",
      "\n",
      "Slicing at category 'B' and SubCategory 'two':\n",
      "Value1    84\n",
      "Value2    88\n",
      "Value3     3\n",
      "Name: (B, two), dtype: int64\n"
     ]
    }
   ],
   "source": [
    "## Create a Pandas DataFrame with a MultiIndex (hierarchical index)\n",
    "arrays = [['A','A','B','B'], ['one','two','one','two']]\n",
    "index = pd.MultiIndex.from_arrays(arrays, names=('Category','SubCategory'))\n",
    "df = pd.DataFrame(np.random.randint(1,100,size=(4,3)),index=index,columns=['Value1','Value2','Value3'])\n",
    "print(\"MultiIndex DataFarme:\")\n",
    "print(df)\n",
    "\n",
    "## Basic indexing and slicing operations\n",
    "print(\"\\nIndexing at Category 'A':\")\n",
    "print(df.loc['A'])\n",
    "\n",
    "print(\"\\nSlicing at category 'B' and SubCategory 'two':\")\n",
    "print(df.loc[('B','two')])"
   ]
  },
  {
   "cell_type": "markdown",
   "id": "b421e764",
   "metadata": {},
   "source": [
    "2. Create a Pandas DataFrame with MultiIndex consisting 'Category' and 'SubCategory'. Fill the DataFrame with random data and compute the sum of values for each 'Category' and 'SubCategory'."
   ]
  },
  {
   "cell_type": "code",
   "execution_count": 130,
   "id": "1b79cc8a",
   "metadata": {},
   "outputs": [
    {
     "name": "stdout",
     "output_type": "stream",
     "text": [
      "MultiIndex DataFrame:\n",
      "                      v1  v2  v3\n",
      "Category SubCategory            \n",
      "A        one           6  14  46\n",
      "         two          52  26  13\n",
      "B        three        21  85  69\n",
      "         four         64  79  72\n",
      "\n",
      "Category wise sum:\n",
      "          v1   v2   v3\n",
      "Category              \n",
      "A         58   40   59\n",
      "B         85  164  141\n",
      "\n",
      "SubCategory wise sum:\n",
      "             v1  v2  v3\n",
      "SubCategory            \n",
      "four         64  79  72\n",
      "one           6  14  46\n",
      "three        21  85  69\n",
      "two          52  26  13\n",
      "\n",
      "Category x SubCategory wise sum:\n",
      "                      v1  v2  v3\n",
      "Category SubCategory            \n",
      "A        one           6  14  46\n",
      "         two          52  26  13\n",
      "B        four         64  79  72\n",
      "         three        21  85  69\n"
     ]
    }
   ],
   "source": [
    "## Create a Pandas DataFrame with MultiIndex consisting 'Category' and 'SubCategory'\n",
    "arrays = [['A','A','B','B'],['one','two','three','four']]\n",
    "index = pd.MultiIndex.from_arrays(arrays, names=('Category','SubCategory'))\n",
    "df = pd.DataFrame(np.random.randint(1,100,size=(4,3)),columns=['v1','v2','v3'],index=index)\n",
    "print(\"MultiIndex DataFrame:\")\n",
    "print(df)\n",
    "\n",
    "## Sum of Category and SubCategory\n",
    "df_cat = df.groupby('Category')[['v1','v2','v3']].sum()\n",
    "print(\"\\nCategory wise sum:\")\n",
    "print(df_cat)\n",
    "df_subcat = df.groupby('SubCategory')[['v1','v2','v3']].sum()\n",
    "print(\"\\nSubCategory wise sum:\")\n",
    "print(df_subcat)\n",
    "df_cat_sub = df.groupby(['Category','SubCategory'])[['v1','v2','v3']].sum()\n",
    "print(\"\\nCategory x SubCategory wise sum:\")\n",
    "print(df_cat_sub)"
   ]
  },
  {
   "cell_type": "markdown",
   "id": "416d2b39",
   "metadata": {},
   "source": [
    "**Assignment 8: Pivot Tables**\n",
    "\n",
    "1. Create a Pandas DataFrame with columns 'Date','Category' and 'Value'. Create a pivot table to compute the sum of 'Value' for each 'Category' by 'Date'."
   ]
  },
  {
   "cell_type": "code",
   "execution_count": 154,
   "id": "d32ff58e",
   "metadata": {},
   "outputs": [
    {
     "name": "stdout",
     "output_type": "stream",
     "text": [
      "\n",
      "Pivot Table:\n",
      "Category        A      B      C\n",
      "Date                           \n",
      "2025-01-01    NaN   53.0    5.0\n",
      "2025-01-02    NaN   23.0   51.0\n",
      "2025-01-03  111.0  103.0    NaN\n",
      "2025-01-04   93.0    NaN   12.0\n",
      "2025-01-05   82.0    NaN  145.0\n",
      "2025-01-07   46.0    NaN    NaN\n",
      "2025-01-08   30.0    NaN    NaN\n",
      "2025-01-09    NaN   30.0    NaN\n",
      "2025-01-10    NaN    6.0    NaN\n"
     ]
    }
   ],
   "source": [
    "## Create a Pandas DataFrame with columns 'Date','Category', and 'Value'\n",
    "date_rng = pd.date_range(start='2025-01-01',end='2025-01-10',freq='D')\n",
    "df = pd.DataFrame({'Date':np.random.choice(date_rng,size=(20)),\n",
    "                   'Category':np.random.choice(['A','B','C'],size=(20)),\n",
    "                   'Value':np.random.randint(1,100,size=(20))})\n",
    "# print(\"Original DataFrame:\")\n",
    "# print(df)\n",
    "\n",
    "## Create a pivot table to compute the sum of 'Value' for each 'Category' by 'Date'\n",
    "pivot_table = df.pivot_table(values='Value',columns='Category',index='Date',aggfunc='sum')\n",
    "print('\\nPivot Table:')\n",
    "print(pivot_table)"
   ]
  },
  {
   "cell_type": "markdown",
   "id": "4b7458db",
   "metadata": {},
   "source": [
    "2. Create a Pandas DataFrame with columns 'Year', 'Quarter' and 'Revenue'. Create a pivot table compute the mean 'Revenue' for each 'Quarter' by 'Year'."
   ]
  },
  {
   "cell_type": "code",
   "execution_count": 163,
   "id": "886f4f2e",
   "metadata": {},
   "outputs": [
    {
     "name": "stdout",
     "output_type": "stream",
     "text": [
      "Original DataFrame:\n",
      "    Year Quarter  Revenue\n",
      "0   2023      Q3      414\n",
      "1   2024      Q2      696\n",
      "2   2023      Q3       88\n",
      "3   2024      Q2      158\n",
      "4   2023      Q4       24\n",
      "5   2022      Q2       81\n",
      "6   2024      Q2      802\n",
      "7   2022      Q3      738\n",
      "8   2023      Q1       33\n",
      "9   2022      Q4      538\n",
      "10  2024      Q4      441\n",
      "11  2023      Q4      431\n",
      "\n",
      "Pivot DataFrame:\n",
      "Quarter    Q1     Q2     Q3     Q4\n",
      "Year                              \n",
      "2022      NaN   81.0  738.0  538.0\n",
      "2023     33.0    NaN  251.0  227.5\n",
      "2024      NaN  552.0    NaN  441.0\n"
     ]
    }
   ],
   "source": [
    "## Create a Pandas DataFrame with columns 'Year', 'Quarter' and 'Revenue'\n",
    "df = pd.DataFrame({'Year':np.random.choice([2022,2023,2024],size=12),\n",
    "                   'Quarter':np.random.choice(['Q1','Q2','Q3','Q4'],size=12),\n",
    "                   'Revenue':np.random.randint(1,1000,size=12)})\n",
    "print(\"Original DataFrame:\")\n",
    "print(df)\n",
    "\n",
    "## Create a pivot table to compute the mean 'Revenue' for each 'Quarter' by 'Year'\n",
    "pivot_table = df.pivot_table(values='Revenue',columns='Quarter',index='Year',aggfunc='mean')\n",
    "print(\"\\nPivot DataFrame:\")\n",
    "print(pivot_table)"
   ]
  },
  {
   "cell_type": "markdown",
   "id": "f251318b",
   "metadata": {},
   "source": [
    "**Assignment 9: Applying Functions**\n",
    "\n",
    "1. Create a Pandas DataFrame with 3 columns and 5 rows filled with random integers. Apply a function that doubles the values of the DataFrame."
   ]
  },
  {
   "cell_type": "code",
   "execution_count": 167,
   "id": "9bce7fdb",
   "metadata": {},
   "outputs": [
    {
     "name": "stdout",
     "output_type": "stream",
     "text": [
      "Original DataFrame:\n",
      "    A   B   C\n",
      "0  69  86  21\n",
      "1  98   5  93\n",
      "2  62  12  16\n",
      "3  92  76  69\n",
      "4  16   1  68\n",
      "\n",
      "Doubled DataFrame:\n",
      "     A    B    C\n",
      "0  138  172   42\n",
      "1  196   10  186\n",
      "2  124   24   32\n",
      "3  184  152  138\n",
      "4   32    2  136\n"
     ]
    }
   ],
   "source": [
    "## Create a Pandas DataFrame with 3 columns and 5 rows filled with random integers\n",
    "df = pd.DataFrame(np.random.randint(1,100,size=(5,3)),columns=['A','B','C'])\n",
    "print(\"Original DataFrame:\")\n",
    "print(df)\n",
    "\n",
    "## Apply a function that doubles the values of the DataFrame\n",
    "df_doubled = df.apply(lambda x: x*2)\n",
    "print(\"\\nDoubled DataFrame:\")\n",
    "print(df_doubled)"
   ]
  },
  {
   "cell_type": "markdown",
   "id": "2572dc2d",
   "metadata": {},
   "source": [
    "2. Create a Pandas DataFrame with 3 columns and 6 rows filled with random integers. Apply a lambda function to create a new column that is the sum of the existing columns."
   ]
  },
  {
   "cell_type": "code",
   "execution_count": 169,
   "id": "fe967297",
   "metadata": {},
   "outputs": [
    {
     "name": "stdout",
     "output_type": "stream",
     "text": [
      "Original DataFrame:\n",
      "    A   B   C\n",
      "0  66  90  76\n",
      "1  81  85  28\n",
      "2  94  94  50\n",
      "3  74  41  58\n",
      "4  61  75  44\n",
      "5   8  72  91\n",
      "\n",
      "DataFrame with Sum column:\n",
      "    A   B   C  Sum\n",
      "0  66  90  76  232\n",
      "1  81  85  28  194\n",
      "2  94  94  50  238\n",
      "3  74  41  58  173\n",
      "4  61  75  44  180\n",
      "5   8  72  91  171\n"
     ]
    }
   ],
   "source": [
    "## Create a Pandas DataFrame with 3 columns and 6 rows filled with random integers\n",
    "df = pd.DataFrame(np.random.randint(1,100,size=(6,3)),columns=['A','B','C'])\n",
    "print(\"Original DataFrame:\")\n",
    "print(df)\n",
    "\n",
    "## Apply a lambda function to create a new column that is the sum of existing columns\n",
    "df['Sum'] = df.apply(lambda x: x.sum(),axis=1)\n",
    "print(\"\\nDataFrame with Sum column:\")\n",
    "print(df)"
   ]
  },
  {
   "cell_type": "markdown",
   "id": "553b9972",
   "metadata": {},
   "source": [
    "**Assignment 10: Working with Text Data**\n",
    "\n",
    "1. Create a Pandas Series with 5 random text strings. Convert all the strings to uppercase."
   ]
  },
  {
   "cell_type": "code",
   "execution_count": 173,
   "id": "00e2ffe1",
   "metadata": {},
   "outputs": [
    {
     "name": "stdout",
     "output_type": "stream",
     "text": [
      "Original Series:\n",
      "0         apple\n",
      "1        banana\n",
      "2        cherry\n",
      "3          date\n",
      "4    elderberry\n",
      "dtype: object\n",
      "\n",
      "Uppercase Series:\n",
      "0         APPLE\n",
      "1        BANANA\n",
      "2        CHERRY\n",
      "3          DATE\n",
      "4    ELDERBERRY\n",
      "dtype: object\n"
     ]
    }
   ],
   "source": [
    "## Create a Pandas Series with 5 random text strings.\n",
    "text_data = pd.Series(['apple','banana','cherry','date','elderberry'])\n",
    "print(\"Original Series:\")\n",
    "print(text_data)\n",
    "\n",
    "## Convert all the strings to uppercase\n",
    "uppercase_data = text_data.str.upper()\n",
    "print('\\nUppercase Series:')\n",
    "print(uppercase_data)"
   ]
  },
  {
   "cell_type": "markdown",
   "id": "da6553c1",
   "metadata": {},
   "source": [
    "2. Create a Pandas Series with 5 random text strings Extract three characters of each strings."
   ]
  },
  {
   "cell_type": "code",
   "execution_count": 175,
   "id": "3380c80f",
   "metadata": {},
   "outputs": [
    {
     "name": "stdout",
     "output_type": "stream",
     "text": [
      "Original Series:\n",
      "0         apple\n",
      "1        banana\n",
      "2        cherry\n",
      "3          date\n",
      "4    elderberry\n",
      "dtype: object\n",
      "\n",
      "First three characters:\n",
      "0    app\n",
      "1    ban\n",
      "2    che\n",
      "3    dat\n",
      "4    eld\n",
      "dtype: object\n"
     ]
    }
   ],
   "source": [
    "## Create a Pandas Series with 5 random test strings\n",
    "text_data = pd.Series(['apple','banana','cherry','date','elderberry'])\n",
    "print(\"Original Series:\")\n",
    "print(text_data)\n",
    "\n",
    "## Extract the first three characters of each string\n",
    "first_three_chars = text_data.str[:3]\n",
    "print(\"\\nFirst three characters:\")\n",
    "print(first_three_chars)"
   ]
  }
 ],
 "metadata": {
  "kernelspec": {
   "display_name": "base",
   "language": "python",
   "name": "python3"
  },
  "language_info": {
   "codemirror_mode": {
    "name": "ipython",
    "version": 3
   },
   "file_extension": ".py",
   "mimetype": "text/x-python",
   "name": "python",
   "nbconvert_exporter": "python",
   "pygments_lexer": "ipython3",
   "version": "3.12.9"
  }
 },
 "nbformat": 4,
 "nbformat_minor": 5
}
