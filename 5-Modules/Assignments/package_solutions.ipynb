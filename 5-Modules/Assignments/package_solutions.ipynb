{
 "cells": [
  {
   "cell_type": "markdown",
   "id": "7f252534",
   "metadata": {},
   "source": [
    "#### 5: Modules and Packages Assignments"
   ]
  },
  {
   "cell_type": "markdown",
   "id": "26bb190f",
   "metadata": {},
   "source": [
    "**Lesson 5.1: Importing Modules**"
   ]
  },
  {
   "cell_type": "markdown",
   "id": "1e295339",
   "metadata": {},
   "source": [
    "**Assignment 1: Importing and using Modules**\n",
    "\n",
    "Import the `math` module and use it to calculate the square root of 25 and sine of 90 degrees."
   ]
  },
  {
   "cell_type": "code",
   "execution_count": 4,
   "id": "214cdc5d",
   "metadata": {},
   "outputs": [
    {
     "name": "stdout",
     "output_type": "stream",
     "text": [
      "5.0\n",
      "0.8939966636005579\n"
     ]
    }
   ],
   "source": [
    "import math\n",
    "\n",
    "print(math.sqrt(25))\n",
    "print(math.sin(90))"
   ]
  },
  {
   "cell_type": "markdown",
   "id": "45666ffe",
   "metadata": {},
   "source": [
    "**Assignment 2: Aliasing Modules**\n",
    "\n",
    "Import the `datetime` module with an alias and use it to print the current date and time."
   ]
  },
  {
   "cell_type": "code",
   "execution_count": 8,
   "id": "f052e17b",
   "metadata": {},
   "outputs": [
    {
     "name": "stdout",
     "output_type": "stream",
     "text": [
      "2025-06-30 19:01:44.539965\n"
     ]
    }
   ],
   "source": [
    "import datetime as dt\n",
    "\n",
    "print(dt.datetime.now())"
   ]
  },
  {
   "cell_type": "markdown",
   "id": "852eaf13",
   "metadata": {},
   "source": [
    "**Assignment 3: Importing Specific Functions**\n",
    "\n",
    "Import the `randint` function from the `random` module and use it to generate a random integer between 1 and 100."
   ]
  },
  {
   "cell_type": "code",
   "execution_count": 9,
   "id": "564d5a21",
   "metadata": {},
   "outputs": [
    {
     "data": {
      "text/plain": [
       "84"
      ]
     },
     "execution_count": 9,
     "metadata": {},
     "output_type": "execute_result"
    }
   ],
   "source": [
    "import random\n",
    "\n",
    "random.randint(1,100)"
   ]
  },
  {
   "cell_type": "markdown",
   "id": "0fd637d9",
   "metadata": {},
   "source": [
    "**Assignment 4: Importing Multiple Functions**\n",
    "\n",
    "import the `sqrt` and `pow` functions from the `math` module and use them to calculate the square root of 16 and 2 raised to the power of 3."
   ]
  },
  {
   "cell_type": "code",
   "execution_count": 13,
   "id": "01788a7c",
   "metadata": {},
   "outputs": [
    {
     "name": "stdout",
     "output_type": "stream",
     "text": [
      "4.0\n",
      "9.0\n"
     ]
    }
   ],
   "source": [
    "from math import sqrt,pow\n",
    "\n",
    "print(sqrt(16))\n",
    "print(pow(3,2))"
   ]
  },
  {
   "cell_type": "markdown",
   "id": "0839dd49",
   "metadata": {},
   "source": [
    "**Assignment 5: Handling Import Errors**\n",
    "\n",
    "Write code that attempts to improve a non-existent module and gracefully handles the import error by printing an error messages."
   ]
  },
  {
   "cell_type": "code",
   "execution_count": 15,
   "id": "3dead53e",
   "metadata": {},
   "outputs": [
    {
     "name": "stdout",
     "output_type": "stream",
     "text": [
      "Error importing module: No module named 'non_existent_module'\n"
     ]
    }
   ],
   "source": [
    "try:\n",
    "    import non_existent_module\n",
    "except ImportError as e:\n",
    "    print(f\"Error importing module: {e}\")"
   ]
  },
  {
   "cell_type": "markdown",
   "id": "e0a1770c",
   "metadata": {},
   "source": [
    "#### Lesson 5.2: Standard Library Overview"
   ]
  },
  {
   "cell_type": "markdown",
   "id": "6480a5fa",
   "metadata": {},
   "source": [
    "**Assignment 6: Working with `os` Module**\n",
    "\n",
    "Use the `os` module to create a new directory, list the contents of the current directory, and remove the newly created directory."
   ]
  },
  {
   "cell_type": "code",
   "execution_count": 14,
   "id": "4e5eb840",
   "metadata": {},
   "outputs": [
    {
     "name": "stdout",
     "output_type": "stream",
     "text": [
      "['new_directory', 'package_solutions.ipynb']\n",
      "['package_solutions.ipynb']\n"
     ]
    }
   ],
   "source": [
    "import os\n",
    "\n",
    "# Create a new directory\n",
    "os.mkdir('new_directory')\n",
    "\n",
    "# List contents of the current directory\n",
    "print(os.listdir('.'))\n",
    "\n",
    "# Remove the newly created directory\n",
    "os.rmdir('new_directory')\n",
    "print(os.listdir('.'))"
   ]
  },
  {
   "cell_type": "markdown",
   "id": "f046e4c1",
   "metadata": {},
   "source": [
    "**Assignment 7: Working with the `os` Module**\n",
    "\n",
    "Use the `sys` module to print the Python version currently in use and the command-line arguments passed to the script."
   ]
  },
  {
   "cell_type": "code",
   "execution_count": 16,
   "id": "6ccc2289",
   "metadata": {},
   "outputs": [
    {
     "name": "stdout",
     "output_type": "stream",
     "text": [
      "Python version: 3.12.9 | packaged by Anaconda, Inc. | (main, Feb  6 2025, 12:55:12) [Clang 14.0.6 ]\n",
      "Command-line arguments: ['/opt/homebrew/Caskroom/miniconda/base/lib/python3.12/site-packages/ipykernel_launcher.py', '--f=/Users/ajwarck/Library/Jupyter/runtime/kernel-v386e40cea324be428db8213489e079ca99774e46c.json']\n"
     ]
    }
   ],
   "source": [
    "import sys\n",
    "\n",
    "print(f\"Python version: {sys.version}\")\n",
    "print(f\"Command-line arguments: {sys.argv}\")"
   ]
  },
  {
   "cell_type": "markdown",
   "id": "305cd92d",
   "metadata": {},
   "source": [
    "**Assignment 8: Working with `math` Module**\n",
    "\n",
    "Use the `math` module to calculate the greatest common divisor (GCD) of two numbers and the factorial of a number."
   ]
  },
  {
   "cell_type": "code",
   "execution_count": 17,
   "id": "9822b24b",
   "metadata": {},
   "outputs": [
    {
     "name": "stdout",
     "output_type": "stream",
     "text": [
      "6\n",
      "120\n"
     ]
    }
   ],
   "source": [
    "import math\n",
    "\n",
    "print(math.gcd(48,18)) # 6\n",
    "print(math.factorial(5)) # 120"
   ]
  },
  {
   "cell_type": "markdown",
   "id": "b930a863",
   "metadata": {},
   "source": [
    "**Assignment 9: Working with the `datetime` Module**\n",
    "\n",
    "Use the `datetime` module to print the current date, calculate the date 100 days from today, and determine the day of the week for a given date."
   ]
  },
  {
   "cell_type": "code",
   "execution_count": 19,
   "id": "a6315a27",
   "metadata": {},
   "outputs": [
    {
     "name": "stdout",
     "output_type": "stream",
     "text": [
      "Today's date: 2025-06-30\n",
      "Date 100 days from today: 2025-10-08\n",
      "Day of the week for 2025-01-01: Wednesday\n"
     ]
    }
   ],
   "source": [
    "import datetime\n",
    "\n",
    "# Current date\n",
    "today = datetime.date.today()\n",
    "print(f\"Today's date: {today}\")\n",
    "\n",
    "# Date 100 days from today\n",
    "future_date = today + datetime.timedelta(days=100)\n",
    "print(f\"Date 100 days from today: {future_date}\")\n",
    "\n",
    "# Day of the week for a given date\n",
    "given_date = datetime.date(2025,1,1)\n",
    "print(f\"Day of the week for 2025-01-01: {given_date.strftime('%A')}\")"
   ]
  },
  {
   "cell_type": "markdown",
   "id": "42c6a8f2",
   "metadata": {},
   "source": [
    "**Assignment 10: Working with `random` Module**\n",
    "\n",
    "Use the `random` module to generate a list of 5 random numbers between 1 and 50 and shuffle the elements of a list."
   ]
  },
  {
   "cell_type": "code",
   "execution_count": 27,
   "id": "f3ef6ab7",
   "metadata": {},
   "outputs": [
    {
     "name": "stdout",
     "output_type": "stream",
     "text": [
      "[17, 33, 46, 22, 43]\n",
      "[1, 2, 5, 3, 4]\n"
     ]
    }
   ],
   "source": [
    "import random\n",
    "\n",
    "# List of 5 random numbers between 1 and 50\n",
    "random_numbers = [random.randint(1,50) for _ in range(5)]\n",
    "print(random_numbers)\n",
    "\n",
    "# Shuffle a list\n",
    "lst = [1,2,3,4,5]\n",
    "random.shuffle(lst)\n",
    "print(lst)"
   ]
  },
  {
   "cell_type": "markdown",
   "id": "6cd0295b",
   "metadata": {},
   "source": [
    "#### 5.3: Creating and Using Packages"
   ]
  },
  {
   "cell_type": "markdown",
   "id": "da25bde8",
   "metadata": {},
   "source": [
    "**Assignment 11: Creating a Simple Package**\n",
    "\n",
    "Create a package named `mypackage` with two modules: `module1` and `module2`. `module1` should contain a function that adds two numbers, and `module2` should contain a function that multiplies two numbers. Write code to use these functions."
   ]
  },
  {
   "cell_type": "code",
   "execution_count": 40,
   "id": "7249fc09",
   "metadata": {},
   "outputs": [
    {
     "name": "stdout",
     "output_type": "stream",
     "text": [
      "7\n",
      "12\n"
     ]
    }
   ],
   "source": [
    "# File strucutre:\n",
    "# mypackage/\n",
    "#   __init__.py\n",
    "#   module1.py\n",
    "#   module2.py\n",
    "\n",
    "# Content of module1.py\n",
    "# def add (a,b):\n",
    "#   return (a+b)\n",
    "\n",
    "# Content of module2.py\n",
    "# def multiply(a,b):\n",
    "#   return (a*b)\n",
    "\n",
    "# Using the package\n",
    "from mypackage import module1, module2\n",
    "\n",
    "print(module1.add(3,4)) # 7\n",
    "print(module2.multiply(3,4)) # 12"
   ]
  },
  {
   "cell_type": "markdown",
   "id": "b0beec7b",
   "metadata": {},
   "source": [
    "**Assignment 12: Using `__init__.py`**\n",
    "\n",
    "Modify the `mypackage` package to include an `__init__.py` file that imports the functions from `module1` and `module2`. Write code to use these function."
   ]
  },
  {
   "cell_type": "code",
   "execution_count": 2,
   "id": "102ce224",
   "metadata": {},
   "outputs": [
    {
     "name": "stdout",
     "output_type": "stream",
     "text": [
      "5\n",
      "6\n"
     ]
    }
   ],
   "source": [
    "# Content of __init__.py\n",
    "# from .module1 import add\n",
    "# from .module2 import multiply\n",
    "\n",
    "# Using the package\n",
    "from mypackage import add, multiply\n",
    "\n",
    "print(add(2,3)) # 5\n",
    "print(multiply(2,3)) # 6"
   ]
  },
  {
   "cell_type": "markdown",
   "id": "90570451",
   "metadata": {},
   "source": [
    "**Assignment 13: Importing from a Package**\n",
    "\n",
    "Write a code to import and use the functions from `mypackage` without explicitly importing `module1` and `module2`."
   ]
  },
  {
   "cell_type": "code",
   "execution_count": 5,
   "id": "e3cbd04f",
   "metadata": {},
   "outputs": [
    {
     "name": "stdout",
     "output_type": "stream",
     "text": [
      "9\n",
      "20\n"
     ]
    }
   ],
   "source": [
    "from mypackage import add, multiply\n",
    "\n",
    "print(add(4,5))\n",
    "print(multiply(4,5))"
   ]
  },
  {
   "cell_type": "markdown",
   "id": "7d5f50a5",
   "metadata": {},
   "source": [
    "**Assignment 14: Relative Imports**\n",
    "\n",
    "Create a subpackage named `subpackage` within `mypackage` and move `module2` into `subpackage`. Modify the import statements in `__init__.py` to use relative imports. Write code to use the functions from both modules."
   ]
  },
  {
   "cell_type": "code",
   "execution_count": 6,
   "id": "28de28ab",
   "metadata": {},
   "outputs": [
    {
     "name": "stdout",
     "output_type": "stream",
     "text": [
      "5\n",
      "6\n"
     ]
    }
   ],
   "source": [
    "# File Structure:\n",
    "# mypackage/\n",
    "#   __init__.py\n",
    "#   module1.py\n",
    "#   subpackage/\n",
    "#       __init__.py\n",
    "#       module2.py\n",
    "\n",
    "# Content of __init__.py in mypackage\n",
    "# from .module1 import add\n",
    "# from .subpackage.module2 import multiply\n",
    "\n",
    "# Using the package\n",
    "from mypackage import add, multiply\n",
    "\n",
    "print(add(2,3)) # 5\n",
    "print(multiply(2,3)) # 6"
   ]
  },
  {
   "cell_type": "markdown",
   "id": "58264c93",
   "metadata": {},
   "source": [
    "**Assignment 15: Handling Package Imports Errors**\n",
    "\n",
    "Write code that attempts to import a non-existent function from `mypackage` and gracefully handles the import error by printing error message."
   ]
  },
  {
   "cell_type": "code",
   "execution_count": 7,
   "id": "4b03a78c",
   "metadata": {},
   "outputs": [
    {
     "name": "stdout",
     "output_type": "stream",
     "text": [
      "Error importing function: cannot import name 'non_existent_function' from 'mypackage' (/Users/ajwarck/Desktop/vs_code/py_pr/5-Modules/Assignments/mypackage/__init__.py)\n"
     ]
    }
   ],
   "source": [
    "try:\n",
    "    from mypackage import non_existent_function\n",
    "except ImportError as e:\n",
    "    print(f\"Error importing function: {e}\")"
   ]
  }
 ],
 "metadata": {
  "kernelspec": {
   "display_name": "base",
   "language": "python",
   "name": "python3"
  },
  "language_info": {
   "codemirror_mode": {
    "name": "ipython",
    "version": 3
   },
   "file_extension": ".py",
   "mimetype": "text/x-python",
   "name": "python",
   "nbconvert_exporter": "python",
   "pygments_lexer": "ipython3",
   "version": "3.12.9"
  }
 },
 "nbformat": 4,
 "nbformat_minor": 5
}
