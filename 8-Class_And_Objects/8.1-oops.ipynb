{
 "cells": [
  {
   "cell_type": "markdown",
   "id": "d0ae5f90",
   "metadata": {},
   "source": [
    "#### Classes and Objects\n",
    "\n",
    "Object-Oriented Programming (OOP) is a programming paradigm that uses \"objects\" to design applications and computer programs. OOP allows for modeling real-world scenarios using classes and objects. This less covers the basics of creating classes and objects, including instance variables and methods."
   ]
  },
  {
   "cell_type": "code",
   "execution_count": 2,
   "id": "e360e9d7",
   "metadata": {},
   "outputs": [
    {
     "name": "stdout",
     "output_type": "stream",
     "text": [
      "<class '__main__.Car'>\n"
     ]
    }
   ],
   "source": [
    "### A class is blue print for creating objects. Attributes, methods\n",
    "### Class is user defined type\n",
    "\n",
    "class Car:\n",
    "    pass\n",
    "\n",
    "audi = Car()\n",
    "bmw = Car()\n",
    "\n",
    "print(type(audi))"
   ]
  },
  {
   "cell_type": "code",
   "execution_count": 4,
   "id": "d136f9f3",
   "metadata": {},
   "outputs": [
    {
     "name": "stdout",
     "output_type": "stream",
     "text": [
      "<__main__.Car object at 0x109ab2150>\n",
      "<__main__.Car object at 0x109ab06e0>\n"
     ]
    }
   ],
   "source": [
    "print(audi)\n",
    "print(bmw)"
   ]
  },
  {
   "cell_type": "code",
   "execution_count": 5,
   "id": "5b2255f2",
   "metadata": {},
   "outputs": [
    {
     "name": "stdout",
     "output_type": "stream",
     "text": [
      "4\n"
     ]
    }
   ],
   "source": [
    "audi.windows = 4\n",
    "\n",
    "print(audi.windows)"
   ]
  },
  {
   "cell_type": "code",
   "execution_count": 6,
   "id": "b1d82b30",
   "metadata": {},
   "outputs": [
    {
     "ename": "AttributeError",
     "evalue": "'Car' object has no attribute 'windows'",
     "output_type": "error",
     "traceback": [
      "\u001b[31m---------------------------------------------------------------------------\u001b[39m",
      "\u001b[31mAttributeError\u001b[39m                            Traceback (most recent call last)",
      "\u001b[36mCell\u001b[39m\u001b[36m \u001b[39m\u001b[32mIn[6]\u001b[39m\u001b[32m, line 3\u001b[39m\n\u001b[32m      1\u001b[39m tata = Car()\n\u001b[32m      2\u001b[39m tata.doors = \u001b[32m4\u001b[39m\n\u001b[32m----> \u001b[39m\u001b[32m3\u001b[39m \u001b[38;5;28mprint\u001b[39m(\u001b[43mtata\u001b[49m\u001b[43m.\u001b[49m\u001b[43mwindows\u001b[49m)\n",
      "\u001b[31mAttributeError\u001b[39m: 'Car' object has no attribute 'windows'"
     ]
    }
   ],
   "source": [
    "tata = Car()\n",
    "tata.doors = 4\n",
    "print(tata.windows)"
   ]
  },
  {
   "cell_type": "code",
   "execution_count": 8,
   "id": "fde7f72d",
   "metadata": {},
   "outputs": [
    {
     "data": {
      "text/plain": [
       "['__class__',\n",
       " '__delattr__',\n",
       " '__dict__',\n",
       " '__dir__',\n",
       " '__doc__',\n",
       " '__eq__',\n",
       " '__format__',\n",
       " '__ge__',\n",
       " '__getattribute__',\n",
       " '__getstate__',\n",
       " '__gt__',\n",
       " '__hash__',\n",
       " '__init__',\n",
       " '__init_subclass__',\n",
       " '__le__',\n",
       " '__lt__',\n",
       " '__module__',\n",
       " '__ne__',\n",
       " '__new__',\n",
       " '__reduce__',\n",
       " '__reduce_ex__',\n",
       " '__repr__',\n",
       " '__setattr__',\n",
       " '__sizeof__',\n",
       " '__str__',\n",
       " '__subclasshook__',\n",
       " '__weakref__',\n",
       " 'doors']"
      ]
     },
     "execution_count": 8,
     "metadata": {},
     "output_type": "execute_result"
    }
   ],
   "source": [
    "dir(tata)"
   ]
  },
  {
   "cell_type": "code",
   "execution_count": 10,
   "id": "4fae763d",
   "metadata": {},
   "outputs": [
    {
     "name": "stdout",
     "output_type": "stream",
     "text": [
      "<__main__.Dog object at 0x109b44110>\n",
      "Buddy\n",
      "3\n"
     ]
    }
   ],
   "source": [
    "### Instance Variable and Methods\n",
    "class Dog:\n",
    "    ### Constructor : when we call class which initialize by default.\n",
    "    def __init__(self,name,age):\n",
    "        self.name = name\n",
    "        self.age = age\n",
    "\n",
    "### Create objects\n",
    "dog1 = Dog('Buddy',3)\n",
    "print(dog1)\n",
    "print(dog1.name)\n",
    "print(dog1.age)"
   ]
  },
  {
   "cell_type": "code",
   "execution_count": 11,
   "id": "22127648",
   "metadata": {},
   "outputs": [
    {
     "name": "stdout",
     "output_type": "stream",
     "text": [
      "<__main__.Dog object at 0x109ab20c0>\n",
      "Lucy\n",
      "4\n"
     ]
    }
   ],
   "source": [
    "dog2 = Dog('Lucy',4)\n",
    "print(dog2)\n",
    "print(dog2.name)\n",
    "print(dog2.age)"
   ]
  },
  {
   "cell_type": "code",
   "execution_count": 12,
   "id": "d332b752",
   "metadata": {},
   "outputs": [
    {
     "data": {
      "text/plain": [
       "['__class__',\n",
       " '__delattr__',\n",
       " '__dict__',\n",
       " '__dir__',\n",
       " '__doc__',\n",
       " '__eq__',\n",
       " '__format__',\n",
       " '__ge__',\n",
       " '__getattribute__',\n",
       " '__getstate__',\n",
       " '__gt__',\n",
       " '__hash__',\n",
       " '__init__',\n",
       " '__init_subclass__',\n",
       " '__le__',\n",
       " '__lt__',\n",
       " '__module__',\n",
       " '__ne__',\n",
       " '__new__',\n",
       " '__reduce__',\n",
       " '__reduce_ex__',\n",
       " '__repr__',\n",
       " '__setattr__',\n",
       " '__sizeof__',\n",
       " '__str__',\n",
       " '__subclasshook__',\n",
       " '__weakref__',\n",
       " 'age',\n",
       " 'name']"
      ]
     },
     "execution_count": 12,
     "metadata": {},
     "output_type": "execute_result"
    }
   ],
   "source": [
    "dir(dog2)"
   ]
  },
  {
   "cell_type": "code",
   "execution_count": 18,
   "id": "7ee012a7",
   "metadata": {},
   "outputs": [
    {
     "name": "stdout",
     "output_type": "stream",
     "text": [
      "Buddy\n",
      "3\n",
      "Buddy says woof!\n",
      "\n",
      "---------------\n",
      "\n",
      "Lucy\n",
      "4\n",
      "Lucy says woof!\n"
     ]
    }
   ],
   "source": [
    "## Define a class with instanc methods\n",
    "class Dog:\n",
    "    def __init__(self,name,age):\n",
    "        self.name = name\n",
    "        self.age = age\n",
    "\n",
    "    def bark(self):\n",
    "        print(f\"{self.name} says woof!\")\n",
    "\n",
    "dog1 = Dog('Buddy',3)\n",
    "print(dog1.name)\n",
    "print(dog1.age)\n",
    "dog1.bark()\n",
    "\n",
    "print(\"\\n---------------\\n\")\n",
    "\n",
    "dog2 = Dog('Lucy',4)\n",
    "print(dog2.name)\n",
    "print(dog2.age)\n",
    "dog2.bark()"
   ]
  },
  {
   "cell_type": "code",
   "execution_count": 54,
   "id": "d300bfbd",
   "metadata": {},
   "outputs": [
    {
     "name": "stdout",
     "output_type": "stream",
     "text": [
      "Account name: aj\n",
      "Account balance: 500\n",
      "---------------------------------------------\n",
      "\n",
      "Current balance: 500\n",
      "---------------------------------------------\n",
      "\n",
      "100 has been deibited to aj account and the current balance is now: 400\n",
      "---------------------------------------------\n",
      "\n",
      "300 has been credited to aj account and the current balance is now: 700\n",
      "---------------------------------------------\n",
      "\n",
      "Current balance is now: 700\n"
     ]
    }
   ],
   "source": [
    "### Modeling a Bank Account\n",
    "\n",
    "### Define a a class for bank account\n",
    "class BankAccounts:\n",
    "    def __init__(self,account_name,account_balance):\n",
    "        self.account_name = account_name\n",
    "        self.account_balance = account_balance\n",
    "\n",
    "    def deposit_cr(self,credit):\n",
    "        self.account_balance += credit\n",
    "        print(f\"{credit} has been credited to {self.account_name} account and the current balance is now: {self.account_balance}\")\n",
    "\n",
    "    def withdraw_db(self,debit):\n",
    "        if debit > self.account_balance:\n",
    "            print(\"Insufficient balance!\")\n",
    "        else:\n",
    "            self.account_balance -= debit\n",
    "            print(f\"{debit} has been deibited to {self.account_name} account and the current balance is now: {self.account_balance}\")\n",
    "\n",
    "    def get_balance(self):\n",
    "        return self.account_balance\n",
    "    \n",
    "# Task\n",
    "account1 = BankAccounts('aj',500)\n",
    "print(f\"Account name: {account1.account_name}\")\n",
    "print(f\"Account balance: {account1.account_balance}\")\n",
    "print(\"---------------------------------------------\\n\")\n",
    "\n",
    "print(f\"Current balance: {account1.get_balance()}\")\n",
    "print(\"---------------------------------------------\\n\")\n",
    "\n",
    "account1.withdraw_db(100)\n",
    "print(\"---------------------------------------------\\n\")\n",
    "\n",
    "account1.deposit_cr(300)\n",
    "print(\"---------------------------------------------\\n\")\n",
    "\n",
    "print(f\"Current balance is now: {account1.get_balance()}\")\n"
   ]
  },
  {
   "cell_type": "code",
   "execution_count": 55,
   "id": "a527459d",
   "metadata": {},
   "outputs": [
    {
     "name": "stdout",
     "output_type": "stream",
     "text": [
      "100 has been deibited to aj account and the current balance is now: 600\n"
     ]
    }
   ],
   "source": [
    "### Call instance methods\n",
    "account1.withdraw_db(100)"
   ]
  },
  {
   "cell_type": "code",
   "execution_count": 56,
   "id": "6c27b096",
   "metadata": {},
   "outputs": [
    {
     "name": "stdout",
     "output_type": "stream",
     "text": [
      "200 has been credited to aj account and the current balance is now: 800\n"
     ]
    }
   ],
   "source": [
    "account1.deposit_cr(200)"
   ]
  },
  {
   "cell_type": "code",
   "execution_count": 57,
   "id": "7d6f949c",
   "metadata": {},
   "outputs": [
    {
     "data": {
      "text/plain": [
       "800"
      ]
     },
     "execution_count": 57,
     "metadata": {},
     "output_type": "execute_result"
    }
   ],
   "source": [
    "account1.get_balance()"
   ]
  },
  {
   "cell_type": "markdown",
   "id": "a3e29ac5",
   "metadata": {},
   "source": [
    "**Conclusion**\n",
    "\n",
    "Object-Oriented Programming (OOP) allows you to model real-world scenarios using classes and objects. In this lesson, you learned how to create classes and objects, define instance variables and methods, and use them to perform various operations. Understanding these concepts is fundamental to writing effective and maintance Python Code."
   ]
  }
 ],
 "metadata": {
  "kernelspec": {
   "display_name": "base",
   "language": "python",
   "name": "python3"
  },
  "language_info": {
   "codemirror_mode": {
    "name": "ipython",
    "version": 3
   },
   "file_extension": ".py",
   "mimetype": "text/x-python",
   "name": "python",
   "nbconvert_exporter": "python",
   "pygments_lexer": "ipython3",
   "version": "3.12.9"
  }
 },
 "nbformat": 4,
 "nbformat_minor": 5
}
