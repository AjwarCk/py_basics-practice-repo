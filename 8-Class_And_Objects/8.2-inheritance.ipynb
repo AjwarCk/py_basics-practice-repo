{
 "cells": [
  {
   "cell_type": "markdown",
   "id": "e3b9391f",
   "metadata": {},
   "source": [
    "#### Inheritance Python\n",
    "\n",
    "Inheritance is a fundamental concept in Object-Oriented Programming (OOP) that allows a class to inherit attributes and methods from another class. This lesson covers single inheritance and multiple inheritance, demostrating how to create and use them in Python."
   ]
  },
  {
   "cell_type": "code",
   "execution_count": 1,
   "id": "7149df55",
   "metadata": {},
   "outputs": [],
   "source": [
    "## Inheritance (Single Inheritance)\n",
    "## Parent Class\n",
    "class Car:\n",
    "    def __init__(self,windows,doors,enginetype):\n",
    "        self.windows = windows\n",
    "        self.doors = doors\n",
    "        self.enginetype = enginetype\n",
    "\n",
    "    def drive(self):\n",
    "        print(f\"The person will drive the {self.enginetype} car\")"
   ]
  },
  {
   "cell_type": "code",
   "execution_count": 12,
   "id": "a071a4da",
   "metadata": {},
   "outputs": [
    {
     "name": "stdout",
     "output_type": "stream",
     "text": [
      "The person will drive the Petrol car\n"
     ]
    }
   ],
   "source": [
    "car1 = Car(4,5,'Petrol')\n",
    "car1.drive()"
   ]
  },
  {
   "cell_type": "code",
   "execution_count": 13,
   "id": "2c23bd1d",
   "metadata": {},
   "outputs": [],
   "source": [
    "class Tesla(Car):\n",
    "    def __init__(self,windows,doors,enginetype,is_selfdriving):\n",
    "        super().__init__(windows,doors,enginetype)\n",
    "        self.is_selfdriving = is_selfdriving\n",
    "\n",
    "    def selfdriving(self):\n",
    "        print(f\"Tesla supports self driving : {self.is_selfdriving}\")"
   ]
  },
  {
   "cell_type": "code",
   "execution_count": 14,
   "id": "6fe271ff",
   "metadata": {},
   "outputs": [
    {
     "name": "stdout",
     "output_type": "stream",
     "text": [
      "Tesla supports self driving : True\n"
     ]
    }
   ],
   "source": [
    "tesla1 = Tesla(4,5,'electric',True)\n",
    "tesla1.selfdriving()"
   ]
  },
  {
   "cell_type": "code",
   "execution_count": 15,
   "id": "1adeb001",
   "metadata": {},
   "outputs": [
    {
     "name": "stdout",
     "output_type": "stream",
     "text": [
      "The person will drive the electric car\n"
     ]
    }
   ],
   "source": [
    "tesla1.drive()"
   ]
  },
  {
   "cell_type": "code",
   "execution_count": 28,
   "id": "1e4d9779",
   "metadata": {},
   "outputs": [
    {
     "name": "stdout",
     "output_type": "stream",
     "text": [
      "Animal: Subclass must implement this method!\n",
      "Pet: Subclass must implement this method!\n",
      "Buddy says woof\n",
      "Owner: Aj\n"
     ]
    }
   ],
   "source": [
    "### Multiple Inheritance\n",
    "### When a class inherits from more than one base class.\n",
    "\n",
    "## Base class1\n",
    "class Animal:\n",
    "    def __init__(self,name):\n",
    "        self.name = name\n",
    "\n",
    "    def speak(self):\n",
    "        print(\"Animal: Subclass must implement this method!\")\n",
    "\n",
    "## Base class2\n",
    "class Pet:\n",
    "    def __init__(self,owner):\n",
    "        self.owner = owner\n",
    "\n",
    "    def speak(self):\n",
    "        print(\"Pet: Subclass must implement this method!\")\n",
    "\n",
    "## Derived class\n",
    "class Dog(Animal,Pet):\n",
    "    def __init__(self,name,owner,age):\n",
    "        Animal.__init__(self,name)\n",
    "        Pet.__init__(self,owner)\n",
    "        self.age = age\n",
    "\n",
    "    def speak(self):\n",
    "        Animal.speak(self)\n",
    "        Pet.speak(self)\n",
    "        return f\"{self.name} says woof\"\n",
    "    \n",
    "## Create an object\n",
    "dog1 = Dog(\"Buddy\",'Aj',3)\n",
    "print(dog1.speak())\n",
    "print(f\"Owner: {dog1.owner}\")\n"
   ]
  },
  {
   "cell_type": "code",
   "execution_count": 26,
   "id": "2d502f7b",
   "metadata": {},
   "outputs": [
    {
     "name": "stdout",
     "output_type": "stream",
     "text": [
      "(<class '__main__.Dog'>, <class '__main__.Animal'>, <class '__main__.Pet'>, <class 'object'>)\n"
     ]
    }
   ],
   "source": [
    "print(Dog.__mro__)"
   ]
  },
  {
   "cell_type": "code",
   "execution_count": 30,
   "id": "a58a2299",
   "metadata": {},
   "outputs": [
    {
     "name": "stdout",
     "output_type": "stream",
     "text": [
      "dog name is: Bud\n",
      "dog owner name is: Aj\n",
      "dog speaks: Bud says woof!\n"
     ]
    }
   ],
   "source": [
    "### Multiple Inheritance \n",
    "## When a class inherits from more than one base class.\n",
    "## Base class 1\n",
    "class Animal:\n",
    "    def __init__(self,name):\n",
    "        self.name = name\n",
    "    \n",
    "    def speak(self):\n",
    "        print(\"Animal: Subclass must implement this method\")\n",
    "\n",
    "## Base class 2\n",
    "class Pet:\n",
    "    def __init__(self,owner):\n",
    "        self.owner = owner\n",
    "\n",
    "    def speak(self):\n",
    "        print(\"Pet: Subclass implement this method\")\n",
    "\n",
    "## Child class\n",
    "class Dog(Animal,Pet):\n",
    "    def __init__(self,name,owner):\n",
    "        Animal.__init__(self,name)\n",
    "        Pet.__init__(self,owner)\n",
    "\n",
    "    def speak(self):\n",
    "        return f\"{self.name} says woof!\"\n",
    "    \n",
    "# Test\n",
    "dog1 = Dog('Bud','Aj')\n",
    "print(f\"dog name is: {dog1.name}\")\n",
    "print(f\"dog owner name is: {dog1.owner}\")\n",
    "print(f\"dog speaks: {dog1.speak()}\")"
   ]
  },
  {
   "cell_type": "markdown",
   "id": "08d9c3c1",
   "metadata": {},
   "source": [
    "**Level1: Basic Single Inheritance**\n",
    "\n",
    "Create a `Vehicle` class with attributes `brand` and `speed`. Then create `car` class that inherits from `vehicle` and adds and attribute `fuel_type`."
   ]
  },
  {
   "cell_type": "code",
   "execution_count": 43,
   "id": "9a6eab24",
   "metadata": {},
   "outputs": [
    {
     "data": {
      "text/plain": [
       "'Brand:Toyota, speed:120 km/h, Fuel:Petrol'"
      ]
     },
     "execution_count": 43,
     "metadata": {},
     "output_type": "execute_result"
    }
   ],
   "source": [
    "# Base class\n",
    "class Vehicle:\n",
    "    def __init__(self,brand,speed):\n",
    "        self.brand = brand\n",
    "        self.speed = speed\n",
    "    \n",
    "# sub class inherits base\n",
    "class Car(Vehicle):\n",
    "    def __init__(self,brand,speed,fuel_type):\n",
    "        Vehicle.__init__(self,brand,speed)\n",
    "        self.fuel_type = fuel_type\n",
    "\n",
    "    def display(self):\n",
    "        return f\"Brand:{self.brand}, speed:{self.speed} km/h, Fuel:{self.fuel_type}\"\n",
    "    \n",
    "# Test\n",
    "car1 = Car('Toyota',120,'Petrol')\n",
    "car1.display()"
   ]
  },
  {
   "cell_type": "markdown",
   "id": "c5d0c68b",
   "metadata": {},
   "source": [
    "**Level 2: Method Overriding**\n",
    "\n",
    "Extend the above. Override `display()` method in the `Car` class so it adds extra info. "
   ]
  },
  {
   "cell_type": "code",
   "execution_count": 44,
   "id": "0f26a646",
   "metadata": {},
   "outputs": [
    {
     "name": "stdout",
     "output_type": "stream",
     "text": [
      "Brand:bmw, Speed:120\n",
      "Fuel Type: petrol\n"
     ]
    }
   ],
   "source": [
    "class Vehicle:\n",
    "    def __init__(self,brand,speed):\n",
    "        self.brand = brand\n",
    "        self.speed = speed\n",
    "\n",
    "    def display(self):\n",
    "        print(f\"Brand:{self.brand}, Speed:{self.speed}\")\n",
    "\n",
    "class Car(Vehicle):\n",
    "    def __init__(self,brand,speed,fuel_type):\n",
    "        Vehicle.__init__(self,brand,speed)\n",
    "        self.fuel_type = fuel_type\n",
    "\n",
    "    def display(self):\n",
    "        super().display()\n",
    "        print(f\"Fuel Type: {self.fuel_type}\")\n",
    "\n",
    "# Task\n",
    "car1 = Car('bmw',120,'petrol')\n",
    "car1.display()"
   ]
  },
  {
   "cell_type": "markdown",
   "id": "63d943b4",
   "metadata": {},
   "source": [
    "**Level 3: Multi-Level Inheritance**\n",
    "\n",
    "Create a chain like: `Person -> Employee -> Manager`\n",
    "Each level should add a new attribute:\n",
    "- `Person` : name\n",
    "- `Employee`: employee_id\n",
    "- `Manager` : department\n",
    "Print all info using method in `Manager`."
   ]
  },
  {
   "cell_type": "code",
   "execution_count": 45,
   "id": "75e68dbc",
   "metadata": {},
   "outputs": [
    {
     "name": "stdout",
     "output_type": "stream",
     "text": [
      "Name:Aj, employee_id:1, Manager:Ad\n"
     ]
    }
   ],
   "source": [
    "class Person:\n",
    "    def __init__(self,name):\n",
    "        self.name = name\n",
    "\n",
    "class Employee(Person):\n",
    "    def __init__(self,name,employee_id):\n",
    "        Person.__init__(self,name)\n",
    "        self.employee_id = employee_id\n",
    "\n",
    "class Manager(Employee):\n",
    "    def __init__(self,name,employee_id,manager):\n",
    "        Employee.__init__(self,name,employee_id)\n",
    "        self.manager = manager\n",
    "\n",
    "    def display(self):\n",
    "        print(f\"Name:{self.name}, employee_id:{self.employee_id}, Manager:{self.manager}\")\n",
    "\n",
    "# Task\n",
    "emp1 = Manager('Aj',1,'Ad')\n",
    "emp1.display()"
   ]
  },
  {
   "cell_type": "markdown",
   "id": "710ca179",
   "metadata": {},
   "source": [
    "**Level 4: Multiple Inheritance**\n",
    "\n",
    "- `Artist` class with method `draw()`\n",
    "- `Engineer` class with method `build()`\n",
    "- `Architect` class that inherits from both and adds a `design()` method"
   ]
  },
  {
   "cell_type": "code",
   "execution_count": 50,
   "id": "fde59be0",
   "metadata": {},
   "outputs": [
    {
     "name": "stdout",
     "output_type": "stream",
     "text": [
      "Artist name: Aj and age: 28\n",
      "Engineering exp: 5\n",
      "Architect exp: 3\n",
      "Drawn by Aj who has 28 age!\n",
      "Engineering experience is: 5\n"
     ]
    }
   ],
   "source": [
    "class Artist:\n",
    "    def __init__(self,name,age):\n",
    "        self.name = name\n",
    "        self.age = age\n",
    "\n",
    "    def draw(self):\n",
    "        print(f\"Drawn by {self.name} who has {self.age} age!\")\n",
    "\n",
    "class Engineer:\n",
    "    def __init__(self,years_of_work_exp):\n",
    "        self.years_of_work_exp = years_of_work_exp\n",
    "\n",
    "    def build(self):\n",
    "        print(f\"Engineering experience is: {self.years_of_work_exp}\")\n",
    "\n",
    "class Architect(Artist,Engineer):\n",
    "    def __init__(self,name,age,years_of_work_exp,architect_years_of_exp):\n",
    "        Artist.__init__(self,name,age)\n",
    "        Engineer.__init__(self,years_of_work_exp)\n",
    "        self.architect_years_of_exp = architect_years_of_exp\n",
    "\n",
    "    def design(self):\n",
    "        print(f\"Artist name: {self.name} and age: {self.age}\")\n",
    "        print(f\"Engineering exp: {self.years_of_work_exp}\")\n",
    "        print(f\"Architect exp: {self.architect_years_of_exp}\")\n",
    "\n",
    "# Task\n",
    "a1 = Architect('Aj',28,5,3)\n",
    "a1.design()\n",
    "a1.draw()\n",
    "a1.build()"
   ]
  },
  {
   "cell_type": "markdown",
   "id": "a1b70af0",
   "metadata": {},
   "source": [
    "**Level 5: Method Resolution Order (MRO)**"
   ]
  },
  {
   "cell_type": "code",
   "execution_count": 53,
   "id": "c4973c2f",
   "metadata": {},
   "outputs": [
    {
     "data": {
      "text/plain": [
       "'\\nclass A:\\n    def test(self): print(\"Class A\")\\n\\nclass B:\\n    def test(self): print(\"Class B\")\\n\\nclass C(A,B):\\n    pass\\n\\nCall C().test() and then print C.__mro__\\n\\n'"
      ]
     },
     "execution_count": 53,
     "metadata": {},
     "output_type": "execute_result"
    }
   ],
   "source": [
    "## Task:\n",
    "'''\n",
    "class A:\n",
    "    def test(self): print(\"Class A\")\n",
    "\n",
    "class B:\n",
    "    def test(self): print(\"Class B\")\n",
    "\n",
    "class C(A,B):\n",
    "    pass\n",
    "\n",
    "Call C().test() and then print C.__mro__\n",
    "\n",
    "'''\n",
    "### Try switching the order to `class C(B,A)` and see the difference."
   ]
  },
  {
   "cell_type": "code",
   "execution_count": 55,
   "id": "cc6440cc",
   "metadata": {},
   "outputs": [
    {
     "name": "stdout",
     "output_type": "stream",
     "text": [
      "Class A\n",
      "(<class '__main__.C'>, <class '__main__.A'>, <class '__main__.B'>, <class 'object'>)\n"
     ]
    }
   ],
   "source": [
    "class A:\n",
    "    def test(self):\n",
    "        print(\"Class A\")\n",
    "\n",
    "class B:\n",
    "    def test(self):\n",
    "        print(\"class B\")\n",
    "\n",
    "class C(A,B):\n",
    "    pass\n",
    "\n",
    "## Task\n",
    "C().test()\n",
    "print(C.__mro__)"
   ]
  },
  {
   "cell_type": "code",
   "execution_count": 57,
   "id": "f480fbd7",
   "metadata": {},
   "outputs": [
    {
     "name": "stdout",
     "output_type": "stream",
     "text": [
      "Class B\n",
      "(<class '__main__.C'>, <class '__main__.B'>, <class '__main__.A'>, <class 'object'>)\n"
     ]
    }
   ],
   "source": [
    "class A:\n",
    "    def test(self):\n",
    "        print(\"Class A\")\n",
    "\n",
    "class B:\n",
    "    def test(self):\n",
    "        print(\"Class B\")\n",
    "\n",
    "class C(B,A):\n",
    "    pass\n",
    "\n",
    "# Task\n",
    "C().test()\n",
    "print(C.__mro__)"
   ]
  },
  {
   "cell_type": "markdown",
   "id": "c65acfb7",
   "metadata": {},
   "source": [
    "**Level 6: Real-Life Use Case**"
   ]
  },
  {
   "cell_type": "markdown",
   "id": "626be856",
   "metadata": {},
   "source": [
    "**Task**\n",
    "\n",
    "Simulate an `E-commerce order sytem' with classes:\n",
    "- `User`: name, email\n",
    "- `Product`: name, price\n",
    "- `Order(User, Product)`: quantity, total_price(), summary()"
   ]
  },
  {
   "cell_type": "code",
   "execution_count": 58,
   "id": "901baf45",
   "metadata": {},
   "outputs": [
    {
     "data": {
      "text/plain": [
       "\"\\norder1 = Order('Alice','alice@gmail.com','Laptop',5000,2)\\norder1.summary()\\n\""
      ]
     },
     "execution_count": 58,
     "metadata": {},
     "output_type": "execute_result"
    }
   ],
   "source": [
    "'''\n",
    "order1 = Order('Alice','alice@gmail.com','Laptop',5000,2)\n",
    "order1.summary()\n",
    "'''"
   ]
  },
  {
   "cell_type": "code",
   "execution_count": 63,
   "id": "9213d8b8",
   "metadata": {},
   "outputs": [
    {
     "name": "stdout",
     "output_type": "stream",
     "text": [
      "Order Summary\n",
      " User Name:Alice\n",
      " User Email:alice@gmail.com\n",
      " Product Name:Laptop\n",
      " Product Price:50000\n",
      " Product Quantity:2\n",
      " Total Price:Total price of order is:100000\n",
      "\n",
      "\n",
      "Order Summary\n",
      " User Name:Ajwar\n",
      " User Email:ajwarck@outlook.com\n",
      " Product Name:Shoes\n",
      " Product Price:7000\n",
      " Product Quantity:3\n",
      " Total Price:Total price of order is:21000\n"
     ]
    }
   ],
   "source": [
    "class User:\n",
    "    def __init__(self,name,email):\n",
    "        self.user_name = name\n",
    "        self.email = email\n",
    "\n",
    "class Product:\n",
    "    def __init__(self,name,price):\n",
    "        self.product_name = name\n",
    "        self.price = price\n",
    "\n",
    "class Order(User,Product):\n",
    "    def __init__(self,user_name,email,product_name,price,quantity):\n",
    "        User.__init__(self,user_name,email)\n",
    "        Product.__init__(self,product_name,price)\n",
    "        self.quantity = quantity\n",
    "\n",
    "    def total_price(self):\n",
    "        return f\"Total price of order is:{self.price*self.quantity}\"\n",
    "    \n",
    "    def summary(self):\n",
    "        #print(f\"Order Summary\\n User name:{self.user_name}\\n User email:{self.email}\\n Product name:{self.product_name}\\n Product price:{self.price}\\n Prodcut quantity:{self.quantity}\\n Total Order Amount:{self.price*self.quantity}\")\n",
    "        print(f\"Order Summary\\n User Name:{self.user_name}\\n User Email:{self.email}\\n Product Name:{self.product_name}\\n Product Price:{self.price}\\n Product Quantity:{self.quantity}\\n Total Price:{self.total_price()}\")\n",
    "\n",
    "# Task\n",
    "order1 = Order('Alice','alice@gmail.com','Laptop',50000,2)\n",
    "order1.summary()\n",
    "\n",
    "print('\\n')\n",
    "\n",
    "order2 = Order('Ajwar','ajwarck@outlook.com','Shoes',7000,3)\n",
    "order2.summary()"
   ]
  },
  {
   "cell_type": "markdown",
   "id": "25fb9c70",
   "metadata": {},
   "source": [
    "**Bonus Challenge: Animal Hierarchy**\n",
    "\n",
    "Build a small hierarchy like this"
   ]
  },
  {
   "cell_type": "code",
   "execution_count": 64,
   "id": "055b8ee8",
   "metadata": {},
   "outputs": [
    {
     "data": {
      "text/plain": [
       "'\\nAnimal\\n|--- Mammal\\n|       |__ Dog\\n|\\n|--- Bird\\n       |__ Parrot\\n'"
      ]
     },
     "execution_count": 64,
     "metadata": {},
     "output_type": "execute_result"
    }
   ],
   "source": [
    "'''\n",
    "Animal\n",
    "|--- Mammal\n",
    "|       |__ Dog\n",
    "|\n",
    "|--- Bird\n",
    "       |__ Parrot\n",
    "'''"
   ]
  },
  {
   "cell_type": "markdown",
   "id": "1ed4802c",
   "metadata": {},
   "source": [
    "Each levels adds its own behaviour (warm_blooded(), can_fly(), speak(), etc.)"
   ]
  },
  {
   "cell_type": "code",
   "execution_count": 78,
   "id": "520c9bd8",
   "metadata": {},
   "outputs": [
    {
     "name": "stdout",
     "output_type": "stream",
     "text": [
      "-----------------\n",
      "This is an animal named:Buddy\n",
      "Buddy is a warm-blooded Mammal.\n",
      "Buddy the Labrador says Woof!\n",
      "-----------------\n",
      "This is an animal named:Max\n",
      "Max is a warm-blooded Mammal.\n",
      "Max the Beagle says Woof!\n",
      "-----------------\n",
      "This is an animal named:Polly\n",
      "Polly the Green parrot says Squawk!\n",
      "Polly is a Parrot and can usually fly.\n",
      "-----------------\n",
      "This is an animal named:Kiwi\n",
      "Kiwi the Yellow parrot says Squawk!\n",
      "Kiwi is a Parrot and can usually fly.\n"
     ]
    }
   ],
   "source": [
    "# Base class\n",
    "class Animal:\n",
    "    def __init__(self,name):\n",
    "        self.name = name\n",
    "\n",
    "    def describe(self):\n",
    "        print(f\"This is an animal named:{self.name}\")\n",
    "\n",
    "# Derived class from Animal\n",
    "class Mammal(Animal):\n",
    "    def __init__(self,name,category):\n",
    "        super().__init__(name)\n",
    "        self.category = category\n",
    "\n",
    "    def warm_blooded(self):\n",
    "        print(f\"{self.name} is a warm-blooded {self.category}.\")\n",
    "\n",
    "# Dog inherits from Mammal\n",
    "class Dog(Mammal):\n",
    "    def __init__(self,name,category,breed):\n",
    "        super().__init__(name,category)\n",
    "        self.breed = breed\n",
    "\n",
    "    def speak(self):\n",
    "        print(f\"{self.name} the {self.breed} says Woof!\")\n",
    "\n",
    "# Bird inherits from Animal\n",
    "class Bird(Animal):\n",
    "    def __init__(self,name,species):\n",
    "        super().__init__(name)\n",
    "        self.species = species\n",
    "\n",
    "    def can_fly(self):\n",
    "        print(f\"{self.name} is a {self.species} and can usually fly.\")\n",
    "\n",
    "# Parrot inherits from Bird\n",
    "class Parrot(Bird):\n",
    "    def __init__(self,name,species,color):\n",
    "        super().__init__(name,species)\n",
    "        self.color = color\n",
    "\n",
    "    def speak(self):\n",
    "        print(f\"{self.name} the {self.color} parrot says Squawk!\")\n",
    "\n",
    "# Create instance\n",
    "dog1 = Dog(\"Buddy\",\"Mammal\",\"Labrador\")\n",
    "dog2 = Dog(\"Max\",\"Mammal\",\"Beagle\")\n",
    "parrot1 = Parrot(\"Polly\",\"Parrot\",\"Green\")\n",
    "parrot2 = Parrot(\"Kiwi\",\"Parrot\",\"Yellow\")\n",
    "\n",
    "# Store in a list\n",
    "animals = [dog1,dog2,parrot1,parrot2]\n",
    "\n",
    "# Loop through and call method\n",
    "for animal in animals:\n",
    "    print(\"-----------------\")\n",
    "    animal.describe()\n",
    "    if isinstance(animal, Mammal):\n",
    "        animal.warm_blooded()\n",
    "    if hasattr(animal, 'speak'):\n",
    "        animal.speak()\n",
    "    if isinstance(animal, Bird):\n",
    "        animal.can_fly()"
   ]
  },
  {
   "cell_type": "markdown",
   "id": "1ddf7394",
   "metadata": {},
   "source": [
    "**Conclusion**\n",
    "\n",
    "Inheritance is a powerful feature in OOP that allows for code reuse and the creation of a more logical class structure. Single inheritance involves one base class, while multiple inheritance involves more than one base class. Understanding how to implement and use inheritance in Python will enable you to design more efficient and maintainable object-oriented programs."
   ]
  },
  {
   "cell_type": "markdown",
   "id": "02f4eb10",
   "metadata": {},
   "source": [
    "#### Extra Learning"
   ]
  },
  {
   "cell_type": "markdown",
   "id": "b4840c2d",
   "metadata": {},
   "source": [
    "**Real-World Scenario**\n",
    "\n",
    "- A `Customer` places an `Order`.\n",
    "- `Order` is validated for Quantity and price.\n",
    "- If anything goes wrong (e.g., negative quantity or invalid payment), custom **exception** are raise.\n",
    "- `Invoice` is generated from both `Order` and `Payment` using **multiple inheritance**."
   ]
  },
  {
   "cell_type": "code",
   "execution_count": 98,
   "id": "1cb7d311",
   "metadata": {},
   "outputs": [
    {
     "name": "stdout",
     "output_type": "stream",
     "text": [
      "Payment Error: Invalid payment: 1000. Must be positive.\n"
     ]
    }
   ],
   "source": [
    "# 1.Base Error Classes (Muulti-level Inheritance)\n",
    "class BaseError(Exception):\n",
    "    def __init__(self,message):\n",
    "        super().__init__(message)\n",
    "\n",
    "class OrderError(BaseError):\n",
    "    pass\n",
    "\n",
    "class QuantityError(OrderError):\n",
    "    def __init__(self, quantity):\n",
    "        super().__init__(f\"Invalid quantity: {quantity}. Must be > 0.\")\n",
    "\n",
    "class PaymentError(BaseError):\n",
    "    def __init__(self, amount):\n",
    "        super().__init__(f\"Invalid payment: {amount}. Must be positive.\")\n",
    "\n",
    "# 2.Single Inheritance: Customer - Order\n",
    "class Customers:\n",
    "    def __init__(self,name,email):\n",
    "        self.name = name\n",
    "        self.email = email\n",
    "\n",
    "class Order(Customers): # Single Inheritance\n",
    "    def __init__(self, name, email, product, price, quantity):\n",
    "        super().__init__(name,email)\n",
    "        self.product = product\n",
    "        self.price = price\n",
    "        self.quantity = quantity\n",
    "\n",
    "    def validate(self):\n",
    "        if self.quantity <= 0:\n",
    "            raise QuantityError(self.quantity)\n",
    "        \n",
    "    def total(self):\n",
    "        return self.price * self.quantity\n",
    "    \n",
    "# 3.Separate Payment Class\n",
    "class Payment:\n",
    "    def __init__(self, method, amount):\n",
    "        self.method = method\n",
    "        self.amount = amount\n",
    "\n",
    "    def validate(self):\n",
    "        if self.amount <= 0:\n",
    "            raise PaymentError(self.amount)\n",
    "        \n",
    "# 4.Multiple Inheritance: Order+Payment -> Invoice\n",
    "class Invoice(Order, Payment): # Multiple Inheritance\n",
    "    def __init__(self, name, email, product, price, quantity, method, amount):\n",
    "        Order.__init__(self,name,email,product,price,quantity)\n",
    "        Payment.__init__(self,method,amount)\n",
    "\n",
    "    def generate(self):\n",
    "        self.validate() # from Order\n",
    "        Payment.validate(self) # from Pyament\n",
    "\n",
    "        if self.amount < self.total():\n",
    "            raise PaymentError(self.amount)\n",
    "        \n",
    "        print(\"Invoice Generated Scuccessfully!\")\n",
    "        print(f\"Customer: {self.name}\")\n",
    "        print(f\"Email: {self.email}\")\n",
    "        print(f\"Product: {self.product}\")\n",
    "        print(f\"Quantity: {self.quantity}\")\n",
    "        print(f\"Total: {self.total()}\")\n",
    "        print(f\"Paid via: {self.method} ({self.amount})\")\n",
    "\n",
    "# 5.Driver Code (with Exception Handling)\n",
    "try:\n",
    "    invoice = Invoice(\n",
    "        name = 'Alice',\n",
    "        email = 'alice@example.com',\n",
    "        product = 'Tablet',\n",
    "        price = 12000,\n",
    "        quantity = 2,\n",
    "        method = 'UPI',\n",
    "        amount = 1000\n",
    "    )\n",
    "\n",
    "    invoice.generate()\n",
    "\n",
    "except QuantityError as qe:\n",
    "    print(f\"Order Error: {qe}\")\n",
    "\n",
    "except PaymentError as pe:\n",
    "    print(f\"Payment Error: {pe}\")\n",
    "\n",
    "except BaseError as be:\n",
    "    print(f\"General Error: {be}\")\n",
    "\n",
    "except Exception as e:\n",
    "    print(f\"Unexpected Error: {e}\")\n"
   ]
  },
  {
   "cell_type": "code",
   "execution_count": null,
   "id": "ea47c8b8",
   "metadata": {},
   "outputs": [],
   "source": []
  }
 ],
 "metadata": {
  "kernelspec": {
   "display_name": "base",
   "language": "python",
   "name": "python3"
  },
  "language_info": {
   "codemirror_mode": {
    "name": "ipython",
    "version": 3
   },
   "file_extension": ".py",
   "mimetype": "text/x-python",
   "name": "python",
   "nbconvert_exporter": "python",
   "pygments_lexer": "ipython3",
   "version": "3.12.9"
  }
 },
 "nbformat": 4,
 "nbformat_minor": 5
}
