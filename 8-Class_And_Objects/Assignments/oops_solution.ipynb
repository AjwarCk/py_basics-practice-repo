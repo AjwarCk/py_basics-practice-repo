{
 "cells": [
  {
   "cell_type": "markdown",
   "id": "fc154e8a",
   "metadata": {},
   "source": [
    "#### Module: OOP Assignments\n",
    "\n",
    "**Lesson: Polymorphism, Abstraction and Encapsulation**"
   ]
  },
  {
   "cell_type": "markdown",
   "id": "f95caa82",
   "metadata": {},
   "source": [
    "**Assignment 1: Polymorphism with Method**\n",
    "\n",
    "Create a base class named `Shape` with a method `area`. Create two derived classes `Circle` and `Square` that override area method. Create a list of `Shape` objects and call the area method on each object to demonstrate polymorphism."
   ]
  },
  {
   "cell_type": "code",
   "execution_count": null,
   "id": "6a240e0a",
   "metadata": {},
   "outputs": [
    {
     "name": "stdout",
     "output_type": "stream",
     "text": [
      "Area of square is:9\n",
      "Area of circle is:12.566370614359172\n",
      "Area of square is:4\n"
     ]
    }
   ],
   "source": [
    "import math\n",
    "\n",
    "class Shape:\n",
    "    def area(self):\n",
    "        raise NotImple"
   ]
  },
  {
   "cell_type": "code",
   "execution_count": null,
   "id": "2d604513",
   "metadata": {},
   "outputs": [],
   "source": []
  }
 ],
 "metadata": {
  "kernelspec": {
   "display_name": "base",
   "language": "python",
   "name": "python3"
  },
  "language_info": {
   "codemirror_mode": {
    "name": "ipython",
    "version": 3
   },
   "file_extension": ".py",
   "mimetype": "text/x-python",
   "name": "python",
   "nbconvert_exporter": "python",
   "pygments_lexer": "ipython3",
   "version": "3.12.9"
  }
 },
 "nbformat": 4,
 "nbformat_minor": 5
}
