{
 "cells": [
  {
   "cell_type": "markdown",
   "id": "e8bcda02",
   "metadata": {},
   "source": [
    "#### Module: Inheritance Assignments\n",
    "\n",
    "**Lesson: Single and Multiple Inheritance**"
   ]
  },
  {
   "cell_type": "markdown",
   "id": "3de5be2d",
   "metadata": {},
   "source": [
    "**Assignment 1: Single Inheritance Basic**\n",
    "\n",
    "Create a base class named `Animal` with attributes name `species`. Create a derived class named `Dog` that inherits from `Animal` and adds an attribute `breed`. Create an `object` of the `Dog` class and prints its attributes."
   ]
  },
  {
   "cell_type": "code",
   "execution_count": 12,
   "id": "1bfac403",
   "metadata": {},
   "outputs": [
    {
     "name": "stdout",
     "output_type": "stream",
     "text": [
      "Dog name:Jimmy,\n",
      "Dog species:Canine,\n",
      "Dog breed:Golden Retriever\n"
     ]
    }
   ],
   "source": [
    "class Animal:\n",
    "    def __init__(self,name,species):\n",
    "        self.name = name\n",
    "        self.species = species\n",
    "\n",
    "class Dog(Animal):\n",
    "    def __init__(self,name,species,breed):\n",
    "        self.breed = breed\n",
    "        super().__init__(name,species)\n",
    "\n",
    "# Test\n",
    "d1 = Dog('Jimmy','Canine','Golden Retriever')\n",
    "print(f\"Dog name:{d1.name},\\nDog species:{d1.species},\\nDog breed:{d1.breed}\")"
   ]
  },
  {
   "cell_type": "markdown",
   "id": "a36347f2",
   "metadata": {},
   "source": [
    "**Assignment 2: Method Overriding in Single Inheritance**\n",
    "\n",
    "In the `Dog` class, override `__str__` method to return a string representationof the object. Create an object of the class and print it."
   ]
  },
  {
   "cell_type": "code",
   "execution_count": 15,
   "id": "5825e002",
   "metadata": {},
   "outputs": [
    {
     "name": "stdout",
     "output_type": "stream",
     "text": [
      "Dog name:Buddy, Species:Canine, Breed:Golden Retriever\n"
     ]
    }
   ],
   "source": [
    "class Dog(Animal):\n",
    "    def __init__(self,name,species,breed):\n",
    "        self.breed = breed\n",
    "        super().__init__(name,species)\n",
    "\n",
    "    def __str__(self):\n",
    "        return f\"Dog name:{self.name}, Species:{self.species}, Breed:{self.breed}\"\n",
    "\n",
    "# Test\n",
    "dog = Dog('Buddy','Canine','Golden Retriever')\n",
    "print(dog)"
   ]
  },
  {
   "cell_type": "markdown",
   "id": "afe8c3bb",
   "metadata": {},
   "source": [
    "**Assignment 3: Single Inheritance with Additional Method**\n",
    "\n",
    "In the `Dog` class, add a method named `bark` that prints a barking sound. Create an object of the class and call the method."
   ]
  },
  {
   "cell_type": "code",
   "execution_count": 21,
   "id": "36dfb2d3",
   "metadata": {},
   "outputs": [
    {
     "name": "stdout",
     "output_type": "stream",
     "text": [
      "Woof! Woof!\n"
     ]
    }
   ],
   "source": [
    "class Dog(Animal):\n",
    "    def __init__(self,name,species,breed):\n",
    "        self.breed = breed\n",
    "        super().__init__(name,species)\n",
    "\n",
    "    def bark(self):\n",
    "        print(\"Woof! Woof!\")\n",
    "\n",
    "# Test\n",
    "dog = Dog(\"Buddy\",\"Canine\",\"Golden Retriever\")\n",
    "dog.bark()"
   ]
  },
  {
   "cell_type": "markdown",
   "id": "7afbb1e0",
   "metadata": {},
   "source": [
    "**Assignment 4: Multiple Inheritance Basic**\n",
    "\n",
    "Create a base class named `Walker` with a method `walk` that prints a walking message. Create another base class named `Runner` with a method `run` that prints a running message. Create a derived class named `Athlete` that inherits from both `Walker` and `Runner`. Create an object of the `Athlete` class and call both methods."
   ]
  },
  {
   "cell_type": "code",
   "execution_count": 37,
   "id": "12ffae98",
   "metadata": {},
   "outputs": [
    {
     "name": "stdout",
     "output_type": "stream",
     "text": [
      "Walking...\n",
      "Running...\n"
     ]
    }
   ],
   "source": [
    "class Walker:\n",
    "    def walk(self):\n",
    "        return \"Walking...\"\n",
    "\n",
    "class Runner:\n",
    "    def run(self):\n",
    "        return \"Running...\"\n",
    "\n",
    "class Athlete(Walker,Runner):\n",
    "    pass\n",
    "\n",
    "c1 = Athlete()\n",
    "print(c1.walk())\n",
    "print(c1.run())"
   ]
  },
  {
   "cell_type": "markdown",
   "id": "e6f4e85f",
   "metadata": {},
   "source": [
    "**Assignment 5: Method Resolution Order (MRO) in Multiple Inheritance**\n",
    "\n",
    "In the `Athlete` class, override the `walk` method to print a different message. Create an object of the class and call the `walk` method. Use `super()` fucntion to call the walk method of the walker class."
   ]
  },
  {
   "cell_type": "code",
   "execution_count": 39,
   "id": "52f138f7",
   "metadata": {},
   "outputs": [
    {
     "name": "stdout",
     "output_type": "stream",
     "text": [
      "Walking...\n"
     ]
    }
   ],
   "source": [
    "class Athelete(Walker,Runner):\n",
    "    def walk(self):\n",
    "        print('Super class overrides')\n",
    "        super().walk()\n",
    "\n",
    "# Test\n",
    "athlete = Athlete()\n",
    "print(athlete.walk())"
   ]
  },
  {
   "cell_type": "markdown",
   "id": "dce72240",
   "metadata": {},
   "source": [
    "**Assignment 6: Multiple Inheritance with Additional Attributes**\n",
    "\n",
    "In the `Athlete` class, add an attribute `training_hours` and a method `train` that prints the training hours. Create an object of the class and call the method."
   ]
  },
  {
   "cell_type": "code",
   "execution_count": 46,
   "id": "2032ac84",
   "metadata": {},
   "outputs": [
    {
     "name": "stdout",
     "output_type": "stream",
     "text": [
      "Training for:3\n"
     ]
    }
   ],
   "source": [
    "class Athlete(Walker,Runner):\n",
    "    def __init__(self,training_hours):\n",
    "        self.training_hours = training_hours\n",
    "\n",
    "    def train(self):\n",
    "        print(f\"Training for:{self.training_hours}\")\n",
    "\n",
    "# Test\n",
    "a1 = Athlete(3)\n",
    "a1.train()"
   ]
  },
  {
   "cell_type": "markdown",
   "id": "a71406b4",
   "metadata": {},
   "source": [
    "**Assignment 7: Diamond Problem in Multiple Inheritance**\n",
    "\n",
    "Create a class named `A` with a method `show` that prints a message. Create two derived classes `B` and `C` that inherits from `A` and override the `show` method. Create a class `D` that inherits from both `B` and `C`. Create an object of the `D` class and call the `show` method. Observe the method resolution order."
   ]
  },
  {
   "cell_type": "code",
   "execution_count": 51,
   "id": "afa14e66",
   "metadata": {},
   "outputs": [
    {
     "name": "stdout",
     "output_type": "stream",
     "text": [
      "B's show method\n",
      "(<class '__main__.D'>, <class '__main__.B'>, <class '__main__.C'>, <class '__main__.A'>, <class 'object'>)\n"
     ]
    }
   ],
   "source": [
    "class A:\n",
    "    def show(self):\n",
    "        print(\"A's show method\")\n",
    "\n",
    "class B(A):\n",
    "    def show(self):\n",
    "        print(\"B's show method\")\n",
    "\n",
    "class C(A):\n",
    "    def show(self):\n",
    "        print(\"C's show method\")\n",
    "\n",
    "class D(B,C):\n",
    "    pass\n",
    "\n",
    "# Test\n",
    "d = D()\n",
    "d.show() # B's show method\n",
    "print(D.__mro__) # to check the MRO - order of method call."
   ]
  },
  {
   "cell_type": "code",
   "execution_count": 5,
   "id": "77987104",
   "metadata": {},
   "outputs": [
    {
     "name": "stdout",
     "output_type": "stream",
     "text": [
      "A's show method!\n",
      "B's show method!\n",
      "C's show method!\n",
      "D's show method!\n"
     ]
    },
    {
     "data": {
      "text/plain": [
       "(__main__.D, __main__.C, __main__.B, __main__.A, object)"
      ]
     },
     "execution_count": 5,
     "metadata": {},
     "output_type": "execute_result"
    }
   ],
   "source": [
    "## To make A,B,C,D order\n",
    "class A:\n",
    "    def show(self):\n",
    "        print(\"A's show method!\")\n",
    "\n",
    "class B(A):\n",
    "    def show(self):\n",
    "        A.show(self)\n",
    "        print(\"B's show method!\")\n",
    "\n",
    "class C(B):\n",
    "    def show(self):\n",
    "        B.show(self)\n",
    "        print(\"C's show method!\")\n",
    "\n",
    "class D(C):\n",
    "    def show(self):\n",
    "        C.show(self)\n",
    "        print(\"D's show method!\")\n",
    "\n",
    "d1 = D()\n",
    "d1.show()\n",
    "D.__mro__"
   ]
  },
  {
   "cell_type": "code",
   "execution_count": 6,
   "id": "c56da787",
   "metadata": {},
   "outputs": [
    {
     "name": "stdout",
     "output_type": "stream",
     "text": [
      "A's show method!\n",
      "B's show method!\n",
      "C's show method!\n",
      "D's show method!\n"
     ]
    }
   ],
   "source": [
    "class A:\n",
    "    def show(self):\n",
    "        print(\"A's show method!\")\n",
    "\n",
    "class B(A):\n",
    "    def show(self):\n",
    "        super().show()\n",
    "        print(\"B's show method!\")\n",
    "\n",
    "class C(B):\n",
    "    def show(self):\n",
    "        super().show()\n",
    "        print(\"C's show method!\")\n",
    "\n",
    "class D(C):\n",
    "    def show(self):\n",
    "        super().show()\n",
    "        print(\"D's show method!\")\n",
    "\n",
    "d1 = D()\n",
    "d1.show()"
   ]
  },
  {
   "cell_type": "markdown",
   "id": "f15c27b7",
   "metadata": {},
   "source": [
    "**Assignment 8: Using super() in Single Inheritance**\n",
    "\n",
    "Create a base class named `Shape` with an attribute `color`. Create a derived class named `Circle` that inherits from `Shape` and adds an attribute radius. Use the `super()` function to initialize the attributes. Create an object of the `Circle` class and prints its attributes."
   ]
  },
  {
   "cell_type": "code",
   "execution_count": 7,
   "id": "f2206c96",
   "metadata": {},
   "outputs": [
    {
     "name": "stdout",
     "output_type": "stream",
     "text": [
      "Color of circle:Black and radius of circle:5\n"
     ]
    }
   ],
   "source": [
    "class Shape:\n",
    "    def __init__(self,color):\n",
    "        self.color = color\n",
    "\n",
    "class Circle(Shape):\n",
    "    def __init__(self,color,radius):\n",
    "        self.radius = radius\n",
    "        super().__init__(color)\n",
    "\n",
    "c1 = Circle('Black',5)\n",
    "print(f\"Color of circle:{c1.color} and radius of circle:{c1.radius}\")"
   ]
  },
  {
   "cell_type": "markdown",
   "id": "2abfb945",
   "metadata": {},
   "source": [
    "**Assignment 9: Using `super()` in Multiple Inheritance**\n",
    "\n",
    "Create a class named `Person` with an attribute `name`. Create a class named `Employee` with an attribute `employee_id`. Create a derived class `Manager` that inherits from both `Person` and `Employee`. Use the `super()` function to initialize the attributes. Create an object of the `Manager` class and prints its attributes."
   ]
  },
  {
   "cell_type": "code",
   "execution_count": 9,
   "id": "26c84158",
   "metadata": {},
   "outputs": [
    {
     "name": "stdout",
     "output_type": "stream",
     "text": [
      "Manager name:Bravo and employee_id:1023\n"
     ]
    }
   ],
   "source": [
    "class Person:\n",
    "    def __init__(self,name):\n",
    "        self.name = name\n",
    "\n",
    "class Employee:\n",
    "    def __init__(self,employee_id):\n",
    "        self.employee_id = employee_id\n",
    "\n",
    "class Manager(Person, Employee):\n",
    "    def __init__(self,name,employee_id):\n",
    "        super().__init__(name)\n",
    "        Employee.__init__(self,employee_id)\n",
    "\n",
    "m1 = Manager(\"Bravo\",\"1023\")\n",
    "print(f\"Manager name:{m1.name} and employee_id:{m1.employee_id}\")"
   ]
  },
  {
   "cell_type": "markdown",
   "id": "66efa831",
   "metadata": {},
   "source": [
    "**Assignment 10: Method Overriding and super()**\n",
    "\n",
    "Create a class named `Vehicle` with a method `start` that prints a starting message. Create a derived class `Car` that overrides the `start` method to print a different message. Use the `super()` function to call the `start` method of the `Vehicle` class. Create an object of the `Car` class and call the `start` method."
   ]
  },
  {
   "cell_type": "code",
   "execution_count": 12,
   "id": "abc16f42",
   "metadata": {},
   "outputs": [
    {
     "name": "stdout",
     "output_type": "stream",
     "text": [
      "Car starting!\n",
      "Vehicle starting!\n"
     ]
    }
   ],
   "source": [
    "class Vehicle:\n",
    "    def start(self):\n",
    "        print(\"Vehicle starting!\")\n",
    "\n",
    "class Car(Vehicle):\n",
    "    def start(self):\n",
    "        print(\"Car starting!\")\n",
    "        super().start()\n",
    "\n",
    "car1 = Car()\n",
    "car1.start()"
   ]
  },
  {
   "cell_type": "markdown",
   "id": "10c31272",
   "metadata": {},
   "source": [
    "**Assignment 11: Multiple Inheritance with Different Methods**\n",
    "\n",
    "Create a class named `Flyer` with a method `fly` that prints a flying message. Create a class named `Swimmer` with a method `swim` that prints a swimming message. Create a derived class `Superhero` that inherits from both `Flyer` and `Swimmer`. Create an object of the `Superhero` class and call both methods."
   ]
  },
  {
   "cell_type": "code",
   "execution_count": 13,
   "id": "a810a40a",
   "metadata": {},
   "outputs": [
    {
     "name": "stdout",
     "output_type": "stream",
     "text": [
      "Flying!!!!\n",
      "Swimming!!!\n"
     ]
    }
   ],
   "source": [
    "class Flyer:\n",
    "    def fly(self):\n",
    "        print(\"Flying!!!!\")\n",
    "\n",
    "class Swimmer:\n",
    "    def swim(self):\n",
    "        print(\"Swimming!!!\")\n",
    "\n",
    "class Superhero(Flyer,Swimmer):\n",
    "    pass\n",
    "\n",
    "# Test\n",
    "s1 = Superhero()\n",
    "s1.fly()\n",
    "s1.swim()"
   ]
  },
  {
   "cell_type": "markdown",
   "id": "5f77069a",
   "metadata": {},
   "source": [
    "**Assignment 12: Complex Multiple Inheritance**\n",
    "\n",
    "Create a class named `Base1` with an attribute a. Create a class named `Base2` with an attribute `b`. Create a class named `Derived` that inherits from both `Base1` and `Base2` and adds an attribute `c`. Initialize all attributes using super() function. Create an object of the `Derived` class and prints its attributes."
   ]
  },
  {
   "cell_type": "code",
   "execution_count": 17,
   "id": "34598775",
   "metadata": {},
   "outputs": [
    {
     "name": "stdout",
     "output_type": "stream",
     "text": [
      "1 2 3\n"
     ]
    }
   ],
   "source": [
    "class Base1:\n",
    "    def __init__(self,a):\n",
    "        self.a = a\n",
    "\n",
    "class Base2:\n",
    "    def __init__(self,b):\n",
    "        self.b = b\n",
    "\n",
    "class Derived(Base1,Base2):\n",
    "    def __init__(self,a,b,c):\n",
    "        self.c = c\n",
    "        super().__init__(a)\n",
    "        Base2.__init__(self,b)\n",
    "\n",
    "# Test\n",
    "derived = Derived(1,2,3)\n",
    "print(derived.a, derived.b, derived.c)"
   ]
  },
  {
   "cell_type": "markdown",
   "id": "13e281b1",
   "metadata": {},
   "source": [
    "**Assignment 13: Checking Instance Types with Inheritance**\n",
    "\n",
    "Create a base class named `Animal` and a derived class named `Cat`. Create objects of both classes and use the `isinstance` function to check the instance types."
   ]
  },
  {
   "cell_type": "code",
   "execution_count": null,
   "id": "6cc4616c",
   "metadata": {},
   "outputs": [
    {
     "name": "stdout",
     "output_type": "stream",
     "text": [
      "True\n",
      "True\n",
      "False\n",
      "True\n"
     ]
    }
   ],
   "source": [
    "class Animal:\n",
    "    pass\n",
    "\n",
    "class Cat(Animal):\n",
    "    pass\n",
    "\n",
    "# Test\n",
    "animal = Animal()\n",
    "cat = Cat()\n",
    "\n",
    "print(isinstance(animal,Animal)) # True\n",
    "print(isinstance(cat,Cat)) # True\n",
    "print(isinstance(animal,Cat)) # False\n",
    "print(isinstance(cat,Animal)) # True (it inherits from Animal)"
   ]
  },
  {
   "cell_type": "markdown",
   "id": "2a1301d6",
   "metadata": {},
   "source": [
    "**Assignment 14: Polymorphism with Inheritance**\n",
    "\n",
    "Create a base class named `Bird` with a method `speak`. Create two derived classes `Parrot` and `Penguin` that override `speak` method. Create a list of `Bird` objects and call the `speak` method on each object to demonstrate polymorphism."
   ]
  },
  {
   "cell_type": "code",
   "execution_count": 26,
   "id": "1c7811b7",
   "metadata": {},
   "outputs": [
    {
     "name": "stdout",
     "output_type": "stream",
     "text": [
      "Penguin says: Honk!\n",
      "Parrot says: Squak!\n",
      "Penguin says: Honk!\n",
      "Penguin says: Honk!\n"
     ]
    }
   ],
   "source": [
    "class Bird:\n",
    "    def speak(self):\n",
    "        pass\n",
    "\n",
    "class Parrot(Bird):\n",
    "    def speak(self):\n",
    "        print(\"Parrot says: Squak!\")\n",
    "\n",
    "class Penguin(Bird):\n",
    "    def speak(self):\n",
    "        print(\"Penguin says: Honk!\")\n",
    "\n",
    "# Test\n",
    "birds = [Penguin(),Parrot(),Penguin(),Penguin()]\n",
    "for bird in birds:\n",
    "    bird.speak()"
   ]
  },
  {
   "cell_type": "markdown",
   "id": "01d4e109",
   "metadata": {},
   "source": [
    "**Assingment 15: Combining Single and Multiple Inheritance**\n",
    "\n",
    "Create a base class named `Device` with an attribute `model`. Create another base class `Camera` with an attribute `resolution`. Create a derived class `Smartphone` that inherits from both `Phone` and `Camera`. Create an object of the `Smartphone` class and print its attributes."
   ]
  },
  {
   "cell_type": "code",
   "execution_count": 29,
   "id": "30fd0f4a",
   "metadata": {},
   "outputs": [
    {
     "name": "stdout",
     "output_type": "stream",
     "text": [
      "apple iPhone 15 24 MP\n"
     ]
    }
   ],
   "source": [
    "class Device:\n",
    "    def __init__(self,brand):\n",
    "        self.brand = brand\n",
    "\n",
    "class Phone(Device):\n",
    "    def __init__(self,brand, model):\n",
    "        self.model = model\n",
    "        super().__init__(brand)\n",
    "\n",
    "class Camera:\n",
    "    def __init__(self, resolution):\n",
    "        self.resolution = resolution\n",
    "\n",
    "class Smartphone(Phone, Camera):\n",
    "    def __init__(self,brand,model,resolution):\n",
    "        Phone.__init__(self,brand,model)\n",
    "        Camera.__init__(self,resolution)\n",
    "\n",
    "# Test\n",
    "smartphone = Smartphone('apple','iPhone 15','24 MP')\n",
    "print(smartphone.brand, smartphone.model, smartphone.resolution)"
   ]
  }
 ],
 "metadata": {
  "kernelspec": {
   "display_name": "base",
   "language": "python",
   "name": "python3"
  },
  "language_info": {
   "codemirror_mode": {
    "name": "ipython",
    "version": 3
   },
   "file_extension": ".py",
   "mimetype": "text/x-python",
   "name": "python",
   "nbconvert_exporter": "python",
   "pygments_lexer": "ipython3",
   "version": "3.12.9"
  }
 },
 "nbformat": 4,
 "nbformat_minor": 5
}
