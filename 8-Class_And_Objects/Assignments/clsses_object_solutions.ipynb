{
 "cells": [
  {
   "cell_type": "markdown",
   "id": "974d6ad5",
   "metadata": {},
   "source": [
    "#### Module: Classes and Objects Assignments"
   ]
  },
  {
   "cell_type": "markdown",
   "id": "caa58ac0",
   "metadata": {},
   "source": [
    "**Lesson: Creating and Working with Classes and Objects**"
   ]
  },
  {
   "cell_type": "markdown",
   "id": "fd1a0d65",
   "metadata": {},
   "source": [
    "**Assignment 1: Basic Class and Object Creation**\n",
    "\n",
    "Create a class named `Car` with attributes `make`,`model`, and `year`. Create an object of the class and its attributes."
   ]
  },
  {
   "cell_type": "code",
   "execution_count": 4,
   "id": "ebed9248",
   "metadata": {},
   "outputs": [
    {
     "name": "stdout",
     "output_type": "stream",
     "text": [
      "make: Maruti\n",
      "model: Gypsy\n",
      "year: 2000\n"
     ]
    }
   ],
   "source": [
    "class Car:\n",
    "    def __init__(self, make, model, year):\n",
    "        self.make = make\n",
    "        self.model = model\n",
    "        self.year = year\n",
    "\n",
    "car1 = Car('Maruti','Gypsy','2000')\n",
    "print(f\"make: {car1.make}\")\n",
    "print(f\"model: {car1.model}\")\n",
    "print(f\"year: {car1.year}\")"
   ]
  },
  {
   "cell_type": "markdown",
   "id": "692f0294",
   "metadata": {},
   "source": [
    "**Assignment 2: Methods in Class**\n",
    "\n",
    "Add a method named `start_engine` to the `Car` class that prints a message when the engine starts. Create an object of the class and call the method."
   ]
  },
  {
   "cell_type": "code",
   "execution_count": 7,
   "id": "156fe9a4",
   "metadata": {},
   "outputs": [
    {
     "name": "stdout",
     "output_type": "stream",
     "text": [
      "Car make is : BMW\n",
      "Car model is : X1\n",
      "Car year is : 2005\n",
      "Action: BMW made X1 model 2005 year car engine starts!\n"
     ]
    }
   ],
   "source": [
    "class Car:\n",
    "    def __init__(self,make,model,year):\n",
    "        self.make = make\n",
    "        self.model = model\n",
    "        self.year = year\n",
    "\n",
    "    def start_engine(self):\n",
    "        return f\"{self.make} made {self.model} model {self.year} year car engine starts!\"\n",
    "    \n",
    "car2 = Car('BMW','X1',2005)\n",
    "print(f\"Car make is : {car2.make}\")\n",
    "print(f\"Car model is : {car2.model}\")\n",
    "print(f\"Car year is : {car2.year}\")\n",
    "\n",
    "print(f\"Action: {car2.start_engine()}\")"
   ]
  },
  {
   "cell_type": "markdown",
   "id": "f3639465",
   "metadata": {},
   "source": [
    "**Assignment 3: Class with Constructor**\n",
    "\n",
    "Create a class named `Student` with attributes `names` and `age`. Use a constructor to initialize these attributes. Create an object of the class and print its attributes."
   ]
  },
  {
   "cell_type": "code",
   "execution_count": 10,
   "id": "d51cd11e",
   "metadata": {},
   "outputs": [
    {
     "name": "stdout",
     "output_type": "stream",
     "text": [
      "Aj 22\n"
     ]
    }
   ],
   "source": [
    "class Student:\n",
    "    def __init__(self,name,age):\n",
    "        self.name = name\n",
    "        self.age = age\n",
    "\n",
    "s1 = Student('Aj',22)\n",
    "print(s1.name, s1.age)"
   ]
  },
  {
   "cell_type": "markdown",
   "id": "07f6a74c",
   "metadata": {},
   "source": [
    "**Assignment 4: Class with Private Attributes**\n",
    "\n",
    "Create a class named `BankAccount` with private attributes `account_number` and `balance`. Add methods to deposit and withdraw money, and to check balance. Create an object the class the perform soem operations."
   ]
  },
  {
   "cell_type": "code",
   "execution_count": 14,
   "id": "013f15f5",
   "metadata": {},
   "outputs": [
    {
     "name": "stdout",
     "output_type": "stream",
     "text": [
      "Account details: Account number: 212A and Balance: 2000\n",
      "Amount 500 has been credited, current balance is: 2500\n",
      "Amount 300 has been debited, current balance is: 2200\n"
     ]
    }
   ],
   "source": [
    "class BankAccount:\n",
    "    def __init__(self,account_number,balance):\n",
    "        self.__account_number = account_number\n",
    "        self.__balance = balance\n",
    "\n",
    "    def account_info(self):\n",
    "        return f\"Account number: {self.__account_number} and Balance: {self.__balance}\"\n",
    "\n",
    "    def deposit(self,amount):\n",
    "        self.__balance += amount\n",
    "        return f\"Amount {amount} has been credited, current balance is: {self.__balance}\"\n",
    "    \n",
    "    def withdraw(self,amount):\n",
    "        self.__balance -= amount\n",
    "        return f\"Amount {amount} has been debited, current balance is: {self.__balance}\"\n",
    "    \n",
    "acc1 = BankAccount('212A',2000)\n",
    "print(f\"Account details: {acc1.account_info()}\")\n",
    "print(f\"{acc1.deposit(500)}\")\n",
    "print(f\"{acc1.withdraw(300)}\")"
   ]
  },
  {
   "cell_type": "markdown",
   "id": "8a548de1",
   "metadata": {},
   "source": [
    "**Assignment 5: Class Inheritance**\n",
    "\n",
    "Create a base class `Person` with attributes `name` and `age`. Create a derived class named `Employee` that inherits from `Person` and adds an attribute `employee_id`. Create an object of the derived class and print its attributes."
   ]
  },
  {
   "cell_type": "code",
   "execution_count": 15,
   "id": "46f664a6",
   "metadata": {},
   "outputs": [
    {
     "name": "stdout",
     "output_type": "stream",
     "text": [
      "Empolyee name: Ajwar\n",
      "Employee Age: 27\n",
      "Employee id: 131\n"
     ]
    }
   ],
   "source": [
    "class Person:\n",
    "    def __init__(self,name,age):\n",
    "        self.name = name\n",
    "        self.age = age\n",
    "\n",
    "class Employee(Person):\n",
    "    def __init__(self,name,age,employee_id):\n",
    "        self.employee_id = employee_id\n",
    "        super().__init__(name,age)\n",
    "\n",
    "e1 = Employee('Ajwar',27,131)\n",
    "print(f\"Empolyee name: {e1.name}\")\n",
    "print(f\"Employee Age: {e1.age}\")\n",
    "print(f\"Employee id: {e1.employee_id}\")"
   ]
  },
  {
   "cell_type": "markdown",
   "id": "dc330878",
   "metadata": {},
   "source": [
    "**Assignement 6: Method Overriding**\n",
    "\n",
    "In the `Employee` class, override the `__str__` method to return a string representation of the object. Create an object of the class and print it."
   ]
  },
  {
   "cell_type": "code",
   "execution_count": 28,
   "id": "4970afd2",
   "metadata": {},
   "outputs": [
    {
     "name": "stdout",
     "output_type": "stream",
     "text": [
      "Employee name is aj, who is 22 year old and empid is 121 !\n",
      "Employee name:aj, age:22 and empid:121\n"
     ]
    }
   ],
   "source": [
    "class Person:\n",
    "    def __init__(self,name,age):\n",
    "        self.name = name\n",
    "        self.age = age\n",
    "        \n",
    "class Employee(Person):\n",
    "    def __init__(self,name,age,empid):\n",
    "        self.empid = empid\n",
    "        super().__init__(name,age)\n",
    "\n",
    "    def __str__(self):\n",
    "        return f\"Employee name is {self.name}, who is {self.age} year old and empid is {self.empid} !\"\n",
    "    \n",
    "    def __repr__(self):\n",
    "        return f\"Employee name:{self.name}, age:{self.age} and empid:{self.empid}\"\n",
    "\n",
    "e2 = Employee('aj',22,121)\n",
    "\n",
    "print(e2)\n",
    "print(repr(e2))\n",
    "# print(f\"name: {e2.name}\")\n",
    "# print(f\"age: {e2.age}\")\n",
    "# print(f\"empid: {e2.empid}\")\n",
    "\n"
   ]
  },
  {
   "cell_type": "markdown",
   "id": "89173d33",
   "metadata": {},
   "source": [
    "**Assignment 7: Class Composition**\n",
    "\n",
    "Crate a class named `Address` with attributes `street`, `city` and `zipcode`. Create a class named `Person` that has an `Address` object as an attribute. Create an object of the 'Person' class and print its address."
   ]
  },
  {
   "cell_type": "code",
   "execution_count": 36,
   "id": "ff1bb1b5",
   "metadata": {},
   "outputs": [
    {
     "name": "stdout",
     "output_type": "stream",
     "text": [
      "123 Main St New York 1001\n"
     ]
    }
   ],
   "source": [
    "class Address:\n",
    "    def __init__(self,street,city,zipcode):\n",
    "        self.street = street\n",
    "        self.city = city\n",
    "        self.zipcode = zipcode\n",
    "\n",
    "class Person:\n",
    "    def __init__(self,name,age,address):\n",
    "        self.name = name\n",
    "        self.age = age\n",
    "        self.address = address\n",
    "\n",
    "# Test\n",
    "address = Address('123 Main St', 'New York', '1001')\n",
    "person = Person('John',25,address)\n",
    "print(person.address.street, person.address.city, person.address.zipcode)"
   ]
  },
  {
   "cell_type": "markdown",
   "id": "49773c2a",
   "metadata": {},
   "source": [
    "**Assignment 8: Class with Class Variables**\n",
    "\n",
    "Create a class named `Counter` with a class variable `count`. Each time an object is created, increment the count, Add a method to get the current count. Create multiple objects and print the count."
   ]
  },
  {
   "cell_type": "code",
   "execution_count": 47,
   "id": "04f6f229",
   "metadata": {},
   "outputs": [
    {
     "name": "stdout",
     "output_type": "stream",
     "text": [
      "3\n"
     ]
    }
   ],
   "source": [
    "class Counter:\n",
    "    count = 0\n",
    "\n",
    "    def __init__(self):\n",
    "        Counter.count += 1\n",
    "\n",
    "    @classmethod\n",
    "    def get_count(cls):\n",
    "        return cls.count\n",
    "    \n",
    "# Test\n",
    "c1 = Counter()\n",
    "#print(c1.get_count())\n",
    "c2 = Counter()\n",
    "#print(c1.get_count())\n",
    "c3 = Counter()\n",
    "print(Counter.get_count()) # 3"
   ]
  },
  {
   "cell_type": "markdown",
   "id": "88493e79",
   "metadata": {},
   "source": [
    "**Assignment 9: Static Methods**\n",
    "\n",
    "Create a class named `MathOperations` with a static method to calculate the square root of a number. Call the static method without creating an object."
   ]
  },
  {
   "cell_type": "code",
   "execution_count": 53,
   "id": "878219c6",
   "metadata": {},
   "outputs": [
    {
     "data": {
      "text/plain": [
       "4.0"
      ]
     },
     "execution_count": 53,
     "metadata": {},
     "output_type": "execute_result"
    }
   ],
   "source": [
    "import math\n",
    "\n",
    "class MathOperations:\n",
    "    \n",
    "    @staticmethod\n",
    "    def sqrt(number):\n",
    "        return math.sqrt(number)\n",
    "\n",
    "# Test\n",
    "MathOperations.sqrt(16)"
   ]
  },
  {
   "cell_type": "markdown",
   "id": "8492e6ba",
   "metadata": {},
   "source": [
    "**Assignment 10: Class with Properties**\n",
    "\n",
    "Cretes a class named `Rectangle` with private attributes `length` and `width`. Use properties to get and set these attributes. Create an object of the class and test the properties."
   ]
  },
  {
   "cell_type": "code",
   "execution_count": 20,
   "id": "47c454a6",
   "metadata": {},
   "outputs": [
    {
     "name": "stdout",
     "output_type": "stream",
     "text": [
      "10 5\n",
      "15 7\n"
     ]
    }
   ],
   "source": [
    "class Rectangle:\n",
    "    def __init__(self,length,width):\n",
    "        self.__length = length\n",
    "        self.__width = width\n",
    "\n",
    "    @property\n",
    "    def length(self):\n",
    "        return self.__length\n",
    "    \n",
    "    @length.setter\n",
    "    def length(self,length):\n",
    "        self.__length = length\n",
    "\n",
    "    @property\n",
    "    def width(self):\n",
    "        return self.__width\n",
    "    \n",
    "    @width.setter\n",
    "    def width(self,width):\n",
    "        self.__width = width\n",
    "\n",
    "# Test\n",
    "rect = Rectangle(10,5)\n",
    "print(rect.length, rect.width) # 10 5\n",
    "rect.length = 15\n",
    "rect.width = 7\n",
    "print(rect.length, rect.width) # 15 7"
   ]
  },
  {
   "cell_type": "markdown",
   "id": "406287db",
   "metadata": {},
   "source": [
    "**Assignment 11: Abstract Base Class**\n",
    "\n",
    "Create an abstract base class named `Shape` with an abstract method `area`. Create derived classes `Circle` and `Square` that implement the `area` method. Create objects of the derived classes and call the `area` method."
   ]
  },
  {
   "cell_type": "code",
   "execution_count": 24,
   "id": "03ec7ef5",
   "metadata": {},
   "outputs": [
    {
     "name": "stdout",
     "output_type": "stream",
     "text": [
      "78.53981633974483\n",
      "16\n"
     ]
    }
   ],
   "source": [
    "from abc import ABC,abstractmethod\n",
    "\n",
    "class Shape(ABC):\n",
    "    @abstractmethod\n",
    "    def area(self):\n",
    "        pass\n",
    "\n",
    "class Circle(Shape):\n",
    "    def __init__(self,radius):\n",
    "        self.radius = radius\n",
    "\n",
    "    def area(self):\n",
    "        return math.pi * self.radius ** 2\n",
    "    \n",
    "class Square(Shape):\n",
    "    def __init__(self,side):\n",
    "        self.side = side\n",
    "\n",
    "    def area(self):\n",
    "        return self.side ** 2\n",
    "    \n",
    "# Test\n",
    "circle = Circle(5)\n",
    "square = Square(4)\n",
    "print(circle.area()) # 78.53981633974483\n",
    "print(square.area()) # 16"
   ]
  },
  {
   "cell_type": "markdown",
   "id": "a0b4868d",
   "metadata": {},
   "source": [
    "**Assignment 12: Operator Overloading**\n",
    "\n",
    "Create a class named `Vector` with attributes `x` and `y`. Overload `+` operator to add two `Vector` objects. Create objects of the class and test the operator overloading."
   ]
  },
  {
   "cell_type": "code",
   "execution_count": 29,
   "id": "3d8d241e",
   "metadata": {},
   "outputs": [
    {
     "name": "stdout",
     "output_type": "stream",
     "text": [
      "Vector(6,8)\n"
     ]
    }
   ],
   "source": [
    "class Vector:\n",
    "    def __init__(self,x,y):\n",
    "        self.x = x\n",
    "        self.y = y\n",
    "\n",
    "    def __add__(self,other):\n",
    "        return Vector(self.x+other.x, self.y+other.y)\n",
    "    \n",
    "    def __str__(self):\n",
    "        return f\"Vector({self.x},{self.y})\"\n",
    "    \n",
    "# Test\n",
    "v1 = Vector(2,3)\n",
    "v2 = Vector(4,5)\n",
    "v3 = v1 + v2\n",
    "print(v3) # Vector(6,8)"
   ]
  },
  {
   "cell_type": "markdown",
   "id": "a86f73be",
   "metadata": {},
   "source": [
    "**Assignment 13: Class with Custom Exception**\n",
    "\n",
    "Create a custom exception named `InsufficientBalanceError`. In the `BankAccount` class, raise this exception when a withdraw amount is greater than the balance. Handle the exception and print an appropriate message."
   ]
  },
  {
   "cell_type": "code",
   "execution_count": 31,
   "id": "f2c60161",
   "metadata": {},
   "outputs": [
    {
     "name": "stdout",
     "output_type": "stream",
     "text": [
      "1500\n",
      "Error:  Insufficient balance\n"
     ]
    }
   ],
   "source": [
    "class InsufficientBalanceError(Exception):\n",
    "    pass\n",
    "\n",
    "class BankAccount:\n",
    "    def __init__(self, account_number, balance=0):\n",
    "        self.account_number = account_number\n",
    "        self.__balance = balance\n",
    "\n",
    "    def deposit(self, amount):\n",
    "        self.__balance += amount\n",
    "\n",
    "    def withdraw(self, amount):\n",
    "        if amount > self.__balance:\n",
    "            raise InsufficientBalanceError(\"Insufficient balance\")\n",
    "        else:\n",
    "            self.__balance -= amount\n",
    "\n",
    "    def check_balance(self):\n",
    "        return self.__balance\n",
    "    \n",
    "# Test\n",
    "account1 = BankAccount('12345', 1000)\n",
    "account1.deposit(500)\n",
    "print(account1.check_balance())\n",
    "\n",
    "try:\n",
    "    account1.withdraw(10000)\n",
    "except InsufficientBalanceError as ie:\n",
    "    print(\"Error: \",ie)"
   ]
  },
  {
   "cell_type": "markdown",
   "id": "70431f42",
   "metadata": {},
   "source": [
    "**Assignment 14: Class with Context Manager**\n",
    "\n",
    "Create a class named `FileManager` that implements the context manager protocol to open and close a file. Use this class to read contents of a file."
   ]
  },
  {
   "cell_type": "code",
   "execution_count": 34,
   "id": "92712354",
   "metadata": {},
   "outputs": [
    {
     "name": "stdout",
     "output_type": "stream",
     "text": [
      "This file has sample data!\n"
     ]
    }
   ],
   "source": [
    "class FileManager:\n",
    "    def __init__(self, filename, mode):\n",
    "        self.filename = filename\n",
    "        self.mode = mode\n",
    "\n",
    "    def __enter__(self):\n",
    "        self.file = open(self.filename, self.mode)\n",
    "        return self.file\n",
    "    \n",
    "    def __exit__(self, exc_type, exc_value, traceback):\n",
    "        self.file.close()\n",
    "\n",
    "# Test\n",
    "# # Creating file with same method first\n",
    "# with FileManager('sample.txt','w') as file:\n",
    "#     file.write(\"This file has sample data!\")\n",
    "\n",
    "# Reading file\n",
    "with FileManager('sample.txt','r') as file:\n",
    "    content = file.read()\n",
    "    print(content)"
   ]
  },
  {
   "cell_type": "markdown",
   "id": "1ec6be3f",
   "metadata": {},
   "source": [
    "**Assignment 15: Chaining Methods**\n",
    "\n",
    "Create a class named `Calculator` with methods to add, subtract, multiply and divide. Each method should return the object itself to allow method chanining. Create an object and chain multiple method calls."
   ]
  },
  {
   "cell_type": "code",
   "execution_count": 36,
   "id": "240224c3",
   "metadata": {},
   "outputs": [
    {
     "name": "stdout",
     "output_type": "stream",
     "text": [
      "7.0\n"
     ]
    }
   ],
   "source": [
    "class Calculator:\n",
    "    def __init__(self,value=0):\n",
    "        self.value = value\n",
    "\n",
    "    def add(self, amount):\n",
    "        self.value += amount\n",
    "        return self\n",
    "\n",
    "    def subtract(self, amount):\n",
    "        self.value -= amount\n",
    "        return self\n",
    "\n",
    "    def multiply(self, amount):\n",
    "        self.value *= amount\n",
    "        return self\n",
    "\n",
    "    def divide(self, amount):\n",
    "        if amount != 0:\n",
    "            self.value /= amount\n",
    "        else:\n",
    "            print(\"Cannot divide by zero!\")\n",
    "        return self\n",
    "    \n",
    "# Test \n",
    "calc = Calculator()\n",
    "calc.add(10).subtract(3).multiply(2).divide(2)\n",
    "print(calc.value) # 7.0"
   ]
  }
 ],
 "metadata": {
  "kernelspec": {
   "display_name": "base",
   "language": "python",
   "name": "python3"
  },
  "language_info": {
   "codemirror_mode": {
    "name": "ipython",
    "version": 3
   },
   "file_extension": ".py",
   "mimetype": "text/x-python",
   "name": "python",
   "nbconvert_exporter": "python",
   "pygments_lexer": "ipython3",
   "version": "3.12.9"
  }
 },
 "nbformat": 4,
 "nbformat_minor": 5
}
