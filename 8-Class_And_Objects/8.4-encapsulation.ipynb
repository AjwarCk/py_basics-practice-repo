{
 "cells": [
  {
   "cell_type": "markdown",
   "id": "39347b9a",
   "metadata": {},
   "source": [
    "**Encapsulation And Abstraction**\n",
    "\n",
    "Encapsulation and abstraction are two fundamental principles of Object-Oriented Programming (OOP) that help in designing robust, maintainable and resusable codes. Encapsulation involves bundling data and methods that operate on the data within a single unit, while abstraction involves hiding complex implementation details and exposing only the necessary features. "
   ]
  },
  {
   "cell_type": "markdown",
   "id": "ca01db07",
   "metadata": {},
   "source": [
    "**Encapsulation**\n",
    "\n",
    "Encapsulation is the concept of wrapping data (variables) and methods (functions) together as a single unit. It restricts direct access to some of the object's components, which is a means of preventing accidental interference and misuse of the data."
   ]
  },
  {
   "cell_type": "code",
   "execution_count": 1,
   "id": "3355fa97",
   "metadata": {},
   "outputs": [
    {
     "data": {
      "text/plain": [
       "'Ajwar'"
      ]
     },
     "execution_count": 1,
     "metadata": {},
     "output_type": "execute_result"
    }
   ],
   "source": [
    "### Encapsulation with Getter and Setter Methods.\n",
    "### Public, portected, private variables or access modifiers.\n",
    "\n",
    "class Person:\n",
    "    def __init__(self,name,age):\n",
    "        self.name = name #public variable\n",
    "        self.age = age   #public variable\n",
    "\n",
    "def get_name(person):\n",
    "    return person.name\n",
    "\n",
    "p1 = Person('Ajwar',29)\n",
    "get_name(p1)"
   ]
  },
  {
   "cell_type": "code",
   "execution_count": 2,
   "id": "e4c4240e",
   "metadata": {},
   "outputs": [
    {
     "data": {
      "text/plain": [
       "['__class__',\n",
       " '__delattr__',\n",
       " '__dict__',\n",
       " '__dir__',\n",
       " '__doc__',\n",
       " '__eq__',\n",
       " '__format__',\n",
       " '__ge__',\n",
       " '__getattribute__',\n",
       " '__getstate__',\n",
       " '__gt__',\n",
       " '__hash__',\n",
       " '__init__',\n",
       " '__init_subclass__',\n",
       " '__le__',\n",
       " '__lt__',\n",
       " '__module__',\n",
       " '__ne__',\n",
       " '__new__',\n",
       " '__reduce__',\n",
       " '__reduce_ex__',\n",
       " '__repr__',\n",
       " '__setattr__',\n",
       " '__sizeof__',\n",
       " '__str__',\n",
       " '__subclasshook__',\n",
       " '__weakref__',\n",
       " 'age',\n",
       " 'name']"
      ]
     },
     "execution_count": 2,
     "metadata": {},
     "output_type": "execute_result"
    }
   ],
   "source": [
    "dir(p1)"
   ]
  },
  {
   "cell_type": "code",
   "execution_count": 20,
   "id": "b33efa5e",
   "metadata": {},
   "outputs": [
    {
     "ename": "AttributeError",
     "evalue": "'Person' object has no attribute '__name'",
     "output_type": "error",
     "traceback": [
      "\u001b[31m---------------------------------------------------------------------------\u001b[39m",
      "\u001b[31mAttributeError\u001b[39m                            Traceback (most recent call last)",
      "\u001b[36mCell\u001b[39m\u001b[36m \u001b[39m\u001b[32mIn[20]\u001b[39m\u001b[32m, line 11\u001b[39m\n\u001b[32m      8\u001b[39m     \u001b[38;5;28;01mreturn\u001b[39;00m person.__name\n\u001b[32m     10\u001b[39m p1 = Person(\u001b[33m\"\u001b[39m\u001b[33mAjwar\u001b[39m\u001b[33m\"\u001b[39m,\u001b[32m29\u001b[39m,\u001b[33m\"\u001b[39m\u001b[33mM\u001b[39m\u001b[33m\"\u001b[39m)\n\u001b[32m---> \u001b[39m\u001b[32m11\u001b[39m \u001b[43mget_name\u001b[49m\u001b[43m(\u001b[49m\u001b[43mp1\u001b[49m\u001b[43m)\u001b[49m\n",
      "\u001b[36mCell\u001b[39m\u001b[36m \u001b[39m\u001b[32mIn[20]\u001b[39m\u001b[32m, line 8\u001b[39m, in \u001b[36mget_name\u001b[39m\u001b[34m(person)\u001b[39m\n\u001b[32m      7\u001b[39m \u001b[38;5;28;01mdef\u001b[39;00m \u001b[34mget_name\u001b[39m(person):\n\u001b[32m----> \u001b[39m\u001b[32m8\u001b[39m     \u001b[38;5;28;01mreturn\u001b[39;00m \u001b[43mperson\u001b[49m\u001b[43m.\u001b[49m\u001b[43m__name\u001b[49m\n",
      "\u001b[31mAttributeError\u001b[39m: 'Person' object has no attribute '__name'"
     ]
    }
   ],
   "source": [
    "class Person:\n",
    "    def __init__(self,name,age,gender):\n",
    "        self.__name = name #private\n",
    "        self.__age = age #private\n",
    "        self.gender = gender #public\n",
    "\n",
    "def get_name(person):\n",
    "    return person.__name\n",
    "\n",
    "p1 = Person(\"Ajwar\",29,\"M\")\n",
    "get_name(p1)"
   ]
  },
  {
   "cell_type": "code",
   "execution_count": 22,
   "id": "4b6c3251",
   "metadata": {},
   "outputs": [
    {
     "data": {
      "text/plain": [
       "['_Person__age',\n",
       " '_Person__name',\n",
       " '__class__',\n",
       " '__delattr__',\n",
       " '__dict__',\n",
       " '__dir__',\n",
       " '__doc__',\n",
       " '__eq__',\n",
       " '__format__',\n",
       " '__ge__',\n",
       " '__getattribute__',\n",
       " '__getstate__',\n",
       " '__gt__',\n",
       " '__hash__',\n",
       " '__init__',\n",
       " '__init_subclass__',\n",
       " '__le__',\n",
       " '__lt__',\n",
       " '__module__',\n",
       " '__ne__',\n",
       " '__new__',\n",
       " '__reduce__',\n",
       " '__reduce_ex__',\n",
       " '__repr__',\n",
       " '__setattr__',\n",
       " '__sizeof__',\n",
       " '__str__',\n",
       " '__subclasshook__',\n",
       " '__weakref__',\n",
       " 'gender']"
      ]
     },
     "execution_count": 22,
     "metadata": {},
     "output_type": "execute_result"
    }
   ],
   "source": [
    "dir(p1)"
   ]
  },
  {
   "cell_type": "code",
   "execution_count": 23,
   "id": "7622a6d0",
   "metadata": {},
   "outputs": [],
   "source": [
    "class Person:\n",
    "    def __init__(self,name,age,gender,place):\n",
    "        self._name = name    #protected variable\n",
    "        self._age = age      #protected variable\n",
    "        self.gender = gender #public variable\n",
    "        self.__place = place #private variable\n",
    "\n",
    "def get_name(person):\n",
    "    return person._name\n",
    "\n",
    "def get_age(person):\n",
    "    return person._age\n",
    "\n",
    "def get_gender(person):\n",
    "    return person.gender\n",
    "\n",
    "def get_place(person):\n",
    "    return person.__place\n",
    "\n",
    "p1 = Person(\"Pete\",18,\"M\",\"US\")"
   ]
  },
  {
   "cell_type": "code",
   "execution_count": 24,
   "id": "a7b309fe",
   "metadata": {},
   "outputs": [
    {
     "data": {
      "text/plain": [
       "'Pete'"
      ]
     },
     "execution_count": 24,
     "metadata": {},
     "output_type": "execute_result"
    }
   ],
   "source": [
    "get_name(p1)"
   ]
  },
  {
   "cell_type": "code",
   "execution_count": 25,
   "id": "7dd170be",
   "metadata": {},
   "outputs": [
    {
     "data": {
      "text/plain": [
       "18"
      ]
     },
     "execution_count": 25,
     "metadata": {},
     "output_type": "execute_result"
    }
   ],
   "source": [
    "get_age(p1)"
   ]
  },
  {
   "cell_type": "code",
   "execution_count": 26,
   "id": "3dcd1ab6",
   "metadata": {},
   "outputs": [
    {
     "data": {
      "text/plain": [
       "'M'"
      ]
     },
     "execution_count": 26,
     "metadata": {},
     "output_type": "execute_result"
    }
   ],
   "source": [
    "get_gender(p1)"
   ]
  },
  {
   "cell_type": "code",
   "execution_count": 27,
   "id": "c53e4c09",
   "metadata": {},
   "outputs": [
    {
     "ename": "AttributeError",
     "evalue": "'Person' object has no attribute '__place'",
     "output_type": "error",
     "traceback": [
      "\u001b[31m---------------------------------------------------------------------------\u001b[39m",
      "\u001b[31mAttributeError\u001b[39m                            Traceback (most recent call last)",
      "\u001b[36mCell\u001b[39m\u001b[36m \u001b[39m\u001b[32mIn[27]\u001b[39m\u001b[32m, line 1\u001b[39m\n\u001b[32m----> \u001b[39m\u001b[32m1\u001b[39m \u001b[43mget_place\u001b[49m\u001b[43m(\u001b[49m\u001b[43mp1\u001b[49m\u001b[43m)\u001b[49m\n",
      "\u001b[36mCell\u001b[39m\u001b[36m \u001b[39m\u001b[32mIn[23]\u001b[39m\u001b[32m, line 18\u001b[39m, in \u001b[36mget_place\u001b[39m\u001b[34m(person)\u001b[39m\n\u001b[32m     17\u001b[39m \u001b[38;5;28;01mdef\u001b[39;00m \u001b[34mget_place\u001b[39m(person):\n\u001b[32m---> \u001b[39m\u001b[32m18\u001b[39m     \u001b[38;5;28;01mreturn\u001b[39;00m \u001b[43mperson\u001b[49m\u001b[43m.\u001b[49m\u001b[43m__place\u001b[49m\n",
      "\u001b[31mAttributeError\u001b[39m: 'Person' object has no attribute '__place'"
     ]
    }
   ],
   "source": [
    "get_place(p1)"
   ]
  },
  {
   "cell_type": "code",
   "execution_count": 30,
   "id": "f038d02e",
   "metadata": {},
   "outputs": [
    {
     "name": "stdout",
     "output_type": "stream",
     "text": [
      "P1 Name: Pete\n",
      "P1 Age: 18\n",
      "P1 Gender: M\n"
     ]
    },
    {
     "ename": "AttributeError",
     "evalue": "'Person' object has no attribute '__place'",
     "output_type": "error",
     "traceback": [
      "\u001b[31m---------------------------------------------------------------------------\u001b[39m",
      "\u001b[31mAttributeError\u001b[39m                            Traceback (most recent call last)",
      "\u001b[36mCell\u001b[39m\u001b[36m \u001b[39m\u001b[32mIn[30]\u001b[39m\u001b[32m, line 4\u001b[39m\n\u001b[32m      2\u001b[39m \u001b[38;5;28mprint\u001b[39m(\u001b[33mf\u001b[39m\u001b[33m\"\u001b[39m\u001b[33mP1 Age: \u001b[39m\u001b[38;5;132;01m{\u001b[39;00mp1._age\u001b[38;5;132;01m}\u001b[39;00m\u001b[33m\"\u001b[39m)\n\u001b[32m      3\u001b[39m \u001b[38;5;28mprint\u001b[39m(\u001b[33mf\u001b[39m\u001b[33m\"\u001b[39m\u001b[33mP1 Gender: \u001b[39m\u001b[38;5;132;01m{\u001b[39;00mp1.gender\u001b[38;5;132;01m}\u001b[39;00m\u001b[33m\"\u001b[39m)\n\u001b[32m----> \u001b[39m\u001b[32m4\u001b[39m \u001b[38;5;28mprint\u001b[39m(\u001b[33mf\u001b[39m\u001b[33m\"\u001b[39m\u001b[33mP1 Place: \u001b[39m\u001b[38;5;132;01m{\u001b[39;00m\u001b[43mp1\u001b[49m\u001b[43m.\u001b[49m\u001b[43m__place\u001b[49m\u001b[38;5;132;01m}\u001b[39;00m\u001b[33m\"\u001b[39m)\n",
      "\u001b[31mAttributeError\u001b[39m: 'Person' object has no attribute '__place'"
     ]
    }
   ],
   "source": [
    "print(f\"P1 Name: {p1._name}\")\n",
    "print(f\"P1 Age: {p1._age}\")\n",
    "print(f\"P1 Gender: {p1.gender}\")\n",
    "print(f\"P1 Place: {p1.__place}\")"
   ]
  },
  {
   "cell_type": "code",
   "execution_count": 31,
   "id": "e0dc61f3",
   "metadata": {},
   "outputs": [
    {
     "data": {
      "text/plain": [
       "['_Person__place',\n",
       " '__class__',\n",
       " '__delattr__',\n",
       " '__dict__',\n",
       " '__dir__',\n",
       " '__doc__',\n",
       " '__eq__',\n",
       " '__format__',\n",
       " '__ge__',\n",
       " '__getattribute__',\n",
       " '__getstate__',\n",
       " '__gt__',\n",
       " '__hash__',\n",
       " '__init__',\n",
       " '__init_subclass__',\n",
       " '__le__',\n",
       " '__lt__',\n",
       " '__module__',\n",
       " '__ne__',\n",
       " '__new__',\n",
       " '__reduce__',\n",
       " '__reduce_ex__',\n",
       " '__repr__',\n",
       " '__setattr__',\n",
       " '__sizeof__',\n",
       " '__str__',\n",
       " '__subclasshook__',\n",
       " '__weakref__',\n",
       " '_age',\n",
       " '_name',\n",
       " 'gender']"
      ]
     },
     "execution_count": 31,
     "metadata": {},
     "output_type": "execute_result"
    }
   ],
   "source": [
    "dir(p1)"
   ]
  },
  {
   "cell_type": "code",
   "execution_count": 34,
   "id": "037b78e2",
   "metadata": {},
   "outputs": [
    {
     "name": "stdout",
     "output_type": "stream",
     "text": [
      "John\n",
      "15\n",
      "Liz\n",
      "35\n"
     ]
    }
   ],
   "source": [
    "## Encapsulation with Getter and Setter\n",
    "class Person:\n",
    "    def __init__(self,name,age):\n",
    "        self.__name = name # Private access modifier or variable.\n",
    "        self.__age = age # Private variable\n",
    "\n",
    "    ## getter metod for name\n",
    "    def get_name(self):\n",
    "        return self.__name\n",
    "    \n",
    "    ## setter method for name\n",
    "    def set_name(self,name):\n",
    "        self.__name = name\n",
    "\n",
    "    ## getter method for age\n",
    "    def get_age(self):\n",
    "        return self.__age\n",
    "    \n",
    "    ## setter method for age\n",
    "    def set_age(self,age):\n",
    "        if age > 0:\n",
    "            self.__age = age\n",
    "        else:\n",
    "            print(\"Age cannot be negative!\")\n",
    "\n",
    "person = Person(\"John\",15)\n",
    "\n",
    "## Access and modify private variables using getter and setter methods.\n",
    "\n",
    "print(person.get_name())\n",
    "print(person.get_age())\n",
    "\n",
    "person.set_name(\"Liz\")\n",
    "person.set_age(35)\n",
    "\n",
    "print(person.get_name())\n",
    "print(person.get_age())"
   ]
  },
  {
   "cell_type": "code",
   "execution_count": 43,
   "id": "b6544039",
   "metadata": {},
   "outputs": [
    {
     "name": "stdout",
     "output_type": "stream",
     "text": [
      "Deposit successfull!\n",
      "Current balance post deposit: 800\n",
      "Current balance post withdrawl: 600\n"
     ]
    }
   ],
   "source": [
    "class BankAccount:\n",
    "    def __init__(self,balance):\n",
    "        self.__balance = balance\n",
    "    \n",
    "    def deposit(self,amount):\n",
    "        if amount > 0:\n",
    "            self.__balance += amount\n",
    "            print(\"Deposit successfull!\")\n",
    "        else:\n",
    "            print(f\"Amount shouldn't be negative!\")\n",
    "        \n",
    "    def get_balance(self):\n",
    "        return self.__balance\n",
    "    \n",
    "    def withdraw(self,amount):\n",
    "        if amount > 0:\n",
    "            self.__balance -= amount\n",
    "\n",
    "acc1 = BankAccount(500)\n",
    "acc1.deposit(300)\n",
    "print(f\"Current balance post deposit: {acc1.get_balance()}\")\n",
    "acc1.withdraw(200)\n",
    "print(f\"Current balance post withdrawl: {acc1.get_balance()}\")"
   ]
  }
 ],
 "metadata": {
  "kernelspec": {
   "display_name": "base",
   "language": "python",
   "name": "python3"
  },
  "language_info": {
   "codemirror_mode": {
    "name": "ipython",
    "version": 3
   },
   "file_extension": ".py",
   "mimetype": "text/x-python",
   "name": "python",
   "nbconvert_exporter": "python",
   "pygments_lexer": "ipython3",
   "version": "3.12.9"
  }
 },
 "nbformat": 4,
 "nbformat_minor": 5
}
