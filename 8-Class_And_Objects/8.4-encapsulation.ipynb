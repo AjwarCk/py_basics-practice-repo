{
 "cells": [
  {
   "cell_type": "markdown",
   "id": "39347b9a",
   "metadata": {},
   "source": [
    "**Encapsulation And Abstraction**\n",
    "\n",
    "Encapsulation and abstraction are two fundamental principles of Object-Oriented Programming (OOP) that help in designing robust, maintainable and resusable codes. Encapsulation involves bundling data and methods that operate on the data within a single unit, while abstraction involves hiding complex implementation details and exposing only the necessary features. "
   ]
  },
  {
   "cell_type": "markdown",
   "id": "ca01db07",
   "metadata": {},
   "source": [
    "**Encapsulation**\n",
    "\n",
    "Encapsulation is the concept of wrapping data (variables) and methods (functions) together as a single unit. It restricts direct access to some of the object's components, which is a means of preventing accidental interference and misuse of the data."
   ]
  },
  {
   "cell_type": "code",
   "execution_count": null,
   "id": "3355fa97",
   "metadata": {},
   "outputs": [],
   "source": [
    "### Encapsulation with Getter and Setter Methods.\n",
    "### Public, portected, private variables or access modifiers.\n",
    "\n"
   ]
  }
 ],
 "metadata": {
  "kernelspec": {
   "display_name": "base",
   "language": "python",
   "name": "python3"
  },
  "language_info": {
   "name": "python",
   "version": "3.12.9"
  }
 },
 "nbformat": 4,
 "nbformat_minor": 5
}
