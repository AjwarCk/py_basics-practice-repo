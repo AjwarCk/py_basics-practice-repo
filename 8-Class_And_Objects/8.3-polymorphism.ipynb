{
 "cells": [
  {
   "cell_type": "markdown",
   "id": "1d06ce2d",
   "metadata": {},
   "source": [
    "**Polymorphism**\n",
    "\n",
    "Polymorphism is a core concept in Object-Oriented Programming(OOP) that allows objects of different classes to be treated as objects of a common superclass. It provides a way to perform a single action in different forms. Polymorphism is typically achieved through method overriding and interfaces."
   ]
  },
  {
   "cell_type": "markdown",
   "id": "3f1038a2",
   "metadata": {},
   "source": [
    "**Method Overriding**\n",
    "\n",
    "Method overriding allows a child class to provide a specific implementation of a method that is already defined in its parent class."
   ]
  },
  {
   "cell_type": "code",
   "execution_count": 9,
   "id": "4ff9f0bb",
   "metadata": {},
   "outputs": [
    {
     "name": "stdout",
     "output_type": "stream",
     "text": [
      "Woof!\n",
      "Meow!\n",
      "Sound of the animal\n",
      "-----------------\n",
      "\n",
      "Woof!\n",
      "Meow!\n",
      "Sound of the animal\n"
     ]
    }
   ],
   "source": [
    "## Base Class\n",
    "class Animal:\n",
    "    def speak(self):\n",
    "        return \"Sound of the animal\"\n",
    "    \n",
    "## Derived Class 1\n",
    "class Dog(Animal):\n",
    "    def speak(self):\n",
    "        return \"Woof!\"\n",
    "    \n",
    "## Derived Class\n",
    "class Cat(Animal):\n",
    "    def speak(self):\n",
    "        return \"Meow!\"\n",
    "    \n",
    "## Function that demostrates polymorphism\n",
    "def animal_speak(animal):\n",
    "    print(animal.speak())\n",
    "\n",
    "animal_speak(Dog())\n",
    "animal_speak(Cat())\n",
    "animal_speak(Animal())\n",
    "print(\"-----------------\\n\")\n",
    "\n",
    "dog = Dog()\n",
    "cat = Cat()\n",
    "animal = Animal()\n",
    "\n",
    "print(dog.speak())\n",
    "print(cat.speak())\n",
    "print(animal.speak())"
   ]
  },
  {
   "cell_type": "code",
   "execution_count": 25,
   "id": "fb15447a",
   "metadata": {},
   "outputs": [
    {
     "name": "stdout",
     "output_type": "stream",
     "text": [
      "Sound of animal!\n",
      "woof!\n",
      "Meow!\n",
      "-------------\n",
      "\n",
      "['Sound of animal!', 'woof!', 'Meow!'] \n",
      "\n",
      "Sound of animal!\n",
      "woof!\n",
      "Meow!\n"
     ]
    }
   ],
   "source": [
    "## Base class\n",
    "class Animals:\n",
    "    def speak(self):\n",
    "        return \"Sound of animal!\"\n",
    "    \n",
    "## Derived class1 (inherits parent class \"Animal\")\n",
    "class Dog(Animals):\n",
    "    def speak(self):\n",
    "        return \"woof!\"\n",
    "    \n",
    "## Derived class2 (inherits parent class \"Animal\")\n",
    "class Cat(Animals):\n",
    "    def speak(self):\n",
    "        return \"Meow!\"\n",
    "    \n",
    "## Function that demonstrate polymorphism\n",
    "def animal_speak(obj):\n",
    "    obj.speak()\n",
    "\n",
    "animal = Animals()\n",
    "dog = Dog()\n",
    "cat = Cat()\n",
    "\n",
    "print(animal.speak())\n",
    "print(dog.speak())\n",
    "print(cat.speak())\n",
    "print(\"-------------\\n\")\n",
    "\n",
    "print([i.speak() for i in [Animals(),Dog(),Cat()]],\"\\n\")\n",
    "\n",
    "for i in [Animals(),Dog(),Cat()]:\n",
    "    print(i.speak())"
   ]
  },
  {
   "cell_type": "code",
   "execution_count": 30,
   "id": "d1700878",
   "metadata": {},
   "outputs": [
    {
     "name": "stdout",
     "output_type": "stream",
     "text": [
      "3\n",
      "9.42\n",
      "12\n"
     ]
    }
   ],
   "source": [
    "## Base Class \n",
    "class Shape:\n",
    "    def area(self):\n",
    "        return 3\n",
    "\n",
    "class Circle(Shape):\n",
    "    def area(self):\n",
    "        return 3.14*3\n",
    "\n",
    "class Rectangle(Shape):\n",
    "    def area(self):\n",
    "        return 3*4\n",
    "    \n",
    "for i in [Shape(),Circle(),Rectangle()]:\n",
    "    print(i.area())"
   ]
  },
  {
   "cell_type": "code",
   "execution_count": 40,
   "id": "6116401d",
   "metadata": {},
   "outputs": [
    {
     "name": "stdout",
     "output_type": "stream",
     "text": [
      "Error: Subclass must implement this!\n"
     ]
    }
   ],
   "source": [
    "class Shape:\n",
    "    def area(self):\n",
    "        raise NotImplementedError(\"Subclass must implement this!\")\n",
    "    \n",
    "class Circle(Shape):\n",
    "    def area(self):\n",
    "        return 3.14*3\n",
    "\n",
    "class Rectangle(Shape):\n",
    "    def areas(self):\n",
    "        return 3*4\n",
    "\n",
    "try:\n",
    "    for i in [Shape(),Circle(),Rectangle()]:\n",
    "        i.area()\n",
    "except NotImplementedError as e:\n",
    "    print(f\"Error: {e}\")"
   ]
  },
  {
   "cell_type": "code",
   "execution_count": 44,
   "id": "e8d15e23",
   "metadata": {},
   "outputs": [
    {
     "name": "stdout",
     "output_type": "stream",
     "text": [
      "The area is 20\n",
      "The area is 9.42\n"
     ]
    }
   ],
   "source": [
    "### Polymorphism with Functions and Methods\n",
    "## Base class\n",
    "class Shape:\n",
    "    def area(self):\n",
    "        return \"The area of the figure!\"\n",
    "    \n",
    "## Derived class1\n",
    "class Rectangle(Shape):\n",
    "    def __init__(self,width,length):\n",
    "        self.width = width\n",
    "        self.length = length\n",
    "\n",
    "    def area(self):\n",
    "        return self.width * self.length\n",
    "## Derived class2\n",
    "class Circle(Shape):\n",
    "    def __init__(self,radius):\n",
    "        self.radius = radius    \n",
    "\n",
    "    def area(self):\n",
    "        return 3.14 * self.radius\n",
    "    \n",
    "## Function that demostrate \n",
    "def print_area(shape):\n",
    "    print(f\"The area is {shape.area()}\")\n",
    "\n",
    "rectangle = Rectangle(4,5)\n",
    "print_area(rectangle)\n",
    "\n",
    "circle = Circle(3)\n",
    "print_area(circle)"
   ]
  },
  {
   "cell_type": "code",
   "execution_count": 48,
   "id": "573ea6dc",
   "metadata": {},
   "outputs": [
    {
     "name": "stdout",
     "output_type": "stream",
     "text": [
      "12\n",
      "9.42\n"
     ]
    }
   ],
   "source": [
    "for i in [Rectangle(3,4),Circle(3)]:\n",
    "    print(i.area())"
   ]
  },
  {
   "cell_type": "code",
   "execution_count": 62,
   "id": "2192096e",
   "metadata": {},
   "outputs": [
    {
     "name": "stdout",
     "output_type": "stream",
     "text": [
      "Area of circle is 9.42\n",
      "Area of rectangle is 20\n",
      "Area of the object is: rectangle\n"
     ]
    }
   ],
   "source": [
    "print_area(Circle('circle',3))\n",
    "print_area(Rectangle('rectangle',4,5))\n",
    "print_area(Shape('rectangle'))"
   ]
  },
  {
   "cell_type": "markdown",
   "id": "dbcb48fa",
   "metadata": {},
   "source": [
    "**Polymorphism with Abstract Base Classes**\n",
    "\n",
    "Abstract Base Classes (ABCs) are used to define common methods for a group of related objects. They can enforce the derived classes implement particular methods, promoting consistency across different implementations."
   ]
  },
  {
   "cell_type": "code",
   "execution_count": 91,
   "id": "b2a3edce",
   "metadata": {},
   "outputs": [
    {
     "name": "stdout",
     "output_type": "stream",
     "text": [
      "Car engineer started\n",
      "Mototcycle engineer started\n"
     ]
    }
   ],
   "source": [
    "from abc import ABC, abstractmethod\n",
    "\n",
    "## Define an abstract class\n",
    "class Vehicle(ABC):\n",
    "    @abstractmethod\n",
    "    def start_engine(self):\n",
    "        pass\n",
    "\n",
    "## Derived class1\n",
    "class Car(Vehicle):\n",
    "    def start_engine(self):\n",
    "        return \"Car engineer started\"\n",
    "    \n",
    "## Derived class2\n",
    "class Motorcycle(Vehicle):\n",
    "    def start_engine(self):\n",
    "        return \"Mototcycle engineer started\"\n",
    "    \n",
    "# Function that demonstrates polymorphism\n",
    "def start_vehicle(vehicle):\n",
    "    print(vehicle.start_engine())\n",
    "\n",
    "car = Car()\n",
    "start_vehicle(car)\n",
    "\n",
    "motorcycle = Motorcycle()\n",
    "start_vehicle(motorcycle)"
   ]
  },
  {
   "cell_type": "markdown",
   "id": "59f719d2",
   "metadata": {},
   "source": [
    "**Conclusion**\n",
    "\n",
    "Polymorphism is a powerful features of OOP that allows for flexibility and integration in code design. It enables a single function to handle objects of different classes, each with its own implementation of a method. By understanding and applying polymorphism, you can create more extensible and maintainable object-oriented programs."
   ]
  }
 ],
 "metadata": {
  "kernelspec": {
   "display_name": "base",
   "language": "python",
   "name": "python3"
  },
  "language_info": {
   "codemirror_mode": {
    "name": "ipython",
    "version": 3
   },
   "file_extension": ".py",
   "mimetype": "text/x-python",
   "name": "python",
   "nbconvert_exporter": "python",
   "pygments_lexer": "ipython3",
   "version": "3.12.9"
  }
 },
 "nbformat": 4,
 "nbformat_minor": 5
}
