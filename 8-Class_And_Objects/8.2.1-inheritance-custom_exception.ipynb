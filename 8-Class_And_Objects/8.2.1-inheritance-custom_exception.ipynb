{
 "cells": [
  {
   "cell_type": "markdown",
   "id": "7096734a",
   "metadata": {},
   "source": [
    "**Level1: Simple Custom Exception**\n",
    "\n",
    "For naming your own errors with basic error messages."
   ]
  },
  {
   "cell_type": "code",
   "execution_count": 7,
   "id": "2b663b78",
   "metadata": {},
   "outputs": [
    {
     "name": "stdout",
     "output_type": "stream",
     "text": [
      "Caught: Something went wrong!\n"
     ]
    }
   ],
   "source": [
    "# 1-Define\n",
    "class MyError(Exception):\n",
    "    pass\n",
    "\n",
    "# 2-Raise\n",
    "#raise MyError('Something went wrong!')\n",
    "\n",
    "# 3-Catch\n",
    "try:\n",
    "    raise MyError(\"Something went wrong!\")\n",
    "except MyError as e:\n",
    "    print(f\"Caught: {e}\")\n",
    "\n",
    "### Use Case: When you want to label an error clearly without needing special logic."
   ]
  },
  {
   "cell_type": "markdown",
   "id": "96f567f5",
   "metadata": {},
   "source": [
    "**Level 2: Intermediate Custom Exception**\n",
    "\n",
    "Add custom messages or data using `__init__()`"
   ]
  },
  {
   "cell_type": "code",
   "execution_count": 37,
   "id": "f4515d4e",
   "metadata": {},
   "outputs": [
    {
     "name": "stdout",
     "output_type": "stream",
     "text": [
      "Caught Error: Balance 500 is not enough. Needed 600\n",
      "Balance: 500\n",
      "Required Balance: 600\n"
     ]
    }
   ],
   "source": [
    "class InsufficientBalance(Exception):\n",
    "    def __init__(self, balance, required):\n",
    "        self.balance = balance\n",
    "        self.required = required\n",
    "        super().__init__(f\"Balance {balance} is not enough. Needed {required}\")\n",
    "\n",
    "# Raise it\n",
    "#raise InsufficientBalance(500,600)\n",
    "\n",
    "# Catch it\n",
    "try:\n",
    "    raise InsufficientBalance(500,600)\n",
    "except InsufficientBalance as e:\n",
    "    print(f\"Caught Error: {e}\")\n",
    "    print(f\"Balance: {e.balance}\")\n",
    "    print(f\"Required Balance: {e.required}\")\n",
    "\n",
    "## Use Case: You want to raise exceptions with more context or dynamic messages."
   ]
  },
  {
   "cell_type": "markdown",
   "id": "f2aafa5a",
   "metadata": {},
   "source": [
    "**Level 3: Advanced Custom Exception**\n",
    "\n",
    "Create exception **hierarchies** + add custom methods."
   ]
  },
  {
   "cell_type": "code",
   "execution_count": 39,
   "id": "cb97d19d",
   "metadata": {},
   "outputs": [
    {
     "name": "stdout",
     "output_type": "stream",
     "text": [
      "Payment issue: Invalid payment amount: -200\n",
      "Suggestion: Please enter a valid positive payment amount.\n"
     ]
    }
   ],
   "source": [
    "# Base exception for your app\n",
    "class AppError(Exception):\n",
    "    \"\"\"Base class for all app-specific errors\"\"\"\n",
    "    pass\n",
    "\n",
    "# Subclass 1\n",
    "class ValidationError(AppError):\n",
    "    def __Init__(self, field, message):\n",
    "        self.field = field\n",
    "        self.field = message\n",
    "        super().__init__(f\"Validation failed for '{field}': {message}\")\n",
    "\n",
    "# Subclass 2\n",
    "class PaymentError(AppError):\n",
    "    def __init__(self, amount):\n",
    "        self.amount = amount\n",
    "        super().__init__(f\"Invalid payment amount: {amount}\")\n",
    "\n",
    "    def suggest_fix(self):\n",
    "        return \"Please enter a valid positive payment amount.\"\n",
    "    \n",
    "# Use in real logic\n",
    "try:\n",
    "    raise PaymentError(-200)\n",
    "except ValidationError as ve:\n",
    "    print(f\"Validation issue: {ve}\")\n",
    "except PaymentError as pe:\n",
    "    print(f\"Payment issue: {pe}\")\n",
    "    print(f\"Suggestion: {pe.suggest_fix()}\")\n",
    "except AppError as ae:\n",
    "    print(f\"General app error: {ae}\")"
   ]
  },
  {
   "cell_type": "code",
   "execution_count": 55,
   "id": "47b0b49d",
   "metadata": {},
   "outputs": [
    {
     "name": "stdout",
     "output_type": "stream",
     "text": [
      "Withdraw issue: Requested amount 1500 is > balance: 1001\n"
     ]
    }
   ],
   "source": [
    "# Base Error Class\n",
    "class BaseError(Exception):\n",
    "    pass\n",
    "\n",
    "class BankError(BaseError):\n",
    "    pass\n",
    "\n",
    "class LowBalError(BankError):\n",
    "    def __init__(self, balance, required):\n",
    "        self.balance = balance\n",
    "        self.required = required\n",
    "        super().__init__(f\"Balance {balance} isn't enough. required {required-balance} more to keep balance.\")\n",
    "\n",
    "class WithdrawError(BankError):\n",
    "    def __init__(self,balance,amount):\n",
    "        self.balance = balance\n",
    "        self.amount = amount\n",
    "        super().__init__(f\"Requested amount {amount} is > balance: {balance}\")\n",
    "\n",
    "    def sug_fix(self):\n",
    "        return f\"To keep {self.amount - self.balance} balance to withdraw requested {self.amount} amount.\"\n",
    "\n",
    "class BankAcc:\n",
    "    def __init__(self, balance, required, withdraw_amount):\n",
    "        self.balance = balance\n",
    "        self.required = required\n",
    "        self.withdraw_amount = withdraw_amount\n",
    "    \n",
    "    def validate(self):\n",
    "        try:\n",
    "            if self.balance < self.required:\n",
    "                raise LowBalError(self.balance,self.required)\n",
    "            if self.balance < self.withdraw_amount:\n",
    "                raise WithdrawError(self.balance,self.withdraw_amount)\n",
    "            return f\"Withdrawl success. Final balance:{self.balance - self.withdraw_amount}\"\n",
    "        except LowBalError as le:\n",
    "            print(f\"Balance issue: {le}\")\n",
    "        except WithdrawError as we:\n",
    "            print(f\"Withdraw issue: {we}\")\n",
    "\n",
    "bk1 = BankAcc(1001,1000,1500)\n",
    "bk1.validate()"
   ]
  },
  {
   "cell_type": "code",
   "execution_count": 59,
   "id": "c4427091",
   "metadata": {},
   "outputs": [
    {
     "name": "stdout",
     "output_type": "stream",
     "text": [
      "Balance 200 isn't enough. required 800 more to keep balance.\n"
     ]
    }
   ],
   "source": [
    "# Base Error Class\n",
    "class BaseError(Exception):\n",
    "    pass\n",
    "\n",
    "class BankError(BaseError):\n",
    "    pass\n",
    "\n",
    "class LowBalError(BankError):\n",
    "    def __init__(self, balance, required):\n",
    "        self.balance = balance\n",
    "        self.required = required\n",
    "        super().__init__(f\"Balance {balance} isn't enough. required {required-balance} more to keep balance.\")\n",
    "\n",
    "class WithdrawError(BankError):\n",
    "    def __init__(self,balance,amount):\n",
    "        self.balance = balance\n",
    "        self.amount = amount\n",
    "        super().__init__(f\"Requested amount {amount} is > balance: {balance}\")\n",
    "\n",
    "    def sug_fix(self):\n",
    "        return f\"To keep {self.amount - self.balance} balance to withdraw requested {self.amount} amount.\"\n",
    "\n",
    "class BankAcc:\n",
    "    def __init__(self, balance, required, withdraw_amount):\n",
    "        self.balance = balance\n",
    "        self.required = required\n",
    "        self.withdraw_amount = withdraw_amount\n",
    "    \n",
    "    def validate(self):\n",
    "        if self.balance < self.required:\n",
    "            raise LowBalError(self.balance,self.required)\n",
    "        if self.balance < self.withdraw_amount:\n",
    "            raise WithdrawError(self.balance,self.withdraw_amount)\n",
    "        return f\"Withdrawl success. Final balance:{self.balance - self.withdraw_amount}\"\n",
    "        \n",
    "bk1 = BankAcc(200,1000,150)\n",
    "\n",
    "try:\n",
    "    print(bk1.validate())\n",
    "except BankError as be:\n",
    "    print(be)"
   ]
  },
  {
   "cell_type": "code",
   "execution_count": 80,
   "id": "aeca8b59",
   "metadata": {},
   "outputs": [
    {
     "name": "stdout",
     "output_type": "stream",
     "text": [
      "acc1: Account has minimum blance: 5000\n",
      "\n",
      "acc2: Low Balance Error: Add 5000 to keep required 10000 balance\n",
      "\n"
     ]
    }
   ],
   "source": [
    "## Base exception class\n",
    "class BaseError(Exception):\n",
    "    pass\n",
    "\n",
    "class BankError(BaseError):\n",
    "    pass\n",
    "\n",
    "class LowBalError(BankError):\n",
    "    def __init__(self,balance,required):\n",
    "        self.balance = balance\n",
    "        self.required = required\n",
    "        super().__init__(f\"Add {required - balance} to keep required {required} balance\")\n",
    "\n",
    "class WithdrawError(BankError):\n",
    "    def __init__(self,balance,withdraw_amount):\n",
    "        self.balance = balance\n",
    "        self.withdraw_amount = withdraw_amount\n",
    "        super().__init__(f\"Requested amount '{withdraw_amount}' is less than balance '{balance}'\")\n",
    "\n",
    "class BankAccount:\n",
    "    def __init__(self,balance,required,withdraw_amount=0):\n",
    "        self.balance = balance\n",
    "        self.required = required\n",
    "        self.withdraw_amount = withdraw_amount\n",
    "\n",
    "    def minimum_balance_check(self):\n",
    "        try:\n",
    "            if self.balance < self.required:\n",
    "                raise LowBalError(self.balance,self.required)\n",
    "            else:\n",
    "                return f\"Account has minimum blance: {self.balance}\"\n",
    "        except LowBalError as le:\n",
    "            return f\"Low Balance Error: {le}\"\n",
    "\n",
    "    def withdraw_request(self):\n",
    "        try:\n",
    "            if self.withdraw_amount < self.balance:\n",
    "                raise WithdrawError(self.balance,self.withdraw_amount)\n",
    "            else:\n",
    "                self.balance = self.balance - self.withdraw_amount\n",
    "                print(f\"withdraw amount '{self.withdraw_amount}' has debited.\")\n",
    "                print(f\"Current balance is '{self.balance}'\")\n",
    "        except WithdrawError as we:\n",
    "            print(f\"Withdraw Error: {we}\")\n",
    "\n",
    "# Task\n",
    "acc1 = BankAccount(5000,3000,2000)\n",
    "print(f\"acc1: {acc1.minimum_balance_check()}\\n\")\n",
    "\n",
    "acc2 = BankAccount(5000,10000,15000)\n",
    "print(f\"acc2: {acc2.minimum_balance_check()}\\n\")\n"
   ]
  },
  {
   "cell_type": "code",
   "execution_count": 76,
   "id": "8f2e2d0f",
   "metadata": {},
   "outputs": [
    {
     "name": "stdout",
     "output_type": "stream",
     "text": [
      "Low Balance Error: Add 5000 to keep required 10000 balance\n"
     ]
    }
   ],
   "source": [
    "acc2 = BankAccount(5000,10000,15000)\n",
    "acc2.minimum_balance_check()"
   ]
  },
  {
   "cell_type": "code",
   "execution_count": null,
   "id": "e8ec8b5b",
   "metadata": {},
   "outputs": [],
   "source": []
  }
 ],
 "metadata": {
  "kernelspec": {
   "display_name": "base",
   "language": "python",
   "name": "python3"
  },
  "language_info": {
   "codemirror_mode": {
    "name": "ipython",
    "version": 3
   },
   "file_extension": ".py",
   "mimetype": "text/x-python",
   "name": "python",
   "nbconvert_exporter": "python",
   "pygments_lexer": "ipython3",
   "version": "3.12.9"
  }
 },
 "nbformat": 4,
 "nbformat_minor": 5
}
