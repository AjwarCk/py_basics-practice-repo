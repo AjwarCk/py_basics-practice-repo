{
 "cells": [
  {
   "cell_type": "markdown",
   "id": "a34d26bb",
   "metadata": {},
   "source": [
    "**Abstraction**\n",
    "\n",
    "Abstraction is the concept of hiding the complex implementation details and showing ony the necessary features of the object. This helps in reducing programing complexity and effort."
   ]
  },
  {
   "cell_type": "code",
   "execution_count": 6,
   "id": "9511ae9a",
   "metadata": {},
   "outputs": [
    {
     "name": "stdout",
     "output_type": "stream",
     "text": [
      "Car engine started!\n",
      "The vehicle is used for driving!\n"
     ]
    }
   ],
   "source": [
    "from abc import ABC, abstractmethod\n",
    "\n",
    "## Astract base class\n",
    "class Vehicle(ABC):\n",
    "    def drive(self):\n",
    "        print(\"The vehicle is used for driving!\")\n",
    "\n",
    "    @abstractmethod\n",
    "    def start_engine(self):\n",
    "        pass\n",
    "\n",
    "class Car(Vehicle):\n",
    "    def start_engine(self):\n",
    "        print(\"Car engine started!\")\n",
    "\n",
    "def operate_vehicle(vehicle):\n",
    "    vehicle.start_engine()\n",
    "    vehicle.drive()\n",
    "\n",
    "car = Car()\n",
    "operate_vehicle(car)"
   ]
  },
  {
   "cell_type": "code",
   "execution_count": 9,
   "id": "76be1338",
   "metadata": {},
   "outputs": [
    {
     "name": "stdout",
     "output_type": "stream",
     "text": [
      "Dogs says woof!\n",
      "Dogs won't hunt\n",
      "Walks to move!\n"
     ]
    }
   ],
   "source": [
    "from abc import ABC, abstractmethod\n",
    "\n",
    "## Parent class\n",
    "class Animal(ABC):\n",
    "    def walk(self):\n",
    "        print(\"Walks to move!\")\n",
    "    \n",
    "    @abstractmethod\n",
    "    def making_sound(self):\n",
    "        pass\n",
    "\n",
    "## Derived class1\n",
    "class Dog(Animal):\n",
    "    def hunt(self):\n",
    "        print(\"Dogs won't hunt\")\n",
    "\n",
    "    def making_sound(self):\n",
    "        print(\"Dogs says woof!\")\n",
    "\n",
    "    \n",
    "## Derived class2\n",
    "class Cat(Animal):\n",
    "    def making_sound(self):\n",
    "        print(\"Cats says meow!\")\n",
    "\n",
    "## Access common methods\n",
    "def access_making_sound(animal):\n",
    "    animal.making_sound()\n",
    "    animal.hunt()\n",
    "    animal.walk()\n",
    "\n",
    "cat = Cat()\n",
    "dog = Dog()\n",
    "\n",
    "# access_making_sound(cat)\n",
    "access_making_sound(dog)\n",
    "\n"
   ]
  },
  {
   "cell_type": "markdown",
   "id": "334e52b5",
   "metadata": {},
   "source": [
    "**Notification System**\n",
    "\n",
    "Building a system to send notifications - via `Email`, `SMS` or `Push` Notifications.\n",
    "\n",
    "We'll abstract the common interface so that users (or code) don't worry about how each method sends the message."
   ]
  },
  {
   "cell_type": "markdown",
   "id": "a4888545",
   "metadata": {},
   "source": [
    "- Step1: Define Abstract Base Clas"
   ]
  },
  {
   "cell_type": "code",
   "execution_count": 14,
   "id": "8c491eda",
   "metadata": {},
   "outputs": [
    {
     "name": "stdout",
     "output_type": "stream",
     "text": [
      "Sending Email: Meeting at 3 PM\n",
      "Sending SMS: Your OTP is 12345\n",
      "Sending Push Notification: New message received\n"
     ]
    }
   ],
   "source": [
    "from abc import ABC, abstractmethod\n",
    "\n",
    "## Base class\n",
    "class Notifier(ABC):\n",
    "    @abstractmethod\n",
    "    def send(self, message):\n",
    "        pass\n",
    "\n",
    "## Concrete subclass1\n",
    "class EmailNotifier(Notifier):\n",
    "    def send(self, message):\n",
    "        print(f\"Sending Email: {message}\")\n",
    "\n",
    "## Concreate subclas2\n",
    "class SMSNOtifier(Notifier):\n",
    "    def send(self, message):\n",
    "        print(f\"Sending SMS: {message}\")\n",
    "\n",
    "## Concrete subclass3\n",
    "class PushNotifier(Notifier):\n",
    "    def send(self, message):\n",
    "        print(f\"Sending Push Notification: {message}\")\n",
    "\n",
    "## Function to use Notifier\n",
    "def notify_user(notifier: Notifier, message):\n",
    "    notifier.send(message)\n",
    "\n",
    "email = EmailNotifier()\n",
    "sms = SMSNOtifier()\n",
    "push = PushNotifier()\n",
    "\n",
    "notify_user(email, \"Meeting at 3 PM\")\n",
    "notify_user(sms, \"Your OTP is 12345\")\n",
    "notify_user(push, \"New message received\")"
   ]
  }
 ],
 "metadata": {
  "kernelspec": {
   "display_name": "base",
   "language": "python",
   "name": "python3"
  },
  "language_info": {
   "codemirror_mode": {
    "name": "ipython",
    "version": 3
   },
   "file_extension": ".py",
   "mimetype": "text/x-python",
   "name": "python",
   "nbconvert_exporter": "python",
   "pygments_lexer": "ipython3",
   "version": "3.12.9"
  }
 },
 "nbformat": 4,
 "nbformat_minor": 5
}
