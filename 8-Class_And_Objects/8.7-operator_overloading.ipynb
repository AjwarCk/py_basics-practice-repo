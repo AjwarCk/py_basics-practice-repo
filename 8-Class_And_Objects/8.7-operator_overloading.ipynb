{
 "cells": [
  {
   "cell_type": "markdown",
   "id": "83eed339",
   "metadata": {},
   "source": [
    "**Operator Overloading**\n",
    "\n",
    "Operator overloading allows you to define the behaviour of operators (+,-,*,etc.) for custom objects. You achieve this by overriding magic methods in your class."
   ]
  },
  {
   "cell_type": "code",
   "execution_count": 1,
   "id": "2bc0a7a7",
   "metadata": {},
   "outputs": [
    {
     "data": {
      "text/plain": [
       "'\\n__add__(self, other): Adds two objects using + operator.\\n__sub__(self, oter): Subtracts two objects using the - operator.\\n__mul__(self, other): Multiplies two objects using the * operator.\\n__truediv__(self, other): Divides two objects using the / operator.\\n__eq__(self,other): Checks if two objects are equal using the / operator.\\n__it__(self,other): Checks if one object is less than another using < operator.\\n__gt__\\n'"
      ]
     },
     "execution_count": 1,
     "metadata": {},
     "output_type": "execute_result"
    }
   ],
   "source": [
    "### Common Operator Overloading Magic Methods\n",
    "\n",
    "'''\n",
    "__add__(self, other): Adds two objects using + operator.\n",
    "__sub__(self, oter): Subtracts two objects using the - operator.\n",
    "__mul__(self, other): Multiplies two objects using the * operator.\n",
    "__truediv__(self, other): Divides two objects using the / operator.\n",
    "__eq__(self,other): Checks if two objects are equal using the / operator.\n",
    "__it__(self,other): Checks if one object is less than another using < operator.\n",
    "__gt__\n",
    "'''"
   ]
  },
  {
   "cell_type": "code",
   "execution_count": 2,
   "id": "2e33edde",
   "metadata": {},
   "outputs": [
    {
     "name": "stdout",
     "output_type": "stream",
     "text": [
      "<__main__.Vector object at 0x105e314c0>\n",
      "<__main__.Vector object at 0x105e314c0>\n",
      "<__main__.Vector object at 0x105e314c0>\n"
     ]
    }
   ],
   "source": [
    "### Mathematical operator for vectors\n",
    "class Vector:\n",
    "    def __init__(self,x,y):\n",
    "        self.x = x\n",
    "        self.y = y\n",
    "\n",
    "    def __add__(self,other):\n",
    "        return Vector(self.x+other.x,self.y+other.y)\n",
    "\n",
    "    def __sub__(self,other):\n",
    "        return Vector(self.x-other.x,self.y-other.y)\n",
    "\n",
    "    def __mul__(self,other):\n",
    "        return Vector(self.x*other.x,self.y*other.y)\n",
    "\n",
    "    def __eq__(self,other):\n",
    "        return f\"Vector ({self.x},{self.y})\"\n",
    "\n",
    "## Create objects of the Vector Class\n",
    "v1 = Vector(2,3)\n",
    "v2 = Vector(4,5)\n",
    "\n",
    "print(v1+v2)\n",
    "print(v1-v2)\n",
    "print(v1*v2)"
   ]
  },
  {
   "cell_type": "markdown",
   "id": "9c44e219",
   "metadata": {},
   "source": [
    "**1: Overloading `+` for a Custom Class**"
   ]
  },
  {
   "cell_type": "code",
   "execution_count": 3,
   "id": "d551de99",
   "metadata": {},
   "outputs": [
    {
     "name": "stdout",
     "output_type": "stream",
     "text": [
      "Total pages: 550\n"
     ]
    }
   ],
   "source": [
    "class Book:\n",
    "    def __init__(self, tittle, pages):\n",
    "        self.tittle = tittle\n",
    "        self.pages = pages\n",
    "\n",
    "    def __add__(self, other):\n",
    "        return self.pages + other.pages\n",
    "\n",
    "book1 = Book('Python 101', 250)\n",
    "book2 = Book('OOP Concepts', 300)\n",
    "\n",
    "total_pages = book1 + book2\n",
    "print(f\"Total pages: {total_pages}\")"
   ]
  },
  {
   "cell_type": "code",
   "execution_count": 7,
   "id": "5b717671",
   "metadata": {},
   "outputs": [
    {
     "name": "stdout",
     "output_type": "stream",
     "text": [
      "136\n"
     ]
    }
   ],
   "source": [
    "class Library:\n",
    "    def __init__(self,section_name,books):\n",
    "        self.section_name = section_name\n",
    "        self.books = books\n",
    "\n",
    "    def __add__(self,other):\n",
    "        return self.books + other.books\n",
    "\n",
    "sec1 = Library('Programming',47)\n",
    "sec2 = Library('Science',89)\n",
    "\n",
    "print(sec1+sec2)"
   ]
  },
  {
   "cell_type": "markdown",
   "id": "0bd1b77d",
   "metadata": {},
   "source": [
    "**Example 2: Overload `==` to Compare Objects**\n",
    "\n",
    "Let's make two books equal if they have the same number of pages:"
   ]
  },
  {
   "cell_type": "code",
   "execution_count": 9,
   "id": "74093f1e",
   "metadata": {},
   "outputs": [
    {
     "name": "stdout",
     "output_type": "stream",
     "text": [
      "True\n"
     ]
    }
   ],
   "source": [
    "class Book:\n",
    "    def __init__(self, title, pages):\n",
    "        self.title = title\n",
    "        self.pages = pages\n",
    "\n",
    "    def __eq__(self, other):\n",
    "        return self.pages == other.pages\n",
    "\n",
    "book1 = Book(\"Python\", 200)\n",
    "book2 = Book(\"Data Science\", 200)\n",
    "\n",
    "print(book1 == book2) # True"
   ]
  },
  {
   "cell_type": "markdown",
   "id": "2d2aeab2",
   "metadata": {},
   "source": [
    "**Example 3: Overload `str()` to Customize Print Output**"
   ]
  },
  {
   "cell_type": "code",
   "execution_count": 14,
   "id": "edd22c09",
   "metadata": {},
   "outputs": [
    {
     "name": "stdout",
     "output_type": "stream",
     "text": [
      "'Python OOP' has 350 pages\n"
     ]
    }
   ],
   "source": [
    "class Book:\n",
    "    def __init__(self, title, pages):\n",
    "        self.title = title\n",
    "        self.pages = pages\n",
    "\n",
    "    def __str__(self):\n",
    "        return f\"'{self.title}' has {self.pages} pages\"\n",
    "\n",
    "book = Book(\"Python OOP\",350)\n",
    "print(book)"
   ]
  },
  {
   "cell_type": "markdown",
   "id": "f5c6bb1c",
   "metadata": {},
   "source": [
    "**Example 4: Complex Numbers: Overload `+`,`-` and `str()`**"
   ]
  },
  {
   "cell_type": "code",
   "execution_count": 23,
   "id": "9e8afa4c",
   "metadata": {},
   "outputs": [
    {
     "name": "stdout",
     "output_type": "stream",
     "text": [
      "Sum: 6 + 8i\n",
      "Difference: 2 + 2i\n",
      "Values in object1:  4 + 5i\n",
      "Values in object2:  2 + 3i\n"
     ]
    }
   ],
   "source": [
    "class ComplexNumber:\n",
    "    def __init__(self, real, imag):\n",
    "        self.real = real\n",
    "        self.imag = imag\n",
    "\n",
    "    def __add__(self, other):\n",
    "        return ComplexNumber(self.real+other.real, self.imag+other.imag)\n",
    "\n",
    "    def __sub__(self, other):\n",
    "        return ComplexNumber(self.real-other.real, self.imag-other.imag)\n",
    "\n",
    "    def __str__(self):\n",
    "        return f\"{self.real} + {self.imag}i\"\n",
    "\n",
    "c1 = ComplexNumber(4,5)\n",
    "c2 = ComplexNumber(2,3)\n",
    "\n",
    "sum_result = c1+c2 # calls __add__\n",
    "diff_result = c1-c2 # calls __sub__\n",
    "\n",
    "print(\"Sum:\", sum_result) # calls __str__\n",
    "print(\"Difference:\", diff_result)\n",
    "print(\"Values in object1: \",c1)\n",
    "print(\"Values in object2: \",c2)"
   ]
  },
  {
   "cell_type": "markdown",
   "id": "7f1e183f",
   "metadata": {},
   "source": [
    "**Example 5: Bank Account: Overload `+`,`-`,`==` and `str()`**"
   ]
  },
  {
   "cell_type": "code",
   "execution_count": 29,
   "id": "3001a427",
   "metadata": {},
   "outputs": [
    {
     "name": "stdout",
     "output_type": "stream",
     "text": [
      "Pete & John's Account Balance: 13000\n",
      "Pete's Account Balance: 4500\n",
      "False\n"
     ]
    }
   ],
   "source": [
    "class BankAccount:\n",
    "    def __init__(self, owner, balance):\n",
    "        self.owner = owner\n",
    "        self.balance = balance\n",
    "\n",
    "    def __add__(self, other):\n",
    "        return BankAccount(f\"{self.owner} & {other.owner}\", self.balance + other.balance)\n",
    "\n",
    "    def __sub__(self, amount):\n",
    "        return BankAccount(self.owner, self.balance - amount)\n",
    "\n",
    "    def __eq__(self, other):\n",
    "        return self.balance == other.balance\n",
    "\n",
    "    def __str__(self):\n",
    "        return f\"{self.owner}'s Account Balance: {self.balance}\"\n",
    "\n",
    "a1 = BankAccount(\"Pete\", 5000)\n",
    "a2 = BankAccount(\"John\", 8000)\n",
    "\n",
    "joint = a1+a2\n",
    "deducted = a1 - 500\n",
    "\n",
    "print(joint) # Combined account\n",
    "print(deducted) # 5000 - 500 = 4500\n",
    "print(a1 == a2) # False 5000 != 8000\n",
    "    "
   ]
  },
  {
   "cell_type": "code",
   "execution_count": 25,
   "id": "23eb357a",
   "metadata": {},
   "outputs": [
    {
     "data": {
      "text/plain": [
       "__main__.BankAccount"
      ]
     },
     "execution_count": 25,
     "metadata": {},
     "output_type": "execute_result"
    }
   ],
   "source": [
    "type(joint)"
   ]
  },
  {
   "cell_type": "code",
   "execution_count": 12,
   "id": "cb9be951",
   "metadata": {},
   "outputs": [
    {
     "name": "stdout",
     "output_type": "stream",
     "text": [
      "Current Balance is: 15000\n",
      "Aj,15000\n"
     ]
    }
   ],
   "source": [
    "class BankAccount:\n",
    "    def __init__(self, owner, balance):\n",
    "        self.owner = owner\n",
    "        self.balance = balance\n",
    "        \n",
    "    def __str__(self):\n",
    "        return f\"Current Balance is: {self.balance}\"\n",
    "\n",
    "    def __add__(self,other):\n",
    "        return BankAccount(self.owner,self.balance+other.balance)\n",
    "    \n",
    "    def __sub__(self,amount):\n",
    "        if self.balance >= amount:\n",
    "            self.balance -= amount\n",
    "            return f\"{self.owner},{self.balance}\"\n",
    "        else:\n",
    "            return f\"{self.owner},{self.balance}\"\n",
    "        \n",
    "b1 = BankAccount('Aj',5000)\n",
    "b2 = BankAccount('Af',10000)\n",
    "\n",
    "j1 = b1+b2\n",
    "print(j1)\n",
    "\n",
    "deducted = j1 - 25000\n",
    "print(deducted)"
   ]
  },
  {
   "cell_type": "markdown",
   "id": "2a306833",
   "metadata": {},
   "source": [
    "**Example 6: Vectors: Overload `+`, `*`, and `str()`**"
   ]
  },
  {
   "cell_type": "code",
   "execution_count": 16,
   "id": "9d0fbe58",
   "metadata": {},
   "outputs": [
    {
     "name": "stdout",
     "output_type": "stream",
     "text": [
      "Vector1:  Vector(4, 9)\n",
      "Added Vectors:  Vector(11, 19)\n",
      "Scaled Vector:  Vector(12, 27)\n"
     ]
    }
   ],
   "source": [
    "class Vector:\n",
    "    def __init__(self, x, y):\n",
    "        self.x = x\n",
    "        self.y = y\n",
    "\n",
    "    def __add__(self,other):\n",
    "        return Vector(self.x+other.x, self.y+other.y)\n",
    "    \n",
    "    def __mul__(self,scaler):\n",
    "        return Vector(self.x*scaler, self.y*scaler)\n",
    "    \n",
    "    def __str__(self):\n",
    "        return f\"Vector({self.x}, {self.y})\"\n",
    "    \n",
    "v1 = Vector(4,9)\n",
    "v2 = Vector(7,10)\n",
    "print(\"Vector1: \",v1)\n",
    "# print(\"Vector2: \",v2)\n",
    "# print(f\"Sum: {v1+v2}\")\n",
    "# print(f\"Mult: {v1*v2}\")\n",
    "\n",
    "v_sum = v1 + v2\n",
    "v_scaled = v1 * 3\n",
    "\n",
    "print(\"Added Vectors: \",v_sum)\n",
    "print(\"Scaled Vector: \",v_scaled)"
   ]
  }
 ],
 "metadata": {
  "kernelspec": {
   "display_name": "base",
   "language": "python",
   "name": "python3"
  },
  "language_info": {
   "codemirror_mode": {
    "name": "ipython",
    "version": 3
   },
   "file_extension": ".py",
   "mimetype": "text/x-python",
   "name": "python",
   "nbconvert_exporter": "python",
   "pygments_lexer": "ipython3",
   "version": "3.12.9"
  }
 },
 "nbformat": 4,
 "nbformat_minor": 5
}
