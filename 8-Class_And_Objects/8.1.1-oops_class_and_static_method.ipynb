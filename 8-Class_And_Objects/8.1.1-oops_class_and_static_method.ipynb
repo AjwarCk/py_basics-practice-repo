{
 "cells": [
  {
   "cell_type": "markdown",
   "id": "3ce2d5b1",
   "metadata": {},
   "source": [
    "#### Minin Project: Student Management System\n",
    "\n",
    "We'll build a system to manage students in a school. it will show:\n",
    "- Student details (instance method)\n",
    "- Track total number of students (class method)\n",
    "- Validate email format (static method)"
   ]
  },
  {
   "cell_type": "code",
   "execution_count": 3,
   "id": "51401c43",
   "metadata": {},
   "outputs": [
    {
     "name": "stdout",
     "output_type": "stream",
     "text": [
      "True\n",
      "False\n",
      "Student name:Ajwar and Email:Ajwar@gmail.com\n",
      "Student name:Neha and Email:Neha@email.com\n",
      "Total students enrolled: 2\n"
     ]
    }
   ],
   "source": [
    "class Student:\n",
    "    total_students = 0 # class-level variable\n",
    "\n",
    "    def __init__(self,name,email):\n",
    "        self.name = name #Instance variable\n",
    "        self.email = email\n",
    "        Student.total_students += 1\n",
    "\n",
    "    # Instance method: works with object data\n",
    "    def display_info(self):\n",
    "        return f\"Student name:{self.name} and Email:{self.email}\"\n",
    "\n",
    "    # Class method: works with class data\n",
    "    @classmethod\n",
    "    def get_total_students(cls):\n",
    "        return f\"Total students enrolled: {cls.total_students}\"\n",
    "\n",
    "    # Static method: utility, independent of object or class\n",
    "    @staticmethod\n",
    "    def is_valid_email(email):\n",
    "        return \"@\" in email and email.endswith(\".com\")\n",
    "\n",
    "# Test\n",
    "# Checks static method first (email format)\n",
    "print(Student.is_valid_email(\"aj@email.com\")) # True\n",
    "print(Student.is_valid_email(\"invalidemail\")) # False\n",
    "\n",
    "# Create students\n",
    "s1 = Student(\"Ajwar\",\"Ajwar@gmail.com\")\n",
    "s2 = Student(\"Neha\",\"Neha@email.com\")\n",
    "\n",
    "# Call instance method (Individual student info)\n",
    "print(s1.display_info())\n",
    "print(s2.display_info())\n",
    "\n",
    "# Call class method (total students)\n",
    "print(Student.get_total_students()) # Total students enrolled: 2"
   ]
  },
  {
   "cell_type": "markdown",
   "id": "ce1a1143",
   "metadata": {},
   "source": [
    "#### Why this makes sense:\n",
    "\n",
    "| Method Type     | Why Used Here                              |\n",
    "| --------------- | ------------------------------------------ |\n",
    "| Instance Method | To show individual student's details       |\n",
    "| Class Method    | To count total number of students          |\n",
    "| Static Method   | To validate email format (general utility) |\n"
   ]
  }
 ],
 "metadata": {
  "kernelspec": {
   "display_name": "base",
   "language": "python",
   "name": "python3"
  },
  "language_info": {
   "codemirror_mode": {
    "name": "ipython",
    "version": 3
   },
   "file_extension": ".py",
   "mimetype": "text/x-python",
   "name": "python",
   "nbconvert_exporter": "python",
   "pygments_lexer": "ipython3",
   "version": "3.12.9"
  }
 },
 "nbformat": 4,
 "nbformat_minor": 5
}
