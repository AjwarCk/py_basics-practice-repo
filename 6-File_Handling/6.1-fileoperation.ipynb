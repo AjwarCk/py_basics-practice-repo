{
 "cells": [
  {
   "cell_type": "markdown",
   "id": "27236c16",
   "metadata": {},
   "source": [
    "**File Operations - Read And Write Files**\n",
    "\n",
    "File handling is crucial part of any programming language. Python provides build-in functions and methods to read from and write to files, both text and binary. This lesson will cover the basics of file handling, including reading and writing text files and binary files."
   ]
  },
  {
   "cell_type": "code",
   "execution_count": 24,
   "id": "c00641ae",
   "metadata": {},
   "outputs": [],
   "source": [
    "## Creating a File and Writing a file \n",
    "\n",
    "with open('example.txt','w') as file:\n",
    "    file.write('Hello world\\n')\n",
    "    file.write('this is new line.')"
   ]
  },
  {
   "cell_type": "code",
   "execution_count": 25,
   "id": "e13f78e9",
   "metadata": {},
   "outputs": [
    {
     "name": "stdout",
     "output_type": "stream",
     "text": [
      "Hello world\n",
      "this is new line.\n"
     ]
    }
   ],
   "source": [
    "## Read a Whole File\n",
    "\n",
    "with open('example.txt','r') as file:\n",
    "    content = file.read()\n",
    "    print(content)"
   ]
  },
  {
   "cell_type": "code",
   "execution_count": 26,
   "id": "c588e6c4",
   "metadata": {},
   "outputs": [
    {
     "name": "stdout",
     "output_type": "stream",
     "text": [
      "Welcome to this practice file.\n",
      "This is the next line.\n"
     ]
    }
   ],
   "source": [
    "## Overwriting Same file\n",
    "with open('example.txt','w') as file:\n",
    "    file.write('Welcome to this practice file.\\n')\n",
    "    file.write('This is the next line.')\n",
    "\n",
    "## Reading Overwrited whole File\n",
    "with open('example.txt','r') as file:\n",
    "    content = file.read()\n",
    "    print(content)"
   ]
  },
  {
   "cell_type": "code",
   "execution_count": 27,
   "id": "f7bacd1b",
   "metadata": {},
   "outputs": [
    {
     "name": "stdout",
     "output_type": "stream",
     "text": [
      "Welcome to this practice file.\n",
      "This is the next line.\n"
     ]
    }
   ],
   "source": [
    "## Read a File line by line\n",
    "with open('example.txt','r') as file:\n",
    "    for line in file:\n",
    "        print(line.strip()) ## strip() removes the newline character"
   ]
  },
  {
   "cell_type": "code",
   "execution_count": 28,
   "id": "f4f2eb81",
   "metadata": {},
   "outputs": [],
   "source": [
    "## Write a File (without overwritting, basically appending)\n",
    "\n",
    "with open('example.txt','a') as file:\n",
    "    file.write('\\nAppending operation taking place!')"
   ]
  },
  {
   "cell_type": "code",
   "execution_count": 29,
   "id": "33a28dd6",
   "metadata": {},
   "outputs": [
    {
     "name": "stdout",
     "output_type": "stream",
     "text": [
      "Welcome to this practice file.\n",
      "This is the next line.\n",
      "Appending operation taking place!\n"
     ]
    }
   ],
   "source": [
    "with open('example.txt','r') as file:\n",
    "    content = file.read()\n",
    "    print(content)"
   ]
  },
  {
   "cell_type": "code",
   "execution_count": 30,
   "id": "228a071d",
   "metadata": {},
   "outputs": [],
   "source": [
    "### Writing a list of lines to a file\n",
    "lines = ['First line \\n','Second line \\n','Third line\\n']\n",
    "\n",
    "with open('example.txt','a') as file:\n",
    "    file.writelines(lines)"
   ]
  },
  {
   "cell_type": "code",
   "execution_count": 31,
   "id": "9be59c88",
   "metadata": {},
   "outputs": [
    {
     "name": "stdout",
     "output_type": "stream",
     "text": [
      "Welcome to this practice file.\n",
      "This is the next line.\n",
      "Appending operation taking place!First line \n",
      "Second line \n",
      "Third line\n",
      "\n"
     ]
    }
   ],
   "source": [
    "with open('example.txt','r') as file:\n",
    "    print(file.read())"
   ]
  },
  {
   "cell_type": "code",
   "execution_count": 32,
   "id": "d202999e",
   "metadata": {},
   "outputs": [],
   "source": [
    "### Binary Files\n",
    "\n",
    "# Writing to a binary file\n",
    "data = b'\\x00\\x01\\x02\\x03\\x04'\n",
    "\n",
    "with open('example.bin','wb') as file:\n",
    "    file.write(data)"
   ]
  },
  {
   "cell_type": "code",
   "execution_count": 33,
   "id": "0b877b08",
   "metadata": {},
   "outputs": [
    {
     "name": "stdout",
     "output_type": "stream",
     "text": [
      "b'\\x00\\x01\\x02\\x03\\x04'\n"
     ]
    }
   ],
   "source": [
    "## Reading a bianary file\n",
    "\n",
    "with open('example.bin','rb') as file:\n",
    "    content = file.read()\n",
    "    print(content)"
   ]
  },
  {
   "cell_type": "code",
   "execution_count": 35,
   "id": "26a01fbe",
   "metadata": {},
   "outputs": [],
   "source": [
    "### Read the content from a source text file and write to destination text file\n",
    "\n",
    "## Copying a text file\n",
    "with open('example.txt','r') as source_file:\n",
    "    content = source_file.read()\n",
    "\n",
    "with open('destination.txt','w') as destination_file:\n",
    "    destination_file.write(content)"
   ]
  },
  {
   "cell_type": "code",
   "execution_count": 36,
   "id": "c1451ade",
   "metadata": {},
   "outputs": [
    {
     "name": "stdout",
     "output_type": "stream",
     "text": [
      "Welcome to this practice file.\n",
      "This is the next line.\n",
      "Appending operation taking place!First line \n",
      "Second line \n",
      "Third line\n",
      "\n"
     ]
    }
   ],
   "source": [
    "with open('destination.txt','r') as file:\n",
    "    print(file.read())"
   ]
  },
  {
   "cell_type": "code",
   "execution_count": 38,
   "id": "13a41006",
   "metadata": {},
   "outputs": [
    {
     "name": "stdout",
     "output_type": "stream",
     "text": [
      "Lines: 5, Words: 19, Characters:123\n"
     ]
    }
   ],
   "source": [
    "# Read a text file and count the number of lines, words, and characters.\n",
    "\n",
    "# Counting lines, words, and characters in a text file\n",
    "\n",
    "def count_text_file(file_path):\n",
    "    with open(file_path,'r') as file:\n",
    "        lines = file.readlines()\n",
    "        line_count = len(lines)\n",
    "        word_count = sum(len(line.split()) for line in lines)\n",
    "        char_count = sum(len(line) for line in lines)\n",
    "    return line_count, word_count, char_count\n",
    "\n",
    "file_path = 'example.txt'\n",
    "lines, words, characters = count_text_file(file_path)\n",
    "print(f'Lines: {lines}, Words: {words}, Characters:{characters}')"
   ]
  },
  {
   "cell_type": "markdown",
   "id": "c84f38d7",
   "metadata": {},
   "source": [
    "The `w+` mode in Python is used to open a file for both reading and writing. If the file does not exist, it will be created. If the file exist, its content is truncated (i.e., the file is overwritten)"
   ]
  },
  {
   "cell_type": "code",
   "execution_count": null,
   "id": "9e824ff2",
   "metadata": {},
   "outputs": [
    {
     "name": "stdout",
     "output_type": "stream",
     "text": [
      "Hello World\n",
      "This is a new line \n",
      "\n"
     ]
    }
   ],
   "source": [
    "## Writing and then reading file\n",
    "\n",
    "with open('example.txt','w+') as file:\n",
    "    file.write('Hello World\\n')\n",
    "    file.write('This is a new line \\n')\n",
    "\n",
    "    ## Move the file cursor to the begining \n",
    "    file.seek(0) # when we a file the cursor moves to end, later read, this sleek() moving cursor in the begining again this would beneficial when we read() in the next line code.\n",
    "\n",
    "    ## Read the content of the file\n",
    "    content = file.read()\n",
    "    print(content)"
   ]
  }
 ],
 "metadata": {
  "kernelspec": {
   "display_name": "base",
   "language": "python",
   "name": "python3"
  },
  "language_info": {
   "codemirror_mode": {
    "name": "ipython",
    "version": 3
   },
   "file_extension": ".py",
   "mimetype": "text/x-python",
   "name": "python",
   "nbconvert_exporter": "python",
   "pygments_lexer": "ipython3",
   "version": "3.12.9"
  }
 },
 "nbformat": 4,
 "nbformat_minor": 5
}
