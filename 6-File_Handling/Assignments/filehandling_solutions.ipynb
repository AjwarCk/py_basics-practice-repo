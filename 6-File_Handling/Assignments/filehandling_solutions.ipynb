{
 "cells": [
  {
   "cell_type": "markdown",
   "id": "e1386652",
   "metadata": {},
   "source": [
    "#### Module: File Handling Assignments"
   ]
  },
  {
   "cell_type": "markdown",
   "id": "eabed35d",
   "metadata": {},
   "source": [
    "**Lesson: File Handling and Operations**"
   ]
  },
  {
   "cell_type": "markdown",
   "id": "20996972",
   "metadata": {},
   "source": [
    "**Assignment 1: Reading a File**\n",
    "\n",
    "Write a function that reads the contents of a file named `sample.txt` and print each line."
   ]
  },
  {
   "cell_type": "code",
   "execution_count": 24,
   "id": "94b196ea",
   "metadata": {},
   "outputs": [
    {
     "name": "stdout",
     "output_type": "stream",
     "text": [
      "Hellow World\n",
      "This is the second line\n",
      "/n full file ends here\n",
      "['Hellow World', 'This is the second line']\n"
     ]
    }
   ],
   "source": [
    "## Creating a file, Writing and reading a file called `sample.txt`\n",
    "\n",
    "def file_line_reading(file_path):\n",
    "    with open(file_path,'w+') as file:\n",
    "        file.write('Hellow World\\n')\n",
    "        file.write('This is the second line')\n",
    "        file.seek(0)\n",
    "        content = file.read()\n",
    "        print(content)\n",
    "        print('/n full file ends here')\n",
    "        file.seek(0)\n",
    "        print([line.strip() for line in file])\n",
    "\n",
    "file_path = 'sample.txt'\n",
    "\n",
    "file_line_reading(file_path)  "
   ]
  },
  {
   "cell_type": "code",
   "execution_count": null,
   "id": "b431daf7",
   "metadata": {},
   "outputs": [],
   "source": []
  }
 ],
 "metadata": {
  "kernelspec": {
   "display_name": "base",
   "language": "python",
   "name": "python3"
  },
  "language_info": {
   "codemirror_mode": {
    "name": "ipython",
    "version": 3
   },
   "file_extension": ".py",
   "mimetype": "text/x-python",
   "name": "python",
   "nbconvert_exporter": "python",
   "pygments_lexer": "ipython3",
   "version": "3.12.9"
  }
 },
 "nbformat": 4,
 "nbformat_minor": 5
}
