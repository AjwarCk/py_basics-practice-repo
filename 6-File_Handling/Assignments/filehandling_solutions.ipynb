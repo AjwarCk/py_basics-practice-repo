{
 "cells": [
  {
   "cell_type": "markdown",
   "id": "e1386652",
   "metadata": {},
   "source": [
    "#### Module: File Handling Assignments"
   ]
  },
  {
   "cell_type": "markdown",
   "id": "eabed35d",
   "metadata": {},
   "source": [
    "**Lesson: File Handling and Operations**"
   ]
  },
  {
   "cell_type": "markdown",
   "id": "20996972",
   "metadata": {},
   "source": [
    "**Assignment 1: Reading a File**\n",
    "\n",
    "Write a function that reads the contents of a file named `sample.txt` and print each line."
   ]
  },
  {
   "cell_type": "code",
   "execution_count": 112,
   "id": "94b196ea",
   "metadata": {},
   "outputs": [
    {
     "name": "stdout",
     "output_type": "stream",
     "text": [
      "Hellow World\n",
      "This is the second line\n"
     ]
    }
   ],
   "source": [
    "def read_file(filename):\n",
    "    with open(filename,'r') as file:\n",
    "        for line in file:\n",
    "            print(line.strip())\n",
    "\n",
    "# Test\n",
    "read_file('sample.txt')"
   ]
  },
  {
   "cell_type": "markdown",
   "id": "b431daf7",
   "metadata": {},
   "source": [
    "**Assignment 2: Writng to a File**\n",
    "\n",
    "Write a function that writes a list of strings to a file named `output.txt`, with each string on a new line."
   ]
  },
  {
   "cell_type": "code",
   "execution_count": 113,
   "id": "83ed1426",
   "metadata": {},
   "outputs": [],
   "source": [
    "def write_file(lines, filename):\n",
    "    with open(filename,'w') as file:\n",
    "        for line in lines:\n",
    "            file.write(line+'\\n')\n",
    "\n",
    "# Test\n",
    "write_file(['Hello', 'World!'], 'output.txt')"
   ]
  },
  {
   "cell_type": "markdown",
   "id": "5ed345ff",
   "metadata": {},
   "source": [
    "**Assignment 3: Copying a File**\n",
    "\n",
    "Wrie a function that copies the content of a file named `source.txt` to a new file named `destination.txt`"
   ]
  },
  {
   "cell_type": "code",
   "execution_count": 120,
   "id": "f4afb911",
   "metadata": {},
   "outputs": [],
   "source": [
    "def copy_file(source,destination):\n",
    "    with open(source,'r') as src:\n",
    "        with open(destination,'w') as dest:\n",
    "            dest.write(src.read())\n",
    "\n",
    "# Test\n",
    "copy_file('source.txt','destination.txt')"
   ]
  },
  {
   "cell_type": "markdown",
   "id": "937e9e9a",
   "metadata": {},
   "source": [
    "**Assignment 4: Appending to a File**\n",
    "\n",
    "Write a function that appends a given string to the end of a file named `log.txt`."
   ]
  },
  {
   "cell_type": "code",
   "execution_count": 125,
   "id": "413d464f",
   "metadata": {},
   "outputs": [],
   "source": [
    "def append_to_file(text,  filename):\n",
    "    with open(filename,'a') as file:\n",
    "        file.write(text+'\\n')\n",
    "\n",
    "# Test\n",
    "append_to_file('This is the new log entry','log.txt')"
   ]
  },
  {
   "cell_type": "markdown",
   "id": "38d88784",
   "metadata": {},
   "source": [
    "**Assignment 5: Counting Words in a File**\n",
    "\n",
    "Write a function that reads the contents of a file named `document.txt` and returns the number of words in the file."
   ]
  },
  {
   "cell_type": "code",
   "execution_count": 136,
   "id": "209ef111",
   "metadata": {},
   "outputs": [
    {
     "name": "stdout",
     "output_type": "stream",
     "text": [
      "lines: ['Hello\\n', 'Welcome\\n', 'To\\n', 'Worlds Best Service\\n']\n",
      "words: ['Hello', 'Welcome', 'To', 'Worlds', 'Best', 'Service']\n"
     ]
    },
    {
     "data": {
      "text/plain": [
       "'line count: 4, words count: 6, character count: 37'"
      ]
     },
     "execution_count": 136,
     "metadata": {},
     "output_type": "execute_result"
    }
   ],
   "source": [
    "def count_words(file_path):\n",
    "    with open(file_path,'r') as file:\n",
    "        text = file.read()\n",
    "        file.seek(0)\n",
    "        lines = file.readlines()\n",
    "        words = text.split()\n",
    "        print(f\"lines: {lines}\")\n",
    "        print(f\"words: {words}\")\n",
    "        return f\"line count: {len(lines)}, words count: {len(words)}, character count: {len(text)}\"\n",
    "    \n",
    "# Test\n",
    "count_words('document.txt')"
   ]
  },
  {
   "cell_type": "markdown",
   "id": "1f78771a",
   "metadata": {},
   "source": [
    "**Assignment 6: Finding and Replacing Text**\n",
    "\n",
    "Write a function that finds and replaces all occurrences of given word in a file named `data.txt` with another word."
   ]
  },
  {
   "cell_type": "code",
   "execution_count": 140,
   "id": "611cba92",
   "metadata": {},
   "outputs": [],
   "source": [
    "def find_and_replace(filename, old_word, new_word):\n",
    "    with open(filename,'r') as file:\n",
    "        text = file.read()\n",
    "    new_text = text.replace(old_word, new_word)\n",
    "    \n",
    "    with open(filename, 'w') as file:\n",
    "        file.write(new_text)\n",
    "\n",
    "# Test\n",
    "find_and_replace('data.txt','old','new')"
   ]
  },
  {
   "cell_type": "markdown",
   "id": "f83f6dfb",
   "metadata": {},
   "source": [
    "**Assignment 7: Reading a File in Reverse**\n",
    "\n",
    "Write a function that reads the contents of the file named `reverse.txt` and prints each line in reverse order."
   ]
  },
  {
   "cell_type": "code",
   "execution_count": 157,
   "id": "545e9998",
   "metadata": {},
   "outputs": [
    {
     "name": "stdout",
     "output_type": "stream",
     "text": [
      "World!\n",
      "Hello\n"
     ]
    }
   ],
   "source": [
    "def read_reverse(filename):\n",
    "    with open(filename,'r') as file:\n",
    "        lines = file.readlines()\n",
    "    for line in reversed(lines):\n",
    "        print(line.strip())\n",
    "\n",
    "# Test\n",
    "read_reverse('reverse.txt')"
   ]
  },
  {
   "cell_type": "code",
   "execution_count": null,
   "id": "f3343c0e",
   "metadata": {},
   "outputs": [],
   "source": []
  }
 ],
 "metadata": {
  "kernelspec": {
   "display_name": "base",
   "language": "python",
   "name": "python3"
  },
  "language_info": {
   "codemirror_mode": {
    "name": "ipython",
    "version": 3
   },
   "file_extension": ".py",
   "mimetype": "text/x-python",
   "name": "python",
   "nbconvert_exporter": "python",
   "pygments_lexer": "ipython3",
   "version": "3.12.9"
  }
 },
 "nbformat": 4,
 "nbformat_minor": 5
}
