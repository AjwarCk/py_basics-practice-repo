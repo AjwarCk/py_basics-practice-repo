{
 "cells": [
  {
   "cell_type": "markdown",
   "id": "e1386652",
   "metadata": {},
   "source": [
    "#### Module: File Handling Assignments"
   ]
  },
  {
   "cell_type": "markdown",
   "id": "eabed35d",
   "metadata": {},
   "source": [
    "**Lesson: File Handling and Operations**"
   ]
  },
  {
   "cell_type": "markdown",
   "id": "20996972",
   "metadata": {},
   "source": [
    "**Assignment 1: Reading a File**\n",
    "\n",
    "Write a function that reads the contents of a file named `sample.txt` and print each line."
   ]
  },
  {
   "cell_type": "code",
   "execution_count": 112,
   "id": "94b196ea",
   "metadata": {},
   "outputs": [
    {
     "name": "stdout",
     "output_type": "stream",
     "text": [
      "Hellow World\n",
      "This is the second line\n"
     ]
    }
   ],
   "source": [
    "def read_file(filename):\n",
    "    with open(filename,'r') as file:\n",
    "        for line in file:\n",
    "            print(line.strip())\n",
    "\n",
    "# Test\n",
    "read_file('sample.txt')"
   ]
  },
  {
   "cell_type": "markdown",
   "id": "b431daf7",
   "metadata": {},
   "source": [
    "**Assignment 2: Writng to a File**\n",
    "\n",
    "Write a function that writes a list of strings to a file named `output.txt`, with each string on a new line."
   ]
  },
  {
   "cell_type": "code",
   "execution_count": 113,
   "id": "83ed1426",
   "metadata": {},
   "outputs": [],
   "source": [
    "def write_file(lines, filename):\n",
    "    with open(filename,'w') as file:\n",
    "        for line in lines:\n",
    "            file.write(line+'\\n')\n",
    "\n",
    "# Test\n",
    "write_file(['Hello', 'World!'], 'output.txt')"
   ]
  },
  {
   "cell_type": "markdown",
   "id": "5ed345ff",
   "metadata": {},
   "source": [
    "**Assignment 3: Copying a File**\n",
    "\n",
    "Wrie a function that copies the content of a file named `source.txt` to a new file named `destination.txt`"
   ]
  },
  {
   "cell_type": "code",
   "execution_count": 120,
   "id": "f4afb911",
   "metadata": {},
   "outputs": [],
   "source": [
    "def copy_file(source,destination):\n",
    "    with open(source,'r') as src:\n",
    "        with open(destination,'w') as dest:\n",
    "            dest.write(src.read())\n",
    "\n",
    "# Test\n",
    "copy_file('source.txt','destination.txt')"
   ]
  },
  {
   "cell_type": "markdown",
   "id": "937e9e9a",
   "metadata": {},
   "source": [
    "**Assignment 4: Appending to a File**\n",
    "\n",
    "Write a function that appends a given string to the end of a file named `log.txt`."
   ]
  },
  {
   "cell_type": "code",
   "execution_count": 125,
   "id": "413d464f",
   "metadata": {},
   "outputs": [],
   "source": [
    "def append_to_file(text,  filename):\n",
    "    with open(filename,'a') as file:\n",
    "        file.write(text+'\\n')\n",
    "\n",
    "# Test\n",
    "append_to_file('This is the new log entry','log.txt')"
   ]
  },
  {
   "cell_type": "markdown",
   "id": "38d88784",
   "metadata": {},
   "source": [
    "**Assignment 5: Counting Words in a File**\n",
    "\n",
    "Write a function that reads the contents of a file named `document.txt` and returns the number of words in the file."
   ]
  },
  {
   "cell_type": "code",
   "execution_count": 136,
   "id": "209ef111",
   "metadata": {},
   "outputs": [
    {
     "name": "stdout",
     "output_type": "stream",
     "text": [
      "lines: ['Hello\\n', 'Welcome\\n', 'To\\n', 'Worlds Best Service\\n']\n",
      "words: ['Hello', 'Welcome', 'To', 'Worlds', 'Best', 'Service']\n"
     ]
    },
    {
     "data": {
      "text/plain": [
       "'line count: 4, words count: 6, character count: 37'"
      ]
     },
     "execution_count": 136,
     "metadata": {},
     "output_type": "execute_result"
    }
   ],
   "source": [
    "def count_words(file_path):\n",
    "    with open(file_path,'r') as file:\n",
    "        text = file.read()\n",
    "        file.seek(0)\n",
    "        lines = file.readlines()\n",
    "        words = text.split()\n",
    "        print(f\"lines: {lines}\")\n",
    "        print(f\"words: {words}\")\n",
    "        return f\"line count: {len(lines)}, words count: {len(words)}, character count: {len(text)}\"\n",
    "    \n",
    "# Test\n",
    "count_words('document.txt')"
   ]
  },
  {
   "cell_type": "markdown",
   "id": "1f78771a",
   "metadata": {},
   "source": [
    "**Assignment 6: Finding and Replacing Text**\n",
    "\n",
    "Write a function that finds and replaces all occurrences of given word in a file named `data.txt` with another word."
   ]
  },
  {
   "cell_type": "code",
   "execution_count": 140,
   "id": "611cba92",
   "metadata": {},
   "outputs": [],
   "source": [
    "def find_and_replace(filename, old_word, new_word):\n",
    "    with open(filename,'r') as file:\n",
    "        text = file.read()\n",
    "    new_text = text.replace(old_word, new_word)\n",
    "    \n",
    "    with open(filename, 'w') as file:\n",
    "        file.write(new_text)\n",
    "\n",
    "# Test\n",
    "find_and_replace('data.txt','old','new')"
   ]
  },
  {
   "cell_type": "markdown",
   "id": "f83f6dfb",
   "metadata": {},
   "source": [
    "**Assignment 7: Reading a File in Reverse**\n",
    "\n",
    "Write a function that reads the contents of the file named `reverse.txt` and prints each line in reverse order."
   ]
  },
  {
   "cell_type": "code",
   "execution_count": 157,
   "id": "545e9998",
   "metadata": {},
   "outputs": [
    {
     "name": "stdout",
     "output_type": "stream",
     "text": [
      "World!\n",
      "Hello\n"
     ]
    }
   ],
   "source": [
    "def read_reverse(filename):\n",
    "    with open(filename,'r') as file:\n",
    "        lines = file.readlines()\n",
    "    for line in reversed(lines):\n",
    "        print(line.strip())\n",
    "\n",
    "# Test\n",
    "read_reverse('reverse.txt')"
   ]
  },
  {
   "cell_type": "markdown",
   "id": "0c705459",
   "metadata": {},
   "source": [
    "**Assignment 8: Counting Lines, Words and Characters**\n",
    "\n",
    "Write a function that reads the contents of a file named `stats.txt` and returns the number of lines, words, and characters in the file."
   ]
  },
  {
   "cell_type": "code",
   "execution_count": 178,
   "id": "31dc71aa",
   "metadata": {},
   "outputs": [
    {
     "name": "stdout",
     "output_type": "stream",
     "text": [
      "(4, 6, 35)\n"
     ]
    }
   ],
   "source": [
    "def count_lwc(filename):\n",
    "    with open(filename, 'r') as file:\n",
    "        lines = file.readlines()\n",
    "        words = sum(len(line.split()) for line in lines)\n",
    "        char = sum(len(line) for line in lines)\n",
    "    return len(lines), words, char\n",
    "\n",
    "# Test\n",
    "print(count_lwc('stats.txt'))"
   ]
  },
  {
   "cell_type": "markdown",
   "id": "de653172",
   "metadata": {},
   "source": [
    "**Assignment 9: Merging Multiple Files**\n",
    "\n",
    "Write a function that merges the contents of multiple files into a single file named `merged.txt`."
   ]
  },
  {
   "cell_type": "code",
   "execution_count": 188,
   "id": "d4bec0df",
   "metadata": {},
   "outputs": [
    {
     "name": "stdout",
     "output_type": "stream",
     "text": [
      "Hello\n",
      "World!\n",
      "Hello World!\n",
      "Second line\n",
      "Third line\n",
      "Fourth lineHello\n",
      "World!\n",
      "Third line\n",
      "\n"
     ]
    }
   ],
   "source": [
    "def merge_files(output_file,file_list):\n",
    "    with open(output_file,'w+') as outfile:\n",
    "        for file in file_list:\n",
    "            with open(file,'r') as infile:\n",
    "                outfile.write(infile.read())\n",
    "        outfile.seek(0)\n",
    "        print(outfile.read())\n",
    "\n",
    "# Test\n",
    "merge_files('merge.txt',['output.txt','output1.txt','output2.txt'])"
   ]
  },
  {
   "cell_type": "markdown",
   "id": "71c25eef",
   "metadata": {},
   "source": [
    "**Assignment 10: Splitting a Large File**\n",
    "\n",
    "Write a function that splits a large file named `large.txt` into smaller files of 100 lines each."
   ]
  },
  {
   "cell_type": "code",
   "execution_count": null,
   "id": "e31a9c76",
   "metadata": {},
   "outputs": [],
   "source": [
    "def split_file(filename, lines_per_file):\n",
    "    with open(filename, 'r') as file:\n",
    "        lines = file.readlines()\n",
    "    for i in range(0, len(lines), lines_per_file):\n",
    "        with open(f'{filename}_part{i//lines_per_file + 1}.txt','w') as part_file:\n",
    "            part_file.writelines(lines[i:i + lines_per_file])\n",
    "\n",
    "# Test\n",
    "split_file('large_files/large.txt',30)"
   ]
  },
  {
   "cell_type": "markdown",
   "id": "57f7ac2f",
   "metadata": {},
   "source": [
    "**Assignment 11: Creating Log File**\n",
    "\n",
    "Write a function that creates a log file named `activity.log` and writes log messages with timestamps."
   ]
  },
  {
   "cell_type": "code",
   "execution_count": 234,
   "id": "d7280ed4",
   "metadata": {},
   "outputs": [],
   "source": [
    "import datetime\n",
    "\n",
    "def log_message(message, filename='activity.log'):\n",
    "    timestamp = datetime.datetime.now().isoformat()\n",
    "    with open(filename,'a') as file:\n",
    "        file.write(f'[{timestamp}] {message}\\n')\n",
    "\n",
    "# Test\n",
    "log_message('This is the first log: log1')\n",
    "log_message('This is the second log: log2')"
   ]
  },
  {
   "cell_type": "markdown",
   "id": "1cf900a2",
   "metadata": {},
   "source": [
    "**Assignment 12: Binary File Operations**\n",
    "\n",
    "Write a function that reads a binary file named `image.bin` and writes its contents to another binary file named `copy_image.bin`"
   ]
  },
  {
   "cell_type": "code",
   "execution_count": 236,
   "id": "cfa82274",
   "metadata": {},
   "outputs": [
    {
     "name": "stdout",
     "output_type": "stream",
     "text": [
      "[0, 32, 64, 96, 128, 160, 192, 224, 255, 224, 192, 160, 128, 96, 64, 32]\n"
     ]
    }
   ],
   "source": [
    "pixels = [\n",
    "    0x00, 0x20, 0x40, 0x60,\n",
    "    0x80, 0xA0, 0xC0, 0xE0,\n",
    "    0xFF, 0xE0, 0xC0, 0xA0,\n",
    "    0x80, 0x60, 0x40, 0x20\n",
    "]\n",
    "\n",
    "with open('image.bin','wb') as f:\n",
    "    f.write(bytearray(pixels))\n",
    "\n",
    "with open('image.bin','rb') as f:\n",
    "    print(list(f.read()))"
   ]
  },
  {
   "cell_type": "code",
   "execution_count": 239,
   "id": "44bba50c",
   "metadata": {},
   "outputs": [],
   "source": [
    "def copy_binary_file(source, destination):\n",
    "    with open(source,'rb') as src:\n",
    "        with open(destination,'wb') as dest:\n",
    "            dest.write(src.read())\n",
    "\n",
    "# Test\n",
    "copy_binary_file('image.bin','copy_image.bin')"
   ]
  },
  {
   "cell_type": "markdown",
   "id": "192b7198",
   "metadata": {},
   "source": [
    "**Assignment 13: CSV File Opeartions**\n",
    "\n",
    "Write a function that reads a CSV file named `data.csv` and prints its contents as a list of dictionaries."
   ]
  },
  {
   "cell_type": "code",
   "execution_count": 240,
   "id": "682837fa",
   "metadata": {},
   "outputs": [
    {
     "name": "stdout",
     "output_type": "stream",
     "text": [
      "CSV file created!\n"
     ]
    }
   ],
   "source": [
    "# Creating data.csv using python (programmatically)\n",
    "\n",
    "import csv\n",
    "\n",
    "rows = [\n",
    "    ['Name','Age','Ctiy'],\n",
    "    ['Alice','28','New York'],\n",
    "    ['Bob','35','London'],\n",
    "    ['Charlie','22','Sydney']\n",
    "]\n",
    "\n",
    "with open('data.csv','w',newline='') as file:\n",
    "    writer = csv.writer(file)\n",
    "    writer.writerows(rows)\n",
    "\n",
    "print(\"CSV file created!\")"
   ]
  },
  {
   "cell_type": "code",
   "execution_count": 243,
   "id": "a5e7cc40",
   "metadata": {},
   "outputs": [
    {
     "name": "stdout",
     "output_type": "stream",
     "text": [
      "[{'Name': 'Alice', 'Age': '28', 'Ctiy': 'New York'}, {'Name': 'Bob', 'Age': '35', 'Ctiy': 'London'}, {'Name': 'Charlie', 'Age': '22', 'Ctiy': 'Sydney'}]\n"
     ]
    }
   ],
   "source": [
    "import csv\n",
    "\n",
    "def read_csv_as_dicts(filename):\n",
    "    with open(filename,'r') as file:\n",
    "        reader = csv.DictReader(file)\n",
    "        return list(reader)\n",
    "    \n",
    "# Test\n",
    "print(read_csv_as_dicts('data.csv'))"
   ]
  },
  {
   "cell_type": "markdown",
   "id": "339159ad",
   "metadata": {},
   "source": [
    "**Assignment 14: JSON File Operations**\n",
    "\n",
    "Write a function that reads a JSON file named `data.json` and prints its contents as a Python dictionary."
   ]
  },
  {
   "cell_type": "code",
   "execution_count": 244,
   "id": "36eead71",
   "metadata": {},
   "outputs": [
    {
     "name": "stdout",
     "output_type": "stream",
     "text": [
      "JSON file created!\n"
     ]
    }
   ],
   "source": [
    "# Creating data.json file\n",
    "\n",
    "import json\n",
    "\n",
    "data = [\n",
    "    {'Name':'Alice','Age':28,'City':'New York'},\n",
    "    {'Name':'Bob','Age':35,'City':'London'},\n",
    "    {'Name':'Charlie','Age':22,'City':'Sydney'}\n",
    "]\n",
    "\n",
    "with open('data.json','w') as file:\n",
    "    json.dump(data, file, indent=4)\n",
    "\n",
    "print(\"JSON file created!\")"
   ]
  },
  {
   "cell_type": "code",
   "execution_count": 245,
   "id": "2725d8bd",
   "metadata": {},
   "outputs": [
    {
     "name": "stdout",
     "output_type": "stream",
     "text": [
      "[{'Name': 'Alice', 'Age': 28, 'City': 'New York'}, {'Name': 'Bob', 'Age': 35, 'City': 'London'}, {'Name': 'Charlie', 'Age': 22, 'City': 'Sydney'}]\n"
     ]
    }
   ],
   "source": [
    "def read_json(filename):\n",
    "    with open(filename,'r') as file:\n",
    "        data = json.load(file)\n",
    "        return data\n",
    "    \n",
    "# Test\n",
    "print(read_json('data.json'))"
   ]
  },
  {
   "cell_type": "markdown",
   "id": "e0ca8f73",
   "metadata": {},
   "source": [
    "**Assignment 15: File Permission Handling**\n",
    "\n",
    "Write a function that attempts to read a file nameed `protected.txt` and handles any permission errors gracefully by printing an error message."
   ]
  },
  {
   "cell_type": "code",
   "execution_count": 246,
   "id": "8a66c7dc",
   "metadata": {},
   "outputs": [],
   "source": [
    "# Create a file and protect\n",
    "with open('protected.txt','w') as file:\n",
    "    file.write('This is a protected file.')"
   ]
  },
  {
   "cell_type": "code",
   "execution_count": 247,
   "id": "4d46078f",
   "metadata": {},
   "outputs": [],
   "source": [
    "import os\n",
    "\n",
    "# Remove read permission (for owner)\n",
    "os.chmod('protected.txt',0o000) # no permission"
   ]
  },
  {
   "cell_type": "code",
   "execution_count": 248,
   "id": "e9d43723",
   "metadata": {},
   "outputs": [
    {
     "name": "stdout",
     "output_type": "stream",
     "text": [
      "Permission Error: [Errno 13] Permission denied: 'protected.txt'\n"
     ]
    }
   ],
   "source": [
    "def read_protected_file(filename):\n",
    "    try:\n",
    "        with open(filename,'r') as file:\n",
    "            print(file.read())\n",
    "    except PermissionError as e:\n",
    "        print(f'Permission Error: {e}')\n",
    "\n",
    "# Test\n",
    "read_protected_file('protected.txt')"
   ]
  }
 ],
 "metadata": {
  "kernelspec": {
   "display_name": "base",
   "language": "python",
   "name": "python3"
  },
  "language_info": {
   "codemirror_mode": {
    "name": "ipython",
    "version": 3
   },
   "file_extension": ".py",
   "mimetype": "text/x-python",
   "name": "python",
   "nbconvert_exporter": "python",
   "pygments_lexer": "ipython3",
   "version": "3.12.9"
  }
 },
 "nbformat": 4,
 "nbformat_minor": 5
}
