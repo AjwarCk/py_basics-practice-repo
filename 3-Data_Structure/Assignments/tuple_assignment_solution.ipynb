{
 "cells": [
  {
   "cell_type": "markdown",
   "id": "90d17adf",
   "metadata": {},
   "source": [
    "### Module 3: Data Structure Assignements\n",
    "\n",
    "#### Lesson 3.2: Tuples"
   ]
  },
  {
   "cell_type": "markdown",
   "id": "a5943498",
   "metadata": {},
   "source": [
    "**Assignment 1: Creating and Accessing Tuples**"
   ]
  },
  {
   "cell_type": "markdown",
   "id": "26b25005",
   "metadata": {},
   "source": [
    "Create a tuple with the first 10 positive integers. Print the tuple."
   ]
  },
  {
   "cell_type": "code",
   "execution_count": 5,
   "id": "5af66e3c",
   "metadata": {},
   "outputs": [
    {
     "name": "stdout",
     "output_type": "stream",
     "text": [
      "data type of this: <class 'tuple'>\n",
      "\n",
      "tuple values are: (1, 2, 3, 4, 5, 6, 7, 8, 9, 10)\n"
     ]
    }
   ],
   "source": [
    "t1 = tuple([i for i in range(1,11)])\n",
    "print(f\"data type of this: {type(t1)}\")\n",
    "print(f\"\\ntuple values are: {t1}\")"
   ]
  },
  {
   "cell_type": "markdown",
   "id": "4eadd469",
   "metadata": {},
   "source": [
    "**Assignment 2: Accessing Tuple Elements**"
   ]
  },
  {
   "cell_type": "markdown",
   "id": "39bfd31f",
   "metadata": {},
   "source": [
    "Print the first, middle, and the last elements of the tuple created in Assignment 1."
   ]
  },
  {
   "cell_type": "code",
   "execution_count": 6,
   "id": "5ea6e3db",
   "metadata": {},
   "outputs": [
    {
     "name": "stdout",
     "output_type": "stream",
     "text": [
      "first value in tuple t1: 1\n",
      "middle values in tuple t1: [2, 3, 4, 5, 6, 7, 8, 9]\n",
      "last value in tuple t1: 10\n"
     ]
    }
   ],
   "source": [
    "first, *middle, last = t1\n",
    "print(f\"first value in tuple t1: {first}\")\n",
    "print(f\"middle values in tuple t1: {middle}\")\n",
    "print(f\"last value in tuple t1: {last}\")"
   ]
  },
  {
   "cell_type": "markdown",
   "id": "b3f67e02",
   "metadata": {},
   "source": [
    "**Assignement 3: Tuple Slicing**"
   ]
  },
  {
   "cell_type": "markdown",
   "id": "2eb9a444",
   "metadata": {},
   "source": [
    "Print the first three elements, the last three elements, and the elements from index 2 to 5 of the tuple created in Assignment 1."
   ]
  },
  {
   "cell_type": "code",
   "execution_count": 16,
   "id": "2ef75f99",
   "metadata": {},
   "outputs": [
    {
     "name": "stdout",
     "output_type": "stream",
     "text": [
      "first three elements in tuple t1: (1, 2, 3)\n",
      "last three elements in tuple t1: (8, 9, 10)\n",
      "index 2 to 5 elements in tuple t1: (3, 4, 5, 6)\n"
     ]
    }
   ],
   "source": [
    "print(f\"first three elements in tuple t1: {t1[:3]}\")\n",
    "print(f\"last three elements in tuple t1: {t1[-3:]}\")\n",
    "print(f\"index 2 to 5 elements in tuple t1: {t1[2:6]}\")"
   ]
  },
  {
   "cell_type": "markdown",
   "id": "771b4307",
   "metadata": {},
   "source": [
    "**Assignment 4: Nested Tuples**"
   ]
  },
  {
   "cell_type": "markdown",
   "id": "72414d7c",
   "metadata": {},
   "source": [
    "Create a nested tuple representing a 3x3 matrix and print the matrix. Access and print the element at the second row third column."
   ]
  },
  {
   "cell_type": "code",
   "execution_count": 31,
   "id": "b9521542",
   "metadata": {},
   "outputs": [
    {
     "name": "stdout",
     "output_type": "stream",
     "text": [
      "0 0 0 1 \n",
      "1 0 1 1 \n",
      "2 0 2 1 \n"
     ]
    }
   ],
   "source": [
    "l1 = []\n",
    "\n",
    "for i in range(0,3):\n",
    "    for j in range(2):\n",
    "        print(i,j, end=\" \")\n",
    "    print()"
   ]
  },
  {
   "cell_type": "code",
   "execution_count": 37,
   "id": "7d7562f5",
   "metadata": {},
   "outputs": [
    {
     "data": {
      "text/plain": [
       "[[0, 0, 0], [0, 0, 1], [0, 0, 2]]"
      ]
     },
     "execution_count": 37,
     "metadata": {},
     "output_type": "execute_result"
    }
   ],
   "source": [
    "[[i,j,k] for i in range(1) for j in range(1) for k in range(3)]"
   ]
  },
  {
   "cell_type": "code",
   "execution_count": 67,
   "id": "43a2d520",
   "metadata": {},
   "outputs": [
    {
     "name": "stdout",
     "output_type": "stream",
     "text": [
      "Type of  nested tuple: <class 'tuple'>\n",
      "\n",
      "Nested tuple: ((0, 2, 0), (0, 2, 1), (0, 2, 2))\n"
     ]
    }
   ],
   "source": [
    "t2 = tuple([tuple([i,j,k]) for i in range(1) for j in range(2,3) for k in range(3)])\n",
    "print(f\"Type of  nested tuple: {type(t2)}\")\n",
    "\n",
    "print(f\"\\nNested tuple: {t2}\")"
   ]
  },
  {
   "cell_type": "code",
   "execution_count": 69,
   "id": "b9305d38",
   "metadata": {},
   "outputs": [
    {
     "data": {
      "text/plain": [
       "1"
      ]
     },
     "execution_count": 69,
     "metadata": {},
     "output_type": "execute_result"
    }
   ],
   "source": [
    "# 2nd row third column value in nested tuple\n",
    "t2[1][2]"
   ]
  },
  {
   "cell_type": "markdown",
   "id": "5bcf3606",
   "metadata": {},
   "source": [
    "**Assignment 5: Tuple Concatenation**"
   ]
  },
  {
   "cell_type": "markdown",
   "id": "9014602d",
   "metadata": {},
   "source": [
    "Concatenate two tuples: (1,2,3) and (4,5,6). Print the resulting tuple."
   ]
  },
  {
   "cell_type": "code",
   "execution_count": 71,
   "id": "5f6342d0",
   "metadata": {},
   "outputs": [
    {
     "name": "stdout",
     "output_type": "stream",
     "text": [
      "(1, 2, 3, 4, 5, 6)\n"
     ]
    }
   ],
   "source": [
    "concat_tuples = (1,2,3)+(4,5,6)\n",
    "print(concat_tuples)"
   ]
  },
  {
   "cell_type": "markdown",
   "id": "5aa830a7",
   "metadata": {},
   "source": [
    "**Assignment 6: Tuple Methods**"
   ]
  },
  {
   "cell_type": "markdown",
   "id": "fcead58d",
   "metadata": {},
   "source": [
    "Create a tuple with duplicate elements and count the occurrences of an element. Find the index of the first occurrence of an element in the tuple."
   ]
  },
  {
   "cell_type": "code",
   "execution_count": 74,
   "id": "ec38091c",
   "metadata": {},
   "outputs": [
    {
     "name": "stdout",
     "output_type": "stream",
     "text": [
      "(1, 2, 3, 1, 1, 1, 3, 2, 4, 5, 6)\n"
     ]
    }
   ],
   "source": [
    "t3 = (1,2,3,1,1,1,3,2,4,5,6)\n",
    "print(t3)"
   ]
  },
  {
   "cell_type": "code",
   "execution_count": 76,
   "id": "41baede3",
   "metadata": {},
   "outputs": [
    {
     "data": {
      "text/plain": [
       "tuple"
      ]
     },
     "execution_count": 76,
     "metadata": {},
     "output_type": "execute_result"
    }
   ],
   "source": [
    "type(t3)"
   ]
  },
  {
   "cell_type": "code",
   "execution_count": 77,
   "id": "d2c446e3",
   "metadata": {},
   "outputs": [
    {
     "data": {
      "text/plain": [
       "4"
      ]
     },
     "execution_count": 77,
     "metadata": {},
     "output_type": "execute_result"
    }
   ],
   "source": [
    "## Count of the first occurrences in the tuple\n",
    "t3.count(1)"
   ]
  },
  {
   "cell_type": "code",
   "execution_count": 81,
   "id": "0528cec2",
   "metadata": {},
   "outputs": [
    {
     "name": "stdout",
     "output_type": "stream",
     "text": [
      "the entered number is present in the tuple\n",
      "the first index of entered number is: 1\n"
     ]
    }
   ],
   "source": [
    "# find the number \n",
    "n = int(input(\"Enter a number: \"))\n",
    "\n",
    "if n in t3:\n",
    "    print('the entered number is present in the tuple')\n",
    "    print(f'the first index of entered number is: {t3.index(n)}')\n",
    "else:\n",
    "    print('the number is not in the tuple')"
   ]
  },
  {
   "cell_type": "markdown",
   "id": "2ede8c9d",
   "metadata": {},
   "source": [
    "**Assignment 7: Unpacking Tuples**"
   ]
  },
  {
   "cell_type": "markdown",
   "id": "c4d57b05",
   "metadata": {},
   "source": [
    "Create a tuple with 5 elements and unpack it into 5 variables. Print the variables."
   ]
  },
  {
   "cell_type": "code",
   "execution_count": 82,
   "id": "cfc7d938",
   "metadata": {},
   "outputs": [],
   "source": [
    "t4 = (1,2,\"ajwar\",\"ck\",True)"
   ]
  },
  {
   "cell_type": "code",
   "execution_count": 83,
   "id": "813d49e6",
   "metadata": {},
   "outputs": [],
   "source": [
    "a, b, c, d, e = t4"
   ]
  },
  {
   "cell_type": "code",
   "execution_count": 85,
   "id": "ca9362f8",
   "metadata": {},
   "outputs": [
    {
     "name": "stdout",
     "output_type": "stream",
     "text": [
      "first element in the tuple: 1\n",
      "second element in the tuple: 2\n",
      "three element in the tuple: ajwar\n",
      "fourth element in the tuple: ck\n",
      "fifth element in the tuple True\n"
     ]
    }
   ],
   "source": [
    "print(f\"first element in the tuple: {a}\")\n",
    "print(f\"second element in the tuple: {b}\")\n",
    "print(f\"three element in the tuple: {c}\")\n",
    "print(f\"fourth element in the tuple: {d}\")\n",
    "print(f\"fifth element in the tuple {e}\")"
   ]
  },
  {
   "cell_type": "markdown",
   "id": "af8d4b81",
   "metadata": {},
   "source": [
    "**Assignment 8: Tuple Conversion**"
   ]
  },
  {
   "cell_type": "markdown",
   "id": "bfc412aa",
   "metadata": {},
   "source": [
    "Convert a list of the first 5 positive integers to a tuple. Print the tuple."
   ]
  },
  {
   "cell_type": "code",
   "execution_count": null,
   "id": "ed25d8dc",
   "metadata": {},
   "outputs": [
    {
     "name": "stdout",
     "output_type": "stream",
     "text": [
      "type of l1 is : <class 'list'>\n",
      "value in l1 are: [1, 2, 3, 4, 5]\n",
      "\n",
      "type of t5 is: <class 'tuple'>\n",
      "values in t5 are: (1, 2, 3, 4, 5)\n"
     ]
    }
   ],
   "source": [
    "# Solution1\n",
    "l1 = [x for x in range(1,6)]\n",
    "\n",
    "print(f\"type of l1 is : {type(l1)}\")\n",
    "print(f\"value in l1 are: {l1}\")\n",
    "\n",
    "t5 = tuple(l1)\n",
    "\n",
    "print(f\"\\ntype of t5 is: {type(t5)}\")\n",
    "print(f\"values in t5 are: {t5}\")"
   ]
  },
  {
   "cell_type": "code",
   "execution_count": 91,
   "id": "187cf3d8",
   "metadata": {},
   "outputs": [
    {
     "name": "stdout",
     "output_type": "stream",
     "text": [
      "type of t6 is: <class 'tuple'>\n",
      "values are in t6: (1, 2, 3, 4, 5)\n"
     ]
    }
   ],
   "source": [
    "# Solution2\n",
    "\n",
    "t6 = tuple([x for x in range(1,6)])\n",
    "print(f\"type of t6 is: {type(t6)}\")\n",
    "print(f\"values are in t6: {t6}\")"
   ]
  },
  {
   "cell_type": "markdown",
   "id": "cffd61a0",
   "metadata": {},
   "source": [
    "**Assignment 9: Tuple of Tuples**"
   ]
  },
  {
   "cell_type": "markdown",
   "id": "65042c55",
   "metadata": {},
   "source": [
    "Create a tuple containing 3 tuples, each with 3 elements. Print the tuple of tuples."
   ]
  },
  {
   "cell_type": "code",
   "execution_count": 95,
   "id": "a6e5f052",
   "metadata": {},
   "outputs": [],
   "source": [
    "t6 = tuple([tuple([i,j,k]) for i in range(1) for j in range(1) for k in range(3)])"
   ]
  },
  {
   "cell_type": "code",
   "execution_count": 96,
   "id": "6a49eee3",
   "metadata": {},
   "outputs": [
    {
     "name": "stdout",
     "output_type": "stream",
     "text": [
      "the type of t6 is: <class 'tuple'>\n",
      "values are in t6: ((0, 0, 0), (0, 0, 1), (0, 0, 2))\n"
     ]
    }
   ],
   "source": [
    "print(f\"the type of t6 is: {type(t6)}\")\n",
    "print(f\"values are in t6: {t6}\")"
   ]
  },
  {
   "cell_type": "markdown",
   "id": "b36a8697",
   "metadata": {},
   "source": [
    "**Assignment 10: Tuple and List**"
   ]
  },
  {
   "cell_type": "markdown",
   "id": "1c0b68a9",
   "metadata": {},
   "source": [
    "Create a tuple with the first 5 positive integers. Convert it ot a list, append the number 6, and connvert it back to tuple. Print the resulting tuple."
   ]
  },
  {
   "cell_type": "code",
   "execution_count": 105,
   "id": "61161764",
   "metadata": {},
   "outputs": [
    {
     "name": "stdout",
     "output_type": "stream",
     "text": [
      "current type of t7 is: <class 'tuple'>\n",
      "values are in t7: (1, 2, 3, 4, 5)\n",
      "\n",
      "converted t7 tuple to : <class 'list'>\n",
      "\n",
      "number 6 has been added in t7 and values are: (1, 2, 3, 4, 5, 6)\n",
      "post appending 6 in t7, and type is: <class 'tuple'>\n"
     ]
    }
   ],
   "source": [
    "t7 = tuple([i for i in range(1,6)])\n",
    "\n",
    "print(f\"current type of t7 is: {type(t7)}\")\n",
    "print(f\"values are in t7: {t7}\")\n",
    "\n",
    "t7 = list(t7)\n",
    "\n",
    "print(f\"\\nconverted t7 tuple to : {type(t7)}\")\n",
    "\n",
    "t7.append(6)\n",
    "\n",
    "t7 = tuple(t7)\n",
    "\n",
    "print(f\"\\nnumber 6 has been added in t7 and values are: {t7}\")\n",
    "print(f\"post appending 6 in t7, and type is: {type(t7)}\")"
   ]
  },
  {
   "cell_type": "markdown",
   "id": "bbbb3607",
   "metadata": {},
   "source": [
    "**Assignment 11: Tuple and String**"
   ]
  },
  {
   "cell_type": "markdown",
   "id": "9f82c7a2",
   "metadata": {},
   "source": [
    "Create a tuple with the characters of a sting. Join the tuple elements into a single string. Print the string."
   ]
  },
  {
   "cell_type": "code",
   "execution_count": 120,
   "id": "bfff6339",
   "metadata": {},
   "outputs": [
    {
     "name": "stdout",
     "output_type": "stream",
     "text": [
      "Original dtatype of t8 is: <class 'tuple'> and the values are: ('a', 'j', 'w', 'a', 'r')\n",
      "\n",
      "Converted to list and the type is: <class 'list'> and the values are:['a', 'j', 'w', 'a', 'r']\n",
      "\n",
      "joined the list values without any separator, data type is <class 'list'> and the t8 values are: ['ajwar']\n",
      "\n",
      "Converted back to tuple and the type is: <class 'tuple'> and the t8 values are become single stirng: ('ajwar',)\n"
     ]
    }
   ],
   "source": [
    "t8 = tuple(\"ajwar\")\n",
    "print(f\"Original dtatype of t8 is: {type(t8)} and the values are: {t8}\")\n",
    "\n",
    "t8 = list(t8)\n",
    "print(f\"\\nConverted to list and the type is: {type(t8)} and the values are:{t8}\")\n",
    "\n",
    "t8 = [\"\".join(t8)]\n",
    "print(f\"\\njoined the list values without any separator, data type is {type(t8)} and the t8 values are: {t8}\")\n",
    "\n",
    "t8 = tuple(t8)\n",
    "print(f\"\\nConverted back to tuple and the type is: {type(t8)} and the t8 values are become single stirng: {t8}\")"
   ]
  },
  {
   "cell_type": "markdown",
   "id": "bbe0fcde",
   "metadata": {},
   "source": [
    "**Assignment 12: Tuple and Dictionary**"
   ]
  },
  {
   "cell_type": "markdown",
   "id": "92fad27a",
   "metadata": {},
   "source": [
    "Create a dictionary with tuple keys and integer values. Print the dictionary."
   ]
  },
  {
   "cell_type": "code",
   "execution_count": 132,
   "id": "0b0f7964",
   "metadata": {},
   "outputs": [],
   "source": [
    "d = {'id':1, \"name\":\"ajwar\"}"
   ]
  },
  {
   "cell_type": "code",
   "execution_count": 133,
   "id": "a8162d51",
   "metadata": {},
   "outputs": [
    {
     "data": {
      "text/plain": [
       "dict"
      ]
     },
     "execution_count": 133,
     "metadata": {},
     "output_type": "execute_result"
    }
   ],
   "source": [
    "type(d)"
   ]
  },
  {
   "cell_type": "code",
   "execution_count": 135,
   "id": "1008f4fb",
   "metadata": {},
   "outputs": [
    {
     "data": {
      "text/plain": [
       "1"
      ]
     },
     "execution_count": 135,
     "metadata": {},
     "output_type": "execute_result"
    }
   ],
   "source": [
    "d['id']"
   ]
  },
  {
   "cell_type": "code",
   "execution_count": 136,
   "id": "965ab4ea",
   "metadata": {},
   "outputs": [
    {
     "name": "stdout",
     "output_type": "stream",
     "text": [
      "<class 'dict'>\n",
      "{'id': (1, 2, 3, 4, 5), 'name': ('ajwar', 'ck', 'John', 'Depp')}\n"
     ]
    }
   ],
   "source": [
    "d1 = {'id':(1,2,3,4,5), 'name':(\"ajwar\", \"ck\", \"John\", \"Depp\")}\n",
    "print(type(d1))\n",
    "print(d1)"
   ]
  },
  {
   "cell_type": "code",
   "execution_count": 137,
   "id": "e2b1a652",
   "metadata": {},
   "outputs": [
    {
     "data": {
      "text/plain": [
       "(1, 2, 3, 4, 5)"
      ]
     },
     "execution_count": 137,
     "metadata": {},
     "output_type": "execute_result"
    }
   ],
   "source": [
    "d1['id']"
   ]
  },
  {
   "cell_type": "code",
   "execution_count": 138,
   "id": "a2d7d4db",
   "metadata": {},
   "outputs": [
    {
     "data": {
      "text/plain": [
       "3"
      ]
     },
     "execution_count": 138,
     "metadata": {},
     "output_type": "execute_result"
    }
   ],
   "source": [
    "d1['id'][2]"
   ]
  },
  {
   "cell_type": "code",
   "execution_count": 139,
   "id": "f314bcd1",
   "metadata": {},
   "outputs": [
    {
     "data": {
      "text/plain": [
       "'John'"
      ]
     },
     "execution_count": 139,
     "metadata": {},
     "output_type": "execute_result"
    }
   ],
   "source": [
    "d1['name'][2]"
   ]
  },
  {
   "cell_type": "markdown",
   "id": "c50f183f",
   "metadata": {},
   "source": [
    "**Assignment 13: Nested Tuple Iteration**"
   ]
  },
  {
   "cell_type": "markdown",
   "id": "65f0366f",
   "metadata": {},
   "source": [
    "Create a nested tuple and iterate over the elements, printing each element."
   ]
  },
  {
   "cell_type": "code",
   "execution_count": 152,
   "id": "60f281e7",
   "metadata": {},
   "outputs": [
    {
     "name": "stdout",
     "output_type": "stream",
     "text": [
      "((0, 0, 0), (0, 0, 1), (0, 0, 2))\n"
     ]
    }
   ],
   "source": [
    "t9 = tuple([tuple([x,y,z]) for x in range(1) for y in range(1) for z in range(3)])\n",
    "print(t9)"
   ]
  },
  {
   "cell_type": "code",
   "execution_count": 155,
   "id": "8d98c5b8",
   "metadata": {},
   "outputs": [
    {
     "name": "stdout",
     "output_type": "stream",
     "text": [
      "0 0 0 \n",
      "0 0 1 \n",
      "0 0 2 \n"
     ]
    }
   ],
   "source": [
    "for i in t9:\n",
    "    for j in i:\n",
    "        print(j, end=\" \")\n",
    "    print()"
   ]
  },
  {
   "cell_type": "markdown",
   "id": "1b3e1b6b",
   "metadata": {},
   "source": [
    "**Assignment 14: Tuple and Set**"
   ]
  },
  {
   "cell_type": "markdown",
   "id": "1c0919b9",
   "metadata": {},
   "source": [
    "Create a tuple with duplicate elements. Convert it to a set to remove duplicates and print the resulting set."
   ]
  },
  {
   "cell_type": "code",
   "execution_count": 158,
   "id": "458550ea",
   "metadata": {},
   "outputs": [
    {
     "name": "stdout",
     "output_type": "stream",
     "text": [
      "the type of t10 is: <class 'tuple'>\n",
      "the values are in t10: (1, 2, 3, 4, 1, 2, 3, 4)\n",
      "t10 has been converted to s1, and the type is: <class 'set'>\n",
      "the values are in s1: {1, 2, 3, 4}\n"
     ]
    }
   ],
   "source": [
    "t10 = tuple([x for x in range(1,5)]+[i for i in range(1,5)])\n",
    "print(f\"the type of t10 is: {type(t10)}\")\n",
    "print(f\"the values are in t10: {t10}\")\n",
    "\n",
    "s1 = set(t10)\n",
    "print(f\"t10 has been converted to s1, and the type is: {type(s1)}\")\n",
    "print(f\"the values are in s1: {s1}\")"
   ]
  },
  {
   "cell_type": "markdown",
   "id": "ac22e6ee",
   "metadata": {},
   "source": [
    "**Assignment 15: Tuple Functions**"
   ]
  },
  {
   "cell_type": "markdown",
   "id": "31ac0fc9",
   "metadata": {},
   "source": [
    "Write functions that take a tuple and return the minimum, maximum and sum of the elements. Print the results for a sample tuple."
   ]
  },
  {
   "cell_type": "code",
   "execution_count": 2,
   "id": "4ded0ebf",
   "metadata": {},
   "outputs": [
    {
     "name": "stdout",
     "output_type": "stream",
     "text": [
      "Please enter a valid number\n",
      "the entered number is: 4\n"
     ]
    }
   ],
   "source": [
    "while True:\n",
    "    try:\n",
    "        n = int(input(\"Enter a number: \"))\n",
    "        break\n",
    "    except ValueError:\n",
    "        print(\"Please enter a valid number\")\n",
    "        continue\n",
    "print(f\"the entered number is: {n}\")"
   ]
  },
  {
   "cell_type": "code",
   "execution_count": 9,
   "id": "caf7ddd6",
   "metadata": {},
   "outputs": [
    {
     "name": "stdout",
     "output_type": "stream",
     "text": [
      "[1, 2, 3, 4, 5]\n"
     ]
    }
   ],
   "source": [
    "while True:\n",
    "    try:\n",
    "        list1 = [int(x) for x in input(\"Enter numbers separated by space: \").split()]\n",
    "        print(list1)\n",
    "        break\n",
    "    except ValueError:\n",
    "        print(\"Enter a valid list of numbers (use space for separating numbers)\")"
   ]
  },
  {
   "cell_type": "code",
   "execution_count": 10,
   "id": "eb229722",
   "metadata": {},
   "outputs": [
    {
     "data": {
      "text/plain": [
       "<generator object <genexpr> at 0x107e2c700>"
      ]
     },
     "execution_count": 10,
     "metadata": {},
     "output_type": "execute_result"
    }
   ],
   "source": [
    "(x for x in range(1,6))"
   ]
  },
  {
   "cell_type": "code",
   "execution_count": 28,
   "id": "3ae540d8",
   "metadata": {},
   "outputs": [],
   "source": [
    "def tuple_func():\n",
    "    try:\n",
    "        t11 = [int(x) for x in input(\"Enter numbers separated by space: \").split()]\n",
    "        t11 = tuple(t11)\n",
    "        print(f\"the type of the t11 is {type(t11)}\")\n",
    "        print(f\"minimum value in the tuple is: {min(t11)}\")\n",
    "        print(f\"maximum value in the tuple is: {max(t11)}\")\n",
    "        print(f\"sum of the tuple is: {sum(t11)}\")\n",
    "    except ValueError:\n",
    "        print(f\"Entered list values have other data type numbers except integer\\n\")\n",
    "        print(f\"Please enter a valid integer list number\")"
   ]
  },
  {
   "cell_type": "code",
   "execution_count": 29,
   "id": "5b877bbf",
   "metadata": {},
   "outputs": [
    {
     "name": "stdout",
     "output_type": "stream",
     "text": [
      "Entered list values have other data type numbers except integer\n",
      "\n",
      "Please enter a valid integer list number\n"
     ]
    }
   ],
   "source": [
    "tuple_func()"
   ]
  }
 ],
 "metadata": {
  "kernelspec": {
   "display_name": "base",
   "language": "python",
   "name": "python3"
  },
  "language_info": {
   "codemirror_mode": {
    "name": "ipython",
    "version": 3
   },
   "file_extension": ".py",
   "mimetype": "text/x-python",
   "name": "python",
   "nbconvert_exporter": "python",
   "pygments_lexer": "ipython3",
   "version": "3.12.9"
  }
 },
 "nbformat": 4,
 "nbformat_minor": 5
}
