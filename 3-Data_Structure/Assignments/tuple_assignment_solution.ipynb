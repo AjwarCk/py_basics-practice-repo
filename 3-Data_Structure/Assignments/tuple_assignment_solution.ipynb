{
 "cells": [
  {
   "cell_type": "markdown",
   "id": "90d17adf",
   "metadata": {},
   "source": [
    "### Module 3: Data Structure Assignements\n",
    "\n",
    "#### Lesson 3.2: Tuples"
   ]
  },
  {
   "cell_type": "markdown",
   "id": "a5943498",
   "metadata": {},
   "source": []
  }
 ],
 "metadata": {
  "language_info": {
   "name": "python"
  }
 },
 "nbformat": 4,
 "nbformat_minor": 5
}
