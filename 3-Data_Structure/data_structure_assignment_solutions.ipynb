{
 "cells": [
  {
   "cell_type": "markdown",
   "id": "57bcb172",
   "metadata": {},
   "source": [
    "#### Module 3: Data Structure Assignments"
   ]
  },
  {
   "cell_type": "markdown",
   "id": "96fdd9e5",
   "metadata": {},
   "source": [
    "Lesson 3.1: Lists"
   ]
  },
  {
   "cell_type": "markdown",
   "id": "a7b08f6b",
   "metadata": {},
   "source": [
    "**Assignment1: Creating and Accessing Lists**"
   ]
  },
  {
   "cell_type": "markdown",
   "id": "66177ac2",
   "metadata": {},
   "source": [
    "Create a list of the first 20 positive integers. Print the list."
   ]
  },
  {
   "cell_type": "code",
   "execution_count": 8,
   "id": "82b8a820",
   "metadata": {},
   "outputs": [
    {
     "name": "stdout",
     "output_type": "stream",
     "text": [
      "[1, 2, 3, 4, 5, 6, 7, 8, 9, 10, 11, 12, 13, 14, 15, 16, 17, 18, 19, 20]\n"
     ]
    }
   ],
   "source": [
    "# Solution 1 - Simple forloop and appending values.\n",
    "l1=[]\n",
    "for i in range(1,21):\n",
    "    l1.append(i)\n",
    "print(l1)"
   ]
  },
  {
   "cell_type": "code",
   "execution_count": 9,
   "id": "63e68fee",
   "metadata": {},
   "outputs": [
    {
     "name": "stdout",
     "output_type": "stream",
     "text": [
      "[1, 2, 3, 4, 5, 6, 7, 8, 9, 10, 11, 12, 13, 14, 15, 16, 17, 18, 19, 20]\n"
     ]
    }
   ],
   "source": [
    "# Solution 2 - Using basic list comprehension.\n",
    "l1 = [x for x in range(1,21)]\n",
    "print(l1)"
   ]
  },
  {
   "cell_type": "markdown",
   "id": "95b863ca",
   "metadata": {},
   "source": [
    "**Assignment 2: Accessing List Elements**"
   ]
  },
  {
   "cell_type": "markdown",
   "id": "ab609a8c",
   "metadata": {},
   "source": [
    "Print the first, middle, and last elements of the list created in Assignment 1."
   ]
  },
  {
   "cell_type": "code",
   "execution_count": 37,
   "id": "8cc30d97",
   "metadata": {},
   "outputs": [
    {
     "name": "stdout",
     "output_type": "stream",
     "text": [
      "the first value in the list is: 1\n",
      "the middle value in the list is: 11\n",
      "the last value in the list is: 20\n"
     ]
    }
   ],
   "source": [
    "print(f\"the first value in the list is: {l1[0]}\")\n",
    "print(f\"the middle value in the list is: {l1[round(len(l1)/2)]}\")\n",
    "print(f\"the last value in the list is: {l1[-1]}\")"
   ]
  },
  {
   "cell_type": "markdown",
   "id": "76d7b1df",
   "metadata": {},
   "source": [
    "**Assignment 3: List Slicing**"
   ]
  },
  {
   "cell_type": "markdown",
   "id": "5d583769",
   "metadata": {},
   "source": [
    "Print the first five elements, and the last five elements, and the elements from index 5 to 15 of the list created in Assignment 1."
   ]
  },
  {
   "cell_type": "code",
   "execution_count": 39,
   "id": "3f91ebcb",
   "metadata": {},
   "outputs": [
    {
     "data": {
      "text/plain": [
       "[1, 2, 3, 4, 5, 6, 7, 8, 9, 10, 11, 12, 13, 14, 15, 16, 17, 18, 19, 20]"
      ]
     },
     "execution_count": 39,
     "metadata": {},
     "output_type": "execute_result"
    }
   ],
   "source": [
    "l1"
   ]
  },
  {
   "cell_type": "code",
   "execution_count": 47,
   "id": "ea1171e4",
   "metadata": {},
   "outputs": [
    {
     "name": "stdout",
     "output_type": "stream",
     "text": [
      "First five elements: [1, 2, 3, 4, 5]\n",
      "Last five elements: [16, 17, 18, 19, 20]\n",
      "index 5 to 15 of the elements: [6, 7, 8, 9, 10, 11, 12, 13, 14, 15]\n"
     ]
    }
   ],
   "source": [
    "print(f\"First five elements: {l1[:5]}\")\n",
    "print(f\"Last five elements: {l1[-5:]}\")\n",
    "print(f\"index 5 to 15 of the elements: {l1[5:15]}\")"
   ]
  },
  {
   "cell_type": "markdown",
   "id": "6e788bb5",
   "metadata": {},
   "source": [
    "**Assignment 4: List Comprehensions**"
   ]
  },
  {
   "cell_type": "markdown",
   "id": "26d5a33e",
   "metadata": {},
   "source": [
    "create a new list containing the squares of the first 10 positive integers using a list comprehension. Print the new list."
   ]
  },
  {
   "cell_type": "code",
   "execution_count": 51,
   "id": "68462624",
   "metadata": {},
   "outputs": [
    {
     "data": {
      "text/plain": [
       "[1, 4, 9, 16, 25, 36, 49, 64, 81, 100]"
      ]
     },
     "execution_count": 51,
     "metadata": {},
     "output_type": "execute_result"
    }
   ],
   "source": [
    "[i**2 for i in range(1,11)]"
   ]
  },
  {
   "cell_type": "markdown",
   "id": "3c53c567",
   "metadata": {},
   "source": [
    "**Assignment 5: Filtering Lists**"
   ]
  },
  {
   "cell_type": "markdown",
   "id": "9fe1953c",
   "metadata": {},
   "source": [
    "Create a new list containing only the even numbers from the list created in Assignent1 using list comprehension. Print the new list."
   ]
  },
  {
   "cell_type": "code",
   "execution_count": 54,
   "id": "766ee24a",
   "metadata": {},
   "outputs": [
    {
     "name": "stdout",
     "output_type": "stream",
     "text": [
      "[2, 4, 6, 8, 10, 12, 14, 16, 18, 20]\n"
     ]
    }
   ],
   "source": [
    "l1_even = [x for x in l1 if x%2==0]\n",
    "print(l1_even)"
   ]
  },
  {
   "cell_type": "markdown",
   "id": "a57d6ab4",
   "metadata": {},
   "source": [
    "**Assignment 6: List Method**"
   ]
  },
  {
   "cell_type": "markdown",
   "id": "ea0d803f",
   "metadata": {},
   "source": [
    "Create a list of random numbers sort it in ascending and descending order. Remove the duplicates from the list and print the modified list."
   ]
  },
  {
   "cell_type": "code",
   "execution_count": 60,
   "id": "ae718b80",
   "metadata": {},
   "outputs": [
    {
     "name": "stdout",
     "output_type": "stream",
     "text": [
      "before sorting the list in ascending [33, 9, 10, 99, 44, 0, 89, 3]\n",
      "\n",
      "printing the list in ascending order: [0, 3, 9, 10, 33, 44, 89, 99]\n",
      "\n",
      "printing the list in descending order: [99, 89, 44, 33, 10, 9, 3, 0]\n"
     ]
    }
   ],
   "source": [
    "l2 = [33,9,10,99,44,0,89,3]\n",
    "\n",
    "print(f\"before sorting the list in ascending {l2}\")\n",
    "\n",
    "l2.sort()\n",
    "\n",
    "print(f\"\\nprinting the list in ascending order: {l2}\")\n",
    "\n",
    "l2.reverse()\n",
    "\n",
    "print(f\"\\nprinting the list in descending order: {l2}\")"
   ]
  },
  {
   "cell_type": "markdown",
   "id": "97e04a56",
   "metadata": {},
   "source": [
    "**Assignment 7: Nested Lists**"
   ]
  },
  {
   "cell_type": "markdown",
   "id": "31855650",
   "metadata": {},
   "source": [
    "Create a nested list representing a 3x3 matrix and the print the matrix. Access and print the element at the second row and third column."
   ]
  },
  {
   "cell_type": "code",
   "execution_count": 69,
   "id": "ce151bc5",
   "metadata": {},
   "outputs": [
    {
     "name": "stdout",
     "output_type": "stream",
     "text": [
      "[[0, 0, 0], [0, 0, 1], [0, 0, 2]]\n"
     ]
    }
   ],
   "source": [
    "l3 = [[i,j,k] for i in range(1) for j in range(1) for k in range(3)]\n",
    "print(l3)"
   ]
  },
  {
   "cell_type": "code",
   "execution_count": 70,
   "id": "31cb0f66",
   "metadata": {},
   "outputs": [
    {
     "data": {
      "text/plain": [
       "[[0, 0, 1], [0, 0, 2]]"
      ]
     },
     "execution_count": 70,
     "metadata": {},
     "output_type": "execute_result"
    }
   ],
   "source": [
    "l3[-2::]"
   ]
  },
  {
   "cell_type": "markdown",
   "id": "f05a9c68",
   "metadata": {},
   "source": [
    "**Assignment 8: List of Dictionaries**"
   ]
  },
  {
   "cell_type": "markdown",
   "id": "85799b50",
   "metadata": {},
   "source": [
    "Create a list of dictionaries where each dictionary  represents a student with keys 'name' and 'score'. Sort the list of dictionaries by the 'score' in descending order and print the sorted list."
   ]
  },
  {
   "cell_type": "code",
   "execution_count": 84,
   "id": "c3688f4a",
   "metadata": {},
   "outputs": [
    {
     "name": "stdout",
     "output_type": "stream",
     "text": [
      "Sorted students by score in descending order: \n",
      "{'name': 'Charlie', 'score': 95}\n",
      "{'name': 'Alice', 'score': 88}\n",
      "{'name': 'Eve', 'score': 78}\n",
      "{'name': 'Bob', 'score': 72}\n",
      "{'name': 'David', 'score': 65}\n"
     ]
    }
   ],
   "source": [
    "students = [\n",
    "    {'name':'Alice','score':88},\n",
    "    {'name':'Bob','score':72},\n",
    "    {'name':'Charlie','score':95},\n",
    "    {'name':'David','score':65},\n",
    "    {'name':'Eve','score':78}\n",
    "    ]\n",
    "\n",
    "sorted_students = sorted(students, key=lambda x:x['score'], reverse=True)\n",
    "print(\"Sorted students by score in descending order: \")\n",
    "for student in sorted_students:\n",
    "    print(student)"
   ]
  },
  {
   "cell_type": "markdown",
   "id": "d9f182ea",
   "metadata": {},
   "source": [
    "**Assignment 9: Matrix Transposition**"
   ]
  },
  {
   "cell_type": "markdown",
   "id": "34519422",
   "metadata": {},
   "source": [
    "Write a function that takes a 3x3 matrix (nested list) as input and returns its transpose. Print the original and transposed matrices."
   ]
  },
  {
   "cell_type": "code",
   "execution_count": 101,
   "id": "9ec35428",
   "metadata": {},
   "outputs": [
    {
     "name": "stdout",
     "output_type": "stream",
     "text": [
      "Original matrix\n",
      "[1, 2, 3]\n",
      "[4, 5, 6]\n",
      "[7, 8, 9]\n",
      "\n",
      "Transposed matrix\n",
      "1\n",
      "2\n",
      "3\n",
      "4\n",
      "5\n",
      "6\n",
      "7\n",
      "8\n",
      "9\n"
     ]
    }
   ],
   "source": [
    "def transpose_matrix(matrix):\n",
    "    transposed = [matrix[j][i] for j in range(len(matrix)) for i in range(len(matrix[0]))]\n",
    "    return transposed\n",
    "\n",
    "matrix = [\n",
    "    [1,2,3],\n",
    "    [4,5,6],\n",
    "    [7,8,9]\n",
    "]\n",
    "\n",
    "transposed = transpose_matrix(matrix)\n",
    "print(\"Original matrix\")\n",
    "for row in matrix:\n",
    "    print(row)\n",
    "print(\"\\nTransposed matrix\")\n",
    "for row in transposed:\n",
    "    print(row)"
   ]
  },
  {
   "cell_type": "markdown",
   "id": "79f8790d",
   "metadata": {},
   "source": [
    "**Assignment 10: Flattening a Nested List**"
   ]
  },
  {
   "cell_type": "markdown",
   "id": "19872766",
   "metadata": {},
   "source": [
    "Write a function that takes a nested list and flattens it into a single list. Print the original and flattened lists."
   ]
  },
  {
   "cell_type": "code",
   "execution_count": 114,
   "id": "27365fdb",
   "metadata": {},
   "outputs": [
    {
     "name": "stdout",
     "output_type": "stream",
     "text": [
      "Orgninal nested list: \n",
      "[[1, 2, 3], [4, 5, 6], [7, 8, 9]]\n",
      "\n",
      "Flatten nested list: \n",
      "[1, 2, 3, 4, 5, 6, 7, 8, 9]\n"
     ]
    }
   ],
   "source": [
    "def flatten_list(nested_list):\n",
    "    flatten_nested_list = [item for sublist in nested_list for item in sublist]\n",
    "    return flatten_nested_list\n",
    "\n",
    "nested_list1 = [\n",
    "    [1,2,3],\n",
    "    [4,5,6],\n",
    "    [7,8,9]\n",
    "]\n",
    "\n",
    "print(f\"Orgninal nested list: \\n{nested_list1}\")\n",
    "print(f\"\\nFlatten nested list: \\n{flatten_list(nested_list1)}\")"
   ]
  },
  {
   "cell_type": "markdown",
   "id": "08a79a24",
   "metadata": {},
   "source": [
    "**Assignment 11: List Manipulation**"
   ]
  },
  {
   "cell_type": "markdown",
   "id": "c7717dda",
   "metadata": {},
   "source": [
    "Create a list of the first 10 positive integers. Remove the elements at indices 2,4 and 6, and insert the element '99' at index 5. Print the modified list."
   ]
  },
  {
   "cell_type": "code",
   "execution_count": 117,
   "id": "21bfda1c",
   "metadata": {},
   "outputs": [
    {
     "name": "stdout",
     "output_type": "stream",
     "text": [
      "Original list: [1, 2, 3, 4, 5, 6, 7, 8, 9, 10]\n",
      "\n",
      "Modified list: [1, 2, 4, 6, 8, 99, 9, 10]\n"
     ]
    }
   ],
   "source": [
    "lst = list(range(1,11))\n",
    "print(f\"Original list: {lst}\")\n",
    "del lst[6] # while deleting any indices based value, we should always start descending other wise indices would collapse.\n",
    "del lst[4]\n",
    "del lst[2]\n",
    "\n",
    "lst.insert(5,99)\n",
    "\n",
    "print(f\"\\nModified list: {lst}\")"
   ]
  },
  {
   "cell_type": "markdown",
   "id": "0f7c5eb4",
   "metadata": {},
   "source": [
    "**Assignment 12: List Zipping**"
   ]
  },
  {
   "cell_type": "markdown",
   "id": "7e56b194",
   "metadata": {},
   "source": [
    "Create two list of the same length. Use the zip function to combine those lists into a list of tuples and print the result."
   ]
  },
  {
   "cell_type": "code",
   "execution_count": 118,
   "id": "bfea12dc",
   "metadata": {},
   "outputs": [
    {
     "name": "stdout",
     "output_type": "stream",
     "text": [
      "[(1, 'a'), (2, 'b'), (3, 'c'), (4, 'd'), (5, 'e')]\n"
     ]
    }
   ],
   "source": [
    "list1 = [1,2,3,4,5]\n",
    "list2 = ['a','b','c','d','e']\n",
    "zipped = list(zip(list1,list2))\n",
    "print(zipped)"
   ]
  },
  {
   "cell_type": "markdown",
   "id": "8337c0ee",
   "metadata": {},
   "source": [
    "**Assignment 13: List Reversal**"
   ]
  },
  {
   "cell_type": "markdown",
   "id": "96393a52",
   "metadata": {},
   "source": [
    "Write a function that takes a list and returns a new list with the elements in reverse order. Print the original and revered lists."
   ]
  },
  {
   "cell_type": "code",
   "execution_count": null,
   "id": "df575aad",
   "metadata": {},
   "outputs": [
    {
     "name": "stdout",
     "output_type": "stream",
     "text": [
      "reverse_list: [0, 10, 5, 1]\n"
     ]
    }
   ],
   "source": [
    "# Solution1\n",
    "def reverse_list(l1):\n",
    "    l1.reverse()\n",
    "    return l1\n",
    "    \n",
    "l = [1,5,10,0]\n",
    "\n",
    "print(f\"reverse_list: {reverse_list(l)}\")"
   ]
  },
  {
   "cell_type": "code",
   "execution_count": 122,
   "id": "2955cf12",
   "metadata": {},
   "outputs": [
    {
     "name": "stdout",
     "output_type": "stream",
     "text": [
      "original list: \n",
      " [1, 2, 3, 4, 5]\n",
      "\n",
      "reversed_list: \n",
      " [5, 4, 3, 2, 1]\n"
     ]
    }
   ],
   "source": [
    "# Solution 2\n",
    "def reverse_list(l1):\n",
    "    return l1[::-1]\n",
    "\n",
    "original_list = [1,2,3,4,5]\n",
    "reversed_list = reverse_list(original_list)\n",
    "\n",
    "print(f\"original list: \\n {original_list}\")\n",
    "print(f\"\\nreversed_list: \\n {reversed_list}\")"
   ]
  },
  {
   "cell_type": "markdown",
   "id": "9a438e81",
   "metadata": {},
   "source": [
    "**Assignment 14: List Rotation**"
   ]
  },
  {
   "cell_type": "markdown",
   "id": "f5af89df",
   "metadata": {},
   "source": [
    "Write a function that rotates a list by n positions. Print the original and rotatated lists."
   ]
  },
  {
   "cell_type": "code",
   "execution_count": 123,
   "id": "52f17281",
   "metadata": {},
   "outputs": [
    {
     "name": "stdout",
     "output_type": "stream",
     "text": [
      "Original list: [1, 2, 3, 4, 5]\n",
      "Rotate list: [3, 4, 5, 1, 2]\n"
     ]
    }
   ],
   "source": [
    "def rotate_list(lst, n):\n",
    "    return lst[n:] + lst[:n]\n",
    "\n",
    "original_list = [1, 2, 3, 4, 5]\n",
    "rotated_list = rotate_list(original_list,2)\n",
    "print(f\"Original list: {original_list}\")\n",
    "print(f\"Rotate list: {rotated_list}\")"
   ]
  },
  {
   "cell_type": "markdown",
   "id": "b4d7124b",
   "metadata": {},
   "source": [
    "**Assignment 15: List Intersection**"
   ]
  },
  {
   "cell_type": "markdown",
   "id": "38b02de0",
   "metadata": {},
   "source": [
    "Write a function that takes two lists and returns a new list containing only the elements that are present in both lists. Print the intersected list."
   ]
  },
  {
   "cell_type": "code",
   "execution_count": 125,
   "id": "c73ee12b",
   "metadata": {},
   "outputs": [
    {
     "name": "stdout",
     "output_type": "stream",
     "text": [
      "List 1: [1, 2, 3, 4, 5]\n",
      "List 2: [3, 4, 5, 6, 7]\n",
      "Intersection: [3, 4, 5]\n"
     ]
    }
   ],
   "source": [
    "def list_intersection(lst1, lst2):\n",
    "    return [x for x in lst1 if x in lst2]\n",
    "\n",
    "list1 = [1,2,3,4,5]\n",
    "list2 = [3,4,5,6,7]\n",
    "intersection = list_intersection(list1, list2)\n",
    "print(f\"List 1: {list1}\")\n",
    "print(f\"List 2: {list2}\")\n",
    "print(f\"Intersection: {intersection}\")"
   ]
  },
  {
   "cell_type": "code",
   "execution_count": null,
   "id": "68425fd7",
   "metadata": {},
   "outputs": [],
   "source": []
  }
 ],
 "metadata": {
  "kernelspec": {
   "display_name": "base",
   "language": "python",
   "name": "python3"
  },
  "language_info": {
   "codemirror_mode": {
    "name": "ipython",
    "version": 3
   },
   "file_extension": ".py",
   "mimetype": "text/x-python",
   "name": "python",
   "nbconvert_exporter": "python",
   "pygments_lexer": "ipython3",
   "version": "3.12.9"
  }
 },
 "nbformat": 4,
 "nbformat_minor": 5
}
