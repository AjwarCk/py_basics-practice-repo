{
 "cells": [
  {
   "cell_type": "markdown",
   "id": "a5a36159",
   "metadata": {},
   "source": [
    "#### Module 3: Data Structures Assignments"
   ]
  },
  {
   "cell_type": "markdown",
   "id": "eaef9fd5",
   "metadata": {},
   "source": [
    "**Lesson 3.4: Dictionaries**"
   ]
  },
  {
   "cell_type": "markdown",
   "id": "eda33a81",
   "metadata": {},
   "source": [
    "**Assignment 1: Creating and Accessing Dictionaries**"
   ]
  },
  {
   "cell_type": "markdown",
   "id": "a033b599",
   "metadata": {},
   "source": [
    "Create a dictionary with the first 10 positive integers as keys and their squares as values. Print the dictionary."
   ]
  },
  {
   "cell_type": "code",
   "execution_count": 11,
   "id": "ae30790e",
   "metadata": {},
   "outputs": [
    {
     "data": {
      "text/plain": [
       "{1: 1, 2: 4, 3: 9, 4: 16, 5: 25, 6: 36, 7: 49, 8: 64, 9: 81, 10: 100}"
      ]
     },
     "execution_count": 11,
     "metadata": {},
     "output_type": "execute_result"
    }
   ],
   "source": [
    "# using dictionary comprehension\n",
    "{x:x**2 for x in range(1,11)}"
   ]
  },
  {
   "cell_type": "code",
   "execution_count": null,
   "id": "83fa369f",
   "metadata": {},
   "outputs": [
    {
     "name": "stdout",
     "output_type": "stream",
     "text": [
      "{1: 1, 2: 4, 3: 9, 4: 16, 5: 25, 6: 36, 7: 49, 8: 64, 9: 81, 10: 100}\n"
     ]
    }
   ],
   "source": [
    "# using simple for loop\n",
    "d = {}\n",
    "for i in range(1,11):\n",
    "    d[i]=i**2\n",
    "print(d)"
   ]
  },
  {
   "cell_type": "code",
   "execution_count": null,
   "id": "036abab3",
   "metadata": {},
   "outputs": [
    {
     "name": "stdout",
     "output_type": "stream",
     "text": [
      "{1: 1, 2: 4, 3: 9, 4: 16, 5: 25, 6: 36, 7: 49, 8: 64, 9: 81, 10: 100}\n"
     ]
    }
   ],
   "source": [
    "# using while loop\n",
    "d={}\n",
    "i=1\n",
    "while i<11:\n",
    "    d[i]=i**2\n",
    "    i+=1\n",
    "print(d)"
   ]
  },
  {
   "cell_type": "code",
   "execution_count": 114,
   "id": "ea88771f",
   "metadata": {},
   "outputs": [
    {
     "name": "stdout",
     "output_type": "stream",
     "text": [
      "{1: 1, 2: 4, 3: 9, 4: 16, 5: 25, 6: 36, 7: 49, 8: 64, 9: 81, 10: 100}\n"
     ]
    }
   ],
   "source": [
    "## solution from course\n",
    "d = {i:i**2 for i in range(1,11)}\n",
    "print(d)"
   ]
  },
  {
   "cell_type": "markdown",
   "id": "3380f226",
   "metadata": {},
   "source": [
    "**Assignment 2: Accessing Dictionary Elements**"
   ]
  },
  {
   "cell_type": "markdown",
   "id": "c403c917",
   "metadata": {},
   "source": [
    "Print the value of the key 5 and the key of the dictionary created in Assignment1."
   ]
  },
  {
   "cell_type": "code",
   "execution_count": 15,
   "id": "9977480f",
   "metadata": {},
   "outputs": [
    {
     "data": {
      "text/plain": [
       "25"
      ]
     },
     "execution_count": 15,
     "metadata": {},
     "output_type": "execute_result"
    }
   ],
   "source": [
    "d[5]"
   ]
  },
  {
   "cell_type": "code",
   "execution_count": 115,
   "id": "8fe38f0b",
   "metadata": {},
   "outputs": [
    {
     "name": "stdout",
     "output_type": "stream",
     "text": [
      "Value of key 5: 25\n",
      "Keys: [1, 2, 3, 4, 5, 6, 7, 8, 9, 10]\n"
     ]
    }
   ],
   "source": [
    "## solution from course\n",
    "print(f\"Value of key 5: {d[5]}\")\n",
    "print(f\"Keys: {list(d.keys())}\")"
   ]
  },
  {
   "cell_type": "markdown",
   "id": "db6aa66e",
   "metadata": {},
   "source": [
    "**Assignment 3: Dictionary Methods**"
   ]
  },
  {
   "cell_type": "markdown",
   "id": "e4253a09",
   "metadata": {},
   "source": [
    "Add a new key-value pair (11,121) to dictionary created Assignment1 and then remove the key-value pair with key 1. Print the modified dictionary."
   ]
  },
  {
   "cell_type": "code",
   "execution_count": 20,
   "id": "b219346a",
   "metadata": {},
   "outputs": [
    {
     "name": "stdout",
     "output_type": "stream",
     "text": [
      "{1: 1, 2: 4, 3: 9, 4: 16, 5: 25, 6: 36, 7: 49, 8: 64, 9: 81, 10: 100, 11: 121}\n"
     ]
    }
   ],
   "source": [
    "d[11]=121\n",
    "print(d)"
   ]
  },
  {
   "cell_type": "code",
   "execution_count": 22,
   "id": "63689115",
   "metadata": {},
   "outputs": [
    {
     "name": "stdout",
     "output_type": "stream",
     "text": [
      "{2: 4, 3: 9, 4: 16, 5: 25, 6: 36, 7: 49, 8: 64, 9: 81, 10: 100, 11: 121}\n"
     ]
    }
   ],
   "source": [
    "del d[1]\n",
    "print(d)"
   ]
  },
  {
   "cell_type": "code",
   "execution_count": 121,
   "id": "cfd77419",
   "metadata": {},
   "outputs": [
    {
     "name": "stdout",
     "output_type": "stream",
     "text": [
      "{2: 4, 3: 9, 4: 16, 5: 25, 6: 36, 7: 49, 8: 64, 9: 81, 10: 100, 11: 121}\n"
     ]
    }
   ],
   "source": [
    "## solution from course\n",
    "d[11] = 121\n",
    "d.pop(1)\n",
    "print(d)"
   ]
  },
  {
   "cell_type": "markdown",
   "id": "adcc1e81",
   "metadata": {},
   "source": [
    "**Assignment 4: Iterating Over Dictionaries**"
   ]
  },
  {
   "cell_type": "markdown",
   "id": "80d6bc47",
   "metadata": {},
   "source": [
    "Iterate over the dictionary created in Assignement 1 and print each key-value pair"
   ]
  },
  {
   "cell_type": "code",
   "execution_count": 30,
   "id": "e50381c1",
   "metadata": {},
   "outputs": [
    {
     "name": "stdout",
     "output_type": "stream",
     "text": [
      "key:2,value:4\n",
      "key:3,value:9\n",
      "key:4,value:16\n",
      "key:5,value:25\n",
      "key:6,value:36\n",
      "key:7,value:49\n",
      "key:8,value:64\n",
      "key:9,value:81\n",
      "key:10,value:100\n",
      "key:11,value:121\n"
     ]
    }
   ],
   "source": [
    "for key,value in d.items():\n",
    "    print(f\"key:{key},value:{value}\")"
   ]
  },
  {
   "cell_type": "code",
   "execution_count": 119,
   "id": "37b82676",
   "metadata": {},
   "outputs": [
    {
     "name": "stdout",
     "output_type": "stream",
     "text": [
      "1:1\n",
      "2:4\n",
      "3:9\n",
      "4:16\n",
      "5:25\n",
      "6:36\n",
      "7:49\n",
      "8:64\n",
      "9:81\n",
      "10:100\n"
     ]
    }
   ],
   "source": [
    "## solution from course\n",
    "for key, value in d.items():\n",
    "    print(f\"{key}:{value}\")"
   ]
  },
  {
   "cell_type": "markdown",
   "id": "10413966",
   "metadata": {},
   "source": [
    "**Assignment 5: Dictionary Comprehensions**"
   ]
  },
  {
   "cell_type": "markdown",
   "id": "8b0cd36d",
   "metadata": {},
   "source": [
    "Create a new dictionary containing the cubes of the first 10 positive integers using a dictionary comprehension. Print the new dictionary."
   ]
  },
  {
   "cell_type": "code",
   "execution_count": 25,
   "id": "35184663",
   "metadata": {},
   "outputs": [
    {
     "data": {
      "text/plain": [
       "{1: 1, 2: 8, 3: 27, 4: 64, 5: 125, 6: 216, 7: 343, 8: 512, 9: 729, 10: 1000}"
      ]
     },
     "execution_count": 25,
     "metadata": {},
     "output_type": "execute_result"
    }
   ],
   "source": [
    "# Using dictionary comprehension\n",
    "{k:k**3 for k in range(1,11)} "
   ]
  },
  {
   "cell_type": "code",
   "execution_count": 26,
   "id": "c522edf0",
   "metadata": {},
   "outputs": [
    {
     "name": "stdout",
     "output_type": "stream",
     "text": [
      "{1: 1, 2: 8, 3: 27, 4: 64, 5: 125, 6: 216, 7: 343, 8: 512, 9: 729, 10: 1000}\n"
     ]
    }
   ],
   "source": [
    "# Using for loop\n",
    "t = {}\n",
    "for k in range(1,11):\n",
    "    t[k]=k**3\n",
    "print(t)"
   ]
  },
  {
   "cell_type": "code",
   "execution_count": 27,
   "id": "5f2c0f5f",
   "metadata": {},
   "outputs": [
    {
     "name": "stdout",
     "output_type": "stream",
     "text": [
      "{1: 1, 2: 8, 3: 27, 4: 64, 5: 125, 6: 216, 7: 343, 8: 512, 9: 729, 10: 1000}\n"
     ]
    }
   ],
   "source": [
    "# Using while loop\n",
    "a = {}\n",
    "b = 1\n",
    "while b<=10:\n",
    "    a[b]=b**3\n",
    "    b+=1\n",
    "print(a)\n"
   ]
  },
  {
   "cell_type": "code",
   "execution_count": 123,
   "id": "8e8c0180",
   "metadata": {},
   "outputs": [
    {
     "name": "stdout",
     "output_type": "stream",
     "text": [
      "{1: 1, 2: 8, 3: 27, 4: 64, 5: 125, 6: 216, 7: 343, 8: 512, 9: 729, 10: 1000}\n"
     ]
    }
   ],
   "source": [
    "## solution from course\n",
    "cubes = {i:i**3 for i in range(1,11)}\n",
    "print(cubes)"
   ]
  },
  {
   "cell_type": "markdown",
   "id": "c22370de",
   "metadata": {},
   "source": [
    "**Assignment 6: Merging Dictionaries**"
   ]
  },
  {
   "cell_type": "markdown",
   "id": "e81360df",
   "metadata": {},
   "source": [
    "Create two dictionaries: One with keys as the first 5 positive integers and values as their squares, and another with keys as the next 5 positive integers and values as their squares. Merge these dictionaries into a single dictionary and print it."
   ]
  },
  {
   "cell_type": "code",
   "execution_count": 33,
   "id": "7cf39e1f",
   "metadata": {},
   "outputs": [
    {
     "name": "stdout",
     "output_type": "stream",
     "text": [
      "dictionary 1: {1: 1, 2: 4, 3: 9, 4: 16, 5: 25}\n",
      "dictionary 2: {6: 36, 7: 49, 8: 64, 9: 81, 10: 100}\n"
     ]
    }
   ],
   "source": [
    "dict1 = {j:j**2 for j in range(1,6)}\n",
    "dict2 = {k:k**2 for k in range(6,11)}\n",
    "print(f\"dictionary 1: {dict1}\")\n",
    "print(f\"dictionary 2: {dict2}\")"
   ]
  },
  {
   "cell_type": "code",
   "execution_count": 35,
   "id": "5cc3d1a4",
   "metadata": {},
   "outputs": [
    {
     "data": {
      "text/plain": [
       "{1: 1, 2: 4, 3: 9, 4: 16, 5: 25, 6: 36, 7: 49, 8: 64, 9: 81, 10: 100}"
      ]
     },
     "execution_count": 35,
     "metadata": {},
     "output_type": "execute_result"
    }
   ],
   "source": [
    "# Merging two dictionaries\n",
    "{**dict1, **dict2}"
   ]
  },
  {
   "cell_type": "code",
   "execution_count": 122,
   "id": "b4442d8d",
   "metadata": {},
   "outputs": [
    {
     "name": "stdout",
     "output_type": "stream",
     "text": [
      "{1: 1, 2: 4, 3: 9, 4: 16, 5: 25, 6: 36, 7: 49, 8: 64, 9: 81, 10: 100}\n"
     ]
    }
   ],
   "source": [
    "## solution from course\n",
    "## solution from course\n",
    "d1 = {i:i**2 for i in range(1,6)}\n",
    "d2 = {x:x**2 for x in range(6,11)}\n",
    "d1.update(d2)\n",
    "print(d1)"
   ]
  },
  {
   "cell_type": "markdown",
   "id": "5126ba5f",
   "metadata": {},
   "source": [
    "**Assignment 7: Nested Dictionaries**"
   ]
  },
  {
   "cell_type": "markdown",
   "id": "dc9741f6",
   "metadata": {},
   "source": [
    "Create a nested dictionary representing a student with keys 'name', 'age', 'grades', where 'grades' is another dictionary with keys 'math', 'science' and 'english'. Print the nested dictionary."
   ]
  },
  {
   "cell_type": "code",
   "execution_count": 36,
   "id": "78977199",
   "metadata": {},
   "outputs": [
    {
     "name": "stdout",
     "output_type": "stream",
     "text": [
      "{'name': 'aj', 'age': 29, 'grades': {'math': 99, 'science': 87, 'english': 79}}\n",
      "<class 'dict'>\n"
     ]
    }
   ],
   "source": [
    "students = {\n",
    "    \"name\":\"aj\", \"age\":29, \"grades\":{\"math\":99, \"science\":87, \"english\":79}\n",
    "}\n",
    "\n",
    "print(students)\n",
    "print(type(students))"
   ]
  },
  {
   "cell_type": "code",
   "execution_count": 37,
   "id": "cb054695",
   "metadata": {},
   "outputs": [
    {
     "data": {
      "text/plain": [
       "{'math': 99, 'science': 87, 'english': 79}"
      ]
     },
     "execution_count": 37,
     "metadata": {},
     "output_type": "execute_result"
    }
   ],
   "source": [
    "students['grades']"
   ]
  },
  {
   "cell_type": "code",
   "execution_count": 38,
   "id": "053e7c0f",
   "metadata": {},
   "outputs": [
    {
     "data": {
      "text/plain": [
       "29"
      ]
     },
     "execution_count": 38,
     "metadata": {},
     "output_type": "execute_result"
    }
   ],
   "source": [
    "students['age']"
   ]
  },
  {
   "cell_type": "code",
   "execution_count": 124,
   "id": "f2301fb1",
   "metadata": {},
   "outputs": [
    {
     "name": "stdout",
     "output_type": "stream",
     "text": [
      "{'name': 'John doe', 'age': 16, 'grade': {'math': 90, 'science': 85, 'english': 88}}\n"
     ]
    }
   ],
   "source": [
    "## solution from course\n",
    "student = {\n",
    "    \"name\":\"John doe\",\n",
    "    \"age\":16,\n",
    "    \"grade\":{\n",
    "        \"math\":90,\n",
    "        \"science\":85,\n",
    "        \"english\":88\n",
    "    }\n",
    "}\n",
    "print(student)"
   ]
  },
  {
   "cell_type": "markdown",
   "id": "588e4986",
   "metadata": {},
   "source": [
    "**Assignement 8: Dictionary of Lists**"
   ]
  },
  {
   "cell_type": "markdown",
   "id": "dd3b23c4",
   "metadata": {},
   "source": [
    "Create a dictionary where the keys are the first 5 positive integers and the values are lists containing the first 5 multiple of the key. Print the dictionary."
   ]
  },
  {
   "cell_type": "code",
   "execution_count": 48,
   "id": "1abf58a5",
   "metadata": {},
   "outputs": [
    {
     "name": "stdout",
     "output_type": "stream",
     "text": [
      "{1: [1, 2, 3, 4, 5], 2: [2, 4, 6, 8, 10], 3: [3, 6, 9, 12, 15], 4: [4, 8, 12, 16, 20], 5: [5, 10, 15, 20, 25]}\n"
     ]
    }
   ],
   "source": [
    "multi = {i:[i*j for j in range(1,6)] for i in range(1,6)}\n",
    "print(multi)"
   ]
  },
  {
   "cell_type": "code",
   "execution_count": 126,
   "id": "06753ca4",
   "metadata": {},
   "outputs": [
    {
     "name": "stdout",
     "output_type": "stream",
     "text": [
      "{1: [1, 2, 3, 4, 5], 2: [2, 4, 6, 8, 10], 3: [3, 6, 9, 12, 15], 4: [4, 8, 12, 16, 20], 5: [5, 10, 15, 20, 25]}\n"
     ]
    }
   ],
   "source": [
    "## solution form course\n",
    "multiples = {i:[i*j for j in range(1,6)] for i in range(1,6)}\n",
    "print(multiples)"
   ]
  },
  {
   "cell_type": "markdown",
   "id": "ae624772",
   "metadata": {},
   "source": [
    "**Assignment 9: Dictionary of Tuples**"
   ]
  },
  {
   "cell_type": "markdown",
   "id": "4c876024",
   "metadata": {},
   "source": [
    "Create a dictionary where the keys are the first 5 positive integers and the values are tuples containing the key and its square. Print the dictionary."
   ]
  },
  {
   "cell_type": "code",
   "execution_count": 50,
   "id": "d1bf94bd",
   "metadata": {},
   "outputs": [
    {
     "data": {
      "text/plain": [
       "{1: (1, 1), 2: (2, 4), 3: (3, 9), 4: (4, 16), 5: (5, 25)}"
      ]
     },
     "execution_count": 50,
     "metadata": {},
     "output_type": "execute_result"
    }
   ],
   "source": [
    "# using dictionary comprehension\n",
    "{x:(x,x**2) for x in range(1,6)}"
   ]
  },
  {
   "cell_type": "code",
   "execution_count": 52,
   "id": "50005b4e",
   "metadata": {},
   "outputs": [
    {
     "name": "stdout",
     "output_type": "stream",
     "text": [
      "{1: (1, 1), 2: (2, 4), 3: (3, 9), 4: (4, 16), 5: (5, 25)}\n"
     ]
    }
   ],
   "source": [
    "# using simple for loop\n",
    "dict4 = {}\n",
    "for i in range(1,6):\n",
    "    dict4[i]=(i,i**2)\n",
    "print(dict4)"
   ]
  },
  {
   "cell_type": "code",
   "execution_count": 128,
   "id": "f70923cb",
   "metadata": {},
   "outputs": [
    {
     "name": "stdout",
     "output_type": "stream",
     "text": [
      "{1: (1, 1), 2: (2, 4), 3: (3, 9), 4: (4, 16), 5: (5, 25)}\n"
     ]
    }
   ],
   "source": [
    "# using while loop\n",
    "dict5 = {}\n",
    "k = 1\n",
    "while k<=5:\n",
    "    dict5[k]=(k,k**2)\n",
    "    k+=1\n",
    "print(dict5)"
   ]
  },
  {
   "cell_type": "code",
   "execution_count": 129,
   "id": "544d74c3",
   "metadata": {},
   "outputs": [
    {
     "name": "stdout",
     "output_type": "stream",
     "text": [
      "{1: (1, 1), 2: (2, 4), 3: (3, 9), 4: (4, 16), 5: (5, 25)}\n"
     ]
    }
   ],
   "source": [
    "## solution from course\n",
    "tuple_dict = {i:(i,i**2) for i in range(1,6)}\n",
    "print(tuple_dict)"
   ]
  },
  {
   "cell_type": "markdown",
   "id": "345498fa",
   "metadata": {},
   "source": [
    "**Assignement 10: Dictionary and List Conversion**"
   ]
  },
  {
   "cell_type": "markdown",
   "id": "7b3d38a2",
   "metadata": {},
   "source": [
    "Create a dictionary with the first 5 positive integers as keys and their squares as values. Convert the dictionary to a list of tuples and print it."
   ]
  },
  {
   "cell_type": "code",
   "execution_count": 57,
   "id": "d814e82d",
   "metadata": {},
   "outputs": [
    {
     "name": "stdout",
     "output_type": "stream",
     "text": [
      "{1: 1, 2: 4, 3: 9, 4: 16, 5: 25}\n",
      "<class 'dict'>\n"
     ]
    }
   ],
   "source": [
    "dict5 = {i:i**2 for i in range(1,6)}\n",
    "print(dict5)\n",
    "print(type(dict5))"
   ]
  },
  {
   "cell_type": "code",
   "execution_count": 64,
   "id": "2012fcf8",
   "metadata": {},
   "outputs": [
    {
     "data": {
      "text/plain": [
       "[(1, 1), (2, 4), (3, 9), (4, 16), (5, 25)]"
      ]
     },
     "execution_count": 64,
     "metadata": {},
     "output_type": "execute_result"
    }
   ],
   "source": [
    "list(dict5.items())"
   ]
  },
  {
   "cell_type": "code",
   "execution_count": 130,
   "id": "8fa4473c",
   "metadata": {},
   "outputs": [
    {
     "name": "stdout",
     "output_type": "stream",
     "text": [
      "[(1, 1), (2, 4), (3, 9), (4, 16), (5, 25)]\n"
     ]
    }
   ],
   "source": [
    "## solution from course\n",
    "d = {i: i**2 for i in range(1,6)}\n",
    "list_of_tuples = list(d.items())\n",
    "print(list_of_tuples)"
   ]
  },
  {
   "cell_type": "markdown",
   "id": "e5c82141",
   "metadata": {},
   "source": [
    "**Assignment 11: Dictionary Filtering**"
   ]
  },
  {
   "cell_type": "markdown",
   "id": "fbacc489",
   "metadata": {},
   "source": [
    "Create a dictionary with the first 10 positive integers as keys their squares as values. Create a new dictionary containing only the key-value pairs where the key is even. Print the new dictionary."
   ]
  },
  {
   "cell_type": "code",
   "execution_count": 67,
   "id": "1b23affa",
   "metadata": {},
   "outputs": [
    {
     "name": "stdout",
     "output_type": "stream",
     "text": [
      "{2: 4, 4: 16, 6: 36, 8: 64, 10: 100}\n"
     ]
    }
   ],
   "source": [
    "dict6 = {l:l**2 for l in range(1,11) if l%2==0}\n",
    "print(dict6)"
   ]
  },
  {
   "cell_type": "code",
   "execution_count": 132,
   "id": "043af34e",
   "metadata": {},
   "outputs": [
    {
     "name": "stdout",
     "output_type": "stream",
     "text": [
      "orginal dict: {1: 1, 2: 4, 3: 9, 4: 16, 5: 25, 6: 36, 7: 49, 8: 64, 9: 81, 10: 100}\n",
      "even dict: {2: 4, 4: 16, 6: 36, 8: 64, 10: 100}\n"
     ]
    }
   ],
   "source": [
    "## solution from course\n",
    "d = {i:i**2 for i in range(1,11)}\n",
    "even_dict = {k:v for k,v in d.items() if k%2==0}\n",
    "print(f\"orginal dict: {d}\")\n",
    "print(f\"even dict: {even_dict}\")"
   ]
  },
  {
   "cell_type": "markdown",
   "id": "4d2d9aeb",
   "metadata": {},
   "source": [
    "**Assignment 12: Dictionary Key and Value Transformation**"
   ]
  },
  {
   "cell_type": "markdown",
   "id": "4cbfcaaf",
   "metadata": {},
   "source": [
    "Create a dictionary with the first 5 positive integer as keys and their squares as values. Create a new dictionary with keys and values swapped. Print the new dictionary."
   ]
  },
  {
   "cell_type": "code",
   "execution_count": 69,
   "id": "b18faf91",
   "metadata": {},
   "outputs": [],
   "source": [
    "dict7 = {r:r**2 for r in range(1,6)}"
   ]
  },
  {
   "cell_type": "code",
   "execution_count": 77,
   "id": "48190ba2",
   "metadata": {},
   "outputs": [
    {
     "data": {
      "text/plain": [
       "{1: 1, 4: 2, 9: 3, 16: 4, 25: 5}"
      ]
     },
     "execution_count": 77,
     "metadata": {},
     "output_type": "execute_result"
    }
   ],
   "source": [
    "{value:key for key, value in dict7.items()}"
   ]
  },
  {
   "cell_type": "code",
   "execution_count": 133,
   "id": "26207b1d",
   "metadata": {},
   "outputs": [
    {
     "name": "stdout",
     "output_type": "stream",
     "text": [
      "orginal dictionary: {1: 1, 2: 4, 3: 9, 4: 16, 5: 25}\n",
      "swapped dictionary: {1: 1, 4: 2, 9: 3, 16: 4, 25: 5}\n"
     ]
    }
   ],
   "source": [
    "## solution from course\n",
    "d = {i:i**2 for i in range(1,6)}\n",
    "swapped_dict = {v:k for k,v in d.items()}\n",
    "print(f\"orginal dictionary: {d}\")\n",
    "print(f\"swapped dictionary: {swapped_dict}\")"
   ]
  },
  {
   "cell_type": "markdown",
   "id": "014499bb",
   "metadata": {},
   "source": [
    "**Assignment 13: Default Dictionary**"
   ]
  },
  {
   "cell_type": "markdown",
   "id": "b85f03c6",
   "metadata": {},
   "source": [
    "Create a default dictionary where each key has a default value of an empty list. Add some elements to the list and print the dictionary."
   ]
  },
  {
   "cell_type": "code",
   "execution_count": 79,
   "id": "3488eda2",
   "metadata": {},
   "outputs": [
    {
     "name": "stdout",
     "output_type": "stream",
     "text": [
      "{'name': [], 'age': [], 'grade': []}\n",
      "<class 'dict'>\n"
     ]
    }
   ],
   "source": [
    "dict11 = {\n",
    "    \"name\":[], \"age\":[],\"grade\":[]\n",
    "}\n",
    "print(dict11)\n",
    "print(type(dict11))"
   ]
  },
  {
   "cell_type": "code",
   "execution_count": 81,
   "id": "56319dde",
   "metadata": {},
   "outputs": [],
   "source": [
    "dict11[\"name\"] = ['Ajwar','John','Jacob']\n",
    "dict11[\"age\"] = [29,33,25]\n",
    "dict11['grade'] = [\"A\",\"B\",\"C\"]"
   ]
  },
  {
   "cell_type": "code",
   "execution_count": 82,
   "id": "fb2ea8d5",
   "metadata": {},
   "outputs": [
    {
     "name": "stdout",
     "output_type": "stream",
     "text": [
      "{'name': ['Ajwar', 'John', 'Jacob'], 'age': [29, 33, 25], 'grade': ['A', 'B', 'C']}\n"
     ]
    }
   ],
   "source": [
    "print(dict11)"
   ]
  },
  {
   "cell_type": "code",
   "execution_count": 136,
   "id": "b4c992dd",
   "metadata": {},
   "outputs": [
    {
     "name": "stdout",
     "output_type": "stream",
     "text": [
      "defaultdict(<class 'list'>, {'a': [1], 'b': [2], 'c': [3]})\n"
     ]
    }
   ],
   "source": [
    "## solution from course\n",
    "from collections import defaultdict\n",
    "\n",
    "default_dict = defaultdict(list)\n",
    "default_dict['a'].append(1)\n",
    "default_dict['b'].append(2)\n",
    "default_dict['c'].append(3)\n",
    "print(default_dict)"
   ]
  },
  {
   "cell_type": "markdown",
   "id": "b93849e8",
   "metadata": {},
   "source": [
    "**Assignment 14: Counting with Dictionaries**"
   ]
  },
  {
   "cell_type": "markdown",
   "id": "56be939a",
   "metadata": {},
   "source": [
    "Write a function that takes a string and returns a dictionary with the count of each character in the string. Print the dictionary."
   ]
  },
  {
   "cell_type": "code",
   "execution_count": 100,
   "id": "0558dd53",
   "metadata": {},
   "outputs": [],
   "source": [
    "def string_print():\n",
    "    d = {}\n",
    "    s = input('enter a string')\n",
    "    for i in list(s):\n",
    "        if i in d:\n",
    "            d[i]+=1\n",
    "        else:\n",
    "            d[i]=1\n",
    "    print(d)"
   ]
  },
  {
   "cell_type": "code",
   "execution_count": 101,
   "id": "9e87f92a",
   "metadata": {},
   "outputs": [
    {
     "name": "stdout",
     "output_type": "stream",
     "text": [
      "{'a': 2, 'b': 2, 'c': 2}\n"
     ]
    }
   ],
   "source": [
    "string_print()"
   ]
  },
  {
   "cell_type": "code",
   "execution_count": 137,
   "id": "754dd9c1",
   "metadata": {},
   "outputs": [
    {
     "name": "stdout",
     "output_type": "stream",
     "text": [
      "{'h': 1, 'e': 1, 'l': 3, 'o': 2, ' ': 1, 'w': 1, 'r': 1, 'd': 1}\n"
     ]
    }
   ],
   "source": [
    "## solution from course\n",
    "def count_chars(s):\n",
    "    count_dict = {}\n",
    "    for char in s:\n",
    "        count_dict[char] = count_dict.get(char,0)+1\n",
    "    return count_dict\n",
    "\n",
    "string = \"hello world\"\n",
    "print(count_chars(string))"
   ]
  },
  {
   "cell_type": "markdown",
   "id": "a08b7aa7",
   "metadata": {},
   "source": [
    "**Assignment 15: Dictionary and JSON**"
   ]
  },
  {
   "cell_type": "markdown",
   "id": "b4ed45af",
   "metadata": {},
   "source": [
    "Create a dictionary representing a book with keys 'title', 'author', 'year' and 'genre'. Convert the dictionary to a JSON string and print it."
   ]
  },
  {
   "cell_type": "code",
   "execution_count": 107,
   "id": "99742180",
   "metadata": {},
   "outputs": [],
   "source": [
    "book1 = {\n",
    "    \"title\":\"drama\", \"author\":\"john\", \"year\":2023, \"genre\":\"thriller\"\n",
    "}"
   ]
  },
  {
   "cell_type": "code",
   "execution_count": 108,
   "id": "fbfb254b",
   "metadata": {},
   "outputs": [
    {
     "name": "stdout",
     "output_type": "stream",
     "text": [
      "{'title': 'drama', 'author': 'john', 'year': 2023, 'genre': 'thriller'}\n",
      "<class 'dict'>\n"
     ]
    }
   ],
   "source": [
    "print(book1)\n",
    "print(type(book1))"
   ]
  },
  {
   "cell_type": "code",
   "execution_count": 110,
   "id": "a4456d27",
   "metadata": {},
   "outputs": [
    {
     "data": {
      "text/plain": [
       "dict_keys(['title', 'author', 'year', 'genre'])"
      ]
     },
     "execution_count": 110,
     "metadata": {},
     "output_type": "execute_result"
    }
   ],
   "source": [
    "book1.keys()"
   ]
  },
  {
   "cell_type": "code",
   "execution_count": 112,
   "id": "6928c3b6",
   "metadata": {},
   "outputs": [
    {
     "data": {
      "text/plain": [
       "dict_values(['drama', 'john', 2023, 'thriller'])"
      ]
     },
     "execution_count": 112,
     "metadata": {},
     "output_type": "execute_result"
    }
   ],
   "source": [
    "book1.values()"
   ]
  },
  {
   "cell_type": "code",
   "execution_count": 144,
   "id": "ad4faf02",
   "metadata": {},
   "outputs": [
    {
     "name": "stdout",
     "output_type": "stream",
     "text": [
      "{\"title\": \"To Kill a Mockingbird\", \"author\": \"Harper Lee\", \"year\": 1960, \"genre\": \"Fiction\"}\n"
     ]
    }
   ],
   "source": [
    "## solution from course\n",
    "import json\n",
    "\n",
    "book = {\n",
    "    \"title\":\"To Kill a Mockingbird\",\n",
    "    \"author\":\"Harper Lee\",\n",
    "    \"year\":1960,\n",
    "    \"genre\":\"Fiction\"\n",
    "}\n",
    "\n",
    "book_json = json.dumps(book)\n",
    "print(book_json)"
   ]
  }
 ],
 "metadata": {
  "kernelspec": {
   "display_name": "base",
   "language": "python",
   "name": "python3"
  },
  "language_info": {
   "codemirror_mode": {
    "name": "ipython",
    "version": 3
   },
   "file_extension": ".py",
   "mimetype": "text/x-python",
   "name": "python",
   "nbconvert_exporter": "python",
   "pygments_lexer": "ipython3",
   "version": "3.12.9"
  }
 },
 "nbformat": 4,
 "nbformat_minor": 5
}
