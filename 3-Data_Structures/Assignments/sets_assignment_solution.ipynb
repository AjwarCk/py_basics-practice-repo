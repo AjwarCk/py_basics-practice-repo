{
 "cells": [
  {
   "cell_type": "markdown",
   "id": "47f6f992",
   "metadata": {},
   "source": [
    "#### Module 3: Data Structures Assignments\n",
    "\n",
    "**Lesson 3.3: Sets**"
   ]
  },
  {
   "cell_type": "markdown",
   "id": "28a8b6a1",
   "metadata": {},
   "source": [
    "**Assignment 1: Creating and Acessing Sets**"
   ]
  },
  {
   "cell_type": "markdown",
   "id": "765545df",
   "metadata": {},
   "source": [
    "Create a set with the first 10 positive integers. Print the set."
   ]
  },
  {
   "cell_type": "code",
   "execution_count": 2,
   "id": "437b630f",
   "metadata": {},
   "outputs": [
    {
     "name": "stdout",
     "output_type": "stream",
     "text": [
      "<class 'set'>\n"
     ]
    }
   ],
   "source": [
    "set1 = set()\n",
    "print(type(set1))"
   ]
  },
  {
   "cell_type": "code",
   "execution_count": 3,
   "id": "5e31c699",
   "metadata": {},
   "outputs": [
    {
     "name": "stdout",
     "output_type": "stream",
     "text": [
      "<class 'set'>\n"
     ]
    }
   ],
   "source": [
    "set2 = set([1,2,3,4,5])\n",
    "print(type(set2))"
   ]
  },
  {
   "cell_type": "code",
   "execution_count": null,
   "id": "2bff67fa",
   "metadata": {},
   "outputs": [
    {
     "name": "stdout",
     "output_type": "stream",
     "text": [
      "{1, 2, 3, 4, 5, 6, 7, 8, 9, 10}\n"
     ]
    }
   ],
   "source": [
    "## solution\n",
    "s = set(range(1,11))\n",
    "print(s)"
   ]
  },
  {
   "cell_type": "markdown",
   "id": "f551350f",
   "metadata": {},
   "source": [
    "**Assignment 2: Adding and Removing Elements**"
   ]
  },
  {
   "cell_type": "markdown",
   "id": "9824ed85",
   "metadata": {},
   "source": [
    "Add the number 11 to the set created in Assignment 1. Then remove the number 1 from the set. Print the modified set."
   ]
  },
  {
   "cell_type": "code",
   "execution_count": 6,
   "id": "05990f65",
   "metadata": {},
   "outputs": [
    {
     "name": "stdout",
     "output_type": "stream",
     "text": [
      "{1, 2, 3, 4, 5, 11}\n",
      "{2, 3, 4, 5, 11}\n"
     ]
    }
   ],
   "source": [
    "set2.add(11)\n",
    "print(set2)\n",
    "\n",
    "set2.remove(1)\n",
    "print(set2)"
   ]
  },
  {
   "cell_type": "code",
   "execution_count": 88,
   "id": "324e8e8b",
   "metadata": {},
   "outputs": [
    {
     "name": "stdout",
     "output_type": "stream",
     "text": [
      "{2, 3, 4, 5, 6, 7, 8, 9, 10, 11}\n"
     ]
    }
   ],
   "source": [
    "## solution\n",
    "s.add(11)\n",
    "s.remove(1)\n",
    "print(s)"
   ]
  },
  {
   "cell_type": "markdown",
   "id": "26577182",
   "metadata": {},
   "source": [
    "**Assignment 3: Set Operations**"
   ]
  },
  {
   "cell_type": "markdown",
   "id": "c8df37e4",
   "metadata": {},
   "source": [
    "Create two sets: One with first 5 positive integers and another with the first 5 even integers. Perform and print the result of union, intersection, difference, and symmetric difference operations on these sets."
   ]
  },
  {
   "cell_type": "code",
   "execution_count": 21,
   "id": "819855b4",
   "metadata": {},
   "outputs": [
    {
     "name": "stdout",
     "output_type": "stream",
     "text": [
      "set1 : {1, 2, 3, 4, 5}\n",
      "set2 : {2, 4, 6, 8, 10}\n"
     ]
    }
   ],
   "source": [
    "set3 = set([x for x in range(1,6)])\n",
    "set4 = set([x for x in range(1,11) if x%2==0])\n",
    "\n",
    "print(f\"set1 : {set3}\")\n",
    "print(f\"set2 : {set4}\")"
   ]
  },
  {
   "cell_type": "code",
   "execution_count": 22,
   "id": "b292ffed",
   "metadata": {},
   "outputs": [
    {
     "name": "stdout",
     "output_type": "stream",
     "text": [
      "union: {1, 2, 3, 4, 5, 6, 8, 10}\n",
      "intersection: {2, 4}\n",
      "difference: {1, 3, 5}\n",
      "symmetric difference: {1, 3, 5, 6, 8, 10}\n"
     ]
    }
   ],
   "source": [
    "# union\n",
    "print(f\"union: {set3.union(set4)}\")\n",
    "\n",
    "# intersection\n",
    "print(f\"intersection: {set3.intersection(set4)}\")\n",
    "\n",
    "# difference\n",
    "print(f\"difference: {set3.difference(set4)}\")\n",
    "\n",
    "# symmetric difference\n",
    "print(f\"symmetric difference: {set3.symmetric_difference(set4)}\")"
   ]
  },
  {
   "cell_type": "code",
   "execution_count": 90,
   "id": "8810ee25",
   "metadata": {},
   "outputs": [
    {
     "name": "stdout",
     "output_type": "stream",
     "text": [
      "Uniqon: {1, 2, 3, 4, 5, 6, 8, 10}\n",
      "Intersection: {2, 4}\n",
      "Difference (set1 - set2): {1, 3, 5}\n",
      "Symmetric Difference: {1, 3, 5, 6, 8, 10}\n"
     ]
    }
   ],
   "source": [
    "## solution\n",
    "set1 = set(range(1,6))\n",
    "set2 = set(range(2,11,2)) # even numbers till 10\n",
    "print(f\"Uniqon: {set1 | set2}\")\n",
    "print(f\"Intersection: {set1 & set2}\")\n",
    "print(f\"Difference (set1 - set2): {set1 - set2}\")\n",
    "print(f\"Symmetric Difference: {set1 ^ set2}\")"
   ]
  },
  {
   "cell_type": "markdown",
   "id": "e7603118",
   "metadata": {},
   "source": [
    "**Assignment 4: Set Comprehension**"
   ]
  },
  {
   "cell_type": "markdown",
   "id": "1d812549",
   "metadata": {},
   "source": [
    "Create a new set containing the squares of the first 10 positive integers using a set comprehension. Print the new set."
   ]
  },
  {
   "cell_type": "code",
   "execution_count": 25,
   "id": "0ddeb9f1",
   "metadata": {},
   "outputs": [
    {
     "name": "stdout",
     "output_type": "stream",
     "text": [
      "{1, 2, 3, 4, 5, 6, 7, 8, 9, 10}\n"
     ]
    }
   ],
   "source": [
    "set5 = {x for x in range(1,11)}\n",
    "print(set5)"
   ]
  },
  {
   "cell_type": "code",
   "execution_count": 91,
   "id": "900f1881",
   "metadata": {},
   "outputs": [
    {
     "name": "stdout",
     "output_type": "stream",
     "text": [
      "{64, 1, 4, 36, 100, 9, 16, 49, 81, 25}\n"
     ]
    }
   ],
   "source": [
    "squares = {i**2 for i in range(1,11)}\n",
    "print(squares)"
   ]
  },
  {
   "cell_type": "markdown",
   "id": "9202e54c",
   "metadata": {},
   "source": [
    "**Assignment 5: Filtering Sets**"
   ]
  },
  {
   "cell_type": "markdown",
   "id": "b768689d",
   "metadata": {},
   "source": [
    "Create a new set containing only the even numbers from the set created in Assingment 1 using a set comphrehension. Print the new set."
   ]
  },
  {
   "cell_type": "code",
   "execution_count": 30,
   "id": "1a1fd3d3",
   "metadata": {},
   "outputs": [
    {
     "data": {
      "text/plain": [
       "{2, 4}"
      ]
     },
     "execution_count": 30,
     "metadata": {},
     "output_type": "execute_result"
    }
   ],
   "source": [
    "{x for x in set3 if x%2==0}"
   ]
  },
  {
   "cell_type": "code",
   "execution_count": 94,
   "id": "88cb4d5a",
   "metadata": {},
   "outputs": [
    {
     "name": "stdout",
     "output_type": "stream",
     "text": [
      "{2, 4, 6, 8, 10}\n"
     ]
    }
   ],
   "source": [
    "## solution from course\n",
    "evens = {i for i in s if i%2==0}\n",
    "print(evens)"
   ]
  },
  {
   "cell_type": "markdown",
   "id": "65eca800",
   "metadata": {},
   "source": [
    "**Assignment 6: Set Methods**"
   ]
  },
  {
   "cell_type": "markdown",
   "id": "5d18d43d",
   "metadata": {},
   "source": [
    "Create a set with duplicate elements and remove the duplicates using set methods. Print the modified set."
   ]
  },
  {
   "cell_type": "code",
   "execution_count": 31,
   "id": "7a98f820",
   "metadata": {},
   "outputs": [
    {
     "name": "stdout",
     "output_type": "stream",
     "text": [
      "{1, 3, 6, 7, 9}\n"
     ]
    }
   ],
   "source": [
    "set6 = {1,1,3,6,6,7,9,9}\n",
    "print(set6)"
   ]
  },
  {
   "cell_type": "code",
   "execution_count": 34,
   "id": "8e987842",
   "metadata": {},
   "outputs": [
    {
     "name": "stdout",
     "output_type": "stream",
     "text": [
      "with duplicates in list:[1, 1, 2, 3, 4, 6, 7, 7]\n",
      "leveraged set method to convert list to set: {1, 2, 3, 4, 6, 7}\n"
     ]
    }
   ],
   "source": [
    "l = [1,1,2,3,4,6,7,7]\n",
    "\n",
    "print(f\"with duplicates in list:{l}\")\n",
    "\n",
    "set6 = set(l)\n",
    "print(f\"leveraged set method to convert list to set: {set6}\")"
   ]
  },
  {
   "cell_type": "code",
   "execution_count": 95,
   "id": "7e4f7885",
   "metadata": {},
   "outputs": [
    {
     "name": "stdout",
     "output_type": "stream",
     "text": [
      "{1, 2, 3, 4, 5}\n"
     ]
    }
   ],
   "source": [
    "s = {1,2,2,3,4,4,5}\n",
    "unique_s = set(s)\n",
    "print(unique_s)"
   ]
  },
  {
   "cell_type": "markdown",
   "id": "b95f8127",
   "metadata": {},
   "source": [
    "**Assignment 7: Subsets and Supersets**"
   ]
  },
  {
   "cell_type": "markdown",
   "id": "22857350",
   "metadata": {},
   "source": [
    "Create two sets: One with first 5 positive integers and another with the first 3 positive integers. Check if the second set is a subset of the first set and if the first set is a superset of the second set. Print the result."
   ]
  },
  {
   "cell_type": "code",
   "execution_count": 35,
   "id": "90da4aea",
   "metadata": {},
   "outputs": [
    {
     "name": "stdout",
     "output_type": "stream",
     "text": [
      "{1, 2, 3, 4, 5}\n",
      "{1, 2, 3}\n"
     ]
    }
   ],
   "source": [
    "set7 = {x for x in range(1,6)}\n",
    "set8 = {x for x in range(1,4)}\n",
    "\n",
    "print(set7)\n",
    "print(set8)"
   ]
  },
  {
   "cell_type": "code",
   "execution_count": 36,
   "id": "a24e8cde",
   "metadata": {},
   "outputs": [
    {
     "data": {
      "text/plain": [
       "True"
      ]
     },
     "execution_count": 36,
     "metadata": {},
     "output_type": "execute_result"
    }
   ],
   "source": [
    "# second set is subset of first set\n",
    "set8.issubset(set7)"
   ]
  },
  {
   "cell_type": "code",
   "execution_count": 37,
   "id": "b41cb826",
   "metadata": {},
   "outputs": [
    {
     "data": {
      "text/plain": [
       "True"
      ]
     },
     "execution_count": 37,
     "metadata": {},
     "output_type": "execute_result"
    }
   ],
   "source": [
    "# first set is superset of second set\n",
    "set7.issuperset(set8)"
   ]
  },
  {
   "cell_type": "code",
   "execution_count": 96,
   "id": "b83b653b",
   "metadata": {},
   "outputs": [
    {
     "name": "stdout",
     "output_type": "stream",
     "text": [
      "Is set2 a subset of set1? True\n",
      "Is set1 a superset of set2? True\n"
     ]
    }
   ],
   "source": [
    "## solutin from course\n",
    "set1 = set(range(1,6))\n",
    "set2 = set(range(1,4))\n",
    "print(f\"Is set2 a subset of set1? {set2.issubset(set1)}\")\n",
    "print(f\"Is set1 a superset of set2? {set1.issuperset(set2)}\")"
   ]
  },
  {
   "cell_type": "markdown",
   "id": "53bc960b",
   "metadata": {},
   "source": [
    "**Assignement 8: Frozenset**"
   ]
  },
  {
   "cell_type": "markdown",
   "id": "52f89eb0",
   "metadata": {},
   "source": [
    "Create a frozenset with the first 5 positive integers. Print the frozenset."
   ]
  },
  {
   "cell_type": "code",
   "execution_count": 39,
   "id": "20443bfe",
   "metadata": {},
   "outputs": [
    {
     "name": "stdout",
     "output_type": "stream",
     "text": [
      "frozenset({1, 2, 3, 4, 5, 8, 9})\n",
      "<class 'frozenset'>\n"
     ]
    }
   ],
   "source": [
    "frozen_set1 = frozenset([1,2,3,4,5,8,9,1,1,1,1])\n",
    "print(frozen_set1)\n",
    "print(type(frozen_set1))"
   ]
  },
  {
   "cell_type": "code",
   "execution_count": 97,
   "id": "5ba4afe4",
   "metadata": {},
   "outputs": [
    {
     "name": "stdout",
     "output_type": "stream",
     "text": [
      "frozenset({1, 2, 3, 4, 5})\n"
     ]
    }
   ],
   "source": [
    "## solution from course\n",
    "fs = frozenset(range(1,6))\n",
    "print(fs)"
   ]
  },
  {
   "cell_type": "markdown",
   "id": "43dfbd06",
   "metadata": {},
   "source": [
    "**Assignment 9: Set and List Conversion**"
   ]
  },
  {
   "cell_type": "markdown",
   "id": "55b7e9d7",
   "metadata": {},
   "source": [
    "Create a set with the first 5 positive integers. Convert it to a list, append the number 6, and convert it back to a set. Print the resulting set."
   ]
  },
  {
   "cell_type": "code",
   "execution_count": 41,
   "id": "6466a550",
   "metadata": {},
   "outputs": [
    {
     "name": "stdout",
     "output_type": "stream",
     "text": [
      "{1, 2, 3, 4, 5}\n",
      "<class 'set'>\n"
     ]
    }
   ],
   "source": [
    "set8 = {x for x in range(1,6)}\n",
    "print(set8)\n",
    "print(type(set8))"
   ]
  },
  {
   "cell_type": "code",
   "execution_count": 43,
   "id": "ec59b708",
   "metadata": {},
   "outputs": [
    {
     "name": "stdout",
     "output_type": "stream",
     "text": [
      "[1, 2, 3, 4, 5]\n",
      "<class 'list'>\n"
     ]
    }
   ],
   "source": [
    "lst1 = list(set8)\n",
    "print(lst1)\n",
    "print(type(lst1))"
   ]
  },
  {
   "cell_type": "code",
   "execution_count": 44,
   "id": "8ad21c0f",
   "metadata": {},
   "outputs": [
    {
     "name": "stdout",
     "output_type": "stream",
     "text": [
      "[1, 2, 3, 4, 5, 6]\n"
     ]
    }
   ],
   "source": [
    "lst1.append(6)\n",
    "print(lst1)"
   ]
  },
  {
   "cell_type": "code",
   "execution_count": 45,
   "id": "06ba0e9f",
   "metadata": {},
   "outputs": [
    {
     "name": "stdout",
     "output_type": "stream",
     "text": [
      "{1, 2, 3, 4, 5, 6}\n",
      "<class 'set'>\n"
     ]
    }
   ],
   "source": [
    "set9 = set(lst1)\n",
    "print(set9)\n",
    "print(type(set9))"
   ]
  },
  {
   "cell_type": "code",
   "execution_count": 98,
   "id": "d5583d54",
   "metadata": {},
   "outputs": [
    {
     "name": "stdout",
     "output_type": "stream",
     "text": [
      "{1, 2, 3, 4, 5, 6}\n"
     ]
    }
   ],
   "source": [
    "## solution from course\n",
    "s = set(range(1,6))\n",
    "lst = list(s)\n",
    "lst.append(6)\n",
    "s = set(lst)\n",
    "print(s)"
   ]
  },
  {
   "cell_type": "markdown",
   "id": "82a411b7",
   "metadata": {},
   "source": [
    "**Assignment 10: Set and Dictionary**"
   ]
  },
  {
   "cell_type": "markdown",
   "id": "c6c381b0",
   "metadata": {},
   "source": [
    "Create a dictionary with set keys and integer values. Print the dictionary"
   ]
  },
  {
   "cell_type": "code",
   "execution_count": 49,
   "id": "eb5bfcd2",
   "metadata": {},
   "outputs": [
    {
     "name": "stdout",
     "output_type": "stream",
     "text": [
      "{frozenset({1, 2}): 3, frozenset({3, 4}): 7, frozenset({5, 6}): 11}\n",
      "<class 'dict'>\n"
     ]
    }
   ],
   "source": [
    "# solution by course\n",
    "d = {\n",
    "    frozenset({1, 2}): 3,\n",
    "    frozenset({3, 4}): 7,\n",
    "    frozenset({5, 6}): 11\n",
    "}\n",
    "print(d)\n",
    "print(type(d))"
   ]
  },
  {
   "cell_type": "code",
   "execution_count": 54,
   "id": "bb7a3d47",
   "metadata": {},
   "outputs": [
    {
     "name": "stdout",
     "output_type": "stream",
     "text": [
      "{frozenset({'emp1'}): {'India', 333, 'Ajwar', 29}, frozenset({'emp2'}): {'US', 555, 30, 'John'}}\n",
      "<class 'dict'>\n"
     ]
    }
   ],
   "source": [
    "d1 = {\n",
    "    frozenset({\"emp1\"}):{\"Ajwar\", 29, \"India\", 333},\n",
    "    frozenset({\"emp2\"}):{\"John\", 30, \"US\", 555}\n",
    "}\n",
    "\n",
    "print(d1)\n",
    "print(type(d1))"
   ]
  },
  {
   "cell_type": "code",
   "execution_count": 100,
   "id": "4b4d8bc7",
   "metadata": {},
   "outputs": [
    {
     "name": "stdout",
     "output_type": "stream",
     "text": [
      "{frozenset({1, 2}): 3, frozenset({4, 5}): 6}\n",
      "<class 'dict'>\n"
     ]
    }
   ],
   "source": [
    "## solution from course\n",
    "dict1 = {\n",
    "    frozenset({1,2}): 3,\n",
    "    frozenset({4,5}): 6\n",
    "}\n",
    "\n",
    "print(dict1)\n",
    "print(type(dict1))"
   ]
  },
  {
   "cell_type": "markdown",
   "id": "87dbf1f6",
   "metadata": {},
   "source": [
    "**Assignment 11: Iterating Over Sets**"
   ]
  },
  {
   "cell_type": "markdown",
   "id": "0ff58c4d",
   "metadata": {},
   "source": [
    "Create a set and iterate over the elements, printing each element."
   ]
  },
  {
   "cell_type": "code",
   "execution_count": 56,
   "id": "82d7df04",
   "metadata": {},
   "outputs": [
    {
     "data": {
      "text/plain": [
       "{1, 2, 3, 4, 5}"
      ]
     },
     "execution_count": 56,
     "metadata": {},
     "output_type": "execute_result"
    }
   ],
   "source": [
    "{x for x in set8}"
   ]
  },
  {
   "cell_type": "code",
   "execution_count": 57,
   "id": "b3680bbb",
   "metadata": {},
   "outputs": [
    {
     "name": "stdout",
     "output_type": "stream",
     "text": [
      "1\n",
      "2\n",
      "3\n",
      "4\n",
      "5\n"
     ]
    }
   ],
   "source": [
    "for x in set8:\n",
    "    print(x)"
   ]
  },
  {
   "cell_type": "code",
   "execution_count": 101,
   "id": "9026fd99",
   "metadata": {},
   "outputs": [
    {
     "name": "stdout",
     "output_type": "stream",
     "text": [
      "1\n",
      "2\n",
      "3\n",
      "4\n",
      "5\n"
     ]
    }
   ],
   "source": [
    "## solution from course\n",
    "s = set(range(1,6))\n",
    "for elem in s:\n",
    "    print(elem)"
   ]
  },
  {
   "cell_type": "markdown",
   "id": "de5ab246",
   "metadata": {},
   "source": [
    "**Assignmenment 12: Removing Elements from Sets**"
   ]
  },
  {
   "cell_type": "markdown",
   "id": "461cf080",
   "metadata": {},
   "source": [
    "Create a set and remove elements from it unitl it is empyty. Print the set aftereac removal."
   ]
  },
  {
   "cell_type": "code",
   "execution_count": 102,
   "id": "2f8fb15b",
   "metadata": {},
   "outputs": [
    {
     "name": "stdout",
     "output_type": "stream",
     "text": [
      "{2, 3, 4, 5}\n",
      "{3, 4, 5}\n",
      "{4, 5}\n",
      "{5}\n",
      "set()\n"
     ]
    }
   ],
   "source": [
    "## solution from course\n",
    "s = set(range(1,6))\n",
    "while s:\n",
    "    s.pop()\n",
    "    print(s)"
   ]
  },
  {
   "cell_type": "markdown",
   "id": "53cb6c79",
   "metadata": {},
   "source": [
    "**Assignment 13: Set symmetric Difference Update**"
   ]
  },
  {
   "cell_type": "markdown",
   "id": "878de421",
   "metadata": {},
   "source": [
    "Create two sets and update the first set with the syemmetric difference of two sets. Print the modified first set. "
   ]
  },
  {
   "cell_type": "code",
   "execution_count": 62,
   "id": "5f41b7a1",
   "metadata": {},
   "outputs": [
    {
     "name": "stdout",
     "output_type": "stream",
     "text": [
      "{1, 2, 3, 4, 5}\n",
      "{4, 5}\n"
     ]
    }
   ],
   "source": [
    "print(set7)\n",
    "print(set8)"
   ]
  },
  {
   "cell_type": "code",
   "execution_count": 63,
   "id": "dc1dd867",
   "metadata": {},
   "outputs": [
    {
     "data": {
      "text/plain": [
       "{1, 2, 3}"
      ]
     },
     "execution_count": 63,
     "metadata": {},
     "output_type": "execute_result"
    }
   ],
   "source": [
    "set7.symmetric_difference(set8)"
   ]
  },
  {
   "cell_type": "code",
   "execution_count": 67,
   "id": "baa52666",
   "metadata": {},
   "outputs": [],
   "source": [
    "set7.symmetric_difference_update(set8)"
   ]
  },
  {
   "cell_type": "code",
   "execution_count": 68,
   "id": "d9fb225e",
   "metadata": {},
   "outputs": [
    {
     "name": "stdout",
     "output_type": "stream",
     "text": [
      "{1, 2, 3}\n"
     ]
    }
   ],
   "source": [
    "print(set7)"
   ]
  },
  {
   "cell_type": "code",
   "execution_count": 105,
   "id": "4e36d80e",
   "metadata": {},
   "outputs": [
    {
     "name": "stdout",
     "output_type": "stream",
     "text": [
      "{1, 2, 4, 5}\n"
     ]
    }
   ],
   "source": [
    "## solution from course\n",
    "set1 = {1,2,3}\n",
    "set2 = {3,4,5}\n",
    "set1.symmetric_difference_update(set2)\n",
    "print(set1)"
   ]
  },
  {
   "cell_type": "markdown",
   "id": "b8825cc9",
   "metadata": {},
   "source": [
    "**Assignment 14: Set Membership Testing**"
   ]
  },
  {
   "cell_type": "markdown",
   "id": "0093fa99",
   "metadata": {},
   "source": [
    "Create a set and test if certain elements are present in the set. Print the results."
   ]
  },
  {
   "cell_type": "code",
   "execution_count": 80,
   "id": "6040cde6",
   "metadata": {},
   "outputs": [],
   "source": [
    "set10 = set(x for x in input(\"Enter few values with space delimiter\").split())"
   ]
  },
  {
   "cell_type": "code",
   "execution_count": 81,
   "id": "a6e49c16",
   "metadata": {},
   "outputs": [
    {
     "name": "stdout",
     "output_type": "stream",
     "text": [
      "{'10', 'ab', 'gh', 'cd', 'ef'}\n"
     ]
    }
   ],
   "source": [
    "print(set10)"
   ]
  },
  {
   "cell_type": "code",
   "execution_count": 82,
   "id": "e51ae443",
   "metadata": {},
   "outputs": [
    {
     "data": {
      "text/plain": [
       "False"
      ]
     },
     "execution_count": 82,
     "metadata": {},
     "output_type": "execute_result"
    }
   ],
   "source": [
    "\"a\" in set10"
   ]
  },
  {
   "cell_type": "code",
   "execution_count": 83,
   "id": "b0f36805",
   "metadata": {},
   "outputs": [
    {
     "data": {
      "text/plain": [
       "True"
      ]
     },
     "execution_count": 83,
     "metadata": {},
     "output_type": "execute_result"
    }
   ],
   "source": [
    "\"cd\" in set10"
   ]
  },
  {
   "cell_type": "code",
   "execution_count": 106,
   "id": "6d70cd45",
   "metadata": {},
   "outputs": [
    {
     "name": "stdout",
     "output_type": "stream",
     "text": [
      "True\n",
      "False\n"
     ]
    }
   ],
   "source": [
    "## solution from course\n",
    "s = set(range(1,6))\n",
    "print(3 in s)\n",
    "print(6 in s)"
   ]
  },
  {
   "cell_type": "markdown",
   "id": "291f64f4",
   "metadata": {},
   "source": [
    "**Assignment 15: Set of Tuples**"
   ]
  },
  {
   "cell_type": "markdown",
   "id": "5bac753a",
   "metadata": {},
   "source": [
    "Create a set containing tuples, where each tuple contains two elements. Print the set."
   ]
  },
  {
   "cell_type": "code",
   "execution_count": 84,
   "id": "615624f0",
   "metadata": {},
   "outputs": [
    {
     "name": "stdout",
     "output_type": "stream",
     "text": [
      "{(True, False), (10, 11), (10.4, 11.11), ('aj', 'wa')}\n",
      "<class 'set'>\n"
     ]
    }
   ],
   "source": [
    "set11 = {(10,11),(\"aj\",\"wa\"),(10.4,11.11),(True,False)}\n",
    "print(set11)\n",
    "print(type(set11))"
   ]
  },
  {
   "cell_type": "code",
   "execution_count": 107,
   "id": "34dbf04f",
   "metadata": {},
   "outputs": [
    {
     "name": "stdout",
     "output_type": "stream",
     "text": [
      "{(1, 2), (3, 4), (5, 6)}\n"
     ]
    }
   ],
   "source": [
    "## solution from course\n",
    "s = {(1,2), (3,4), (5,6)}\n",
    "print(s)"
   ]
  }
 ],
 "metadata": {
  "kernelspec": {
   "display_name": "base",
   "language": "python",
   "name": "python3"
  },
  "language_info": {
   "codemirror_mode": {
    "name": "ipython",
    "version": 3
   },
   "file_extension": ".py",
   "mimetype": "text/x-python",
   "name": "python",
   "nbconvert_exporter": "python",
   "pygments_lexer": "ipython3",
   "version": "3.12.9"
  }
 },
 "nbformat": 4,
 "nbformat_minor": 5
}
