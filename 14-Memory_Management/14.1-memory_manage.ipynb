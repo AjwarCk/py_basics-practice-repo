{
 "cells": [
  {
   "cell_type": "markdown",
   "id": "91ec4b0f",
   "metadata": {},
   "source": [
    "#### Python Memory Management\n",
    "\n",
    "Memory management in Python involves a combination of automatic garbage collection, reference counting, and various internal optimization to efficiently manage memory allocation and deallocaton. Understanding these mechanisms can help developers write more efficient and robust applications.\n",
    "\n",
    "1. Key Concepts in Python Memory Management\n",
    "2. Memory Allocation and Deallocation\n",
    "3. Reference Counting\n",
    "4. Garbage Collection\n",
    "5. The gc Module\n",
    "6. Memory Management Best Practices"
   ]
  },
  {
   "cell_type": "markdown",
   "id": "28447da4",
   "metadata": {},
   "source": [
    "**Reference Counting**\n",
    "\n",
    "Reference counting is the primary method Python uses to manage memory. Each object in Python maintains a count of reference pointing to it. When the reference count drops to zero, the memory occupied by the object is deallocated."
   ]
  },
  {
   "cell_type": "code",
   "execution_count": 1,
   "id": "941f91b6",
   "metadata": {},
   "outputs": [
    {
     "name": "stdout",
     "output_type": "stream",
     "text": [
      "2\n"
     ]
    }
   ],
   "source": [
    "import sys\n",
    "\n",
    "a=[]\n",
    "\n",
    "##2 (one reference from 'a' and one from getrefcoun())\n",
    "print(sys.getrefcount(a))"
   ]
  },
  {
   "cell_type": "code",
   "execution_count": 2,
   "id": "30b175b7",
   "metadata": {},
   "outputs": [
    {
     "name": "stdout",
     "output_type": "stream",
     "text": [
      "3\n"
     ]
    }
   ],
   "source": [
    "b=a\n",
    "print(sys.getrefcount(b))"
   ]
  },
  {
   "cell_type": "code",
   "execution_count": 3,
   "id": "e413243b",
   "metadata": {},
   "outputs": [
    {
     "name": "stdout",
     "output_type": "stream",
     "text": [
      "ref count of 'c': 5\n",
      "ref count of 'd': 5\n"
     ]
    }
   ],
   "source": [
    "c, d = a, a\n",
    "\n",
    "print(f\"ref count of 'c': {sys.getrefcount(c)}\")\n",
    "print(f\"ref count of 'd': {sys.getrefcount(d)}\")"
   ]
  },
  {
   "cell_type": "code",
   "execution_count": 4,
   "id": "062d84c2",
   "metadata": {},
   "outputs": [
    {
     "name": "stdout",
     "output_type": "stream",
     "text": [
      "5\n"
     ]
    }
   ],
   "source": [
    "print(sys.getrefcount(a))"
   ]
  },
  {
   "cell_type": "code",
   "execution_count": 5,
   "id": "aac984e1",
   "metadata": {},
   "outputs": [
    {
     "name": "stdout",
     "output_type": "stream",
     "text": [
      "ref count of e: 7\n",
      "ref count of f: 7\n"
     ]
    }
   ],
   "source": [
    "e = b\n",
    "f = d\n",
    "\n",
    "print(f\"ref count of e: {sys.getrefcount(e)}\")\n",
    "print(f\"ref count of f: {sys.getrefcount(f)}\")"
   ]
  },
  {
   "cell_type": "code",
   "execution_count": 6,
   "id": "b3f6a332",
   "metadata": {},
   "outputs": [
    {
     "name": "stdout",
     "output_type": "stream",
     "text": [
      "3\n"
     ]
    }
   ],
   "source": [
    "del c, d, e, f\n",
    "\n",
    "print(sys.getrefcount(b))"
   ]
  },
  {
   "cell_type": "markdown",
   "id": "5f4d1861",
   "metadata": {},
   "source": [
    "**Garbage Collection**\n",
    "\n",
    "Python includes a cyclic garbage collector to handle reference cycles. Reference cycles occur when objects reference each other, preventing their reference counts from reaching zero."
   ]
  },
  {
   "cell_type": "code",
   "execution_count": 7,
   "id": "36d4d4a2",
   "metadata": {},
   "outputs": [],
   "source": [
    "import gc\n",
    "\n",
    "## enable garbage collection\n",
    "gc.enable()\n",
    "\n",
    "## disable garbage collection\n",
    "gc.disable()"
   ]
  },
  {
   "cell_type": "code",
   "execution_count": 8,
   "id": "d3313e9f",
   "metadata": {},
   "outputs": [
    {
     "data": {
      "text/plain": [
       "309"
      ]
     },
     "execution_count": 8,
     "metadata": {},
     "output_type": "execute_result"
    }
   ],
   "source": [
    "gc.collect()"
   ]
  },
  {
   "cell_type": "code",
   "execution_count": 9,
   "id": "ce27aa7a",
   "metadata": {},
   "outputs": [
    {
     "name": "stdout",
     "output_type": "stream",
     "text": [
      "[{'collections': 179, 'collected': 2777, 'uncollectable': 0}, {'collections': 16, 'collected': 385, 'uncollectable': 0}, {'collections': 2, 'collected': 345, 'uncollectable': 0}]\n"
     ]
    }
   ],
   "source": [
    "## Get garbage collection stats\n",
    "print(gc.get_stats())"
   ]
  },
  {
   "cell_type": "code",
   "execution_count": 10,
   "id": "376e81dc",
   "metadata": {},
   "outputs": [
    {
     "data": {
      "text/plain": [
       "[{'collections': 179, 'collected': 2777, 'uncollectable': 0},\n",
       " {'collections': 16, 'collected': 385, 'uncollectable': 0},\n",
       " {'collections': 2, 'collected': 345, 'uncollectable': 0}]"
      ]
     },
     "execution_count": 10,
     "metadata": {},
     "output_type": "execute_result"
    }
   ],
   "source": [
    "gc.get_stats()"
   ]
  },
  {
   "cell_type": "code",
   "execution_count": 11,
   "id": "01f94f92",
   "metadata": {},
   "outputs": [
    {
     "data": {
      "text/plain": [
       "False"
      ]
     },
     "execution_count": 11,
     "metadata": {},
     "output_type": "execute_result"
    }
   ],
   "source": [
    "gc.isenabled()"
   ]
  },
  {
   "cell_type": "code",
   "execution_count": 12,
   "id": "e91416ad",
   "metadata": {},
   "outputs": [],
   "source": [
    "gc.enable()"
   ]
  },
  {
   "cell_type": "code",
   "execution_count": 13,
   "id": "38f3ba29",
   "metadata": {},
   "outputs": [
    {
     "data": {
      "text/plain": [
       "True"
      ]
     },
     "execution_count": 13,
     "metadata": {},
     "output_type": "execute_result"
    }
   ],
   "source": [
    "gc.isenabled()"
   ]
  },
  {
   "cell_type": "code",
   "execution_count": 15,
   "id": "f7e0888a",
   "metadata": {},
   "outputs": [
    {
     "name": "stdout",
     "output_type": "stream",
     "text": [
      "[]\n"
     ]
    }
   ],
   "source": [
    "## get unreachable objects\n",
    "print(gc.garbage)"
   ]
  },
  {
   "cell_type": "markdown",
   "id": "f4489aef",
   "metadata": {},
   "source": [
    "#### **Memory Management Best Practices**"
   ]
  },
  {
   "cell_type": "markdown",
   "id": "a2c7f2e6",
   "metadata": {},
   "source": [
    "1. `Use Local Variables`: Local variables have a shorter lifespan and are freed sooner than globan variables.\n",
    "\n",
    "2. `Avoid Circular References`: Circular references can lead to memory leaks if not properly managed.\n",
    "\n",
    "3. `Use Generators`: Generators produce items one at a time and only keep one item in memory at a time, making them memory efficient.\n",
    "\n",
    "4. `Explicitly Delete Objects`: Use the del statement to delete variables and objects explicitly.\n",
    "\n",
    "5. `Profile Memory Usage`: Use memory profiling tools like tracemalloc and memory_profiler to identify memory leaks and optimize memory usage."
   ]
  },
  {
   "cell_type": "code",
   "execution_count": 20,
   "id": "025b7664",
   "metadata": {},
   "outputs": [
    {
     "name": "stdout",
     "output_type": "stream",
     "text": [
      "Object obj1 has been created\n",
      "Object obj2 has been created\n",
      "1. Name of obj1: obj1\n",
      "1. Name of obj2: obj2\n",
      "Object obj1 has been deleted\n",
      "Object obj2 has been deleted\n"
     ]
    },
    {
     "data": {
      "text/plain": [
       "9"
      ]
     },
     "execution_count": 20,
     "metadata": {},
     "output_type": "execute_result"
    }
   ],
   "source": [
    "## Handled Circular Reference\n",
    "import gc\n",
    "\n",
    "class MyObject:\n",
    "    def __init__(self,name):\n",
    "        self.name = name\n",
    "        print(f\"Object {self.name} has been created\")\n",
    "    \n",
    "    def __del__(self):\n",
    "        print(f\"Object {self.name} has been deleted\")\n",
    "\n",
    "# Create circular reference\n",
    "obj1 = MyObject('obj1')\n",
    "obj2 = MyObject('obj2')\n",
    "obj1.ref = obj2\n",
    "obj2.ref = obj1\n",
    "\n",
    "print(f\"1. Name of obj1: {obj1.name}\")\n",
    "print(f\"1. Name of obj2: {obj2.name}\")\n",
    "\n",
    "del obj1\n",
    "del obj2\n",
    "\n",
    "## Manually trigger the garbage collection\n",
    "gc.collect()"
   ]
  },
  {
   "cell_type": "code",
   "execution_count": null,
   "id": "586ba8f5",
   "metadata": {},
   "outputs": [
    {
     "name": "stdout",
     "output_type": "stream",
     "text": [
      "0\n",
      "1\n",
      "2\n",
      "3\n",
      "4\n",
      "5\n",
      "6\n",
      "7\n",
      "8\n",
      "9\n",
      "10\n"
     ]
    }
   ],
   "source": [
    "## Generator for memory efficiency\n",
    "\n",
    "## Generator allow you to produce items one at a time, using memory efficiently by only keeping one item in memory at a time.\n",
    "\n",
    "def generate_numers(n):\n",
    "    for i in range(n):\n",
    "        yield i\n",
    "\n",
    "# Generator using\n",
    "for num in generate_numers(10000):\n",
    "    print(num)\n",
    "    if num > 9:\n",
    "        break"
   ]
  },
  {
   "cell_type": "code",
   "execution_count": 26,
   "id": "bdf458d4",
   "metadata": {},
   "outputs": [],
   "source": [
    "## Profiling memory usage with tracemalloc\n",
    "import tracemalloc\n",
    "\n",
    "def create_list():\n",
    "    return [i for i in range(10000)]\n",
    "\n",
    "def main():\n",
    "    tracemalloc.start()\n",
    "\n",
    "    my_list = create_list()\n",
    "\n",
    "    snapshot = tracemalloc.take_snapshot()\n",
    "    top_stats = snapshot.statistics('lineno')\n",
    "\n",
    "    print(\"[ Top 10 ]\")\n",
    "    for stat in top_stats[::]:\n",
    "        print(stat)"
   ]
  },
  {
   "cell_type": "code",
   "execution_count": 27,
   "id": "6452b411",
   "metadata": {},
   "outputs": [
    {
     "name": "stdout",
     "output_type": "stream",
     "text": [
      "[ Top 10 ]\n",
      "/var/folders/nf/63c0ktdx1pd9b7kwmm8cw4ww0000gn/T/ipykernel_14472/4220772845.py:5: size=388 KiB, count=9745, average=41 B\n",
      "/opt/homebrew/Caskroom/miniconda/base/lib/python3.12/site-packages/IPython/core/compilerop.py:174: size=131 KiB, count=1291, average=104 B\n",
      "/opt/homebrew/Caskroom/miniconda/base/lib/python3.12/site-packages/zmq/sugar/attrsettr.py:45: size=12.1 KiB, count=263, average=47 B\n",
      "/opt/homebrew/Caskroom/miniconda/base/lib/python3.12/site-packages/traitlets/traitlets.py:731: size=11.9 KiB, count=187, average=65 B\n",
      "/opt/homebrew/Caskroom/miniconda/base/lib/python3.12/site-packages/jupyter_client/jsonutil.py:111: size=11.9 KiB, count=243, average=50 B\n",
      "/opt/homebrew/Caskroom/miniconda/base/lib/python3.12/site-packages/traitlets/traitlets.py:1543: size=10081 B, count=159, average=63 B\n",
      "/opt/homebrew/Caskroom/miniconda/base/lib/python3.12/tracemalloc.py:193: size=8160 B, count=170, average=48 B\n",
      "/opt/homebrew/Caskroom/miniconda/base/lib/python3.12/site-packages/ipykernel/compiler.py:91: size=7600 B, count=64, average=119 B\n",
      "/opt/homebrew/Caskroom/miniconda/base/lib/python3.12/site-packages/jupyter_client/session.py:1057: size=6818 B, count=68, average=100 B\n",
      "/opt/homebrew/Caskroom/miniconda/base/lib/python3.12/site-packages/IPython/core/builtin_trap.py:77: size=6512 B, count=1, average=6512 B\n",
      "/opt/homebrew/Caskroom/miniconda/base/lib/python3.12/codeop.py:126: size=4967 B, count=73, average=68 B\n",
      "/opt/homebrew/Caskroom/miniconda/base/lib/python3.12/site-packages/IPython/core/compilerop.py:86: size=4827 B, count=77, average=63 B\n",
      "/opt/homebrew/Caskroom/miniconda/base/lib/python3.12/site-packages/ipykernel/ipkernel.py:550: size=4320 B, count=36, average=120 B\n",
      "/opt/homebrew/Caskroom/miniconda/base/lib/python3.12/site-packages/IPython/core/compilerop.py:171: size=3816 B, count=53, average=72 B\n",
      "/opt/homebrew/Caskroom/miniconda/base/lib/python3.12/json/decoder.py:354: size=3741 B, count=49, average=76 B\n",
      "/opt/homebrew/Caskroom/miniconda/base/lib/python3.12/site-packages/traitlets/traitlets.py:1514: size=2400 B, count=20, average=120 B\n",
      "/opt/homebrew/Caskroom/miniconda/base/lib/python3.12/site-packages/IPython/core/completer.py:450: size=2176 B, count=34, average=64 B\n",
      "/opt/homebrew/Caskroom/miniconda/base/lib/python3.12/site-packages/IPython/core/compilerop.py:172: size=1764 B, count=63, average=28 B\n",
      "/opt/homebrew/Caskroom/miniconda/base/lib/python3.12/site-packages/ipykernel/iostream.py:346: size=1568 B, count=18, average=87 B\n",
      "/opt/homebrew/Caskroom/miniconda/base/lib/python3.12/threading.py:293: size=1520 B, count=4, average=380 B\n",
      "/opt/homebrew/Caskroom/miniconda/base/lib/python3.12/site-packages/jupyter_client/session.py:100: size=1241 B, count=8, average=155 B\n",
      "/opt/homebrew/Caskroom/miniconda/base/lib/python3.12/re/_compiler.py:766: size=1216 B, count=5, average=243 B\n",
      "/opt/homebrew/Caskroom/miniconda/base/lib/python3.12/site-packages/ipykernel/iostream.py:287: size=1128 B, count=10, average=113 B\n",
      "/opt/homebrew/Caskroom/miniconda/base/lib/python3.12/tracemalloc.py:67: size=1088 B, count=17, average=64 B\n",
      "/opt/homebrew/Caskroom/miniconda/base/lib/python3.12/site-packages/zmq/sugar/socket.py:814: size=1056 B, count=6, average=176 B\n",
      "/opt/homebrew/Caskroom/miniconda/base/lib/python3.12/_weakrefset.py:88: size=1024 B, count=1, average=1024 B\n",
      "/opt/homebrew/Caskroom/miniconda/base/lib/python3.12/site-packages/IPython/core/history.py:941: size=812 B, count=3, average=271 B\n",
      "/opt/homebrew/Caskroom/miniconda/base/lib/python3.12/threading.py:290: size=688 B, count=6, average=115 B\n",
      "/opt/homebrew/Caskroom/miniconda/base/lib/python3.12/site-packages/ipykernel/zmqshell.py:549: size=648 B, count=7, average=93 B\n",
      "/opt/homebrew/Caskroom/miniconda/base/lib/python3.12/site-packages/jupyter_client/jsonutil.py:75: size=624 B, count=3, average=208 B\n",
      "/opt/homebrew/Caskroom/miniconda/base/lib/python3.12/ast.py:86: size=576 B, count=8, average=72 B\n",
      "/opt/homebrew/Caskroom/miniconda/base/lib/python3.12/threading.py:1066: size=568 B, count=1, average=568 B\n",
      "/opt/homebrew/Caskroom/miniconda/base/lib/python3.12/site-packages/ipykernel/iostream.py:154: size=568 B, count=1, average=568 B\n",
      "/opt/homebrew/Caskroom/miniconda/base/lib/python3.12/tokenize.py:570: size=552 B, count=9, average=61 B\n",
      "/opt/homebrew/Caskroom/miniconda/base/lib/python3.12/asyncio/events.py:88: size=520 B, count=6, average=87 B\n",
      "/opt/homebrew/Caskroom/miniconda/base/lib/python3.12/site-packages/IPython/core/interactiveshell.py:3076: size=520 B, count=4, average=130 B\n",
      "/opt/homebrew/Caskroom/miniconda/base/lib/python3.12/site-packages/IPython/core/history.py:994: size=496 B, count=4, average=124 B\n",
      "/opt/homebrew/Caskroom/miniconda/base/lib/python3.12/site-packages/tornado/platform/asyncio.py:235: size=464 B, count=7, average=66 B\n",
      "/opt/homebrew/Caskroom/miniconda/base/lib/python3.12/site-packages/ipykernel/iostream.py:276: size=440 B, count=3, average=147 B\n",
      "/opt/homebrew/Caskroom/miniconda/base/lib/python3.12/inspect.py:2290: size=432 B, count=3, average=144 B\n",
      "/opt/homebrew/Caskroom/miniconda/base/lib/python3.12/asyncio/base_events.py:448: size=432 B, count=3, average=144 B\n",
      "/opt/homebrew/Caskroom/miniconda/base/lib/python3.12/site-packages/IPython/core/completer.py:2184: size=427 B, count=9, average=47 B\n",
      "/opt/homebrew/Caskroom/miniconda/base/lib/python3.12/site-packages/ipykernel/kernelbase.py:775: size=424 B, count=2, average=212 B\n",
      "/opt/homebrew/Caskroom/miniconda/base/lib/python3.12/fnmatch.py:46: size=400 B, count=5, average=80 B\n",
      "/opt/homebrew/Caskroom/miniconda/base/lib/python3.12/asyncio/futures.py:396: size=392 B, count=3, average=131 B\n",
      "/opt/homebrew/Caskroom/miniconda/base/lib/python3.12/ast.py:428: size=386 B, count=7, average=55 B\n",
      "/opt/homebrew/Caskroom/miniconda/base/lib/python3.12/site-packages/IPython/core/interactiveshell.py:3306: size=376 B, count=1, average=376 B\n",
      "/opt/homebrew/Caskroom/miniconda/base/lib/python3.12/threading.py:135: size=368 B, count=4, average=92 B\n",
      "/opt/homebrew/Caskroom/miniconda/base/lib/python3.12/asyncio/futures.py:420: size=360 B, count=9, average=40 B\n",
      "/opt/homebrew/Caskroom/miniconda/base/lib/python3.12/site-packages/ipykernel/ipkernel.py:362: size=360 B, count=1, average=360 B\n",
      "/opt/homebrew/Caskroom/miniconda/base/lib/python3.12/asyncio/futures.py:383: size=320 B, count=2, average=160 B\n",
      "/opt/homebrew/Caskroom/miniconda/base/lib/python3.12/asyncio/base_events.py:819: size=312 B, count=3, average=104 B\n",
      "/opt/homebrew/Caskroom/miniconda/base/lib/python3.12/site-packages/IPython/core/interactiveshell.py:3489: size=296 B, count=1, average=296 B\n",
      "/opt/homebrew/Caskroom/miniconda/base/lib/python3.12/site-packages/tornado/queues.py:248: size=288 B, count=2, average=144 B\n",
      "/opt/homebrew/Caskroom/miniconda/base/lib/python3.12/site-packages/ipykernel/zmqshell.py:76: size=288 B, count=1, average=288 B\n",
      "/opt/homebrew/Caskroom/miniconda/base/lib/python3.12/site-packages/ipykernel/iostream.py:142: size=288 B, count=1, average=288 B\n",
      "/opt/homebrew/Caskroom/miniconda/base/lib/python3.12/fnmatch.py:52: size=280 B, count=5, average=56 B\n",
      "/opt/homebrew/Caskroom/miniconda/base/lib/python3.12/ast.py:405: size=275 B, count=5, average=55 B\n",
      "/opt/homebrew/Caskroom/miniconda/base/lib/python3.12/site-packages/ipykernel/iostream.py:527: size=272 B, count=4, average=68 B\n",
      "/opt/homebrew/Caskroom/miniconda/base/lib/python3.12/fnmatch.py:185: size=271 B, count=5, average=54 B\n",
      "/opt/homebrew/Caskroom/miniconda/base/lib/python3.12/site-packages/ipykernel/kernelbase.py:534: size=264 B, count=1, average=264 B\n",
      "/opt/homebrew/Caskroom/miniconda/base/lib/python3.12/site-packages/jupyter_client/jsonutil.py:73: size=256 B, count=4, average=64 B\n",
      "/opt/homebrew/Caskroom/miniconda/base/lib/python3.12/tracemalloc.py:558: size=248 B, count=5, average=50 B\n",
      "/opt/homebrew/Caskroom/miniconda/base/lib/python3.12/site-packages/ipykernel/kernelbase.py:435: size=248 B, count=1, average=248 B\n",
      "/opt/homebrew/Caskroom/miniconda/base/lib/python3.12/site-packages/ipykernel/iostream.py:121: size=248 B, count=1, average=248 B\n",
      "/opt/homebrew/Caskroom/miniconda/base/lib/python3.12/site-packages/ipykernel/kernelbase.py:318: size=240 B, count=4, average=60 B\n",
      "/opt/homebrew/Caskroom/miniconda/base/lib/python3.12/site-packages/IPython/core/display_functions.py:354: size=240 B, count=2, average=120 B\n",
      "/opt/homebrew/Caskroom/miniconda/base/lib/python3.12/site-packages/IPython/core/display_functions.py:276: size=240 B, count=2, average=120 B\n",
      "/opt/homebrew/Caskroom/miniconda/base/lib/python3.12/logging/__init__.py:1622: size=240 B, count=1, average=240 B\n",
      "/opt/homebrew/Caskroom/miniconda/base/lib/python3.12/site-packages/zmq/sugar/attrsettr.py:29: size=235 B, count=5, average=47 B\n",
      "/opt/homebrew/Caskroom/miniconda/base/lib/python3.12/site-packages/zmq/sugar/socket.py:811: size=232 B, count=2, average=116 B\n",
      "/opt/homebrew/Caskroom/miniconda/base/lib/python3.12/site-packages/ipykernel/kernelbase.py:545: size=232 B, count=1, average=232 B\n",
      "/opt/homebrew/Caskroom/miniconda/base/lib/python3.12/site-packages/IPython/core/completer.py:2032: size=231 B, count=5, average=46 B\n",
      "/opt/homebrew/Caskroom/miniconda/base/lib/python3.12/site-packages/IPython/core/interactiveshell.py:3195: size=208 B, count=4, average=52 B\n",
      "/opt/homebrew/Caskroom/miniconda/base/lib/python3.12/site-packages/jupyter_client/session.py:1085: size=208 B, count=1, average=208 B\n",
      "/opt/homebrew/Caskroom/miniconda/base/lib/python3.12/site-packages/ipykernel/kernelbase.py:770: size=208 B, count=1, average=208 B\n",
      "/opt/homebrew/Caskroom/miniconda/base/lib/python3.12/site-packages/jupyter_client/session.py:688: size=194 B, count=2, average=97 B\n",
      "/opt/homebrew/Caskroom/miniconda/base/lib/python3.12/site-packages/jupyter_client/session.py:750: size=192 B, count=2, average=96 B\n",
      "/opt/homebrew/Caskroom/miniconda/base/lib/python3.12/site-packages/IPython/core/interactiveshell.py:3481: size=184 B, count=4, average=46 B\n",
      "/opt/homebrew/Caskroom/miniconda/base/lib/python3.12/site-packages/traitlets/traitlets.py:1540: size=176 B, count=3, average=59 B\n",
      "/opt/homebrew/Caskroom/miniconda/base/lib/python3.12/threading.py:348: size=176 B, count=2, average=88 B\n",
      "/opt/homebrew/Caskroom/miniconda/base/lib/python3.12/site-packages/ipykernel/kernelbase.py:1182: size=173 B, count=2, average=86 B\n",
      "/opt/homebrew/Caskroom/miniconda/base/lib/python3.12/site-packages/IPython/core/interactiveshell.py:3196: size=160 B, count=4, average=40 B\n",
      "/var/folders/nf/63c0ktdx1pd9b7kwmm8cw4ww0000gn/T/ipykernel_14472/4220772845.py:7: size=160 B, count=1, average=160 B\n",
      "/var/folders/nf/63c0ktdx1pd9b7kwmm8cw4ww0000gn/T/ipykernel_14472/4220772845.py:4: size=160 B, count=1, average=160 B\n",
      "/opt/homebrew/Caskroom/miniconda/base/lib/python3.12/threading.py:992: size=160 B, count=1, average=160 B\n",
      "/opt/homebrew/Caskroom/miniconda/base/lib/python3.12/site-packages/zmq/eventloop/zmqstream.py:458: size=160 B, count=1, average=160 B\n",
      "/opt/homebrew/Caskroom/miniconda/base/lib/python3.12/site-packages/ipykernel/kernelbase.py:570: size=160 B, count=1, average=160 B\n",
      "/opt/homebrew/Caskroom/miniconda/base/lib/python3.12/site-packages/ipykernel/kernelbase.py:324: size=160 B, count=1, average=160 B\n",
      "/opt/homebrew/Caskroom/miniconda/base/lib/python3.12/site-packages/IPython/core/interactiveshell.py:3549: size=160 B, count=1, average=160 B\n",
      "/opt/homebrew/Caskroom/miniconda/base/lib/python3.12/site-packages/IPython/core/interactiveshell.py:3465: size=160 B, count=1, average=160 B\n",
      "/opt/homebrew/Caskroom/miniconda/base/lib/python3.12/site-packages/IPython/core/interactiveshell.py:3209: size=160 B, count=1, average=160 B\n",
      "/opt/homebrew/Caskroom/miniconda/base/lib/python3.12/asyncio/futures.py:389: size=160 B, count=1, average=160 B\n",
      "/opt/homebrew/Caskroom/miniconda/base/lib/python3.12/site-packages/dateutil/parser/isoparser.py:146: size=144 B, count=3, average=48 B\n",
      "/opt/homebrew/Caskroom/miniconda/base/lib/python3.12/threading.py:292: size=144 B, count=2, average=72 B\n",
      "/opt/homebrew/Caskroom/miniconda/base/lib/python3.12/threading.py:288: size=144 B, count=2, average=72 B\n",
      "/opt/homebrew/Caskroom/miniconda/base/lib/python3.12/threading.py:283: size=144 B, count=2, average=72 B\n",
      "/opt/homebrew/Caskroom/miniconda/base/lib/python3.12/threading.py:282: size=144 B, count=2, average=72 B\n",
      "/opt/homebrew/Caskroom/miniconda/base/lib/python3.12/site-packages/ipykernel/iostream.py:722: size=144 B, count=2, average=72 B\n",
      "/opt/homebrew/Caskroom/miniconda/base/lib/python3.12/site-packages/IPython/core/history.py:965: size=135 B, count=3, average=45 B\n",
      "/opt/homebrew/Caskroom/miniconda/base/lib/python3.12/site-packages/IPython/core/interactiveshell.py:3487: size=128 B, count=2, average=64 B\n",
      "/opt/homebrew/Caskroom/miniconda/base/lib/python3.12/site-packages/IPython/core/completer.py:3150: size=128 B, count=1, average=128 B\n",
      "/opt/homebrew/Caskroom/miniconda/base/lib/python3.12/site-packages/IPython/core/async_helpers.py:150: size=120 B, count=2, average=60 B\n",
      "/opt/homebrew/Caskroom/miniconda/base/lib/python3.12/site-packages/jupyter_client/session.py:863: size=120 B, count=1, average=120 B\n",
      "/opt/homebrew/Caskroom/miniconda/base/lib/python3.12/site-packages/jupyter_client/session.py:278: size=120 B, count=1, average=120 B\n",
      "/opt/homebrew/Caskroom/miniconda/base/lib/python3.12/site-packages/ipykernel/zmqshell.py:110: size=120 B, count=1, average=120 B\n",
      "/opt/homebrew/Caskroom/miniconda/base/lib/python3.12/site-packages/IPython/core/display_functions.py:306: size=120 B, count=1, average=120 B\n",
      "/opt/homebrew/Caskroom/miniconda/base/lib/python3.12/inspect.py:266: size=120 B, count=1, average=120 B\n",
      "/opt/homebrew/Caskroom/miniconda/base/lib/python3.12/asyncio/base_events.py:782: size=120 B, count=1, average=120 B\n",
      "/opt/homebrew/Caskroom/miniconda/base/lib/python3.12/site-packages/traitlets/traitlets.py:1534: size=112 B, count=2, average=56 B\n",
      "/opt/homebrew/Caskroom/miniconda/base/lib/python3.12/site-packages/jupyter_client/session.py:738: size=112 B, count=2, average=56 B\n",
      "/opt/homebrew/Caskroom/miniconda/base/lib/python3.12/site-packages/ipykernel/ipkernel.py:449: size=112 B, count=2, average=56 B\n",
      "/opt/homebrew/Caskroom/miniconda/base/lib/python3.12/site-packages/IPython/core/interactiveshell.py:3470: size=112 B, count=2, average=56 B\n",
      "/opt/homebrew/Caskroom/miniconda/base/lib/python3.12/site-packages/IPython/core/interactiveshell.py:3455: size=112 B, count=2, average=56 B\n",
      "/opt/homebrew/Caskroom/miniconda/base/lib/python3.12/concurrent/futures/_base.py:335: size=112 B, count=2, average=56 B\n",
      "/opt/homebrew/Caskroom/miniconda/base/lib/python3.12/concurrent/futures/_base.py:334: size=112 B, count=2, average=56 B\n",
      "/opt/homebrew/Caskroom/miniconda/base/lib/python3.12/site-packages/jupyter_client/session.py:989: size=111 B, count=2, average=56 B\n",
      "/opt/homebrew/Caskroom/miniconda/base/lib/python3.12/site-packages/IPython/core/interactiveshell.py:3347: size=96 B, count=2, average=48 B\n",
      "/opt/homebrew/Caskroom/miniconda/base/lib/python3.12/concurrent/futures/_base.py:330: size=96 B, count=2, average=48 B\n",
      "/opt/homebrew/Caskroom/miniconda/base/lib/python3.12/warnings.py:192: size=96 B, count=1, average=96 B\n",
      "/opt/homebrew/Caskroom/miniconda/base/lib/python3.12/selectors.py:566: size=96 B, count=1, average=96 B\n",
      "/opt/homebrew/Caskroom/miniconda/base/lib/python3.12/site-packages/jupyter_client/session.py:996: size=88 B, count=2, average=44 B\n",
      "/opt/homebrew/Caskroom/miniconda/base/lib/python3.12/ast.py:52: size=88 B, count=1, average=88 B\n",
      "/opt/homebrew/Caskroom/miniconda/base/lib/python3.12/site-packages/ipykernel/kernelbase.py:391: size=80 B, count=2, average=40 B\n",
      "/opt/homebrew/Caskroom/miniconda/base/lib/python3.12/site-packages/ipykernel/kernelbase.py:327: size=80 B, count=2, average=40 B\n",
      "/opt/homebrew/Caskroom/miniconda/base/lib/python3.12/asyncio/base_events.py:1983: size=80 B, count=2, average=40 B\n",
      "<string>:1: size=80 B, count=1, average=80 B\n",
      "/opt/homebrew/Caskroom/miniconda/base/lib/python3.12/warnings.py:166: size=80 B, count=1, average=80 B\n",
      "/opt/homebrew/Caskroom/miniconda/base/lib/python3.12/site-packages/IPython/core/history.py:996: size=72 B, count=1, average=72 B\n",
      "/opt/homebrew/Caskroom/miniconda/base/lib/python3.12/site-packages/tornado/queues.py:318: size=64 B, count=2, average=32 B\n",
      "/opt/homebrew/Caskroom/miniconda/base/lib/python3.12/site-packages/IPython/core/interactiveshell.py:3457: size=64 B, count=2, average=32 B\n",
      "/opt/homebrew/Caskroom/miniconda/base/lib/python3.12/concurrent/futures/_base.py:421: size=64 B, count=2, average=32 B\n",
      "/opt/homebrew/Caskroom/miniconda/base/lib/python3.12/threading.py:652: size=64 B, count=1, average=64 B\n",
      "/opt/homebrew/Caskroom/miniconda/base/lib/python3.12/site-packages/zmq/sugar/socket.py:815: size=64 B, count=1, average=64 B\n",
      "/opt/homebrew/Caskroom/miniconda/base/lib/python3.12/site-packages/jupyter_client/session.py:1053: size=64 B, count=1, average=64 B\n",
      "/opt/homebrew/Caskroom/miniconda/base/lib/python3.12/site-packages/ipykernel/kernelbase.py:761: size=64 B, count=1, average=64 B\n",
      "/opt/homebrew/Caskroom/miniconda/base/lib/python3.12/site-packages/ipykernel/kernelbase.py:721: size=64 B, count=1, average=64 B\n",
      "/opt/homebrew/Caskroom/miniconda/base/lib/python3.12/site-packages/ipykernel/kernelbase.py:69: size=64 B, count=1, average=64 B\n",
      "/opt/homebrew/Caskroom/miniconda/base/lib/python3.12/site-packages/ipykernel/ipkernel.py:384: size=64 B, count=1, average=64 B\n",
      "/opt/homebrew/Caskroom/miniconda/base/lib/python3.12/site-packages/ipykernel/ipkernel.py:383: size=64 B, count=1, average=64 B\n",
      "/opt/homebrew/Caskroom/miniconda/base/lib/python3.12/site-packages/ipykernel/ipkernel.py:381: size=64 B, count=1, average=64 B\n",
      "/opt/homebrew/Caskroom/miniconda/base/lib/python3.12/site-packages/ipykernel/ipkernel.py:294: size=64 B, count=1, average=64 B\n",
      "/opt/homebrew/Caskroom/miniconda/base/lib/python3.12/site-packages/ipykernel/ipkernel.py:291: size=64 B, count=1, average=64 B\n",
      "/opt/homebrew/Caskroom/miniconda/base/lib/python3.12/site-packages/IPython/core/interactiveshell.py:3538: size=64 B, count=1, average=64 B\n",
      "/opt/homebrew/Caskroom/miniconda/base/lib/python3.12/site-packages/IPython/core/interactiveshell.py:3275: size=64 B, count=1, average=64 B\n",
      "/opt/homebrew/Caskroom/miniconda/base/lib/python3.12/site-packages/IPython/core/interactiveshell.py:3272: size=64 B, count=1, average=64 B\n",
      "/opt/homebrew/Caskroom/miniconda/base/lib/python3.12/site-packages/IPython/core/completer.py:3200: size=59 B, count=1, average=59 B\n",
      "/opt/homebrew/Caskroom/miniconda/base/lib/python3.12/warnings.py:489: size=56 B, count=1, average=56 B\n",
      "/opt/homebrew/Caskroom/miniconda/base/lib/python3.12/site-packages/jupyter_client/session.py:1088: size=56 B, count=1, average=56 B\n",
      "/opt/homebrew/Caskroom/miniconda/base/lib/python3.12/site-packages/IPython/core/payload.py:54: size=56 B, count=1, average=56 B\n",
      "/opt/homebrew/Caskroom/miniconda/base/lib/python3.12/site-packages/IPython/core/history.py:1041: size=56 B, count=1, average=56 B\n",
      "/opt/homebrew/Caskroom/miniconda/base/lib/python3.12/site-packages/IPython/core/history.py:1030: size=56 B, count=1, average=56 B\n",
      "/opt/homebrew/Caskroom/miniconda/base/lib/python3.12/site-packages/IPython/core/completer.py:3149: size=56 B, count=1, average=56 B\n",
      "/opt/homebrew/Caskroom/miniconda/base/lib/python3.12/site-packages/IPython/core/completer.py:1110: size=56 B, count=1, average=56 B\n",
      "/opt/homebrew/Caskroom/miniconda/base/lib/python3.12/selectors.py:564: size=56 B, count=1, average=56 B\n",
      "/opt/homebrew/Caskroom/miniconda/base/lib/python3.12/site-packages/IPython/core/completer.py:2182: size=51 B, count=1, average=51 B\n",
      "/opt/homebrew/Caskroom/miniconda/base/lib/python3.12/site-packages/ipykernel/iostream.py:684: size=50 B, count=1, average=50 B\n",
      "/opt/homebrew/Caskroom/miniconda/base/lib/python3.12/tracemalloc.py:207: size=48 B, count=1, average=48 B\n",
      "/opt/homebrew/Caskroom/miniconda/base/lib/python3.12/site-packages/zmq/eventloop/zmqstream.py:550: size=48 B, count=1, average=48 B\n",
      "/opt/homebrew/Caskroom/miniconda/base/lib/python3.12/site-packages/tornado/concurrent.py:193: size=48 B, count=1, average=48 B\n",
      "/opt/homebrew/Caskroom/miniconda/base/lib/python3.12/site-packages/jupyter_client/session.py:200: size=48 B, count=1, average=48 B\n",
      "/opt/homebrew/Caskroom/miniconda/base/lib/python3.12/site-packages/IPython/core/interactiveshell.py:3477: size=48 B, count=1, average=48 B\n",
      "/opt/homebrew/Caskroom/miniconda/base/lib/python3.12/site-packages/IPython/core/prefilter.py:317: size=47 B, count=1, average=47 B\n",
      "/opt/homebrew/Caskroom/miniconda/base/lib/python3.12/site-packages/IPython/core/completer.py:3212: size=46 B, count=1, average=46 B\n",
      "/opt/homebrew/Caskroom/miniconda/base/lib/python3.12/threading.py:1039: size=32 B, count=1, average=32 B\n",
      "/opt/homebrew/Caskroom/miniconda/base/lib/python3.12/site-packages/jupyter_client/session.py:603: size=32 B, count=1, average=32 B\n",
      "/opt/homebrew/Caskroom/miniconda/base/lib/python3.12/site-packages/ipykernel/iostream.py:637: size=32 B, count=1, average=32 B\n",
      "/opt/homebrew/Caskroom/miniconda/base/lib/python3.12/site-packages/IPython/core/interactiveshell.py:3475: size=32 B, count=1, average=32 B\n",
      "/opt/homebrew/Caskroom/miniconda/base/lib/python3.12/site-packages/IPython/core/history.py:952: size=32 B, count=1, average=32 B\n",
      "/opt/homebrew/Caskroom/miniconda/base/lib/python3.12/site-packages/IPython/core/completer.py:2898: size=32 B, count=1, average=32 B\n",
      "/opt/homebrew/Caskroom/miniconda/base/lib/python3.12/site-packages/IPython/core/completer.py:871: size=32 B, count=1, average=32 B\n",
      "/opt/homebrew/Caskroom/miniconda/base/lib/python3.12/site-packages/IPython/core/compilerop.py:192: size=32 B, count=1, average=32 B\n",
      "/opt/homebrew/Caskroom/miniconda/base/lib/python3.12/queue.py:151: size=32 B, count=1, average=32 B\n",
      "/opt/homebrew/Caskroom/miniconda/base/lib/python3.12/asyncio/base_events.py:785: size=32 B, count=1, average=32 B\n",
      "/opt/homebrew/Caskroom/miniconda/base/lib/python3.12/site-packages/ipykernel/kernelbase.py:560: size=28 B, count=1, average=28 B\n"
     ]
    }
   ],
   "source": [
    "main()"
   ]
  },
  {
   "cell_type": "code",
   "execution_count": 28,
   "id": "2ad4403d",
   "metadata": {},
   "outputs": [
    {
     "name": "stdout",
     "output_type": "stream",
     "text": [
      "[ Top 10 ]\n",
      "/var/folders/nf/63c0ktdx1pd9b7kwmm8cw4ww0000gn/T/ipykernel_14472/1400269707.py:4: size=388 KiB, count=9744, average=41 B\n",
      "/opt/homebrew/Caskroom/miniconda/base/lib/python3.12/site-packages/IPython/core/compilerop.py:174: size=131 KiB, count=1291, average=104 B\n",
      "/opt/homebrew/Caskroom/miniconda/base/lib/python3.12/site-packages/IPython/core/compilerop.py:86: size=17.7 KiB, count=203, average=89 B\n",
      "/opt/homebrew/Caskroom/miniconda/base/lib/python3.12/site-packages/traitlets/traitlets.py:731: size=12.4 KiB, count=195, average=65 B\n",
      "/opt/homebrew/Caskroom/miniconda/base/lib/python3.12/site-packages/zmq/sugar/attrsettr.py:45: size=12.2 KiB, count=266, average=47 B\n",
      "/opt/homebrew/Caskroom/miniconda/base/lib/python3.12/site-packages/jupyter_client/jsonutil.py:111: size=12.2 KiB, count=250, average=50 B\n",
      "/opt/homebrew/Caskroom/miniconda/base/lib/python3.12/site-packages/traitlets/traitlets.py:1543: size=10215 B, count=161, average=63 B\n",
      "/opt/homebrew/Caskroom/miniconda/base/lib/python3.12/tracemalloc.py:558: size=8696 B, count=181, average=48 B\n",
      "/opt/homebrew/Caskroom/miniconda/base/lib/python3.12/site-packages/ipykernel/compiler.py:91: size=7719 B, count=65, average=119 B\n",
      "/opt/homebrew/Caskroom/miniconda/base/lib/python3.12/site-packages/jupyter_client/session.py:1057: size=7261 B, count=69, average=105 B\n"
     ]
    }
   ],
   "source": [
    "import tracemalloc\n",
    "\n",
    "def create_list():\n",
    "    return [i for i in range(10000)]\n",
    "\n",
    "def main():\n",
    "    tracemalloc.start()\n",
    "\n",
    "    my_list = create_list() # keep reference\n",
    "\n",
    "    snapshot = tracemalloc.take_snapshot()\n",
    "    top_stats = snapshot.statistics('lineno')\n",
    "\n",
    "    print(\"[ Top 10 ]\")\n",
    "    for stat in top_stats[:10]:\n",
    "        print(stat)\n",
    "\n",
    "main()"
   ]
  },
  {
   "cell_type": "code",
   "execution_count": 29,
   "id": "f63ac2e3",
   "metadata": {},
   "outputs": [
    {
     "data": {
      "text/plain": [
       "0"
      ]
     },
     "execution_count": 29,
     "metadata": {},
     "output_type": "execute_result"
    }
   ],
   "source": [
    "gc.collect()"
   ]
  },
  {
   "cell_type": "code",
   "execution_count": 30,
   "id": "8e891fd5",
   "metadata": {},
   "outputs": [
    {
     "data": {
      "text/plain": [
       "True"
      ]
     },
     "execution_count": 30,
     "metadata": {},
     "output_type": "execute_result"
    }
   ],
   "source": [
    "gc.isenabled()"
   ]
  }
 ],
 "metadata": {
  "kernelspec": {
   "display_name": "base",
   "language": "python",
   "name": "python3"
  },
  "language_info": {
   "codemirror_mode": {
    "name": "ipython",
    "version": 3
   },
   "file_extension": ".py",
   "mimetype": "text/x-python",
   "name": "python",
   "nbconvert_exporter": "python",
   "pygments_lexer": "ipython3",
   "version": "3.12.9"
  }
 },
 "nbformat": 4,
 "nbformat_minor": 5
}
